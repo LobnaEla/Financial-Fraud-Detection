{
 "cells": [
  {
   "cell_type": "code",
   "execution_count": 1,
   "metadata": {
    "execution": {
     "iopub.execute_input": "2025-04-27T21:48:43.116657Z",
     "iopub.status.busy": "2025-04-27T21:48:43.116352Z",
     "iopub.status.idle": "2025-04-27T21:48:49.411476Z",
     "shell.execute_reply": "2025-04-27T21:48:49.410472Z",
     "shell.execute_reply.started": "2025-04-27T21:48:43.116632Z"
    },
    "id": "hePAVnT3TBAz",
    "trusted": true
   },
   "outputs": [],
   "source": [
    "#hi\n",
    "import numpy as np\n",
    "import pandas as pd\n",
    "import seaborn as sns\n",
    "import matplotlib.pyplot as plt\n",
    "import datetime\n",
    "import gc\n",
    "import hashlib\n",
    "\n",
    "from sklearn import preprocessing\n",
    "from sklearn.preprocessing import LabelEncoder\n",
    "from sklearn.model_selection import GridSearchCV, StratifiedKFold, TimeSeriesSplit, KFold, GroupKFold, train_test_split\n",
    "from sklearn.metrics import roc_auc_score, f1_score, recall_score,precision_score, confusion_matrix\n",
    "\n",
    "import catboost as cb\n",
    "import lightgbm as lgb\n",
    "import xgboost as xgb\n",
    "\n",
    "import warnings\n",
    "warnings.filterwarnings('ignore')\n",
    "import os\n",
    "\n",
    "os.environ[\"CUDA_VISIBLE_DEVICES\"] = \"1\" "
   ]
  },
  {
   "cell_type": "code",
   "execution_count": 2,
   "metadata": {
    "execution": {
     "iopub.execute_input": "2025-04-27T21:48:49.413631Z",
     "iopub.status.busy": "2025-04-27T21:48:49.412839Z",
     "iopub.status.idle": "2025-04-27T21:48:49.423066Z",
     "shell.execute_reply": "2025-04-27T21:48:49.422149Z",
     "shell.execute_reply.started": "2025-04-27T21:48:49.413585Z"
    },
    "id": "99dYi0tf8xoj",
    "trusted": true
   },
   "outputs": [],
   "source": [
    "# Process DeviceInfo, id_30-31 and generate a feature 'has identity'\n",
    "def id_split(dataframe):\n",
    "  dataframe['device_name'] = dataframe['DeviceInfo'].str.split('/', expand=True)[0]\n",
    "  dataframe['device_version'] = dataframe['DeviceInfo'].str.split('/', expand=True)[1]\n",
    "  dataframe['OS_id_30'] = dataframe['id_30'].str.split(' ', expand=True)[0]\n",
    "  dataframe['browser_id_31'] = dataframe['id_31'].str.split(' ', expand=True)[0]\n",
    "  dataframe.loc[dataframe['device_name'].str.contains('SM', na=False), 'device_name'] = 'Samsung'\n",
    "  dataframe.loc[dataframe['device_name'].str.contains('SAMSUNG', na=False), 'device_name'] = 'Samsung'\n",
    "  dataframe.loc[dataframe['device_name'].str.contains('GT-', na=False), 'device_name'] = 'Samsung'\n",
    "  dataframe.loc[dataframe['device_name'].str.contains('Moto G', na=False), 'device_name'] = 'Motorola'\n",
    "  dataframe.loc[dataframe['device_name'].str.contains('Moto', na=False), 'device_name'] = 'Motorola'\n",
    "  dataframe.loc[dataframe['device_name'].str.contains('moto', na=False), 'device_name'] = 'Motorola'\n",
    "  dataframe.loc[dataframe['device_name'].str.contains('LG-', na=False), 'device_name'] = 'LG'\n",
    "  dataframe.loc[dataframe['device_name'].str.contains('rv:', na=False), 'device_name'] = 'RV'\n",
    "  dataframe.loc[dataframe['device_name'].str.contains('HUAWEI', na=False), 'device_name'] = 'Huawei'\n",
    "  dataframe.loc[dataframe['device_name'].str.contains('ALE-', na=False), 'device_name'] = 'Huawei'\n",
    "  dataframe.loc[dataframe['device_name'].str.contains('-L', na=False), 'device_name'] = 'Huawei'\n",
    "  dataframe.loc[dataframe['device_name'].str.contains('Blade', na=False), 'device_name'] = 'ZTE'\n",
    "  dataframe.loc[dataframe['device_name'].str.contains('BLADE', na=False), 'device_name'] = 'ZTE'\n",
    "  dataframe.loc[dataframe['device_name'].str.contains('Linux', na=False), 'device_name'] = 'Linux'\n",
    "  dataframe.loc[dataframe['device_name'].str.contains('XT', na=False), 'device_name'] = 'Sony'\n",
    "  dataframe.loc[dataframe['device_name'].str.contains('HTC', na=False), 'device_name'] = 'HTC'\n",
    "  dataframe.loc[dataframe['device_name'].str.contains('ASUS', na=False), 'device_name'] = 'Asus'\n",
    "    \n",
    "# Classes that are too sparse are placed in other classes\n",
    "  dataframe.loc[dataframe.device_name.isin(dataframe.device_name.value_counts()[dataframe.device_name.value_counts() < 100].index), 'device_name'] = \"Others\"\n",
    "  dataframe['had_id'] = 1\n",
    "  gc.collect()\n",
    "  return dataframe"
   ]
  },
  {
   "cell_type": "markdown",
   "metadata": {},
   "source": [
    "# Loading Data"
   ]
  },
  {
   "cell_type": "code",
   "execution_count": 3,
   "metadata": {
    "execution": {
     "iopub.execute_input": "2025-04-27T21:48:49.425205Z",
     "iopub.status.busy": "2025-04-27T21:48:49.424966Z",
     "iopub.status.idle": "2025-04-27T21:48:49.445734Z",
     "shell.execute_reply": "2025-04-27T21:48:49.444860Z",
     "shell.execute_reply.started": "2025-04-27T21:48:49.425184Z"
    },
    "trusted": true
   },
   "outputs": [],
   "source": [
    "# COLUMNS WITH STRINGS\n",
    "str_type = ['ProductCD', 'card4', 'card6', 'P_emaildomain', 'R_emaildomain','M1', 'M2', 'M3', 'M4','M5',\n",
    "            'M6', 'M7', 'M8', 'M9', 'id_12', 'id_15', 'id_16', 'id_23', 'id_27', 'id_28', 'id_29', 'id_30', \n",
    "            'id_31', 'id_33', 'id_34', 'id_35', 'id_36', 'id_37', 'id_38', 'DeviceType', 'DeviceInfo']\n",
    "\n",
    "# FIRST 53 COLUMNS\n",
    "cols = ['TransactionID', 'TransactionDT', 'TransactionAmt',\n",
    "       'ProductCD', 'card1', 'card2', 'card3', 'card4', 'card5', 'card6',\n",
    "       'addr1', 'addr2', 'dist1', 'dist2', 'P_emaildomain', 'R_emaildomain',\n",
    "       'C1', 'C2', 'C3', 'C4', 'C5', 'C6', 'C7', 'C8', 'C9', 'C10', 'C11',\n",
    "       'C12', 'C13', 'C14', 'D1', 'D2', 'D3', 'D4', 'D5', 'D6', 'D7', 'D8',\n",
    "       'D9', 'D10', 'D11', 'D12', 'D13', 'D14', 'D15', 'M1', 'M2', 'M3', 'M4',\n",
    "       'M5', 'M6', 'M7', 'M8', 'M9']\n",
    "\n",
    "# V COLUMNS TO LOAD DECIDED BY CORRELATION EDA\n",
    "# https://www.kaggle.com/cdeotte/eda-for-columns-v-and-id\n",
    "v =  [1, 3, 4, 6, 8, 11]\n",
    "v += [13, 14, 17, 20, 23, 26, 27, 30]\n",
    "v += [36, 37, 40, 41, 44, 47, 48]\n",
    "v += [54, 56, 59, 62, 65, 67, 68, 70]\n",
    "v += [76, 78, 80, 82, 86, 88, 89, 91]\n",
    "\n",
    "#v += [96, 98, 99, 104] #relates to groups, no NAN \n",
    "v += [107, 108, 111, 115, 117, 120, 121, 123] # maybe group, no NAN\n",
    "v += [124, 127, 129, 130, 136] # relates to groups, no NAN\n",
    "\n",
    "# LOTS OF NAN BELOW\n",
    "v += [138, 139, 142, 147, 156, 162] #b1\n",
    "v += [165, 160, 166] #b1\n",
    "v += [178, 176, 173, 182] #b2\n",
    "v += [187, 203, 205, 207, 215] #b2\n",
    "v += [169, 171, 175, 180, 185, 188, 198, 210, 209] #b2\n",
    "v += [218, 223, 224, 226, 228, 229, 235] #b3\n",
    "v += [240, 258, 257, 253, 252, 260, 261] #b3\n",
    "v += [264, 266, 267, 274, 277] #b3\n",
    "v += [220, 221, 234, 238, 250, 271] #b3\n",
    "\n",
    "v += [294, 284, 285, 286, 291, 297] # relates to grous, no NAN\n",
    "v += [303, 305, 307, 309, 310, 320] # relates to groups, no NAN\n",
    "v += [281, 283, 289, 296, 301, 314] # relates to groups, no NAN\n",
    "#v += [332, 325, 335, 338] # b4 lots NAN\n",
    "\n",
    "cols += ['V'+str(x) for x in v]\n",
    "dtypes = {}\n",
    "for c in cols+['id_0'+str(x) for x in range(1,10)]+['id_'+str(x) for x in range(10,34)]+\\\n",
    "    ['id-0'+str(x) for x in range(1,10)]+['id-'+str(x) for x in range(10,34)]:\n",
    "        dtypes[c] = 'float32'\n",
    "for c in str_type: dtypes[c] = 'category'"
   ]
  },
  {
   "cell_type": "code",
   "execution_count": 4,
   "metadata": {
    "execution": {
     "iopub.execute_input": "2025-04-27T21:48:49.447316Z",
     "iopub.status.busy": "2025-04-27T21:48:49.447076Z",
     "iopub.status.idle": "2025-04-27T21:49:25.152630Z",
     "shell.execute_reply": "2025-04-27T21:49:25.151775Z",
     "shell.execute_reply.started": "2025-04-27T21:48:49.447296Z"
    },
    "id": "2O8TbADaQT3E",
    "trusted": true
   },
   "outputs": [],
   "source": [
    "folder_path = '/kaggle/input/ieee-fraud-detection/'\n",
    "train_identity = pd.read_csv(f'{folder_path}train_identity.csv')\n",
    "train_transaction = pd.read_csv(f'{folder_path}train_transaction.csv', usecols=cols+['isFraud'])\n",
    "test_identity = pd.read_csv(f'{folder_path}test_identity.csv')\n",
    "test_transaction = pd.read_csv(f'{folder_path}test_transaction.csv', usecols=cols)"
   ]
  },
  {
   "cell_type": "code",
   "execution_count": 5,
   "metadata": {
    "execution": {
     "iopub.execute_input": "2025-04-27T21:49:25.153771Z",
     "iopub.status.busy": "2025-04-27T21:49:25.153536Z",
     "iopub.status.idle": "2025-04-27T21:49:25.158464Z",
     "shell.execute_reply": "2025-04-27T21:49:25.157470Z",
     "shell.execute_reply.started": "2025-04-27T21:49:25.153751Z"
    },
    "trusted": true
   },
   "outputs": [],
   "source": [
    "# Rename columns in test_identity (replace hyphens with underscores in \"id-xx\" columns)\n",
    "test_identity.columns = [col.replace(\"id-\", \"id_\") for col in test_identity.columns]"
   ]
  },
  {
   "cell_type": "code",
   "execution_count": 6,
   "metadata": {
    "execution": {
     "iopub.execute_input": "2025-04-27T21:49:25.159681Z",
     "iopub.status.busy": "2025-04-27T21:49:25.159315Z",
     "iopub.status.idle": "2025-04-27T21:49:25.198455Z",
     "shell.execute_reply": "2025-04-27T21:49:25.197558Z",
     "shell.execute_reply.started": "2025-04-27T21:49:25.159647Z"
    },
    "trusted": true
   },
   "outputs": [
    {
     "name": "stdout",
     "output_type": "stream",
     "text": [
      "Index(['TransactionID', 'id_01', 'id_02', 'id_03', 'id_04', 'id_05', 'id_06',\n",
      "       'id_07', 'id_08', 'id_09', 'id_10', 'id_11', 'id_12', 'id_13', 'id_14',\n",
      "       'id_15', 'id_16', 'id_17', 'id_18', 'id_19', 'id_20', 'id_21', 'id_22',\n",
      "       'id_23', 'id_24', 'id_25', 'id_26', 'id_27', 'id_28', 'id_29', 'id_30',\n",
      "       'id_31', 'id_32', 'id_33', 'id_34', 'id_35', 'id_36', 'id_37', 'id_38',\n",
      "       'DeviceType', 'DeviceInfo'],\n",
      "      dtype='object')\n"
     ]
    }
   ],
   "source": [
    "print(test_identity.columns)"
   ]
  },
  {
   "cell_type": "code",
   "execution_count": 7,
   "metadata": {
    "execution": {
     "iopub.execute_input": "2025-04-27T21:49:25.199646Z",
     "iopub.status.busy": "2025-04-27T21:49:25.199338Z",
     "iopub.status.idle": "2025-04-27T21:49:25.212884Z",
     "shell.execute_reply": "2025-04-27T21:49:25.211999Z",
     "shell.execute_reply.started": "2025-04-27T21:49:25.199599Z"
    },
    "trusted": true
   },
   "outputs": [
    {
     "name": "stdout",
     "output_type": "stream",
     "text": [
      "Index(['TransactionID', 'id_01', 'id_02', 'id_03', 'id_04', 'id_05', 'id_06',\n",
      "       'id_07', 'id_08', 'id_09', 'id_10', 'id_11', 'id_12', 'id_13', 'id_14',\n",
      "       'id_15', 'id_16', 'id_17', 'id_18', 'id_19', 'id_20', 'id_21', 'id_22',\n",
      "       'id_23', 'id_24', 'id_25', 'id_26', 'id_27', 'id_28', 'id_29', 'id_30',\n",
      "       'id_31', 'id_32', 'id_33', 'id_34', 'id_35', 'id_36', 'id_37', 'id_38',\n",
      "       'DeviceType', 'DeviceInfo'],\n",
      "      dtype='object')\n"
     ]
    }
   ],
   "source": [
    "print(train_identity.columns)"
   ]
  },
  {
   "cell_type": "code",
   "execution_count": 8,
   "metadata": {
    "execution": {
     "iopub.execute_input": "2025-04-27T21:49:25.215830Z",
     "iopub.status.busy": "2025-04-27T21:49:25.215584Z",
     "iopub.status.idle": "2025-04-27T21:49:26.386095Z",
     "shell.execute_reply": "2025-04-27T21:49:26.385348Z",
     "shell.execute_reply.started": "2025-04-27T21:49:25.215808Z"
    },
    "id": "AIBhQL0p-Y44",
    "trusted": true
   },
   "outputs": [],
   "source": [
    "# Let's combine the data and work with the whole dataset\n",
    "X_train = pd.merge(train_transaction, train_identity, on = 'TransactionID', how = 'left')\n",
    "X_test = pd.merge(test_transaction, test_identity, on = 'TransactionID', how = 'left')"
   ]
  },
  {
   "cell_type": "code",
   "execution_count": 9,
   "metadata": {
    "execution": {
     "iopub.execute_input": "2025-04-27T21:49:26.387953Z",
     "iopub.status.busy": "2025-04-27T21:49:26.387624Z",
     "iopub.status.idle": "2025-04-27T21:49:26.992228Z",
     "shell.execute_reply": "2025-04-27T21:49:26.991470Z",
     "shell.execute_reply.started": "2025-04-27T21:49:26.387929Z"
    },
    "trusted": true
   },
   "outputs": [
    {
     "name": "stdout",
     "output_type": "stream",
     "text": [
      "Train shape (590540, 214) test shape (506691, 214)\n"
     ]
    }
   ],
   "source": [
    "# TARGET\n",
    "y_train = X_train['isFraud'].copy()\n",
    "X_train = X_train.drop(['isFraud'],axis=1)\n",
    "\n",
    "del train_identity, test_identity, train_transaction, test_transaction; x = gc.collect()\n",
    "\n",
    "# PRINT STATUS\n",
    "print('Train shape',X_train.shape,'test shape',X_test.shape)"
   ]
  },
  {
   "cell_type": "markdown",
   "metadata": {},
   "source": [
    "### Splitting into validation and train"
   ]
  },
  {
   "cell_type": "code",
   "execution_count": 10,
   "metadata": {
    "execution": {
     "iopub.execute_input": "2025-04-27T21:49:26.993300Z",
     "iopub.status.busy": "2025-04-27T21:49:26.993081Z",
     "iopub.status.idle": "2025-04-27T21:49:26.996701Z",
     "shell.execute_reply": "2025-04-27T21:49:26.995910Z",
     "shell.execute_reply.started": "2025-04-27T21:49:26.993281Z"
    },
    "trusted": true
   },
   "outputs": [],
   "source": [
    "# # Vérifier que X_train et y_train ont le même nombre d'échantillons\n",
    "# assert len(X_train) == len(y_train), \"Les ensembles X_train et y_train n'ont pas le même nombre d'échantillons.\"\n",
    "\n",
    "# # Diviser les données en un ensemble d'entraînement et de test avec la même répartition des classes\n",
    "# X_train, X_val, y_train, y_val = train_test_split(X_train, y_train, test_size=0.2, random_state=42, stratify=y_train)\n",
    "\n",
    "# # Afficher les tailles des ensembles de données\n",
    "# print(f\"Ensemble d'entraînement : {X_train.shape[0]} échantillons\")\n",
    "# print(f\"Ensemble de test : {X_val.shape[0]} échantillons\")\n",
    "\n",
    "# # Vérifier la répartition des classes dans chaque ensemble\n",
    "# print(f\"Répartition des classes dans le jeu d'entraînement :\\n{y_train.value_counts()}\")\n",
    "# print(f\"Répartition des classes dans le jeu de validation :\\n{y_val.value_counts()}\")"
   ]
  },
  {
   "cell_type": "markdown",
   "metadata": {
    "id": "Y2ppvswi-y1L"
   },
   "source": [
    "# Feature Engineering"
   ]
  },
  {
   "cell_type": "code",
   "execution_count": 11,
   "metadata": {
    "execution": {
     "iopub.execute_input": "2025-04-27T21:49:26.997700Z",
     "iopub.status.busy": "2025-04-27T21:49:26.997459Z",
     "iopub.status.idle": "2025-04-27T21:49:43.725017Z",
     "shell.execute_reply": "2025-04-27T21:49:43.724310Z",
     "shell.execute_reply.started": "2025-04-27T21:49:26.997680Z"
    },
    "id": "09ujBqO-9k3m",
    "trusted": true
   },
   "outputs": [],
   "source": [
    "X_train = id_split(X_train)\n",
    "X_test = id_split(X_test)"
   ]
  },
  {
   "cell_type": "code",
   "execution_count": 12,
   "metadata": {
    "execution": {
     "iopub.execute_input": "2025-04-27T21:49:43.725970Z",
     "iopub.status.busy": "2025-04-27T21:49:43.725724Z",
     "iopub.status.idle": "2025-04-27T21:49:43.731098Z",
     "shell.execute_reply": "2025-04-27T21:49:43.730140Z",
     "shell.execute_reply.started": "2025-04-27T21:49:43.725939Z"
    },
    "id": "eVbLDCxw9smX",
    "outputId": "e2ec7e81-ec39-473e-e19b-f2796bd103fa",
    "trusted": true
   },
   "outputs": [
    {
     "name": "stdout",
     "output_type": "stream",
     "text": [
      "(590540, 219)\n",
      "(506691, 219)\n"
     ]
    }
   ],
   "source": [
    "print(X_train.shape)\n",
    "print(X_test.shape)"
   ]
  },
  {
   "cell_type": "code",
   "execution_count": 13,
   "metadata": {
    "execution": {
     "iopub.execute_input": "2025-04-27T21:49:43.732439Z",
     "iopub.status.busy": "2025-04-27T21:49:43.732093Z",
     "iopub.status.idle": "2025-04-27T21:49:43.838796Z",
     "shell.execute_reply": "2025-04-27T21:49:43.837739Z",
     "shell.execute_reply.started": "2025-04-27T21:49:43.732375Z"
    },
    "id": "3ZB7IzrIAJ9M",
    "outputId": "5ff80129-3616-4797-fff2-665df32f261d",
    "trusted": true
   },
   "outputs": [
    {
     "name": "stdout",
     "output_type": "stream",
     "text": [
      "device_name\n",
      "Windows            47722\n",
      "iOS Device         19782\n",
      "MacOS              12573\n",
      "Samsung            12092\n",
      "Trident             7440\n",
      "Others              4978\n",
      "RV                  4385\n",
      "Motorola            2935\n",
      "Huawei              2377\n",
      "LG                  2331\n",
      "Sony                 575\n",
      "ZTE                  518\n",
      "HTC                  406\n",
      "hi6210sft Build      190\n",
      "F3213 Build          125\n",
      "Linux                121\n",
      "F5121 Build          116\n",
      "Name: count, dtype: int64\n",
      "device_version\n",
      "7.0                7440\n",
      "NRD90M             5908\n",
      "MMB29K             1874\n",
      "MRA58K             1446\n",
      "MMB29M             1342\n",
      "                   ... \n",
      "Q1010                 1\n",
      "V41020c               1\n",
      "OPR4.170623.006       1\n",
      "OPN27.76-12-22        1\n",
      "HUAWEILDN-LX3         1\n",
      "Name: count, Length: 293, dtype: int64\n",
      "OS_id_30\n",
      "Windows    36739\n",
      "iOS        19782\n",
      "Mac        13580\n",
      "Android     6303\n",
      "Linux       1136\n",
      "other         15\n",
      "func          10\n",
      "Name: count, dtype: int64\n",
      "browser_id_31\n",
      "chrome               76059\n",
      "mobile               28379\n",
      "ie                    9733\n",
      "safari                8913\n",
      "firefox               7012\n",
      "edge                  6401\n",
      "samsung               2044\n",
      "opera                  449\n",
      "android                386\n",
      "other                  312\n",
      "Samsung/SM-G532M       150\n",
      "google                 146\n",
      "Generic/Android        138\n",
      "Samsung/SM-G531H        52\n",
      "Microsoft/Windows       25\n",
      "silk                    19\n",
      "ZTE/Blade                9\n",
      "maxthon                  6\n",
      "comodo                   6\n",
      "line                     6\n",
      "aol                      5\n",
      "icedragon                5\n",
      "Mozilla/Firefox          5\n",
      "Lanix/Ilium              3\n",
      "palemoon                 2\n",
      "waterfox                 2\n",
      "puffin                   2\n",
      "facebook                 2\n",
      "cyberfox                 1\n",
      "Samsung/SCH              1\n",
      "Nokia/Lumia              1\n",
      "M4Tel/M4                 1\n",
      "seamonkey                1\n",
      "BLU/Dash                 1\n",
      "iron                     1\n",
      "LG/K-200                 1\n",
      "chromium                 1\n",
      "Inco/Minion              1\n",
      "Cherry                   1\n",
      "Name: count, dtype: int64\n"
     ]
    }
   ],
   "source": [
    "# New fields have been added\n",
    "print(X_train['device_name'].value_counts())\n",
    "print(X_train['device_version'].value_counts())\n",
    "print(X_train['OS_id_30'].value_counts())\n",
    "print(X_train['browser_id_31'].value_counts())"
   ]
  },
  {
   "cell_type": "code",
   "execution_count": 14,
   "metadata": {
    "execution": {
     "iopub.execute_input": "2025-04-27T21:49:43.840115Z",
     "iopub.status.busy": "2025-04-27T21:49:43.839781Z",
     "iopub.status.idle": "2025-04-27T21:49:43.865811Z",
     "shell.execute_reply": "2025-04-27T21:49:43.865000Z",
     "shell.execute_reply.started": "2025-04-27T21:49:43.840083Z"
    },
    "trusted": true
   },
   "outputs": [],
   "source": [
    "X_train['TransactionAmt'] = np.log1p(X_train['TransactionAmt'])\n",
    "X_test['TransactionAmt'] = np.log1p(X_test['TransactionAmt'])"
   ]
  },
  {
   "cell_type": "markdown",
   "metadata": {},
   "source": [
    "## Flagging outliers"
   ]
  },
  {
   "cell_type": "code",
   "execution_count": 15,
   "metadata": {
    "execution": {
     "iopub.execute_input": "2025-04-27T21:49:43.867229Z",
     "iopub.status.busy": "2025-04-27T21:49:43.866792Z",
     "iopub.status.idle": "2025-04-27T21:49:43.872975Z",
     "shell.execute_reply": "2025-04-27T21:49:43.871849Z",
     "shell.execute_reply.started": "2025-04-27T21:49:43.867194Z"
    },
    "trusted": true
   },
   "outputs": [],
   "source": [
    "def compute_outlier_bounds(series):\n",
    "    valid = series[(series != -999) & (~series.isna())]\n",
    "    Q1 = valid.quantile(0.25)\n",
    "    Q3 = valid.quantile(0.75)\n",
    "    IQR = Q3 - Q1\n",
    "    lower = Q1 - 1.5 * IQR\n",
    "    upper = Q3 + 1.5 * IQR\n",
    "    return lower, upper\n",
    "\n",
    "def add_outlier_flag_from_bounds(df, col, lower, upper):\n",
    "    df[col + '_is_outlier'] = ((df[col] < lower) | (df[col] > upper)).astype('int8')\n",
    "    return df"
   ]
  },
  {
   "cell_type": "code",
   "execution_count": 16,
   "metadata": {
    "execution": {
     "iopub.execute_input": "2025-04-27T21:49:43.874030Z",
     "iopub.status.busy": "2025-04-27T21:49:43.873793Z",
     "iopub.status.idle": "2025-04-27T21:49:44.766092Z",
     "shell.execute_reply": "2025-04-27T21:49:44.765426Z",
     "shell.execute_reply.started": "2025-04-27T21:49:43.874009Z"
    },
    "trusted": true
   },
   "outputs": [],
   "source": [
    "numeric_features = X_train.select_dtypes(include=['float32', 'float64', 'int32', 'int64']).columns"
   ]
  },
  {
   "cell_type": "code",
   "execution_count": 17,
   "metadata": {
    "execution": {
     "iopub.execute_input": "2025-04-27T21:49:44.767124Z",
     "iopub.status.busy": "2025-04-27T21:49:44.766905Z",
     "iopub.status.idle": "2025-04-27T21:49:47.236889Z",
     "shell.execute_reply": "2025-04-27T21:49:47.236067Z",
     "shell.execute_reply.started": "2025-04-27T21:49:44.767105Z"
    },
    "trusted": true
   },
   "outputs": [
    {
     "name": "stdout",
     "output_type": "stream",
     "text": [
      "TransactionID - skew: 0.0\n",
      "TransactionDT - skew: 0.13\n",
      "TransactionAmt - skew: 0.49\n",
      "card1 - skew: -0.04\n",
      "card2 - skew: -0.2\n",
      "card3 - skew: 2.02\n",
      "card5 - skew: -1.22\n",
      "addr1 - skew: 0.37\n",
      "addr2 - skew: -14.5\n",
      "dist1 - skew: 5.11\n",
      "dist2 - skew: 5.97\n",
      "C1 - skew: 23.96\n",
      "C2 - skew: 23.68\n",
      "C3 - skew: 88.95\n",
      "C4 - skew: 22.08\n",
      "C5 - skew: 5.79\n",
      "C6 - skew: 19.77\n",
      "C7 - skew: 27.19\n",
      "C8 - skew: 26.08\n",
      "C9 - skew: 5.69\n",
      "C10 - skew: 25.22\n",
      "C11 - skew: 22.36\n",
      "C12 - skew: 27.42\n",
      "C13 - skew: 8.99\n",
      "C14 - skew: 16.53\n",
      "D1 - skew: 1.81\n",
      "D2 - skew: 1.02\n",
      "D3 - skew: 4.54\n",
      "D4 - skew: 1.17\n",
      "D5 - skew: 3.39\n",
      "D6 - skew: 2.26\n",
      "D7 - skew: 2.95\n",
      "D8 - skew: 2.24\n",
      "D9 - skew: -0.59\n",
      "D10 - skew: 1.39\n",
      "D11 - skew: 1.05\n",
      "D12 - skew: 2.46\n",
      "D13 - skew: 5.41\n",
      "D14 - skew: 2.58\n",
      "D15 - skew: 0.96\n",
      "V17 - skew: 3.79\n",
      "V20 - skew: 0.25\n",
      "V23 - skew: 12.12\n",
      "V26 - skew: 2.69\n",
      "V37 - skew: 22.63\n",
      "V40 - skew: 6.65\n",
      "V44 - skew: 29.04\n",
      "V56 - skew: 23.56\n",
      "V59 - skew: 4.38\n",
      "V62 - skew: 0.61\n",
      "V78 - skew: 15.27\n",
      "V80 - skew: 5.69\n",
      "V86 - skew: 16.93\n",
      "V123 - skew: 12.88\n",
      "V124 - skew: 6.09\n",
      "V127 - skew: 25.68\n",
      "V129 - skew: 240.27\n",
      "V130 - skew: 26.3\n",
      "V136 - skew: 49.02\n",
      "V138 - skew: 22.58\n",
      "V139 - skew: 5.91\n",
      "V147 - skew: 9.94\n",
      "V156 - skew: 8.06\n",
      "V160 - skew: 3.0\n",
      "V162 - skew: 25.2\n",
      "V165 - skew: 6.81\n",
      "V166 - skew: 27.33\n",
      "V169 - skew: 8.84\n",
      "V171 - skew: 6.72\n",
      "V175 - skew: 6.45\n",
      "V176 - skew: 12.14\n",
      "V178 - skew: 13.3\n",
      "V180 - skew: 8.69\n",
      "V182 - skew: 9.15\n",
      "V185 - skew: 9.94\n",
      "V187 - skew: 15.68\n",
      "V188 - skew: 13.02\n",
      "V198 - skew: 15.33\n",
      "V203 - skew: 10.56\n",
      "V205 - skew: 84.9\n",
      "V207 - skew: 21.02\n",
      "V209 - skew: 11.94\n",
      "V210 - skew: 14.67\n",
      "V215 - skew: 25.55\n",
      "V218 - skew: 19.66\n",
      "V220 - skew: 10.33\n",
      "V221 - skew: 51.3\n",
      "V223 - skew: 11.19\n",
      "V224 - skew: 29.95\n",
      "V226 - skew: 30.26\n",
      "V228 - skew: 10.8\n",
      "V229 - skew: 29.37\n",
      "V234 - skew: 6.29\n",
      "V235 - skew: 10.82\n",
      "V238 - skew: 10.17\n",
      "V250 - skew: 3.36\n",
      "V252 - skew: 26.34\n",
      "V253 - skew: 39.22\n",
      "V257 - skew: 13.35\n",
      "V258 - skew: 17.43\n",
      "V261 - skew: 20.74\n",
      "V264 - skew: 24.5\n",
      "V266 - skew: 175.96\n",
      "V267 - skew: 38.01\n",
      "V271 - skew: 26.45\n",
      "V274 - skew: 20.15\n",
      "V277 - skew: 69.37\n",
      "V281 - skew: 10.01\n",
      "V283 - skew: 12.4\n",
      "V284 - skew: 5.3\n",
      "V285 - skew: 12.29\n",
      "V289 - skew: 3.51\n",
      "V291 - skew: 50.16\n",
      "V294 - skew: 23.85\n",
      "V296 - skew: 18.93\n",
      "V297 - skew: 13.28\n",
      "V301 - skew: 10.54\n",
      "V303 - skew: 5.16\n",
      "V307 - skew: 23.67\n",
      "V309 - skew: 224.88\n",
      "V310 - skew: 19.5\n",
      "V314 - skew: 10.75\n",
      "V320 - skew: 70.52\n",
      "id_01 - skew: -3.67\n",
      "id_02 - skew: 1.84\n",
      "id_03 - skew: -0.78\n",
      "id_04 - skew: -14.29\n",
      "id_05 - skew: 2.45\n",
      "id_06 - skew: -3.9\n",
      "id_07 - skew: -0.16\n",
      "id_08 - skew: -1.02\n",
      "id_09 - skew: -4.8\n",
      "id_10 - skew: -19.48\n",
      "id_11 - skew: -4.83\n",
      "id_13 - skew: -1.26\n",
      "id_14 - skew: 2.71\n",
      "id_17 - skew: 0.14\n",
      "id_18 - skew: 2.07\n",
      "id_19 - skew: 0.2\n",
      "id_20 - skew: -0.32\n",
      "id_21 - skew: 1.24\n",
      "id_22 - skew: 3.23\n",
      "id_24 - skew: 1.29\n",
      "id_25 - skew: 0.05\n",
      "id_26 - skew: 0.01\n"
     ]
    }
   ],
   "source": [
    "for col in numeric_features:\n",
    "    if X_train[col].nunique() > 10:  # skip low-cardinality features\n",
    "        skew = X_train[col].skew()\n",
    "        print(f\"{col} - skew: {round(skew,2)}\")"
   ]
  },
  {
   "cell_type": "code",
   "execution_count": 18,
   "metadata": {
    "execution": {
     "iopub.execute_input": "2025-04-27T21:49:47.237901Z",
     "iopub.status.busy": "2025-04-27T21:49:47.237666Z",
     "iopub.status.idle": "2025-04-27T21:49:49.679333Z",
     "shell.execute_reply": "2025-04-27T21:49:49.678282Z",
     "shell.execute_reply.started": "2025-04-27T21:49:47.237881Z"
    },
    "trusted": true
   },
   "outputs": [],
   "source": [
    "# Threshold for skewness (you can tweak it)\n",
    "skew_threshold = 2\n",
    "\n",
    "# Filter numeric features by skewness\n",
    "numeric_features_filtered = [\n",
    "    col for col in numeric_features\n",
    "    if X_train[col].nunique() > 10 and abs(X_train[col].skew()) > skew_threshold\n",
    "]"
   ]
  },
  {
   "cell_type": "code",
   "execution_count": 19,
   "metadata": {
    "execution": {
     "iopub.execute_input": "2025-04-27T21:49:49.680742Z",
     "iopub.status.busy": "2025-04-27T21:49:49.680459Z",
     "iopub.status.idle": "2025-04-27T21:49:49.686124Z",
     "shell.execute_reply": "2025-04-27T21:49:49.685035Z",
     "shell.execute_reply.started": "2025-04-27T21:49:49.680719Z"
    },
    "trusted": true
   },
   "outputs": [],
   "source": [
    "important_features=[\n",
    "    'C1', 'C10', 'C13', 'C14', 'C1_card2_mean', 'C1_card2_std', 'C2', 'C4', 'C8',\n",
    "    'ProductCD_R_Day', 'R_emaildomain', 'R_emaildomain_count_full',\n",
    "    'TransactionAmt_card1_addr1_P_emaildomain_std', 'V121', 'V187', 'V188', 'V210',\n",
    "    'V257', 'V258', 'V258_ProductID_std', 'V258_R_emaildomain_mean',\n",
    "    'V258_R_emaildomain_std', 'V258_uid_mean', 'V271', 'V274', 'V294', 'V294_uid_mean',\n",
    "    'V30', 'V309', 'V48', 'V68', 'V70', 'V89', 'V91', 'addr1_count_full', 'card1',\n",
    "    'card1_addr1_FE', 'card3_count_full', 'card5', 'card6', 'card6_count_full', 'day',\n",
    "    'dow', 'email_domain_comp', 'id_02_uid_std', 'id_29', 'uid_C13_ct'\n",
    "]"
   ]
  },
  {
   "cell_type": "code",
   "execution_count": 20,
   "metadata": {
    "execution": {
     "iopub.execute_input": "2025-04-27T21:49:49.687353Z",
     "iopub.status.busy": "2025-04-27T21:49:49.687055Z",
     "iopub.status.idle": "2025-04-27T21:49:49.701344Z",
     "shell.execute_reply": "2025-04-27T21:49:49.700480Z",
     "shell.execute_reply.started": "2025-04-27T21:49:49.687330Z"
    },
    "trusted": true
   },
   "outputs": [
    {
     "name": "stdout",
     "output_type": "stream",
     "text": [
      "['C1', 'C10', 'C13', 'C14', 'C2', 'C4', 'C8', 'V187', 'V188', 'V210', 'V257', 'V258', 'V271', 'V274', 'V294', 'V309']\n"
     ]
    }
   ],
   "source": [
    "outlier_flag_features = list(set(important_features) & set(numeric_features_filtered))\n",
    "outlier_flag_features.sort()\n",
    "\n",
    "# Output\n",
    "print(outlier_flag_features)"
   ]
  },
  {
   "cell_type": "code",
   "execution_count": 21,
   "metadata": {
    "execution": {
     "iopub.execute_input": "2025-04-27T21:49:49.702784Z",
     "iopub.status.busy": "2025-04-27T21:49:49.702430Z",
     "iopub.status.idle": "2025-04-27T21:49:50.114775Z",
     "shell.execute_reply": "2025-04-27T21:49:50.114047Z",
     "shell.execute_reply.started": "2025-04-27T21:49:49.702752Z"
    },
    "trusted": true
   },
   "outputs": [],
   "source": [
    "# Apply to selected features\n",
    "for col in outlier_flag_features:\n",
    "    lower, upper = compute_outlier_bounds(X_train[col])\n",
    "    X_train = add_outlier_flag_from_bounds(X_train, col, lower, upper)\n",
    "    X_test = add_outlier_flag_from_bounds(X_test, col, lower, upper)  # ✅ SAFE: using train's thresholds"
   ]
  },
  {
   "cell_type": "markdown",
   "metadata": {},
   "source": [
    "### Extracting Time Features"
   ]
  },
  {
   "cell_type": "code",
   "execution_count": 22,
   "metadata": {
    "execution": {
     "iopub.execute_input": "2025-04-27T21:49:50.115947Z",
     "iopub.status.busy": "2025-04-27T21:49:50.115630Z",
     "iopub.status.idle": "2025-04-27T21:49:50.120996Z",
     "shell.execute_reply": "2025-04-27T21:49:50.120074Z",
     "shell.execute_reply.started": "2025-04-27T21:49:50.115915Z"
    },
    "trusted": true
   },
   "outputs": [
    {
     "name": "stdout",
     "output_type": "stream",
     "text": [
      "0    18403224\n",
      "1    18403263\n",
      "2    18403310\n",
      "3    18403310\n",
      "4    18403317\n",
      "Name: TransactionDT, dtype: int64\n"
     ]
    }
   ],
   "source": [
    "print(X_test['TransactionDT'][:5])"
   ]
  },
  {
   "cell_type": "markdown",
   "metadata": {
    "id": "ik937gK0BFgu"
   },
   "source": [
    "- DT_D (Days)\n",
    "- DT_W (Weeks)\n",
    "- DT_M (Months)"
   ]
  },
  {
   "cell_type": "code",
   "execution_count": 23,
   "metadata": {
    "execution": {
     "iopub.execute_input": "2025-04-27T21:49:50.127199Z",
     "iopub.status.busy": "2025-04-27T21:49:50.126919Z",
     "iopub.status.idle": "2025-04-27T21:49:51.864594Z",
     "shell.execute_reply": "2025-04-27T21:49:51.863363Z",
     "shell.execute_reply.started": "2025-04-27T21:49:50.127176Z"
    },
    "id": "DwEMZcN0-5Jr",
    "trusted": true
   },
   "outputs": [],
   "source": [
    "START_DATE = '2017-11-30'\n",
    "startdate = datetime.datetime.strptime(START_DATE, '%Y-%m-%d')\n",
    "X_train['TransactionDT_date'] = X_train['TransactionDT'].apply(lambda x: startdate + datetime.timedelta(seconds=x))\n",
    "X_test['TransactionDT_date'] = X_test['TransactionDT'].apply(lambda x: startdate + datetime.timedelta(seconds=x))\n",
    "for df in [X_train, X_test]:\n",
    "    df['DT_D'] = ((df['TransactionDT_date'].dt.year - 2017) * 365 + df['TransactionDT_date'].dt.dayofyear).astype(np.int16)\n",
    "    df['DT_W'] = (df['TransactionDT_date'].dt.year - 2017) * 52 + df['TransactionDT_date'].dt.isocalendar().week\n",
    "    df['DT_M'] = (df['TransactionDT_date'].dt.year - 2017) * 12 + df['TransactionDT_date'].dt.month"
   ]
  },
  {
   "cell_type": "markdown",
   "metadata": {},
   "source": [
    "## Encoding ProductCD with Count Features Over Time"
   ]
  },
  {
   "cell_type": "code",
   "execution_count": 24,
   "metadata": {
    "execution": {
     "iopub.execute_input": "2025-04-27T21:49:51.868232Z",
     "iopub.status.busy": "2025-04-27T21:49:51.867979Z",
     "iopub.status.idle": "2025-04-27T21:49:51.903104Z",
     "shell.execute_reply": "2025-04-27T21:49:51.901988Z",
     "shell.execute_reply.started": "2025-04-27T21:49:51.868210Z"
    },
    "id": "EK43eYjf_fwA",
    "outputId": "bd7a35b4-1d4b-4b19-a8a1-de716dc8c1d1",
    "trusted": true
   },
   "outputs": [
    {
     "data": {
      "text/plain": [
       "ProductCD\n",
       "W    439670\n",
       "C     68519\n",
       "R     37699\n",
       "H     33024\n",
       "S     11628\n",
       "Name: count, dtype: int64"
      ]
     },
     "execution_count": 24,
     "metadata": {},
     "output_type": "execute_result"
    }
   ],
   "source": [
    "X_train.ProductCD.value_counts()"
   ]
  },
  {
   "cell_type": "markdown",
   "metadata": {
    "id": "WexANhdz_yHx"
   },
   "source": [
    "Recognizing that the various categories of ProductCD behave differently in terms of fraud and time series, we split their count_encoding feature into five indicators"
   ]
  },
  {
   "cell_type": "code",
   "execution_count": 25,
   "metadata": {
    "execution": {
     "iopub.execute_input": "2025-04-27T21:49:51.904551Z",
     "iopub.status.busy": "2025-04-27T21:49:51.904157Z",
     "iopub.status.idle": "2025-04-27T21:49:53.627408Z",
     "shell.execute_reply": "2025-04-27T21:49:53.626697Z",
     "shell.execute_reply.started": "2025-04-27T21:49:51.904517Z"
    },
    "trusted": true
   },
   "outputs": [],
   "source": [
    "# Merge X_train and y_train into train\n",
    "train = X_train.copy()  # Copy X_train\n",
    "train['isFraud'] = y_train  # Add y_train as a new column"
   ]
  },
  {
   "cell_type": "code",
   "execution_count": 26,
   "metadata": {
    "execution": {
     "iopub.execute_input": "2025-04-27T21:49:53.628770Z",
     "iopub.status.busy": "2025-04-27T21:49:53.628431Z",
     "iopub.status.idle": "2025-04-27T21:49:55.219776Z",
     "shell.execute_reply": "2025-04-27T21:49:55.218768Z",
     "shell.execute_reply.started": "2025-04-27T21:49:53.628738Z"
    },
    "id": "YCiyk9rK_ivz",
    "trusted": true
   },
   "outputs": [],
   "source": [
    "# W\n",
    "te = train.groupby(['ProductCD','DT_D'])['isFraud'].agg(['count','mean'])\n",
    "te.reset_index(inplace=True)\n",
    "train['ProductCD_W_Day'] = pd.merge(train[['ProductCD','DT_D']],te[['ProductCD','DT_D','count']],on = ['ProductCD','DT_D'],how='left')['count']\n",
    "te = X_test.groupby(['ProductCD','DT_D'])['TransactionAmt'].agg(['count','mean'])\n",
    "te.reset_index(inplace=True)\n",
    "X_test['ProductCD_W_Day'] = pd.merge(X_test[['ProductCD','DT_D']],te[['ProductCD','DT_D','count']],on = ['ProductCD','DT_D'],how='left')['count']\n",
    "train.loc[train.ProductCD != 'W','ProductCD_W_Day'] = 0\n",
    "X_test.loc[X_test.ProductCD != 'W','ProductCD_W_Day'] = 0\n",
    "\n",
    "# C\n",
    "te = train.groupby(['ProductCD','DT_D'])['isFraud'].agg(['count','mean'])\n",
    "te.reset_index(inplace=True)\n",
    "train['ProductCD_C_Day'] = pd.merge(train[['ProductCD','DT_D']],te[['ProductCD','DT_D','count']],on = ['ProductCD','DT_D'],how='left')['count']\n",
    "te = X_test.groupby(['ProductCD','DT_D'])['TransactionAmt'].agg(['count','mean'])\n",
    "te.reset_index(inplace=True)\n",
    "X_test['ProductCD_C_Day'] = pd.merge(X_test[['ProductCD','DT_D']],te[['ProductCD','DT_D','count']],on = ['ProductCD','DT_D'],how='left')['count']\n",
    "train.loc[train.ProductCD != 'C','ProductCD_C_Day'] = 0\n",
    "X_test.loc[X_test.ProductCD != 'C','ProductCD_C_Day'] = 0\n",
    "\n",
    "# R\n",
    "te = train.groupby(['ProductCD','DT_D'])['isFraud'].agg(['count','mean'])\n",
    "te.reset_index(inplace=True)\n",
    "train['ProductCD_R_Day'] = pd.merge(train[['ProductCD','DT_D']],te[['ProductCD','DT_D','count']],on = ['ProductCD','DT_D'],how='left')['count']\n",
    "te = X_test.groupby(['ProductCD','DT_D'])['TransactionAmt'].agg(['count','mean'])\n",
    "te.reset_index(inplace=True)\n",
    "X_test['ProductCD_R_Day'] = pd.merge(X_test[['ProductCD','DT_D']],te[['ProductCD','DT_D','count']],on = ['ProductCD','DT_D'],how='left')['count']\n",
    "train.loc[train.ProductCD != 'R','ProductCD_R_Day'] = 0\n",
    "X_test.loc[X_test.ProductCD != 'R','ProductCD_R_Day'] = 0\n",
    "\n",
    "# H\n",
    "te = train.groupby(['ProductCD','DT_D'])['isFraud'].agg(['count','mean'])\n",
    "te.reset_index(inplace=True)\n",
    "train['ProductCD_H_Day'] = pd.merge(train[['ProductCD','DT_D']],te[['ProductCD','DT_D','count']],on = ['ProductCD','DT_D'],how='left')['count']\n",
    "te = X_test.groupby(['ProductCD','DT_D'])['TransactionAmt'].agg(['count','mean'])\n",
    "te.reset_index(inplace=True)\n",
    "X_test['ProductCD_H_Day'] = pd.merge(X_test[['ProductCD','DT_D']],te[['ProductCD','DT_D','count']],on = ['ProductCD','DT_D'],how='left')['count']\n",
    "train.loc[train.ProductCD != 'H','ProductCD_H_Day'] = 0\n",
    "X_test.loc[X_test.ProductCD != 'H','ProductCD_H_Day'] = 0\n",
    "\n",
    "# S\n",
    "te = train.groupby(['ProductCD','DT_D'])['isFraud'].agg(['count','mean'])\n",
    "te.reset_index(inplace=True)\n",
    "train['ProductCD_S_Day'] = pd.merge(train[['ProductCD','DT_D']],te[['ProductCD','DT_D','count']],on = ['ProductCD','DT_D'],how='left')['count']\n",
    "te = X_test.groupby(['ProductCD','DT_D'])['TransactionAmt'].agg(['count','mean'])\n",
    "te.reset_index(inplace=True)\n",
    "X_test['ProductCD_S_Day'] = pd.merge(X_test[['ProductCD','DT_D']],te[['ProductCD','DT_D','count']],on = ['ProductCD','DT_D'],how='left')['count']\n",
    "train.loc[train.ProductCD != 'S','ProductCD_S_Day'] = 0\n",
    "X_test.loc[X_test.ProductCD != 'S','ProductCD_S_Day'] = 0"
   ]
  },
  {
   "cell_type": "code",
   "execution_count": 27,
   "metadata": {
    "execution": {
     "iopub.execute_input": "2025-04-27T21:49:55.221094Z",
     "iopub.status.busy": "2025-04-27T21:49:55.220779Z",
     "iopub.status.idle": "2025-04-27T21:49:55.225862Z",
     "shell.execute_reply": "2025-04-27T21:49:55.225080Z",
     "shell.execute_reply.started": "2025-04-27T21:49:55.221064Z"
    },
    "id": "EJVkPFTeAUkJ",
    "outputId": "110ec43e-11e8-4cdd-8781-4a475d923754",
    "trusted": true
   },
   "outputs": [
    {
     "name": "stdout",
     "output_type": "stream",
     "text": [
      "['ProductCD_W_Day', 'ProductCD_C_Day', 'ProductCD_R_Day', 'ProductCD_H_Day', 'ProductCD_S_Day']\n"
     ]
    }
   ],
   "source": [
    "# Five new fields have been added\n",
    "print(train.columns[-5:].tolist())"
   ]
  },
  {
   "cell_type": "markdown",
   "metadata": {},
   "source": [
    "## Normalize D Columns"
   ]
  },
  {
   "cell_type": "code",
   "execution_count": 28,
   "metadata": {
    "execution": {
     "iopub.execute_input": "2025-04-27T21:49:55.227019Z",
     "iopub.status.busy": "2025-04-27T21:49:55.226770Z",
     "iopub.status.idle": "2025-04-27T21:49:56.536512Z",
     "shell.execute_reply": "2025-04-27T21:49:56.535535Z",
     "shell.execute_reply.started": "2025-04-27T21:49:55.226999Z"
    },
    "trusted": true
   },
   "outputs": [
    {
     "data": {
      "image/png": "[encoded data removed]",
      "text/plain": [
       "<Figure size 1500x500 with 1 Axes>"
      ]
     },
     "metadata": {},
     "output_type": "display_data"
    }
   ],
   "source": [
    "# PLOT ORIGINAL D\n",
    "plt.figure(figsize=(15,5))\n",
    "plt.scatter(train.TransactionDT,train.D15)\n",
    "plt.title('Original D15')\n",
    "plt.xlabel('Time')\n",
    "plt.ylabel('D15')\n",
    "plt.show()"
   ]
  },
  {
   "cell_type": "code",
   "execution_count": 29,
   "metadata": {
    "execution": {
     "iopub.execute_input": "2025-04-27T21:49:56.538006Z",
     "iopub.status.busy": "2025-04-27T21:49:56.537641Z",
     "iopub.status.idle": "2025-04-27T21:49:56.609094Z",
     "shell.execute_reply": "2025-04-27T21:49:56.608341Z",
     "shell.execute_reply.started": "2025-04-27T21:49:56.537974Z"
    },
    "trusted": true
   },
   "outputs": [],
   "source": [
    "# NORMALIZE D COLUMNS\n",
    "for i in range(1,16):\n",
    "    if i in [1,2,3,5,9]: continue\n",
    "    train['D'+str(i)] =  train['D'+str(i)] - train.TransactionDT/np.float32(24*60*60)\n",
    "    X_test['D'+str(i)] = X_test['D'+str(i)] - X_test.TransactionDT/np.float32(24*60*60)"
   ]
  },
  {
   "cell_type": "code",
   "execution_count": 30,
   "metadata": {
    "execution": {
     "iopub.execute_input": "2025-04-27T21:49:56.610253Z",
     "iopub.status.busy": "2025-04-27T21:49:56.609948Z",
     "iopub.status.idle": "2025-04-27T21:49:57.791877Z",
     "shell.execute_reply": "2025-04-27T21:49:57.790858Z",
     "shell.execute_reply.started": "2025-04-27T21:49:56.610221Z"
    },
    "trusted": true
   },
   "outputs": [
    {
     "data": {
      "image/png": "[encoded data removed]",
      "text/plain": [
       "<Figure size 1500x500 with 1 Axes>"
      ]
     },
     "metadata": {},
     "output_type": "display_data"
    }
   ],
   "source": [
    "# PLOT TRANSFORMED D\n",
    "plt.figure(figsize=(15,5))\n",
    "plt.scatter(train.TransactionDT,train.D15)\n",
    "plt.title('Transformed D15')\n",
    "plt.xlabel('Time')\n",
    "plt.ylabel('D15n')\n",
    "plt.show()"
   ]
  },
  {
   "cell_type": "markdown",
   "metadata": {},
   "source": [
    "## Label Encoding"
   ]
  },
  {
   "cell_type": "code",
   "execution_count": 31,
   "metadata": {
    "execution": {
     "iopub.execute_input": "2025-04-27T21:49:57.793220Z",
     "iopub.status.busy": "2025-04-27T21:49:57.792874Z",
     "iopub.status.idle": "2025-04-27T21:50:00.024743Z",
     "shell.execute_reply": "2025-04-27T21:50:00.023928Z",
     "shell.execute_reply.started": "2025-04-27T21:49:57.793183Z"
    },
    "trusted": true
   },
   "outputs": [
    {
     "name": "stdout",
     "output_type": "stream",
     "text": [
      "CPU times: user 2.2 s, sys: 27.7 ms, total: 2.23 s\n",
      "Wall time: 2.23 s\n"
     ]
    }
   ],
   "source": [
    "%%time\n",
    "# LABEL ENCODE AND MEMORY REDUCE\n",
    "for i,f in enumerate(train.columns):\n",
    "    # FACTORIZE CATEGORICAL VARIABLES\n",
    "    if (str(train[f].dtype)=='category')|(train[f].dtype=='object'): \n",
    "        df_comb = pd.concat([train[f],X_test[f]],axis=0)\n",
    "        df_comb,_ = df_comb.factorize(sort=True)\n",
    "        if df_comb.max()>32000: print(f,'needs int32')\n",
    "        train[f] = df_comb[:len(X_train)].astype('int16')\n",
    "        X_test[f] = df_comb[len(X_train):].astype('int16')"
   ]
  },
  {
   "cell_type": "markdown",
   "metadata": {},
   "source": [
    "## Missing Values\n",
    "Impute all missing values with -999 which is very fast and model can still find some pattern instead of losing information by dropping them."
   ]
  },
  {
   "cell_type": "code",
   "execution_count": 32,
   "metadata": {
    "execution": {
     "iopub.execute_input": "2025-04-27T21:50:00.025652Z",
     "iopub.status.busy": "2025-04-27T21:50:00.025441Z",
     "iopub.status.idle": "2025-04-27T21:50:00.530505Z",
     "shell.execute_reply": "2025-04-27T21:50:00.529666Z",
     "shell.execute_reply.started": "2025-04-27T21:50:00.025633Z"
    },
    "trusted": true
   },
   "outputs": [
    {
     "name": "stdout",
     "output_type": "stream",
     "text": [
      "Nombre de colonnes à supprimer : 10\n",
      "Colonnes supprimées (NaN > 90%) : ['dist2', 'D7', 'id_07', 'id_08', 'id_18', 'id_21', 'id_22', 'id_24', 'id_25', 'id_26']\n"
     ]
    }
   ],
   "source": [
    "# Seuil de tolérance : ici 90%\n",
    "threshold = 0.90\n",
    "\n",
    "# Calcul du ratio de valeurs manquantes par colonne\n",
    "missing_ratio = train.isnull().mean()\n",
    "\n",
    "# Colonnes à supprimer\n",
    "cols_to_drop = missing_ratio[missing_ratio > threshold].index\n",
    "\n",
    "# Affichage des colonnes concernées\n",
    "print(f\"Nombre de colonnes à supprimer : {len(cols_to_drop)}\")\n",
    "print(\"Colonnes supprimées (NaN > 90%) :\", list(cols_to_drop))"
   ]
  },
  {
   "cell_type": "code",
   "execution_count": 33,
   "metadata": {
    "execution": {
     "iopub.execute_input": "2025-04-27T21:50:00.531664Z",
     "iopub.status.busy": "2025-04-27T21:50:00.531333Z",
     "iopub.status.idle": "2025-04-27T21:50:00.535540Z",
     "shell.execute_reply": "2025-04-27T21:50:00.534509Z",
     "shell.execute_reply.started": "2025-04-27T21:50:00.531638Z"
    },
    "trusted": true
   },
   "outputs": [],
   "source": [
    "# Suppression des colonnes\n",
    "drop = []\n",
    "drop += list(cols_to_drop)"
   ]
  },
  {
   "cell_type": "code",
   "execution_count": 34,
   "metadata": {
    "execution": {
     "iopub.execute_input": "2025-04-27T21:50:00.536869Z",
     "iopub.status.busy": "2025-04-27T21:50:00.536472Z",
     "iopub.status.idle": "2025-04-27T21:50:04.033861Z",
     "shell.execute_reply": "2025-04-27T21:50:04.032906Z",
     "shell.execute_reply.started": "2025-04-27T21:50:00.536836Z"
    },
    "trusted": true
   },
   "outputs": [],
   "source": [
    "train.fillna(-999,inplace = True)\n",
    "X_test.fillna(-999,inplace = True)"
   ]
  },
  {
   "cell_type": "markdown",
   "metadata": {},
   "source": [
    "## Encoding Functions"
   ]
  },
  {
   "cell_type": "code",
   "execution_count": 35,
   "metadata": {
    "execution": {
     "iopub.execute_input": "2025-04-27T21:50:04.035177Z",
     "iopub.status.busy": "2025-04-27T21:50:04.034913Z",
     "iopub.status.idle": "2025-04-27T21:50:04.048236Z",
     "shell.execute_reply": "2025-04-27T21:50:04.047255Z",
     "shell.execute_reply.started": "2025-04-27T21:50:04.035156Z"
    },
    "trusted": true
   },
   "outputs": [],
   "source": [
    "# FREQUENCY ENCODE TOGETHER\n",
    "def encode_FE(df1, df2, cols):\n",
    "    for col in cols:\n",
    "        df = pd.concat([df1[col],df2[col]])\n",
    "        vc = df.value_counts(dropna=True, normalize=True).to_dict()\n",
    "        vc[-999] = -999 \n",
    "        nm = col+'_FE'\n",
    "        df1[nm] = df1[col].map(vc)\n",
    "        df1[nm] = df1[nm].astype('float32')\n",
    "        df2[nm] = df2[col].map(vc)\n",
    "        df2[nm] = df2[nm].astype('float32')\n",
    "        print(nm,', ',end='')\n",
    "        \n",
    "# LABEL ENCODE\n",
    "def encode_LE(col,train=train,test=X_test,verbose=True):\n",
    "    df_comb = pd.concat([train[col],test[col]],axis=0)\n",
    "    df_comb,_ = df_comb.factorize(sort=True)\n",
    "    nm = col\n",
    "    if df_comb.max()>32000: \n",
    "        train[nm] = df_comb[:len(train)].astype('int32')\n",
    "        test[nm] = df_comb[len(train):].astype('int32')\n",
    "    else:\n",
    "        train[nm] = df_comb[:len(train)].astype('int16')\n",
    "        test[nm] = df_comb[len(train):].astype('int16')\n",
    "    del df_comb; x=gc.collect()\n",
    "    if verbose: print(nm,', ',end='')\n",
    "        \n",
    "# GROUP AGGREGATION MEAN AND STD\n",
    "# https://www.kaggle.com/kyakovlev/ieee-fe-with-some-eda\n",
    "def encode_AG(main_columns, uids, aggregations=['mean'], train_df=train, test_df=X_test, \n",
    "              fillna=True, usena=False):\n",
    "    # AGGREGATION OF MAIN WITH UID FOR GIVEN STATISTICS\n",
    "    for main_column in main_columns:  \n",
    "        for col in uids:\n",
    "            for agg_type in aggregations:\n",
    "                new_col_name = main_column+'_'+col+'_'+agg_type\n",
    "                temp_df = pd.concat([train_df[[col, main_column]], test_df[[col,main_column]]])\n",
    "                if usena: temp_df.loc[temp_df[main_column]==-1,main_column] = np.nan\n",
    "                temp_df = temp_df.groupby([col])[main_column].agg([agg_type]).reset_index().rename(\n",
    "                                                        columns={agg_type: new_col_name})\n",
    "\n",
    "                temp_df.index = list(temp_df[col])\n",
    "                temp_df = temp_df[new_col_name].to_dict()   \n",
    "\n",
    "                train_df[new_col_name] = train_df[col].map(temp_df).astype('float32')\n",
    "                test_df[new_col_name]  = test_df[col].map(temp_df).astype('float32')\n",
    "                \n",
    "                if fillna:\n",
    "                    train_df[new_col_name].fillna(-999,inplace=True)\n",
    "                    test_df[new_col_name].fillna(-999,inplace=True)\n",
    "                \n",
    "                print(\"'\"+new_col_name+\"'\",', ',end='')\n",
    "                \n",
    "# COMBINE FEATURES\n",
    "def encode_CB(col1,col2,df1=train,df2=X_test):\n",
    "    nm = col1+'_'+col2\n",
    "    df1[nm] = df1[col1].astype(str)+'_'+df1[col2].astype(str)\n",
    "    df2[nm] = df2[col1].astype(str)+'_'+df2[col2].astype(str) \n",
    "    encode_LE(nm,verbose=False)\n",
    "    print(nm,', ',end='')\n",
    "    \n",
    "# GROUP AGGREGATION NUNIQUE\n",
    "def encode_AG2(main_columns, uids, train_df=train, test_df=X_test):\n",
    "    for main_column in main_columns:  \n",
    "        for col in uids:\n",
    "            comb = pd.concat([train_df[[col]+[main_column]],test_df[[col]+[main_column]]],axis=0)\n",
    "            mp = comb.groupby(col)[main_column].agg(['nunique'])['nunique'].to_dict()\n",
    "            train_df[col+'_'+main_column+'_ct'] = train_df[col].map(mp).astype('float32')\n",
    "            test_df[col+'_'+main_column+'_ct'] = test_df[col].map(mp).astype('float32')\n",
    "            print(col+'_'+main_column+'_ct, ',end='')"
   ]
  },
  {
   "cell_type": "code",
   "execution_count": 36,
   "metadata": {
    "execution": {
     "iopub.execute_input": "2025-04-27T21:50:04.049544Z",
     "iopub.status.busy": "2025-04-27T21:50:04.049180Z",
     "iopub.status.idle": "2025-04-27T21:50:10.000667Z",
     "shell.execute_reply": "2025-04-27T21:50:09.999896Z",
     "shell.execute_reply.started": "2025-04-27T21:50:04.049499Z"
    },
    "trusted": true
   },
   "outputs": [
    {
     "name": "stdout",
     "output_type": "stream",
     "text": [
      "cents, addr1_FE , card1_FE , card2_FE , card3_FE , P_emaildomain_FE , card1_addr1 , card1_addr1_P_emaildomain , card1_addr1_FE , card1_addr1_P_emaildomain_FE , 'TransactionAmt_card1_mean' , 'TransactionAmt_card1_std' , 'TransactionAmt_card1_addr1_mean' , 'TransactionAmt_card1_addr1_std' , 'TransactionAmt_card1_addr1_P_emaildomain_mean' , 'TransactionAmt_card1_addr1_P_emaildomain_std' , 'D9_card1_mean' , 'D9_card1_std' , 'D9_card1_addr1_mean' , 'D9_card1_addr1_std' , 'D9_card1_addr1_P_emaildomain_mean' , 'D9_card1_addr1_P_emaildomain_std' , 'D11_card1_mean' , 'D11_card1_std' , 'D11_card1_addr1_mean' , 'D11_card1_addr1_std' , 'D11_card1_addr1_P_emaildomain_mean' , 'D11_card1_addr1_P_emaildomain_std' , CPU times: user 5.72 s, sys: 231 ms, total: 5.95 s\n",
      "Wall time: 5.94 s\n"
     ]
    }
   ],
   "source": [
    "%%time\n",
    "# TRANSACTION AMT CENTS\n",
    "train['cents'] = (train['TransactionAmt'] - np.floor(train['TransactionAmt'])).astype('float32')\n",
    "X_test['cents'] = (X_test['TransactionAmt'] - np.floor(X_test['TransactionAmt'])).astype('float32')\n",
    "print('cents, ', end='')\n",
    "# FREQUENCY ENCODE: ADDR1, CARD1, CARD2, CARD3, P_EMAILDOMAIN\n",
    "encode_FE(train,X_test,['addr1','card1','card2','card3','P_emaildomain'])\n",
    "# COMBINE COLUMNS CARD1+ADDR1, CARD1+ADDR1+P_EMAILDOMAIN\n",
    "encode_CB('card1','addr1')\n",
    "encode_CB('card1_addr1','P_emaildomain')\n",
    "# FREQUENCY ENOCDE\n",
    "encode_FE(train,X_test,['card1_addr1','card1_addr1_P_emaildomain'])\n",
    "# GROUP AGGREGATE\n",
    "encode_AG(['TransactionAmt','D9','D11'],['card1','card1_addr1','card1_addr1_P_emaildomain'],['mean','std'],usena=True)"
   ]
  },
  {
   "cell_type": "markdown",
   "metadata": {},
   "source": [
    "## UID"
   ]
  },
  {
   "cell_type": "code",
   "execution_count": 37,
   "metadata": {
    "execution": {
     "iopub.execute_input": "2025-04-27T21:50:10.001827Z",
     "iopub.status.busy": "2025-04-27T21:50:10.001516Z",
     "iopub.status.idle": "2025-04-27T21:50:11.103635Z",
     "shell.execute_reply": "2025-04-27T21:50:11.102969Z",
     "shell.execute_reply.started": "2025-04-27T21:50:10.001797Z"
    },
    "trusted": true
   },
   "outputs": [],
   "source": [
    "train['day'] = train.TransactionDT / (24*60*60)\n",
    "train['uid'] = train.card1_addr1.astype(str)+'_'+np.floor(train.day-train.D1).astype(str)\n",
    "\n",
    "X_test['day'] = X_test.TransactionDT / (24*60*60)\n",
    "X_test['uid'] = X_test.card1_addr1.astype(str)+'_'+np.floor(X_test.day-X_test.D1).astype(str)"
   ]
  },
  {
   "cell_type": "markdown",
   "metadata": {},
   "source": [
    "## Group Aggregation Features"
   ]
  },
  {
   "cell_type": "code",
   "execution_count": 38,
   "metadata": {
    "execution": {
     "iopub.execute_input": "2025-04-27T21:50:11.104579Z",
     "iopub.status.busy": "2025-04-27T21:50:11.104323Z",
     "iopub.status.idle": "2025-04-27T21:51:57.415373Z",
     "shell.execute_reply": "2025-04-27T21:51:57.414582Z",
     "shell.execute_reply.started": "2025-04-27T21:50:11.104558Z"
    },
    "trusted": true
   },
   "outputs": [
    {
     "name": "stdout",
     "output_type": "stream",
     "text": [
      "uid_FE , 'TransactionAmt_uid_mean' , 'TransactionAmt_uid_std' , 'D4_uid_mean' , 'D4_uid_std' , 'D9_uid_mean' , 'D9_uid_std' , 'D10_uid_mean' , 'D10_uid_std' , 'D15_uid_mean' , 'D15_uid_std' , 'C1_uid_mean' , 'C2_uid_mean' , 'C4_uid_mean' , 'C5_uid_mean' , 'C6_uid_mean' , 'C7_uid_mean' , 'C8_uid_mean' , 'C9_uid_mean' , 'C10_uid_mean' , 'C11_uid_mean' , 'C12_uid_mean' , 'C13_uid_mean' , 'C14_uid_mean' , 'M1_uid_mean' , 'M2_uid_mean' , 'M3_uid_mean' , 'M4_uid_mean' , 'M5_uid_mean' , 'M6_uid_mean' , 'M7_uid_mean' , 'M8_uid_mean' , 'M9_uid_mean' , uid_P_emaildomain_ct, uid_dist1_ct, uid_DT_M_ct, uid_id_02_ct, uid_cents_ct, 'C14_uid_std' , uid_C13_ct, uid_V314_ct, uid_V127_ct, uid_V136_ct, uid_V309_ct, uid_V307_ct, uid_V320_ct, outsider15\n",
      "CPU times: user 1min 46s, sys: 236 ms, total: 1min 46s\n",
      "Wall time: 1min 46s\n"
     ]
    }
   ],
   "source": [
    "%%time\n",
    "# FREQUENCY ENCODE UID\n",
    "encode_FE(train,X_test,['uid'])\n",
    "# AGGREGATE \n",
    "encode_AG(['TransactionAmt','D4','D9','D10','D15'],['uid'],['mean','std'],fillna=True,usena=True)\n",
    "# AGGREGATE\n",
    "encode_AG(['C'+str(x) for x in range(1,15) if x!=3],['uid'],['mean'],train,X_test,fillna=True,usena=True)\n",
    "# AGGREGATE\n",
    "encode_AG(['M'+str(x) for x in range(1,10)],['uid'],['mean'],fillna=True,usena=True)\n",
    "# AGGREGATE\n",
    "encode_AG2(['P_emaildomain','dist1','DT_M','id_02','cents'], ['uid'], train_df=train, test_df=X_test)\n",
    "# AGGREGATE\n",
    "encode_AG(['C14'],['uid'],['std'],train,X_test,fillna=True,usena=True)\n",
    "# AGGREGATE \n",
    "encode_AG2(['C13','V314'], ['uid'], train_df=train, test_df=X_test)\n",
    "# AGGREATE \n",
    "encode_AG2(['V127','V136','V309','V307','V320'], ['uid'], train_df=train, test_df=X_test)\n",
    "# NEW FEATURE\n",
    "train['outsider15'] = (np.abs(train.D1-train.D15)>3).astype('int8')\n",
    "X_test['outsider15'] = (np.abs(X_test.D1-X_test.D15)>3).astype('int8')\n",
    "print('outsider15')"
   ]
  },
  {
   "cell_type": "markdown",
   "metadata": {},
   "source": [
    "## Creating new features"
   ]
  },
  {
   "cell_type": "code",
   "execution_count": 39,
   "metadata": {
    "execution": {
     "iopub.execute_input": "2025-04-27T21:51:57.416587Z",
     "iopub.status.busy": "2025-04-27T21:51:57.416300Z",
     "iopub.status.idle": "2025-04-27T21:51:57.432609Z",
     "shell.execute_reply": "2025-04-27T21:51:57.431782Z",
     "shell.execute_reply.started": "2025-04-27T21:51:57.416550Z"
    },
    "id": "DEcOAgCxAZ7S",
    "trusted": true
   },
   "outputs": [],
   "source": [
    "# Use card series and open_card fields are used as identifiers only UserID\n",
    "train['open_card'] = train.DT_D - train['D1']\n",
    "train['first_tran'] = train.DT_D - train['D2']\n",
    "X_test['open_card'] = X_test.DT_D - X_test['D1']\n",
    "X_test['first_tran'] = X_test.DT_D - X_test['D2']\n",
    "\n",
    "# train['uid1'] = train['card1'].astype(str) +' '+ train['card2'].astype(str)+' '+ train['card3'].astype(str)+' '+train['card4'].astype(str)+' '+ train['card5'].astype(str)+' '+ train['card6'].astype(str) +' '+ train['addr1'].astype(str)+' '+train['addr2'].astype(str)+' '+train['open_card'].astype(str)\n",
    "# X_test['uid1'] = X_test['card1'].astype(str) +' '+ X_test['card2'].astype(str)+' '+ X_test['card3'].astype(str)+' '+ X_test['card4'].astype(str)+' '+ X_test['card5'].astype(str)+' '+ X_test['card6'].astype(str) +' '+ X_test['addr1'].astype(str)+' '+X_test['addr2'].astype(str)+' '+X_test['open_card'] .astype(str)"
   ]
  },
  {
   "cell_type": "code",
   "execution_count": 40,
   "metadata": {
    "execution": {
     "iopub.execute_input": "2025-04-27T21:51:57.433918Z",
     "iopub.status.busy": "2025-04-27T21:51:57.433626Z",
     "iopub.status.idle": "2025-04-27T21:51:57.608111Z",
     "shell.execute_reply": "2025-04-27T21:51:57.607126Z",
     "shell.execute_reply.started": "2025-04-27T21:51:57.433894Z"
    },
    "id": "zM2Dwwj-BCBO",
    "outputId": "60f2c471-9b94-4f3e-85a6-e05a607cecd0",
    "trusted": true
   },
   "outputs": [
    {
     "name": "stdout",
     "output_type": "stream",
     "text": [
      "218030\n",
      "198035\n"
     ]
    }
   ],
   "source": [
    "print(train['uid'].nunique())\n",
    "print(X_test['uid'].nunique())"
   ]
  },
  {
   "cell_type": "code",
   "execution_count": 41,
   "metadata": {
    "execution": {
     "iopub.execute_input": "2025-04-27T21:51:57.609542Z",
     "iopub.status.busy": "2025-04-27T21:51:57.609154Z",
     "iopub.status.idle": "2025-04-27T21:51:57.614240Z",
     "shell.execute_reply": "2025-04-27T21:51:57.613282Z",
     "shell.execute_reply.started": "2025-04-27T21:51:57.609491Z"
    },
    "id": "bWXS1EpZBGNz",
    "trusted": true
   },
   "outputs": [],
   "source": [
    "# Identify a device using id_30, id_31, id_32, id_33, DeviceType, DeviceInfo\n",
    "def device_hash(x):\n",
    "    s =  str(x['id_30'])+str(x['id_31'])+str(x['id_32'])+str(x['id_33'])+str( x['DeviceType'])+ str(x['DeviceInfo'])\n",
    "    h = hashlib.sha256(s.encode('utf-8')).hexdigest()[0:15]\n",
    "    return h"
   ]
  },
  {
   "cell_type": "code",
   "execution_count": 42,
   "metadata": {
    "execution": {
     "iopub.execute_input": "2025-04-27T21:51:57.615694Z",
     "iopub.status.busy": "2025-04-27T21:51:57.615329Z",
     "iopub.status.idle": "2025-04-27T21:52:40.942851Z",
     "shell.execute_reply": "2025-04-27T21:52:40.941855Z",
     "shell.execute_reply.started": "2025-04-27T21:51:57.615671Z"
    },
    "id": "elX_TiKlBJKy",
    "trusted": true
   },
   "outputs": [],
   "source": [
    "for df in [train,X_test]:df['device_hash'] = df.apply(lambda x: device_hash(x), axis=1)"
   ]
  },
  {
   "cell_type": "code",
   "execution_count": 43,
   "metadata": {
    "execution": {
     "iopub.execute_input": "2025-04-27T21:52:40.944251Z",
     "iopub.status.busy": "2025-04-27T21:52:40.943890Z",
     "iopub.status.idle": "2025-04-27T21:52:42.010100Z",
     "shell.execute_reply": "2025-04-27T21:52:42.009413Z",
     "shell.execute_reply.started": "2025-04-27T21:52:40.944218Z"
    },
    "id": "UQfyWrLbBMBu",
    "trusted": true
   },
   "outputs": [],
   "source": [
    "# Number of devices with the same user\n",
    "concat_df = pd.concat([train[['uid','device_hash']],X_test[['uid','device_hash']]])\n",
    "tmp = concat_df.groupby('uid')['device_hash'].agg(['nunique'])"
   ]
  },
  {
   "cell_type": "code",
   "execution_count": 44,
   "metadata": {
    "execution": {
     "iopub.execute_input": "2025-04-27T21:52:42.010979Z",
     "iopub.status.busy": "2025-04-27T21:52:42.010770Z",
     "iopub.status.idle": "2025-04-27T21:52:43.538529Z",
     "shell.execute_reply": "2025-04-27T21:52:43.537814Z",
     "shell.execute_reply.started": "2025-04-27T21:52:42.010961Z"
    },
    "id": "43FKB1KuBQtp",
    "trusted": true
   },
   "outputs": [],
   "source": [
    "train['uid_device_nunique'] = train.uid.map(tmp.to_dict()['nunique'])\n",
    "X_test['uid_device_nunique'] = X_test.uid.map(tmp.to_dict()['nunique'])"
   ]
  },
  {
   "cell_type": "code",
   "execution_count": 45,
   "metadata": {
    "execution": {
     "iopub.execute_input": "2025-04-27T21:52:43.539572Z",
     "iopub.status.busy": "2025-04-27T21:52:43.539337Z",
     "iopub.status.idle": "2025-04-27T21:52:44.095070Z",
     "shell.execute_reply": "2025-04-27T21:52:44.094320Z",
     "shell.execute_reply.started": "2025-04-27T21:52:43.539555Z"
    },
    "id": "Otyz1JLgBSc_",
    "trusted": true
   },
   "outputs": [],
   "source": [
    "# Number of user with the same devices\n",
    "tmp = concat_df.groupby('device_hash')['uid'].agg(['nunique'])\n",
    "train['device_uid_nunique'] = train.device_hash.map(tmp.to_dict()['nunique'])\n",
    "X_test['device_uid_nunique'] = X_test.device_hash.map(tmp.to_dict()['nunique'])"
   ]
  },
  {
   "cell_type": "code",
   "execution_count": 46,
   "metadata": {
    "execution": {
     "iopub.execute_input": "2025-04-27T21:52:44.096165Z",
     "iopub.status.busy": "2025-04-27T21:52:44.095925Z",
     "iopub.status.idle": "2025-04-27T21:52:44.117151Z",
     "shell.execute_reply": "2025-04-27T21:52:44.116239Z",
     "shell.execute_reply.started": "2025-04-27T21:52:44.096134Z"
    },
    "id": "FF9zhl6dBUhc",
    "trusted": true
   },
   "outputs": [],
   "source": [
    "del concat_df"
   ]
  },
  {
   "cell_type": "code",
   "execution_count": 47,
   "metadata": {
    "execution": {
     "iopub.execute_input": "2025-04-27T21:52:44.118304Z",
     "iopub.status.busy": "2025-04-27T21:52:44.118034Z",
     "iopub.status.idle": "2025-04-27T21:53:00.848446Z",
     "shell.execute_reply": "2025-04-27T21:53:00.847530Z",
     "shell.execute_reply.started": "2025-04-27T21:52:44.118271Z"
    },
    "id": "GuXXcJroBWqV",
    "outputId": "da04fa52-2859-4205-b129-1e14faf19e59",
    "trusted": true
   },
   "outputs": [
    {
     "data": {
      "text/plain": [
       "0"
      ]
     },
     "execution_count": 47,
     "metadata": {},
     "output_type": "execute_result"
    }
   ],
   "source": [
    "# Get number of non-zero decimal digits\n",
    "def change(dec):\n",
    "    dec = np.round(dec,3)\n",
    "    num = 3\n",
    "    dec = int(np.round(np.round(dec,3)*1000))\n",
    "    while(dec % 10 ==0):\n",
    "        num = num-1\n",
    "        dec = dec /10\n",
    "    if num<0:\n",
    "        num = 0\n",
    "    return num\n",
    "  \n",
    "train['decimal_digit'] = train[\"TransactionAmt\"].map(change)\n",
    "X_test['decimal_digit'] = X_test['TransactionAmt'].map(change)\n",
    "\n",
    "gc.collect()"
   ]
  },
  {
   "cell_type": "code",
   "execution_count": 48,
   "metadata": {
    "execution": {
     "iopub.execute_input": "2025-04-27T21:53:00.849941Z",
     "iopub.status.busy": "2025-04-27T21:53:00.849650Z",
     "iopub.status.idle": "2025-04-27T21:53:00.858227Z",
     "shell.execute_reply": "2025-04-27T21:53:00.857419Z",
     "shell.execute_reply.started": "2025-04-27T21:53:00.849901Z"
    },
    "id": "xRpqynfxB3E3",
    "trusted": true
   },
   "outputs": [],
   "source": [
    "# Fill missing value with zero \n",
    "train['had_id'] = train['had_id'].fillna(0)\n",
    "X_test['had_id'] = X_test['had_id'].fillna(0)"
   ]
  },
  {
   "cell_type": "code",
   "execution_count": 49,
   "metadata": {
    "execution": {
     "iopub.execute_input": "2025-04-27T21:53:00.859575Z",
     "iopub.status.busy": "2025-04-27T21:53:00.859167Z",
     "iopub.status.idle": "2025-04-27T21:53:00.938660Z",
     "shell.execute_reply": "2025-04-27T21:53:00.937780Z",
     "shell.execute_reply.started": "2025-04-27T21:53:00.859536Z"
    },
    "id": "y5aBB_q9CDYG",
    "trusted": true
   },
   "outputs": [],
   "source": [
    "# Subdivide the time into days of the week and hours of the day.\n",
    "train['dow'] = train['TransactionDT_date'].dt.dayofweek\n",
    "train['hour'] = train['TransactionDT_date'].dt.hour\n",
    "X_test['dow'] = X_test['TransactionDT_date'].dt.dayofweek\n",
    "X_test['hour'] = X_test['TransactionDT_date'].dt.hour\n",
    "train['email_domain_comp'] = (train['P_emaildomain'].values == train['R_emaildomain'].values).astype(int)\n",
    "X_test['email_domain_comp'] = (X_test['P_emaildomain'].values == X_test['R_emaildomain'].values).astype(int)\n",
    "# train.drop(['D9'],axis=1,inplace=True)\n",
    "# X_test.drop(['D9'],axis=1,inplace=True)\n",
    "drop += ['D9']"
   ]
  },
  {
   "cell_type": "code",
   "execution_count": 50,
   "metadata": {
    "execution": {
     "iopub.execute_input": "2025-04-27T21:53:00.940003Z",
     "iopub.status.busy": "2025-04-27T21:53:00.939680Z",
     "iopub.status.idle": "2025-04-27T21:53:00.944291Z",
     "shell.execute_reply": "2025-04-27T21:53:00.943548Z",
     "shell.execute_reply.started": "2025-04-27T21:53:00.939972Z"
    },
    "trusted": true
   },
   "outputs": [],
   "source": [
    "# New Features\n",
    "def hourFeature(hour):\n",
    "    if hour>3 and hour < 11:\n",
    "        return 3\n",
    "    if hour ==11 or hour==18:\n",
    "        return 1\n",
    "    if hour==2 or hour==3 or hour==23:\n",
    "        return 2\n",
    "    else:\n",
    "        return 0"
   ]
  },
  {
   "cell_type": "code",
   "execution_count": 51,
   "metadata": {
    "execution": {
     "iopub.execute_input": "2025-04-27T21:53:00.945422Z",
     "iopub.status.busy": "2025-04-27T21:53:00.945125Z",
     "iopub.status.idle": "2025-04-27T21:53:01.451461Z",
     "shell.execute_reply": "2025-04-27T21:53:01.450488Z",
     "shell.execute_reply.started": "2025-04-27T21:53:00.945370Z"
    },
    "trusted": true
   },
   "outputs": [],
   "source": [
    "train['alertFeature'] = train['hour'].apply(hourFeature)\n",
    "X_test['alertFeature'] = X_test['hour'].apply(hourFeature)"
   ]
  },
  {
   "cell_type": "code",
   "execution_count": 52,
   "metadata": {
    "execution": {
     "iopub.execute_input": "2025-04-27T21:53:01.452602Z",
     "iopub.status.busy": "2025-04-27T21:53:01.452281Z",
     "iopub.status.idle": "2025-04-27T21:53:01.458106Z",
     "shell.execute_reply": "2025-04-27T21:53:01.457054Z",
     "shell.execute_reply.started": "2025-04-27T21:53:01.452579Z"
    },
    "id": "nKm__75yCOwb",
    "trusted": true
   },
   "outputs": [],
   "source": [
    "# Categorical Variables\n",
    "cat_columns = ['id_12', 'id_13', 'id_14', 'id_15', 'id_16', 'id_17', 'id_18', 'id_19', 'id_20', 'id_21', 'id_22', 'id_23', 'id_24', 'id_25', 'id_26', 'id_27', 'id_28', 'id_29',\n",
    "            'id_30', 'id_31', 'id_32', 'id_33', 'id_34', 'id_35', 'id_36', 'id_37', 'id_38', 'DeviceType', 'DeviceInfo', 'ProductCD', 'card4', 'card6', 'M4','P_emaildomain',\n",
    "            'R_emaildomain', 'card1', 'card2', 'card3',  'card5', 'addr1', 'addr2', 'M1', 'M2', 'M3', 'M5', 'M6', 'M7', 'M8', 'M9','hour','dow','device_name', 'device_version', 'OS_id_30',  'browser_id_31']\n",
    "# Count Numerical\n",
    "count_columns = ['id_13','id_14','id_17','id_18','id_19','id_20','id_21','id_22','id_24','id_25','id_26','id_30','id_31','id_33',\n",
    "                 'DeviceInfo','card6','P_emaildomain','R_emaildomain','card1','card2','card3','card5','addr1','addr2','hour','device_version',\n",
    "                 'OS_id_30','browser_id_31']"
   ]
  },
  {
   "cell_type": "code",
   "execution_count": 53,
   "metadata": {
    "execution": {
     "iopub.execute_input": "2025-04-27T21:53:01.459180Z",
     "iopub.status.busy": "2025-04-27T21:53:01.458921Z",
     "iopub.status.idle": "2025-04-27T21:53:01.473510Z",
     "shell.execute_reply": "2025-04-27T21:53:01.472608Z",
     "shell.execute_reply.started": "2025-04-27T21:53:01.459145Z"
    },
    "trusted": true
   },
   "outputs": [],
   "source": [
    "# # COLUMNS WITH STRINGS\n",
    "# str_type = ['ProductCD', 'card4', 'card6', 'P_emaildomain', 'R_emaildomain','M1', 'M2', 'M3', 'M4','M5',\n",
    "#             'M6', 'M7', 'M8', 'M9', 'id_12', 'id_15', 'id_16', 'id_23', 'id_27', 'id_28', 'id_29', 'id_30', \n",
    "#             'id_31', 'id_33', 'id_34', 'id_35', 'id_36', 'id_37', 'id_38', 'DeviceType', 'DeviceInfo']\n",
    "\n",
    "# # FIRST 53 COLUMNS\n",
    "# cols = ['TransactionID', 'TransactionDT', 'TransactionAmt',\n",
    "#        'ProductCD', 'card1', 'card2', 'card3', 'card4', 'card5', 'card6',\n",
    "#        'addr1', 'addr2', 'dist1', 'dist2', 'P_emaildomain', 'R_emaildomain',\n",
    "#        'C1', 'C2', 'C3', 'C4', 'C5', 'C6', 'C7', 'C8', 'C9', 'C10', 'C11',\n",
    "#        'C12', 'C13', 'C14', 'D1', 'D2', 'D3', 'D4', 'D5', 'D6', 'D7', 'D8',\n",
    "#        'D9', 'D10', 'D11', 'D12', 'D13', 'D14', 'D15', 'M1', 'M2', 'M3', 'M4',\n",
    "#        'M5', 'M6', 'M7', 'M8', 'M9']\n"
   ]
  },
  {
   "cell_type": "code",
   "execution_count": 54,
   "metadata": {
    "execution": {
     "iopub.execute_input": "2025-04-27T21:53:01.474759Z",
     "iopub.status.busy": "2025-04-27T21:53:01.474487Z",
     "iopub.status.idle": "2025-04-27T21:53:01.489434Z",
     "shell.execute_reply": "2025-04-27T21:53:01.488662Z",
     "shell.execute_reply.started": "2025-04-27T21:53:01.474737Z"
    },
    "trusted": true
   },
   "outputs": [
    {
     "name": "stdout",
     "output_type": "stream",
     "text": [
      "NOW USING THE FOLLOWING 174 FEATURES.\n"
     ]
    },
    {
     "data": {
      "text/plain": [
       "array(['TransactionID', 'TransactionDT', 'TransactionAmt', 'ProductCD',\n",
       "       'card1', 'card2', 'card3', 'card4', 'card5', 'card6', 'addr1',\n",
       "       'addr2', 'dist1', 'dist2', 'P_emaildomain', 'R_emaildomain', 'C1',\n",
       "       'C2', 'C3', 'C4', 'C5', 'C6', 'C7', 'C8', 'C9', 'C10', 'C11',\n",
       "       'C12', 'C13', 'C14', 'D1', 'D2', 'D3', 'D4', 'D5', 'D6', 'D7',\n",
       "       'D8', 'D9', 'D10', 'D11', 'D12', 'D13', 'D14', 'D15', 'M1', 'M2',\n",
       "       'M3', 'M4', 'M5', 'M6', 'M7', 'M8', 'M9', 'V1', 'V3', 'V4', 'V6',\n",
       "       'V8', 'V11', 'V13', 'V14', 'V17', 'V20', 'V23', 'V26', 'V27',\n",
       "       'V30', 'V36', 'V37', 'V40', 'V41', 'V44', 'V47', 'V48', 'V54',\n",
       "       'V56', 'V59', 'V62', 'V65', 'V67', 'V68', 'V70', 'V76', 'V78',\n",
       "       'V80', 'V82', 'V86', 'V88', 'V89', 'V91', 'V107', 'V108', 'V111',\n",
       "       'V115', 'V117', 'V120', 'V121', 'V123', 'V124', 'V127', 'V129',\n",
       "       'V130', 'V136', 'V138', 'V139', 'V142', 'V147', 'V156', 'V162',\n",
       "       'V165', 'V160', 'V166', 'V178', 'V176', 'V173', 'V182', 'V187',\n",
       "       'V203', 'V205', 'V207', 'V215', 'V169', 'V171', 'V175', 'V180',\n",
       "       'V185', 'V188', 'V198', 'V210', 'V209', 'V218', 'V223', 'V224',\n",
       "       'V226', 'V228', 'V229', 'V235', 'V240', 'V258', 'V257', 'V253',\n",
       "       'V252', 'V260', 'V261', 'V264', 'V266', 'V267', 'V274', 'V277',\n",
       "       'V220', 'V221', 'V234', 'V238', 'V250', 'V271', 'V294', 'V284',\n",
       "       'V285', 'V286', 'V291', 'V297', 'V303', 'V305', 'V307', 'V309',\n",
       "       'V310', 'V320', 'V281', 'V283', 'V289', 'V296', 'V301', 'V314'],\n",
       "      dtype='<U14')"
      ]
     },
     "execution_count": 54,
     "metadata": {},
     "output_type": "execute_result"
    }
   ],
   "source": [
    "print('NOW USING THE FOLLOWING',len(cols),'FEATURES.')\n",
    "np.array(cols)"
   ]
  },
  {
   "cell_type": "code",
   "execution_count": 55,
   "metadata": {
    "execution": {
     "iopub.execute_input": "2025-04-27T21:53:01.490767Z",
     "iopub.status.busy": "2025-04-27T21:53:01.490421Z",
     "iopub.status.idle": "2025-04-27T21:53:01.500194Z",
     "shell.execute_reply": "2025-04-27T21:53:01.499419Z",
     "shell.execute_reply.started": "2025-04-27T21:53:01.490730Z"
    },
    "id": "HLznWG6ECvp7",
    "trusted": true
   },
   "outputs": [],
   "source": [
    "# for f in cat_columns:\n",
    "#   if f not in str_type:\n",
    "#       lbl = preprocessing.LabelEncoder()\n",
    "#       lbl.fit(list(train[f].astype(str)) + list(X_test[f].astype(str)))\n",
    "#       train[f] = lbl.transform(list(train[f].astype(str)))\n",
    "#       X_test[f] = lbl.transform(list(X_test[f].astype(str))) "
   ]
  },
  {
   "cell_type": "code",
   "execution_count": 56,
   "metadata": {
    "execution": {
     "iopub.execute_input": "2025-04-27T21:53:01.501312Z",
     "iopub.status.busy": "2025-04-27T21:53:01.501022Z",
     "iopub.status.idle": "2025-04-27T21:53:02.668781Z",
     "shell.execute_reply": "2025-04-27T21:53:02.668033Z",
     "shell.execute_reply.started": "2025-04-27T21:53:01.501284Z"
    },
    "id": "FWZaCPHwEhTV",
    "trusted": true
   },
   "outputs": [],
   "source": [
    "# Count encoding\n",
    "for i in count_columns:\n",
    "  train[i+'_count_full'] = train[i].map(pd.concat([train[i], X_test[i]], ignore_index=True).value_counts(dropna=False))\n",
    "  X_test[i+'_count_full'] = X_test[i].map(pd.concat([train[i], X_test[i]], ignore_index=True).value_counts(dropna=False))"
   ]
  },
  {
   "cell_type": "code",
   "execution_count": 57,
   "metadata": {
    "execution": {
     "iopub.execute_input": "2025-04-27T21:53:02.670184Z",
     "iopub.status.busy": "2025-04-27T21:53:02.669828Z",
     "iopub.status.idle": "2025-04-27T21:53:02.674255Z",
     "shell.execute_reply": "2025-04-27T21:53:02.673488Z",
     "shell.execute_reply.started": "2025-04-27T21:53:02.670150Z"
    },
    "trusted": true
   },
   "outputs": [],
   "source": [
    "train_len = len(train)"
   ]
  },
  {
   "cell_type": "code",
   "execution_count": 58,
   "metadata": {
    "execution": {
     "iopub.execute_input": "2025-04-27T21:53:02.675666Z",
     "iopub.status.busy": "2025-04-27T21:53:02.675328Z",
     "iopub.status.idle": "2025-04-27T21:53:08.429011Z",
     "shell.execute_reply": "2025-04-27T21:53:08.428003Z",
     "shell.execute_reply.started": "2025-04-27T21:53:02.675617Z"
    },
    "id": "gkwlq18lEojp",
    "trusted": true
   },
   "outputs": [],
   "source": [
    "# Calculate the number of transactions in hours and days\n",
    "train_test_all = pd.concat([train[['TransactionDT_date','TransactionAmt']],X_test[['TransactionDT_date','TransactionAmt']]],ignore_index=True,sort=False)\n",
    "train_test_all['day_count'] = train_test_all.groupby(train_test_all.TransactionDT_date.dt.date)['TransactionAmt'].transform('count')\n",
    "train_test_all['hour_count'] = train_test_all.groupby(train_test_all.TransactionDT_date.map(lambda x:str(x)[:13]))['TransactionAmt'].transform('count')\n",
    "train['day_count'] = train_test_all[:train_len].day_count.tolist()\n",
    "X_test['day_count'] = train_test_all[train_len:].day_count.tolist()\n",
    "train['hour_count'] = train_test_all[:train_len].hour_count.tolist()\n",
    "X_test['hour_count'] = train_test_all[train_len:].hour_count.tolist()"
   ]
  },
  {
   "cell_type": "code",
   "execution_count": 59,
   "metadata": {
    "execution": {
     "iopub.execute_input": "2025-04-27T21:53:08.430426Z",
     "iopub.status.busy": "2025-04-27T21:53:08.430070Z",
     "iopub.status.idle": "2025-04-27T21:53:11.618134Z",
     "shell.execute_reply": "2025-04-27T21:53:11.617457Z",
     "shell.execute_reply.started": "2025-04-27T21:53:08.430393Z"
    },
    "id": "QlPtNSJ5E9l1",
    "trusted": true
   },
   "outputs": [],
   "source": [
    "# Identify commodity ID by price category\n",
    "temp123 = ['TransactionAmt__ProductCD']\n",
    "for feature in temp123:\n",
    "  f1, f2 = feature.split('__')\n",
    "  train[feature] = train[f1].astype(str) + '_' + train[f2].astype(str)\n",
    "  X_test[feature] = X_test[f1].astype(str) + '_' + X_test[f2].astype(str)\n",
    "  le = LabelEncoder()\n",
    "  le.fit(list(train[feature].astype(str).values) + list(X_test[feature].astype(str).values))\n",
    "  train[feature] = le.transform(list(train[feature].astype(str).values))\n",
    "  X_test[feature] = le.transform(list(X_test[feature].astype(str).values))\n",
    "train.rename(columns = {'TransactionAmt__ProductCD':'ProductID'},inplace=True)\n",
    "X_test.rename(columns = {'TransactionAmt__ProductCD':'ProductID'},inplace=True)\n",
    "for i in ['ProductID']:\n",
    "  train[i+'_count_full'] = train[i].map(pd.concat([train[i], X_test[i]], ignore_index=True).value_counts(dropna=False))\n",
    "  X_test[i+'_count_full'] = X_test[i].map(pd.concat([train[i], X_test[i]], ignore_index=True).value_counts(dropna=False))"
   ]
  },
  {
   "cell_type": "code",
   "execution_count": 60,
   "metadata": {
    "execution": {
     "iopub.execute_input": "2025-04-27T21:53:11.619132Z",
     "iopub.status.busy": "2025-04-27T21:53:11.618875Z",
     "iopub.status.idle": "2025-04-27T21:54:04.479985Z",
     "shell.execute_reply": "2025-04-27T21:54:04.479288Z",
     "shell.execute_reply.started": "2025-04-27T21:53:11.619109Z"
    },
    "id": "lMCbZE6lFIjm",
    "trusted": true
   },
   "outputs": [],
   "source": [
    "# Similarly, continue to do some crossover categories\n",
    "temp = ['DeviceInfo__P_emaildomain', \n",
    "        'card1__card5', \n",
    "        'card2__id_20',\n",
    "        'card5__P_emaildomain', \n",
    "        'addr1__card1',\n",
    "        'addr1__addr2',\n",
    "        'card1__card2',\n",
    "        'card2__addr1',\n",
    "        'card1__P_emaildomain',\n",
    "        'card2__P_emaildomain',\n",
    "        'addr1__P_emaildomain',\n",
    "        'DeviceInfo__id_31',\n",
    "        'DeviceInfo__id_20',\n",
    "        'DeviceType__id_31',\n",
    "        'DeviceType__id_20',\n",
    "        'DeviceType__P_emaildomain',\n",
    "        'card1__M4',\n",
    "        'card2__M4',\n",
    "        'addr1__M4',\n",
    "        'P_emaildomain__M4',\n",
    "       'uid__ProductID',\n",
    "       'uid__DeviceInfo']\n",
    "for feature in temp:\n",
    "  f1, f2 = feature.split('__')\n",
    "  train[feature] = train[f1].astype(str) + '_' + train[f2].astype(str)\n",
    "  X_test[feature] = X_test[f1].astype(str) + '_' + X_test[f2].astype(str)\n",
    "  le = LabelEncoder()\n",
    "  le.fit(list(train[feature].astype(str).values) + list(X_test[feature].astype(str).values))\n",
    "  train[feature] = le.transform(list(train[feature].astype(str).values))\n",
    "  X_test[feature] = le.transform(list(X_test[feature].astype(str).values))\n",
    "\n",
    "for i in temp:\n",
    "  train[i+'_count_full'] = train[i].map(pd.concat([train[i], X_test[i]], ignore_index=True).value_counts(dropna=False))\n",
    "  X_test[i+'_count_full'] = X_test[i].map(pd.concat([train[i], X_test[i]], ignore_index=True).value_counts(dropna=False))"
   ]
  },
  {
   "cell_type": "code",
   "execution_count": 61,
   "metadata": {
    "execution": {
     "iopub.execute_input": "2025-04-27T21:54:04.481052Z",
     "iopub.status.busy": "2025-04-27T21:54:04.480813Z",
     "iopub.status.idle": "2025-04-27T21:56:40.494596Z",
     "shell.execute_reply": "2025-04-27T21:56:40.493875Z",
     "shell.execute_reply.started": "2025-04-27T21:54:04.481031Z"
    },
    "id": "cUQcJsDWFXM9",
    "trusted": true
   },
   "outputs": [],
   "source": [
    "# Cross some categories and continuous variables\n",
    "con_fea = ['V258','C1','C14','C13','TransactionAmt','D15','D2','id_02','dist1','V294','C11']\n",
    "cat_fea = ['card1','card2','addr1','card4','R_emaildomain','P_emaildomain','ProductID','uid']\n",
    "train_test = pd.concat([train[con_fea+cat_fea],X_test[con_fea+cat_fea]],ignore_index=True,sort=False)\n",
    "\n",
    "for cont in con_fea:\n",
    "  for cat in cat_fea:\n",
    "    train[cont+'_'+cat+'_mean'] = train_test[cont].map(lambda x:np.nan if x==-999 else x).groupby(train_test[cat]).transform('mean')[:train_len].tolist()\n",
    "    train[cont+'_'+cat+'_std'] = train_test[cont].map(lambda x:np.nan if x==-999 else x).groupby(train_test[cat]).transform('std')[:train_len].tolist()\n",
    "    X_test[cont+'_'+cat+'_mean'] = train_test[cont].map(lambda x:np.nan if x==-999 else x).groupby(train_test[cat]).transform('mean')[train_len:].tolist()\n",
    "    X_test[cont+'_'+cat+'_std'] =  train_test[cont].map(lambda x:np.nan if x==-999 else x).groupby(train_test[cat]).transform('std')[train_len:].tolist()"
   ]
  },
  {
   "cell_type": "markdown",
   "metadata": {},
   "source": [
    "## Feature Selection"
   ]
  },
  {
   "cell_type": "code",
   "execution_count": 62,
   "metadata": {
    "execution": {
     "iopub.execute_input": "2025-04-27T21:56:40.495789Z",
     "iopub.status.busy": "2025-04-27T21:56:40.495521Z",
     "iopub.status.idle": "2025-04-27T21:56:40.501370Z",
     "shell.execute_reply": "2025-04-27T21:56:40.500421Z",
     "shell.execute_reply.started": "2025-04-27T21:56:40.495766Z"
    },
    "trusted": true
   },
   "outputs": [],
   "source": [
    "cols = list( train.columns )\n",
    "cols.remove('TransactionDT')\n",
    "for c in ['D6','D7','D8','D9','D12','D13','D14']:\n",
    "    cols.remove(c)\n",
    "    \n",
    "# FAILED TIME CONSISTENCY TEST\n",
    "for c in ['C3','M5','id_08','id_33']:\n",
    "    cols.remove(c)\n",
    "for c in ['card4','id_07','id_14','id_21','id_30','id_32','id_34']:\n",
    "    cols.remove(c)\n",
    "for c in ['id_'+str(x) for x in range(22,28)]:\n",
    "    cols.remove(c)"
   ]
  },
  {
   "cell_type": "code",
   "execution_count": 63,
   "metadata": {
    "execution": {
     "iopub.execute_input": "2025-04-27T21:56:40.502745Z",
     "iopub.status.busy": "2025-04-27T21:56:40.502358Z",
     "iopub.status.idle": "2025-04-27T21:56:40.519288Z",
     "shell.execute_reply": "2025-04-27T21:56:40.518483Z",
     "shell.execute_reply.started": "2025-04-27T21:56:40.502711Z"
    },
    "trusted": true
   },
   "outputs": [
    {
     "name": "stdout",
     "output_type": "stream",
     "text": [
      "NOW USING THE FOLLOWING 548 FEATURES.\n"
     ]
    },
    {
     "data": {
      "text/plain": [
       "array(['TransactionID', 'TransactionAmt', 'ProductCD', 'card1', 'card2',\n",
       "       'card3', 'card5', 'card6', 'addr1', 'addr2', 'dist1', 'dist2',\n",
       "       'P_emaildomain', 'R_emaildomain', 'C1', 'C2', 'C4', 'C5', 'C6',\n",
       "       'C7', 'C8', 'C9', 'C10', 'C11', 'C12', 'C13', 'C14', 'D1', 'D2',\n",
       "       'D3', 'D4', 'D5', 'D10', 'D11', 'D15', 'M1', 'M2', 'M3', 'M4',\n",
       "       'M6', 'M7', 'M8', 'M9', 'V1', 'V3', 'V4', 'V6', 'V8', 'V11', 'V13',\n",
       "       'V14', 'V17', 'V20', 'V23', 'V26', 'V27', 'V30', 'V36', 'V37',\n",
       "       'V40', 'V41', 'V44', 'V47', 'V48', 'V54', 'V56', 'V59', 'V62',\n",
       "       'V65', 'V67', 'V68', 'V70', 'V76', 'V78', 'V80', 'V82', 'V86',\n",
       "       'V88', 'V89', 'V91', 'V107', 'V108', 'V111', 'V115', 'V117',\n",
       "       'V120', 'V121', 'V123', 'V124', 'V127', 'V129', 'V130', 'V136',\n",
       "       'V138', 'V139', 'V142', 'V147', 'V156', 'V160', 'V162', 'V165',\n",
       "       'V166', 'V169', 'V171', 'V173', 'V175', 'V176', 'V178', 'V180',\n",
       "       'V182', 'V185', 'V187', 'V188', 'V198', 'V203', 'V205', 'V207',\n",
       "       'V209', 'V210', 'V215', 'V218', 'V220', 'V221', 'V223', 'V224',\n",
       "       'V226', 'V228', 'V229', 'V234', 'V235', 'V238', 'V240', 'V250',\n",
       "       'V252', 'V253', 'V257', 'V258', 'V260', 'V261', 'V264', 'V266',\n",
       "       'V267', 'V271', 'V274', 'V277', 'V281', 'V283', 'V284', 'V285',\n",
       "       'V286', 'V289', 'V291', 'V294', 'V296', 'V297', 'V301', 'V303',\n",
       "       'V305', 'V307', 'V309', 'V310', 'V314', 'V320', 'id_01', 'id_02',\n",
       "       'id_03', 'id_04', 'id_05', 'id_06', 'id_09', 'id_10', 'id_11',\n",
       "       'id_12', 'id_13', 'id_15', 'id_16', 'id_17', 'id_18', 'id_19',\n",
       "       'id_20', 'id_28', 'id_29', 'id_31', 'id_35', 'id_36', 'id_37',\n",
       "       'id_38', 'DeviceType', 'DeviceInfo', 'device_name',\n",
       "       'device_version', 'OS_id_30', 'browser_id_31', 'had_id',\n",
       "       'C1_is_outlier', 'C10_is_outlier', 'C13_is_outlier',\n",
       "       'C14_is_outlier', 'C2_is_outlier', 'C4_is_outlier',\n",
       "       'C8_is_outlier', 'V187_is_outlier', 'V188_is_outlier',\n",
       "       'V210_is_outlier', 'V257_is_outlier', 'V258_is_outlier',\n",
       "       'V271_is_outlier', 'V274_is_outlier', 'V294_is_outlier',\n",
       "       'V309_is_outlier', 'TransactionDT_date', 'DT_D', 'DT_W', 'DT_M',\n",
       "       'isFraud', 'ProductCD_W_Day', 'ProductCD_C_Day', 'ProductCD_R_Day',\n",
       "       'ProductCD_H_Day', 'ProductCD_S_Day', 'cents', 'addr1_FE',\n",
       "       'card1_FE', 'card2_FE', 'card3_FE', 'P_emaildomain_FE',\n",
       "       'card1_addr1', 'card1_addr1_P_emaildomain', 'card1_addr1_FE',\n",
       "       'card1_addr1_P_emaildomain_FE', 'TransactionAmt_card1_mean',\n",
       "       'TransactionAmt_card1_std', 'TransactionAmt_card1_addr1_mean',\n",
       "       'TransactionAmt_card1_addr1_std',\n",
       "       'TransactionAmt_card1_addr1_P_emaildomain_mean',\n",
       "       'TransactionAmt_card1_addr1_P_emaildomain_std', 'D9_card1_mean',\n",
       "       'D9_card1_std', 'D9_card1_addr1_mean', 'D9_card1_addr1_std',\n",
       "       'D9_card1_addr1_P_emaildomain_mean',\n",
       "       'D9_card1_addr1_P_emaildomain_std', 'D11_card1_mean',\n",
       "       'D11_card1_std', 'D11_card1_addr1_mean', 'D11_card1_addr1_std',\n",
       "       'D11_card1_addr1_P_emaildomain_mean',\n",
       "       'D11_card1_addr1_P_emaildomain_std', 'day', 'uid', 'uid_FE',\n",
       "       'TransactionAmt_uid_mean', 'TransactionAmt_uid_std', 'D4_uid_mean',\n",
       "       'D4_uid_std', 'D9_uid_mean', 'D9_uid_std', 'D10_uid_mean',\n",
       "       'D10_uid_std', 'D15_uid_mean', 'D15_uid_std', 'C1_uid_mean',\n",
       "       'C2_uid_mean', 'C4_uid_mean', 'C5_uid_mean', 'C6_uid_mean',\n",
       "       'C7_uid_mean', 'C8_uid_mean', 'C9_uid_mean', 'C10_uid_mean',\n",
       "       'C11_uid_mean', 'C12_uid_mean', 'C13_uid_mean', 'C14_uid_mean',\n",
       "       'M1_uid_mean', 'M2_uid_mean', 'M3_uid_mean', 'M4_uid_mean',\n",
       "       'M5_uid_mean', 'M6_uid_mean', 'M7_uid_mean', 'M8_uid_mean',\n",
       "       'M9_uid_mean', 'uid_P_emaildomain_ct', 'uid_dist1_ct',\n",
       "       'uid_DT_M_ct', 'uid_id_02_ct', 'uid_cents_ct', 'C14_uid_std',\n",
       "       'uid_C13_ct', 'uid_V314_ct', 'uid_V127_ct', 'uid_V136_ct',\n",
       "       'uid_V309_ct', 'uid_V307_ct', 'uid_V320_ct', 'outsider15',\n",
       "       'open_card', 'first_tran', 'device_hash', 'uid_device_nunique',\n",
       "       'device_uid_nunique', 'decimal_digit', 'dow', 'hour',\n",
       "       'email_domain_comp', 'alertFeature', 'id_13_count_full',\n",
       "       'id_14_count_full', 'id_17_count_full', 'id_18_count_full',\n",
       "       'id_19_count_full', 'id_20_count_full', 'id_21_count_full',\n",
       "       'id_22_count_full', 'id_24_count_full', 'id_25_count_full',\n",
       "       'id_26_count_full', 'id_30_count_full', 'id_31_count_full',\n",
       "       'id_33_count_full', 'DeviceInfo_count_full', 'card6_count_full',\n",
       "       'P_emaildomain_count_full', 'R_emaildomain_count_full',\n",
       "       'card1_count_full', 'card2_count_full', 'card3_count_full',\n",
       "       'card5_count_full', 'addr1_count_full', 'addr2_count_full',\n",
       "       'hour_count_full', 'device_version_count_full',\n",
       "       'OS_id_30_count_full', 'browser_id_31_count_full', 'day_count',\n",
       "       'hour_count', 'ProductID', 'ProductID_count_full',\n",
       "       'DeviceInfo__P_emaildomain', 'card1__card5', 'card2__id_20',\n",
       "       'card5__P_emaildomain', 'addr1__card1', 'addr1__addr2',\n",
       "       'card1__card2', 'card2__addr1', 'card1__P_emaildomain',\n",
       "       'card2__P_emaildomain', 'addr1__P_emaildomain',\n",
       "       'DeviceInfo__id_31', 'DeviceInfo__id_20', 'DeviceType__id_31',\n",
       "       'DeviceType__id_20', 'DeviceType__P_emaildomain', 'card1__M4',\n",
       "       'card2__M4', 'addr1__M4', 'P_emaildomain__M4', 'uid__ProductID',\n",
       "       'uid__DeviceInfo', 'DeviceInfo__P_emaildomain_count_full',\n",
       "       'card1__card5_count_full', 'card2__id_20_count_full',\n",
       "       'card5__P_emaildomain_count_full', 'addr1__card1_count_full',\n",
       "       'addr1__addr2_count_full', 'card1__card2_count_full',\n",
       "       'card2__addr1_count_full', 'card1__P_emaildomain_count_full',\n",
       "       'card2__P_emaildomain_count_full',\n",
       "       'addr1__P_emaildomain_count_full', 'DeviceInfo__id_31_count_full',\n",
       "       'DeviceInfo__id_20_count_full', 'DeviceType__id_31_count_full',\n",
       "       'DeviceType__id_20_count_full',\n",
       "       'DeviceType__P_emaildomain_count_full', 'card1__M4_count_full',\n",
       "       'card2__M4_count_full', 'addr1__M4_count_full',\n",
       "       'P_emaildomain__M4_count_full', 'uid__ProductID_count_full',\n",
       "       'uid__DeviceInfo_count_full', 'V258_card1_mean', 'V258_card1_std',\n",
       "       'V258_card2_mean', 'V258_card2_std', 'V258_addr1_mean',\n",
       "       'V258_addr1_std', 'V258_card4_mean', 'V258_card4_std',\n",
       "       'V258_R_emaildomain_mean', 'V258_R_emaildomain_std',\n",
       "       'V258_P_emaildomain_mean', 'V258_P_emaildomain_std',\n",
       "       'V258_ProductID_mean', 'V258_ProductID_std', 'V258_uid_mean',\n",
       "       'V258_uid_std', 'C1_card1_mean', 'C1_card1_std', 'C1_card2_mean',\n",
       "       'C1_card2_std', 'C1_addr1_mean', 'C1_addr1_std', 'C1_card4_mean',\n",
       "       'C1_card4_std', 'C1_R_emaildomain_mean', 'C1_R_emaildomain_std',\n",
       "       'C1_P_emaildomain_mean', 'C1_P_emaildomain_std',\n",
       "       'C1_ProductID_mean', 'C1_ProductID_std', 'C1_uid_std',\n",
       "       'C14_card1_mean', 'C14_card1_std', 'C14_card2_mean',\n",
       "       'C14_card2_std', 'C14_addr1_mean', 'C14_addr1_std',\n",
       "       'C14_card4_mean', 'C14_card4_std', 'C14_R_emaildomain_mean',\n",
       "       'C14_R_emaildomain_std', 'C14_P_emaildomain_mean',\n",
       "       'C14_P_emaildomain_std', 'C14_ProductID_mean', 'C14_ProductID_std',\n",
       "       'C13_card1_mean', 'C13_card1_std', 'C13_card2_mean',\n",
       "       'C13_card2_std', 'C13_addr1_mean', 'C13_addr1_std',\n",
       "       'C13_card4_mean', 'C13_card4_std', 'C13_R_emaildomain_mean',\n",
       "       'C13_R_emaildomain_std', 'C13_P_emaildomain_mean',\n",
       "       'C13_P_emaildomain_std', 'C13_ProductID_mean', 'C13_ProductID_std',\n",
       "       'C13_uid_std', 'TransactionAmt_card2_mean',\n",
       "       'TransactionAmt_card2_std', 'TransactionAmt_addr1_mean',\n",
       "       'TransactionAmt_addr1_std', 'TransactionAmt_card4_mean',\n",
       "       'TransactionAmt_card4_std', 'TransactionAmt_R_emaildomain_mean',\n",
       "       'TransactionAmt_R_emaildomain_std',\n",
       "       'TransactionAmt_P_emaildomain_mean',\n",
       "       'TransactionAmt_P_emaildomain_std',\n",
       "       'TransactionAmt_ProductID_mean', 'TransactionAmt_ProductID_std',\n",
       "       'D15_card1_mean', 'D15_card1_std', 'D15_card2_mean',\n",
       "       'D15_card2_std', 'D15_addr1_mean', 'D15_addr1_std',\n",
       "       'D15_card4_mean', 'D15_card4_std', 'D15_R_emaildomain_mean',\n",
       "       'D15_R_emaildomain_std', 'D15_P_emaildomain_mean',\n",
       "       'D15_P_emaildomain_std', 'D15_ProductID_mean', 'D15_ProductID_std',\n",
       "       'D2_card1_mean', 'D2_card1_std', 'D2_card2_mean', 'D2_card2_std',\n",
       "       'D2_addr1_mean', 'D2_addr1_std', 'D2_card4_mean', 'D2_card4_std',\n",
       "       'D2_R_emaildomain_mean', 'D2_R_emaildomain_std',\n",
       "       'D2_P_emaildomain_mean', 'D2_P_emaildomain_std',\n",
       "       'D2_ProductID_mean', 'D2_ProductID_std', 'D2_uid_mean',\n",
       "       'D2_uid_std', 'id_02_card1_mean', 'id_02_card1_std',\n",
       "       'id_02_card2_mean', 'id_02_card2_std', 'id_02_addr1_mean',\n",
       "       'id_02_addr1_std', 'id_02_card4_mean', 'id_02_card4_std',\n",
       "       'id_02_R_emaildomain_mean', 'id_02_R_emaildomain_std',\n",
       "       'id_02_P_emaildomain_mean', 'id_02_P_emaildomain_std',\n",
       "       'id_02_ProductID_mean', 'id_02_ProductID_std', 'id_02_uid_mean',\n",
       "       'id_02_uid_std', 'dist1_card1_mean', 'dist1_card1_std',\n",
       "       'dist1_card2_mean', 'dist1_card2_std', 'dist1_addr1_mean',\n",
       "       'dist1_addr1_std', 'dist1_card4_mean', 'dist1_card4_std',\n",
       "       'dist1_R_emaildomain_mean', 'dist1_R_emaildomain_std',\n",
       "       'dist1_P_emaildomain_mean', 'dist1_P_emaildomain_std',\n",
       "       'dist1_ProductID_mean', 'dist1_ProductID_std', 'dist1_uid_mean',\n",
       "       'dist1_uid_std', 'V294_card1_mean', 'V294_card1_std',\n",
       "       'V294_card2_mean', 'V294_card2_std', 'V294_addr1_mean',\n",
       "       'V294_addr1_std', 'V294_card4_mean', 'V294_card4_std',\n",
       "       'V294_R_emaildomain_mean', 'V294_R_emaildomain_std',\n",
       "       'V294_P_emaildomain_mean', 'V294_P_emaildomain_std',\n",
       "       'V294_ProductID_mean', 'V294_ProductID_std', 'V294_uid_mean',\n",
       "       'V294_uid_std', 'C11_card1_mean', 'C11_card1_std',\n",
       "       'C11_card2_mean', 'C11_card2_std', 'C11_addr1_mean',\n",
       "       'C11_addr1_std', 'C11_card4_mean', 'C11_card4_std',\n",
       "       'C11_R_emaildomain_mean', 'C11_R_emaildomain_std',\n",
       "       'C11_P_emaildomain_mean', 'C11_P_emaildomain_std',\n",
       "       'C11_ProductID_mean', 'C11_ProductID_std', 'C11_uid_std'],\n",
       "      dtype='<U45')"
      ]
     },
     "execution_count": 63,
     "metadata": {},
     "output_type": "execute_result"
    }
   ],
   "source": [
    "print('NOW USING THE FOLLOWING',len(cols),'FEATURES.')\n",
    "np.array(cols)"
   ]
  },
  {
   "cell_type": "code",
   "execution_count": 64,
   "metadata": {
    "execution": {
     "iopub.execute_input": "2025-04-27T21:56:40.520414Z",
     "iopub.status.busy": "2025-04-27T21:56:40.520079Z",
     "iopub.status.idle": "2025-04-27T21:56:40.658286Z",
     "shell.execute_reply": "2025-04-27T21:56:40.657419Z",
     "shell.execute_reply.started": "2025-04-27T21:56:40.520352Z"
    },
    "id": "WkYkEsxMFqSN",
    "outputId": "947f93b5-f5d3-4a27-de75-13dba1a9040b",
    "trusted": true
   },
   "outputs": [
    {
     "data": {
      "text/plain": [
       "67"
      ]
     },
     "execution_count": 64,
     "metadata": {},
     "output_type": "execute_result"
    }
   ],
   "source": [
    "del df\n",
    "del train_test\n",
    "del train_test_all\n",
    "gc.collect()"
   ]
  },
  {
   "cell_type": "code",
   "execution_count": 65,
   "metadata": {
    "execution": {
     "iopub.execute_input": "2025-04-27T21:56:40.659457Z",
     "iopub.status.busy": "2025-04-27T21:56:40.659202Z",
     "iopub.status.idle": "2025-04-27T21:56:40.669343Z",
     "shell.execute_reply": "2025-04-27T21:56:40.668647Z",
     "shell.execute_reply.started": "2025-04-27T21:56:40.659437Z"
    },
    "id": "8g2oyARnFxI1",
    "trusted": true
   },
   "outputs": [],
   "source": [
    "drop += ['DeviceInfo','device_version','DT_D','DT_W','DT_M','TransactionAmt_ProductID_mean']\n",
    "# train.drop(['DeviceInfo','device_version','DT_D','DT_W','DT_M','TransactionAmt_ProductID_mean'],axis=1,inplace=True)\n",
    "# X_test.drop(['DeviceInfo','device_version','DT_D','DT_W','DT_M','TransactionAmt_ProductID_mean'],axis=1,inplace=True)"
   ]
  },
  {
   "cell_type": "code",
   "execution_count": 66,
   "metadata": {
    "execution": {
     "iopub.execute_input": "2025-04-27T21:56:40.670287Z",
     "iopub.status.busy": "2025-04-27T21:56:40.670086Z",
     "iopub.status.idle": "2025-04-27T21:56:40.681269Z",
     "shell.execute_reply": "2025-04-27T21:56:40.680628Z",
     "shell.execute_reply.started": "2025-04-27T21:56:40.670269Z"
    },
    "trusted": true
   },
   "outputs": [],
   "source": [
    "# Remove non important features \n",
    "drop += ['C1_P_emaildomain_mean', 'id_17_count_full', 'id_02_R_emaildomain_std', \n",
    "        'C11_P_emaildomain_mean',\n",
    "        'TransactionAmt_R_emaildomain_std',\n",
    "        'V258_card4_mean','id_18_count_full','id_02_R_emaildomain_mean', \n",
    "        'C1_R_emaildomain_mean', 'C13_R_emaildomain_std',\n",
    "        'browser_id_31', 'D15_R_emaildomain_std', \n",
    "        'C14_R_emaildomain_std', 'V58', 'C1_R_emaildomain_std', \n",
    "        'C11_P_emaildomain_std',\n",
    "        'C1_card4_mean','ProductCD', 'TransactionAmt_card4_mean','V258_card4_std', \n",
    "        'id_26_count_full','C1_card4_std', 'id_25_count_full',\n",
    "        'dist1_card4_std', 'addr2_count_full','TransactionAmt_card4_std', 'C11_R_emaildomain_mean', \n",
    "        'D15_card4_std', 'DeviceType',\n",
    "        'dist1_card4_mean', \n",
    "         'id_21_count_full', 'C11_R_emaildomain_std',  'C14_card4_mean',\n",
    "        'C14_card4_std','id_02_card4_mean', 'id_02_card4_std', 'C13_card4_mean', \n",
    "        'id_24_count_full', 'D2_revised_card4_mean', 'had_id', 'D2_card4_std','TransactionAmt_ProductID_std',\n",
    "        'id_22_count_full', 'C13_card4_std','V294_card4_std', 'V294_card4_mean', 'dist1_R_emaildomain_mean', \n",
    "        'C11_card4_mean', 'C11_card4_std', 'dist1_R_emaildomain_std',  'D15_card4_mean']"
   ]
  },
  {
   "cell_type": "code",
   "execution_count": 67,
   "metadata": {
    "execution": {
     "iopub.execute_input": "2025-04-27T21:56:40.682701Z",
     "iopub.status.busy": "2025-04-27T21:56:40.682392Z",
     "iopub.status.idle": "2025-04-27T21:56:40.696194Z",
     "shell.execute_reply": "2025-04-27T21:56:40.695584Z",
     "shell.execute_reply.started": "2025-04-27T21:56:40.682673Z"
    },
    "id": "-7NEyHEOFznJ",
    "trusted": true
   },
   "outputs": [],
   "source": [
    "# # Remove non important features \n",
    "# drop += ['V256', 'V223', 'V19', 'V244', 'V324', 'V37', 'V200', 'card3', 'C1_P_emaildomain_mean', 'V131', 'V35', 'id_17_count_full', \n",
    "#         'id_17', 'V30', 'V163', 'V81', 'V332', 'V164', 'D7', 'id_02_R_emaildomain_std', 'V336', 'M9', 'V301', 'V251', 'M8', \n",
    "#         'V275', 'V5', 'V272', 'V331', 'V215', 'V291', 'V129', 'C11_P_emaildomain_mean', 'id_34', 'V160', 'V139', 'V124', 'V159',\n",
    "#         'V274', 'V59', 'V126', 'V52', 'V79', 'V271', 'V24', 'V137', 'V286', 'TransactionAmt_R_emaildomain_std', 'V335', 'V115', \n",
    "#         'V198', 'V234', 'V298', 'V43', 'V258_card4_mean', 'V264', 'OS_id_30_count_full', 'V267', 'V169', 'V217', 'C3', 'V23', \n",
    "#         'V287', 'id_18_count_full', 'V96', 'V208', 'card4', 'id_32', 'V232', 'V188', 'V4', 'V7', 'id_38', 'id_02_R_emaildomain_mean', \n",
    "#         'V293', 'V219', 'V259', 'V276', 'C1_R_emaildomain_mean', 'V279', 'V102', 'V253', 'C13_R_emaildomain_std', 'V245', 'V73', \n",
    "#         'browser_id_31', 'V74', 'V322', 'V209', 'V203', 'V273', 'V221', 'V40', 'V242', 'V289', 'D15_R_emaildomain_std', \n",
    "#         'C14_R_emaildomain_std', 'V150', 'V316', 'V239', 'V265', 'V278', 'V166', 'V172', 'V132', 'V93', 'V58', 'C1_R_emaildomain_std', \n",
    "#         'V29', 'V300', 'V134', 'V254', 'V145', 'V141', 'C11_P_emaildomain_std', 'V292', 'V210', 'V231', 'V280', 'V158', 'V123', 'V135', \n",
    "#         'V220', 'V39', 'V26', 'V238', 'id_11', 'V319', 'V125', 'id_37', 'V206', 'C1_card4_mean', 'V94', 'V304', 'V57', 'V270', 'V33', \n",
    "#         'V170', 'V202', 'V218', 'V108', 'V303', 'V213', 'V222', 'V64', 'V263', 'V326', 'V10', 'V147', 'V101', 'V142', 'V97', 'V214', \n",
    "#         'V105', 'V60', 'V171', 'V329', 'ProductCD', 'V216', 'V34', 'V25', 'V6', 'TransactionAmt_card4_mean', 'V212', 'V250', 'V3',\n",
    "#         'V63', 'V194', 'id_36', 'V178', 'V42', 'V85', 'V193', 'V290', 'id_23', 'V258_card4_std', 'V15', 'V288', 'id_15', 'V182', 'V2', \n",
    "#         'V192', 'V260', 'V235', 'id_26_count_full', 'V138', 'id_24', 'id_10', 'C1_card4_std', 'V11', 'id_08', 'id_25_count_full', 'id_07', \n",
    "#         'V167', 'V51', 'V229', 'V248', 'V197', 'V230', 'V144', 'V233', 'V157', 'dist1_card4_std', 'V284', 'V140', 'addr2_count_full', 'V154', \n",
    "#         'V22', 'V204', 'M1', 'V71', 'V211', 'V255', 'V72', 'TransactionAmt_card4_std', 'V1', 'V80', 'V184', 'V299', 'C11_R_emaildomain_mean', \n",
    "#         'V173', 'V177', 'id_04', 'D15_card4_std', 'V180', 'V228', 'V151', 'V186', 'OS_id_30', 'V109', 'DeviceType', 'V18', 'V17', \n",
    "#         'id_26', 'V247', 'V9', 'V191', 'V148', 'V65', 'V196', 'id_21', 'V297', 'V46', 'V338', 'addr2', 'V95', 'V92', 'dist1_card4_mean', \n",
    "#         'V334', 'V100', 'id_25', 'V179', 'V104', 'V116', 'V16', 'V183', 'id_21_count_full', 'V302', 'V199', 'V227', 'C11_R_emaildomain_std', \n",
    "#         'V176', 'V249', 'V237', 'V327', 'id_16', 'V155', 'V8', 'V252', 'V175', 'V339', 'V330', 'V181', 'V190', 'C14_card4_mean', 'V14', 'V337', \n",
    "#         'C14_card4_std', 'id_35', 'id_02_card4_mean', 'V110', 'id_12', 'V226', 'V168', 'V21', 'V153', 'V195', 'id_02_card4_std', 'V236', 'V174', \n",
    "#         'id_28', 'V84', 'V32', 'V106', 'V41', 'V111', 'V112', 'V114', 'V146', 'V328', 'V50', 'id_29', 'C13_card4_mean', 'V103', 'V98', 'V121', \n",
    "#         'id_24_count_full', 'D2_revised_card4_mean', 'had_id', 'V113', 'D2_card4_std', 'V240', 'TransactionAmt_ProductID_std', 'V185', \n",
    "#         'id_22_count_full', 'id_22', 'V31', 'C13_card4_std', 'V68', 'V88', 'V294_card4_std', 'V294_card4_mean', 'V122', 'dist1_R_emaildomain_mean', \n",
    "#         'V118', 'V269', 'V107', 'V305', 'V117', 'V119', 'V120', 'C11_card4_mean', 'C11_card4_std', 'dist1_R_emaildomain_std', 'V89', 'V241', 'id_27', \n",
    "#         'V325', 'V28', 'D15_card4_mean', 'V27']"
   ]
  },
  {
   "cell_type": "code",
   "execution_count": 68,
   "metadata": {
    "execution": {
     "iopub.execute_input": "2025-04-27T21:56:40.704773Z",
     "iopub.status.busy": "2025-04-27T21:56:40.704563Z",
     "iopub.status.idle": "2025-04-27T21:56:40.712788Z",
     "shell.execute_reply": "2025-04-27T21:56:40.711899Z",
     "shell.execute_reply.started": "2025-04-27T21:56:40.704755Z"
    },
    "trusted": true
   },
   "outputs": [
    {
     "name": "stdout",
     "output_type": "stream",
     "text": [
      "68\n"
     ]
    }
   ],
   "source": [
    "print(len(drop))"
   ]
  },
  {
   "cell_type": "code",
   "execution_count": 69,
   "metadata": {
    "execution": {
     "iopub.execute_input": "2025-04-27T21:56:40.715180Z",
     "iopub.status.busy": "2025-04-27T21:56:40.714978Z",
     "iopub.status.idle": "2025-04-27T21:56:44.747816Z",
     "shell.execute_reply": "2025-04-27T21:56:44.747099Z",
     "shell.execute_reply.started": "2025-04-27T21:56:40.715161Z"
    },
    "id": "Ds4-9CASGVj6",
    "trusted": true
   },
   "outputs": [],
   "source": [
    "drop1 = drop[:200]\n",
    "drop2 = drop[200:]\n",
    "\n",
    "train.drop(drop1,axis=1,inplace=True, errors='ignore')\n",
    "X_test.drop(drop1,axis=1,inplace=True, errors='ignore')\n",
    "train.drop(drop2,axis=1,inplace=True, errors='ignore')\n",
    "X_test.drop(drop2,axis=1,inplace=True, errors='ignore')"
   ]
  },
  {
   "cell_type": "code",
   "execution_count": 70,
   "metadata": {
    "execution": {
     "iopub.execute_input": "2025-04-27T21:56:44.749030Z",
     "iopub.status.busy": "2025-04-27T21:56:44.748792Z",
     "iopub.status.idle": "2025-04-27T21:56:44.754188Z",
     "shell.execute_reply": "2025-04-27T21:56:44.753056Z",
     "shell.execute_reply.started": "2025-04-27T21:56:44.749010Z"
    },
    "trusted": true
   },
   "outputs": [
    {
     "name": "stdout",
     "output_type": "stream",
     "text": [
      "Index(['TransactionID', 'TransactionDT', 'TransactionAmt', 'card1', 'card2',\n",
      "       'card3', 'card4', 'card5', 'card6', 'addr1',\n",
      "       ...\n",
      "       'V294_uid_std', 'C11_card1_mean', 'C11_card1_std', 'C11_card2_mean',\n",
      "       'C11_card2_std', 'C11_addr1_mean', 'C11_addr1_std',\n",
      "       'C11_ProductID_mean', 'C11_ProductID_std', 'C11_uid_std'],\n",
      "      dtype='object', length=507)\n"
     ]
    }
   ],
   "source": [
    "print(train.columns)"
   ]
  },
  {
   "cell_type": "code",
   "execution_count": 71,
   "metadata": {
    "execution": {
     "iopub.execute_input": "2025-04-27T21:56:44.755707Z",
     "iopub.status.busy": "2025-04-27T21:56:44.755345Z",
     "iopub.status.idle": "2025-04-27T21:56:46.122564Z",
     "shell.execute_reply": "2025-04-27T21:56:46.121481Z",
     "shell.execute_reply.started": "2025-04-27T21:56:44.755673Z"
    },
    "trusted": true
   },
   "outputs": [
    {
     "name": "stdout",
     "output_type": "stream",
     "text": [
      "Nombre d'instances frauduleuses : 20663; non frauduleuses: 569877\n"
     ]
    }
   ],
   "source": [
    "fraud_count = train[train['isFraud'] == 1].shape[0]\n",
    "Nofraud_count = train[train['isFraud'] == 0].shape[0]\n",
    "print(f\"Nombre d'instances frauduleuses : {fraud_count}; non frauduleuses: {Nofraud_count}\")"
   ]
  },
  {
   "cell_type": "code",
   "execution_count": 72,
   "metadata": {
    "execution": {
     "iopub.execute_input": "2025-04-27T21:56:46.123701Z",
     "iopub.status.busy": "2025-04-27T21:56:46.123367Z",
     "iopub.status.idle": "2025-04-27T21:56:46.296979Z",
     "shell.execute_reply": "2025-04-27T21:56:46.295976Z",
     "shell.execute_reply.started": "2025-04-27T21:56:46.123677Z"
    },
    "trusted": true
   },
   "outputs": [
    {
     "data": {
      "image/png": "[encoded data removed]",
      "text/plain": [
       "<Figure size 640x480 with 1 Axes>"
      ]
     },
     "metadata": {},
     "output_type": "display_data"
    }
   ],
   "source": [
    "import seaborn as sns\n",
    "import matplotlib.pyplot as plt\n",
    "\n",
    "sns.countplot(x=train['isFraud'])\n",
    "plt.title(\"Répartition des classes\")\n",
    "plt.show()\n"
   ]
  },
  {
   "cell_type": "code",
   "execution_count": 73,
   "metadata": {
    "execution": {
     "iopub.execute_input": "2025-04-27T21:56:46.298515Z",
     "iopub.status.busy": "2025-04-27T21:56:46.298139Z",
     "iopub.status.idle": "2025-04-27T21:56:48.587930Z",
     "shell.execute_reply": "2025-04-27T21:56:48.587159Z",
     "shell.execute_reply.started": "2025-04-27T21:56:46.298481Z"
    },
    "id": "1opSNtZrGdI8",
    "trusted": true
   },
   "outputs": [],
   "source": [
    "X_train = train.drop(['TransactionID','isFraud','TransactionDT','TransactionDT_date','uid'],axis=1)\n",
    "X_test = X_test.drop(['TransactionID','TransactionDT','TransactionDT_date','uid'],axis=1)"
   ]
  },
  {
   "cell_type": "code",
   "execution_count": 74,
   "metadata": {
    "execution": {
     "iopub.execute_input": "2025-04-27T21:56:48.589125Z",
     "iopub.status.busy": "2025-04-27T21:56:48.588881Z",
     "iopub.status.idle": "2025-04-27T21:56:48.592800Z",
     "shell.execute_reply": "2025-04-27T21:56:48.591911Z",
     "shell.execute_reply.started": "2025-04-27T21:56:48.589105Z"
    },
    "id": "-y-Uvi70GfoA",
    "trusted": true
   },
   "outputs": [],
   "source": [
    "# del train,test"
   ]
  },
  {
   "cell_type": "code",
   "execution_count": 75,
   "metadata": {
    "execution": {
     "iopub.execute_input": "2025-04-27T21:56:48.593800Z",
     "iopub.status.busy": "2025-04-27T21:56:48.593592Z",
     "iopub.status.idle": "2025-04-27T21:56:48.606822Z",
     "shell.execute_reply": "2025-04-27T21:56:48.605946Z",
     "shell.execute_reply.started": "2025-04-27T21:56:48.593781Z"
    },
    "id": "62jPwG37Ghzi",
    "outputId": "bf9a9e3f-a6f0-4edd-d12b-708858b11897",
    "trusted": true
   },
   "outputs": [
    {
     "name": "stdout",
     "output_type": "stream",
     "text": [
      "(590540, 502)\n",
      "(506691, 502)\n"
     ]
    }
   ],
   "source": [
    "print(X_train.shape)\n",
    "print(X_test.shape)"
   ]
  },
  {
   "cell_type": "code",
   "execution_count": 76,
   "metadata": {
    "execution": {
     "iopub.execute_input": "2025-04-27T21:56:48.607976Z",
     "iopub.status.busy": "2025-04-27T21:56:48.607683Z",
     "iopub.status.idle": "2025-04-27T21:56:48.618120Z",
     "shell.execute_reply": "2025-04-27T21:56:48.617397Z",
     "shell.execute_reply.started": "2025-04-27T21:56:48.607939Z"
    },
    "id": "CyKPvFBxGj9h",
    "trusted": true
   },
   "outputs": [],
   "source": [
    "cat = ['uid','id_12', 'id_13', 'id_14', 'id_15', 'id_16', 'id_17', 'id_18', 'id_19', 'id_20', 'id_21', 'id_22', 'id_23', 'id_24', 'id_25', 'id_26', 'id_27', 'id_28', 'id_29',\n",
    "       'id_30', 'id_31', 'id_32', 'id_33', 'id_34', 'id_35', 'id_36', 'id_37', 'id_38', 'DeviceType', 'ProductCD', 'card4', 'card6', 'M4','P_emaildomain',\n",
    "       'R_emaildomain', 'card1', 'card2', 'card3',  'card5', 'addr1', 'addr2', 'M1', 'M2', 'M3', 'M5', 'M6', 'M7', 'M8', 'M9','hour','dow','device_name', 'OS_id_30',  'browser_id_31','ProductID',\n",
    "       'DeviceInfo__P_emaildomain', 'card1__card5', 'card2__id_20','card5__P_emaildomain', 'addr1__card1','addr1__addr2','card1__card2','card2__addr1','card1__P_emaildomain',\n",
    "        'card2__P_emaildomain','addr1__P_emaildomain','DeviceInfo__id_31','DeviceInfo__id_20','DeviceType__id_31','DeviceType__id_20','DeviceType__P_emaildomain',\n",
    "        'card1__M4','card2__M4','addr1__M4','P_emaildomain__M4','uid__ProductID','uid__DeviceInfo']\n",
    "        "
   ]
  },
  {
   "cell_type": "code",
   "execution_count": 77,
   "metadata": {
    "execution": {
     "iopub.execute_input": "2025-04-27T21:56:48.619526Z",
     "iopub.status.busy": "2025-04-27T21:56:48.619149Z",
     "iopub.status.idle": "2025-04-27T21:56:48.631906Z",
     "shell.execute_reply": "2025-04-27T21:56:48.630908Z",
     "shell.execute_reply.started": "2025-04-27T21:56:48.619501Z"
    },
    "trusted": true
   },
   "outputs": [],
   "source": [
    "cols += ['hour','dow','device_name', 'OS_id_30',  'browser_id_31','ProductID',\n",
    "       'DeviceInfo__P_emaildomain', 'card1__card5', 'card2__id_20','card5__P_emaildomain', 'addr1__card1','addr1__addr2','card1__card2','card2__addr1','card1__P_emaildomain',\n",
    "        'card2__P_emaildomain','addr1__P_emaildomain','DeviceInfo__id_31','DeviceInfo__id_20','DeviceType__id_31','DeviceType__id_20','DeviceType__P_emaildomain',\n",
    "        'card1__M4','card2__M4','addr1__M4','P_emaildomain__M4']"
   ]
  },
  {
   "cell_type": "code",
   "execution_count": 78,
   "metadata": {
    "execution": {
     "iopub.execute_input": "2025-04-27T21:56:48.633193Z",
     "iopub.status.busy": "2025-04-27T21:56:48.632867Z",
     "iopub.status.idle": "2025-04-27T21:56:48.648578Z",
     "shell.execute_reply": "2025-04-27T21:56:48.647747Z",
     "shell.execute_reply.started": "2025-04-27T21:56:48.633160Z"
    },
    "id": "B-ulGcgqG_Lk",
    "trusted": true
   },
   "outputs": [],
   "source": [
    "for i in drop:\n",
    "  if i in cat:\n",
    "    cat.remove(i)"
   ]
  },
  {
   "cell_type": "code",
   "execution_count": 79,
   "metadata": {
    "execution": {
     "iopub.execute_input": "2025-04-27T21:56:48.649755Z",
     "iopub.status.busy": "2025-04-27T21:56:48.649448Z",
     "iopub.status.idle": "2025-04-27T21:56:50.731533Z",
     "shell.execute_reply": "2025-04-27T21:56:50.730719Z",
     "shell.execute_reply.started": "2025-04-27T21:56:48.649732Z"
    },
    "id": "Mw4fSdijHKTB",
    "trusted": true
   },
   "outputs": [],
   "source": [
    "X_train.drop(['device_hash'],axis=1,inplace=True)\n",
    "X_test.drop(['device_hash'],axis=1,inplace=True)"
   ]
  },
  {
   "cell_type": "code",
   "execution_count": 80,
   "metadata": {
    "execution": {
     "iopub.execute_input": "2025-04-27T21:56:50.732711Z",
     "iopub.status.busy": "2025-04-27T21:56:50.732404Z",
     "iopub.status.idle": "2025-04-27T21:56:50.736456Z",
     "shell.execute_reply": "2025-04-27T21:56:50.735473Z",
     "shell.execute_reply.started": "2025-04-27T21:56:50.732677Z"
    },
    "trusted": true
   },
   "outputs": [],
   "source": [
    "for i in str_type:\n",
    "  if i not in cat:\n",
    "    cat+=[i]"
   ]
  },
  {
   "cell_type": "code",
   "execution_count": 81,
   "metadata": {
    "execution": {
     "iopub.execute_input": "2025-04-27T21:56:50.737543Z",
     "iopub.status.busy": "2025-04-27T21:56:50.737284Z",
     "iopub.status.idle": "2025-04-27T21:56:54.376024Z",
     "shell.execute_reply": "2025-04-27T21:56:54.375108Z",
     "shell.execute_reply.started": "2025-04-27T21:56:50.737522Z"
    },
    "trusted": true
   },
   "outputs": [
    {
     "name": "stdout",
     "output_type": "stream",
     "text": [
      "Ensemble d'entraînement : 472432 échantillons\n",
      "Ensemble de test : 118108 échantillons\n",
      "Répartition des classes dans le jeu d'entraînement :\n",
      "isFraud\n",
      "0    455902\n",
      "1     16530\n",
      "Name: count, dtype: int64\n",
      "Répartition des classes dans le jeu de test :\n",
      "isFraud\n",
      "0    113975\n",
      "1      4133\n",
      "Name: count, dtype: int64\n"
     ]
    }
   ],
   "source": [
    "from sklearn.model_selection import train_test_split\n",
    "\n",
    "# Vérifier que X_train et y_train ont le même nombre d'échantillons\n",
    "assert len(X_train) == len(y_train), \"Les ensembles X_train et y_train n'ont pas le même nombre d'échantillons.\"\n",
    "\n",
    "# Diviser les données en un ensemble d'entraînement et de test avec la même répartition des classes\n",
    "X_trainn, X_test5, y_trainn, y_test5 = train_test_split(X_train, y_train, test_size=0.2, random_state=42, stratify=y_train)\n",
    "\n",
    "# Afficher les tailles des ensembles de données\n",
    "print(f\"Ensemble d'entraînement : {X_trainn.shape[0]} échantillons\")\n",
    "print(f\"Ensemble de test : {X_test5.shape[0]} échantillons\")\n",
    "\n",
    "# Vérifier la répartition des classes dans chaque ensemble\n",
    "print(f\"Répartition des classes dans le jeu d'entraînement :\\n{y_trainn.value_counts()}\")\n",
    "print(f\"Répartition des classes dans le jeu de test :\\n{y_test5.value_counts()}\")\n"
   ]
  },
  {
   "cell_type": "code",
   "execution_count": 82,
   "metadata": {
    "execution": {
     "iopub.execute_input": "2025-04-27T21:56:54.377314Z",
     "iopub.status.busy": "2025-04-27T21:56:54.376993Z",
     "iopub.status.idle": "2025-04-27T21:56:55.936020Z",
     "shell.execute_reply": "2025-04-27T21:56:55.935313Z",
     "shell.execute_reply.started": "2025-04-27T21:56:54.377284Z"
    },
    "id": "4u4NDJGmHNMt",
    "trusted": true
   },
   "outputs": [],
   "source": [
    "import os\n",
    "\n",
    "# Ensure the directory exists\n",
    "processed_dir = '/kaggle/working/processed'\n",
    "os.makedirs(processed_dir, exist_ok=True)\n",
    "\n",
    "X_trainn.to_pickle(f'{processed_dir}/X_train2.pkl')\n",
    "X_test5.to_pickle(f'{processed_dir}/X_test2.pkl')\n",
    "y_test5.to_pickle(f'{processed_dir}/y_test2.pkl')\n",
    "y_trainn.to_frame().to_pickle(f'{processed_dir}/y_train2.pkl')"
   ]
  },
  {
   "cell_type": "markdown",
   "metadata": {
    "id": "KT1FK0bMIi0x"
   },
   "source": [
    "# Model"
   ]
  },
  {
   "cell_type": "code",
   "execution_count": 83,
   "metadata": {
    "execution": {
     "iopub.execute_input": "2025-04-27T21:56:55.937191Z",
     "iopub.status.busy": "2025-04-27T21:56:55.936884Z",
     "iopub.status.idle": "2025-04-27T21:56:57.200969Z",
     "shell.execute_reply": "2025-04-27T21:56:57.200172Z",
     "shell.execute_reply.started": "2025-04-27T21:56:55.937162Z"
    },
    "id": "gKWzCtnWKWgV",
    "trusted": true
   },
   "outputs": [],
   "source": [
    "X_train = pd.read_pickle(\"/kaggle/working/processed/X_train2.pkl\")\n",
    "X_val = pd.read_pickle(\"/kaggle/working/processed/X_test2.pkl\")\n",
    "y_val =pd.read_pickle(\"/kaggle/working/processed/y_test2.pkl\")\n",
    "y_train = pd.read_pickle(\"/kaggle/working/processed/y_train2.pkl\")\n",
    "y_train = y_train.isFraud"
   ]
  },
  {
   "cell_type": "code",
   "execution_count": 84,
   "metadata": {
    "execution": {
     "iopub.execute_input": "2025-04-27T21:56:57.202075Z",
     "iopub.status.busy": "2025-04-27T21:56:57.201828Z",
     "iopub.status.idle": "2025-04-27T21:56:57.205975Z",
     "shell.execute_reply": "2025-04-27T21:56:57.205263Z",
     "shell.execute_reply.started": "2025-04-27T21:56:57.202053Z"
    },
    "id": "j2uqhZd-LTUx",
    "trusted": true
   },
   "outputs": [],
   "source": [
    "cat = set(cat) & set(X_train.columns)"
   ]
  },
  {
   "cell_type": "code",
   "execution_count": 85,
   "metadata": {
    "execution": {
     "iopub.execute_input": "2025-04-27T21:56:57.207148Z",
     "iopub.status.busy": "2025-04-27T21:56:57.206871Z",
     "iopub.status.idle": "2025-04-27T21:57:25.664452Z",
     "shell.execute_reply": "2025-04-27T21:57:25.663458Z",
     "shell.execute_reply.started": "2025-04-27T21:56:57.207115Z"
    },
    "id": "wWi4696iLuHy",
    "outputId": "d8f437d3-ec62-4328-a201-6624d548e41b",
    "trusted": true
   },
   "outputs": [
    {
     "name": "stdout",
     "output_type": "stream",
     "text": [
      "----------------------------------------\n",
      "device_name\n",
      "train:0.8333333333333334\n",
      "test:0.8823529411764706\n",
      "----------------------------------------\n",
      "id_30\n",
      "train:0.9868421052631579\n",
      "test:0.8620689655172413\n",
      "----------------------------------------\n",
      "card1__P_emaildomain\n",
      "train:0.5627829761545428\n",
      "test:0.5657142857142857\n",
      "----------------------------------------\n",
      "card2__P_emaildomain\n",
      "train:0.7750580945003873\n",
      "test:0.7955159802830338\n",
      "----------------------------------------\n",
      "M3\n",
      "train:1.0\n",
      "test:1.0\n",
      "----------------------------------------\n",
      "id_31\n",
      "train:0.728\n",
      "test:0.6691176470588235\n",
      "----------------------------------------\n",
      "id_28\n",
      "train:1.0\n",
      "test:1.0\n",
      "----------------------------------------\n",
      "M5\n",
      "train:1.0\n",
      "test:1.0\n",
      "----------------------------------------\n",
      "id_37\n",
      "train:1.0\n",
      "test:1.0\n",
      "----------------------------------------\n",
      "card2\n",
      "train:0.9920159680638723\n",
      "test:0.9979919678714859\n",
      "----------------------------------------\n",
      "id_20\n",
      "train:0.7317708333333334\n",
      "test:0.6430205949656751\n",
      "----------------------------------------\n",
      "card3\n",
      "train:0.8508771929824561\n",
      "test:0.8362068965517241\n",
      "----------------------------------------\n",
      "M6\n",
      "train:1.0\n",
      "test:1.0\n",
      "----------------------------------------\n",
      "M7\n",
      "train:1.0\n",
      "test:1.0\n",
      "----------------------------------------\n",
      "M2\n",
      "train:1.0\n",
      "test:1.0\n",
      "----------------------------------------\n",
      "id_14\n",
      "train:0.96\n",
      "test:0.8571428571428571\n",
      "----------------------------------------\n",
      "card1\n",
      "train:0.7342640979642774\n",
      "test:0.7108124433705829\n",
      "----------------------------------------\n",
      "id_15\n",
      "train:1.0\n",
      "test:1.0\n",
      "----------------------------------------\n",
      "id_38\n",
      "train:1.0\n",
      "test:1.0\n",
      "----------------------------------------\n",
      "card4\n",
      "train:1.0\n",
      "test:1.0\n",
      "----------------------------------------\n",
      "hour\n",
      "train:1.0\n",
      "test:1.0\n",
      "----------------------------------------\n",
      "DeviceType__P_emaildomain\n",
      "train:0.9943502824858758\n",
      "test:0.9887640449438202\n",
      "----------------------------------------\n",
      "id_19\n",
      "train:0.8764478764478765\n",
      "test:0.9025844930417495\n",
      "----------------------------------------\n",
      "id_35\n",
      "train:1.0\n",
      "test:1.0\n",
      "----------------------------------------\n",
      "addr1__P_emaildomain\n",
      "train:0.7683698296836983\n",
      "test:0.7594997594997595\n",
      "----------------------------------------\n",
      "addr1\n",
      "train:0.5672131147540984\n",
      "test:0.590443686006826\n",
      "----------------------------------------\n",
      "uid__ProductID\n",
      "train:0.04760309242958955\n",
      "test:0.04667111845896184\n",
      "----------------------------------------\n",
      "M9\n",
      "train:1.0\n",
      "test:1.0\n",
      "----------------------------------------\n",
      "id_32\n",
      "train:0.8\n",
      "test:0.6666666666666666\n",
      "----------------------------------------\n",
      "OS_id_30\n",
      "train:1.0\n",
      "test:1.0\n",
      "----------------------------------------\n",
      "DeviceInfo__P_emaildomain\n",
      "train:0.4213928273561301\n",
      "test:0.3473105344560921\n",
      "----------------------------------------\n",
      "card5\n",
      "train:0.7241379310344828\n",
      "test:0.8155339805825242\n",
      "----------------------------------------\n",
      "card6\n",
      "train:0.8\n",
      "test:1.0\n",
      "----------------------------------------\n",
      "DeviceInfo__id_31\n",
      "train:0.1389284986759014\n",
      "test:0.1314318751204471\n",
      "----------------------------------------\n",
      "P_emaildomain__M4\n",
      "train:0.9530516431924883\n",
      "test:0.9620853080568721\n",
      "----------------------------------------\n",
      "card5__P_emaildomain\n",
      "train:0.7671339563862928\n",
      "test:0.8001624695369618\n",
      "----------------------------------------\n",
      "card2__addr1\n",
      "train:0.739584765571291\n",
      "test:0.7376577070762479\n",
      "----------------------------------------\n",
      "addr1__card1\n",
      "train:0.5788005578800558\n",
      "test:0.5625847266154541\n",
      "----------------------------------------\n",
      "DeviceType__id_31\n",
      "train:0.7346938775510204\n",
      "test:0.6708074534161491\n",
      "----------------------------------------\n",
      "P_emaildomain\n",
      "train:1.0\n",
      "test:0.9836065573770492\n",
      "----------------------------------------\n",
      "id_17\n",
      "train:0.7843137254901961\n",
      "test:0.7692307692307693\n",
      "----------------------------------------\n",
      "card2__M4\n",
      "train:0.9251583189407023\n",
      "test:0.9475235849056604\n",
      "----------------------------------------\n",
      "id_33\n",
      "train:0.7552742616033755\n",
      "test:0.4578005115089514\n",
      "----------------------------------------\n",
      "addr2\n",
      "train:0.7571428571428571\n",
      "test:0.726027397260274\n",
      "----------------------------------------\n",
      "card1__card2\n",
      "train:0.7058780523468343\n",
      "test:0.6783531230239584\n",
      "----------------------------------------\n",
      "card1__M4\n",
      "train:0.6598540145985401\n",
      "test:0.6542132163372383\n",
      "----------------------------------------\n",
      "id_34\n",
      "train:0.6\n",
      "test:1.0\n",
      "----------------------------------------\n",
      "card2__id_20\n",
      "train:0.6953632148377126\n",
      "test:0.6479907820826732\n",
      "----------------------------------------\n",
      "addr1__addr2\n",
      "train:0.5326633165829145\n",
      "test:0.5367088607594936\n",
      "----------------------------------------\n",
      "id_13\n",
      "train:0.5\n",
      "test:0.9642857142857143\n",
      "----------------------------------------\n",
      "M4\n",
      "train:1.0\n",
      "test:1.0\n",
      "----------------------------------------\n",
      "DeviceType__id_20\n",
      "train:0.7326388888888888\n",
      "test:0.6355421686746988\n",
      "----------------------------------------\n",
      "R_emaildomain\n",
      "train:1.0\n",
      "test:1.0\n",
      "----------------------------------------\n",
      "dow\n",
      "train:1.0\n",
      "test:1.0\n",
      "----------------------------------------\n",
      "M1\n",
      "train:1.0\n",
      "test:1.0\n",
      "----------------------------------------\n",
      "ProductID\n",
      "train:0.2695629278567667\n",
      "test:0.35301013723191504\n",
      "----------------------------------------\n",
      "addr1__M4\n",
      "train:0.6678383128295254\n",
      "test:0.6749555950266429\n",
      "----------------------------------------\n",
      "uid__DeviceInfo\n",
      "train:0.11413783456122353\n",
      "test:0.10915836837716228\n",
      "----------------------------------------\n",
      "id_36\n",
      "train:1.0\n",
      "test:1.0\n",
      "----------------------------------------\n",
      "card1__card5\n",
      "train:0.7062778630417306\n",
      "test:0.6770826035171302\n",
      "----------------------------------------\n",
      "id_12\n",
      "train:1.0\n",
      "test:1.0\n",
      "----------------------------------------\n",
      "id_23\n",
      "train:1.0\n",
      "test:1.0\n",
      "----------------------------------------\n",
      "M8\n",
      "train:1.0\n",
      "test:1.0\n",
      "----------------------------------------\n",
      "DeviceInfo__id_20\n",
      "train:0.3379000969932105\n",
      "test:0.24056970220112214\n",
      "----------------------------------------\n",
      "id_29\n",
      "train:1.0\n",
      "test:1.0\n",
      "----------------------------------------\n",
      "id_16\n",
      "train:1.0\n",
      "test:1.0\n",
      "----------------------------------------\n",
      "id_27\n",
      "train:1.0\n",
      "test:1.0\n"
     ]
    }
   ],
   "source": [
    "for column in cat:\n",
    "    train_set = set(X_train[column])\n",
    "    test_set = set(X_test[column])\n",
    "    tt = train_set.intersection(test_set)\n",
    "    print('----------------------------------------')\n",
    "    print(column)\n",
    "    print(f'train:{len(tt)/len(train_set)}')\n",
    "    print(f'test:{len(tt)/len(test_set)}')\n",
    "    X_train[column] = X_train[column].map(lambda x: -999 if x not in tt else x)\n",
    "    X_test[column] = X_test[column].map(lambda x: -999 if x not in tt else x)"
   ]
  },
  {
   "cell_type": "code",
   "execution_count": 86,
   "metadata": {
    "execution": {
     "iopub.execute_input": "2025-04-27T21:57:25.665780Z",
     "iopub.status.busy": "2025-04-27T21:57:25.665453Z",
     "iopub.status.idle": "2025-04-27T21:57:25.670324Z",
     "shell.execute_reply": "2025-04-27T21:57:25.669065Z",
     "shell.execute_reply.started": "2025-04-27T21:57:25.665748Z"
    },
    "trusted": true
   },
   "outputs": [],
   "source": [
    "# from sklearn.impute import SimpleImputer\n",
    "# # Before CV - Analyze and track missing values\n",
    "# missing_stats = pd.DataFrame({\n",
    "#     'column': X_train.columns,\n",
    "#     'missing_pct': X_train.isna().mean(),\n",
    "#     'was_imputed': X_train.isna().any()\n",
    "# })\n",
    "\n",
    "# # Show columns with missing values that will be imputed\n",
    "# print(\"Columns to be imputed:\")\n",
    "# print(missing_stats[missing_stats['was_imputed']].sort_values('missing_pct', ascending=False))\n",
    "\n",
    "# # Initialize and fit imputer on ALL training data first\n",
    "# global_imputer = SimpleImputer(strategy='median')\n",
    "# X_train = pd.DataFrame(global_imputer.fit_transform(X_train), \n",
    "#                               columns=X_train.columns)\n",
    "\n",
    "# # Apply same imputation to test data\n",
    "# X_test = pd.DataFrame(global_imputer.transform(X_test),\n",
    "#                              columns=X_test.columns)\n",
    "\n",
    "# # Verify no missing values remain\n",
    "# assert X_train.isna().sum().sum() == 0, \"Train still has missing values!\"\n",
    "# assert X_test.isna().sum().sum() == 0, \"Test still has missing values!\""
   ]
  },
  {
   "cell_type": "markdown",
   "metadata": {},
   "source": [
    "## Reducing Memory Usage"
   ]
  },
  {
   "cell_type": "code",
   "execution_count": 87,
   "metadata": {
    "execution": {
     "iopub.execute_input": "2025-04-27T21:57:25.671734Z",
     "iopub.status.busy": "2025-04-27T21:57:25.671457Z",
     "iopub.status.idle": "2025-04-27T21:57:25.687454Z",
     "shell.execute_reply": "2025-04-27T21:57:25.686527Z",
     "shell.execute_reply.started": "2025-04-27T21:57:25.671711Z"
    },
    "trusted": true
   },
   "outputs": [],
   "source": [
    "## Memory Reducer\n",
    "# :df pandas dataframe to reduce size             \n",
    "# type: pd.DataFrame()\n",
    "# :verbose                                        \n",
    "# type: bool\n",
    "def reduce_mem_usage(df, verbose=True):\n",
    "    numerics = ['int16', 'int32', 'int64', 'float16', 'float32', 'float64']\n",
    "    start_mem = df.memory_usage().sum() / 1024**2    \n",
    "    for col in df.columns:\n",
    "        col_type = df[col].dtypes\n",
    "        if col_type in numerics:\n",
    "            c_min = df[col].min()\n",
    "            c_max = df[col].max()\n",
    "            if str(col_type)[:3] == 'int':\n",
    "                if c_min > np.iinfo(np.int8).min and c_max < np.iinfo(np.int8).max:\n",
    "                    df[col] = df[col].astype(np.int8)\n",
    "                elif c_min > np.iinfo(np.int16).min and c_max < np.iinfo(np.int16).max:\n",
    "                    df[col] = df[col].astype(np.int16)\n",
    "                elif c_min > np.iinfo(np.int32).min and c_max < np.iinfo(np.int32).max:\n",
    "                    df[col] = df[col].astype(np.int32)\n",
    "                elif c_min > np.iinfo(np.int64).min and c_max < np.iinfo(np.int64).max:\n",
    "                    df[col] = df[col].astype(np.int64)  \n",
    "            else:\n",
    "                if c_min > np.finfo(np.float16).min and c_max < np.finfo(np.float16).max:\n",
    "                    df[col] = df[col].astype(np.float16)\n",
    "                elif c_min > np.finfo(np.float32).min and c_max < np.finfo(np.float32).max:\n",
    "                    df[col] = df[col].astype(np.float32)\n",
    "                else:\n",
    "                    df[col] = df[col].astype(np.float64)    \n",
    "    end_mem = df.memory_usage().sum() / 1024**2\n",
    "    if verbose: print('Mem. usage decreased to {:5.2f} Mb ({:.1f}% reduction)'.format(end_mem, 100 * (start_mem - end_mem) / start_mem))\n",
    "    return df\n"
   ]
  },
  {
   "cell_type": "code",
   "execution_count": 88,
   "metadata": {
    "execution": {
     "iopub.execute_input": "2025-04-27T21:57:25.688707Z",
     "iopub.status.busy": "2025-04-27T21:57:25.688460Z",
     "iopub.status.idle": "2025-04-27T21:57:28.001519Z",
     "shell.execute_reply": "2025-04-27T21:57:28.000662Z",
     "shell.execute_reply.started": "2025-04-27T21:57:25.688686Z"
    },
    "trusted": true
   },
   "outputs": [
    {
     "name": "stdout",
     "output_type": "stream",
     "text": [
      "Mem. usage decreased to 493.35 Mb (70.0% reduction)\n",
      "CPU times: user 2.24 s, sys: 56.9 ms, total: 2.3 s\n",
      "Wall time: 2.3 s\n"
     ]
    }
   ],
   "source": [
    "%%time\n",
    "X_train = reduce_mem_usage(X_train)"
   ]
  },
  {
   "cell_type": "markdown",
   "metadata": {
    "id": "IhT1qhLLpRJR"
   },
   "source": [
    "## Extreme Gradient Boosting (XGBoost)"
   ]
  },
  {
   "cell_type": "code",
   "execution_count": 89,
   "metadata": {
    "execution": {
     "iopub.execute_input": "2025-04-27T21:57:28.003056Z",
     "iopub.status.busy": "2025-04-27T21:57:28.002679Z",
     "iopub.status.idle": "2025-04-27T21:57:28.012890Z",
     "shell.execute_reply": "2025-04-27T21:57:28.011834Z",
     "shell.execute_reply.started": "2025-04-27T21:57:28.003016Z"
    },
    "trusted": true
   },
   "outputs": [],
   "source": [
    "fraud_ratio = len(y_train[y_train == 0]) / len(y_train[y_train == 1])"
   ]
  },
  {
   "cell_type": "markdown",
   "metadata": {},
   "source": [
    "### XGBoost model training"
   ]
  },
  {
   "cell_type": "code",
   "execution_count": 90,
   "metadata": {
    "execution": {
     "iopub.execute_input": "2025-04-27T21:57:28.014216Z",
     "iopub.status.busy": "2025-04-27T21:57:28.013862Z",
     "iopub.status.idle": "2025-04-27T21:58:59.145224Z",
     "shell.execute_reply": "2025-04-27T21:58:59.144325Z",
     "shell.execute_reply.started": "2025-04-27T21:57:28.014192Z"
    },
    "trusted": true
   },
   "outputs": [
    {
     "name": "stdout",
     "output_type": "stream",
     "text": [
      "\n",
      "Training XGBoost Model...\n",
      "\n",
      "[0]\tvalidation_0-auc:0.84397\n",
      "[100]\tvalidation_0-auc:0.98002\n",
      "[200]\tvalidation_0-auc:0.98160\n",
      "[300]\tvalidation_0-auc:0.98236\n",
      "[400]\tvalidation_0-auc:0.98204\n",
      "[500]\tvalidation_0-auc:0.98204\n",
      "[598]\tvalidation_0-auc:0.98164\n"
     ]
    },
    {
     "data": {
      "text/html": [
       "<style>#sk-container-id-1 {color: black;background-color: white;}#sk-container-id-1 pre{padding: 0;}#sk-container-id-1 div.sk-toggleable {background-color: white;}#sk-container-id-1 label.sk-toggleable__label {cursor: pointer;display: block;width: 100%;margin-bottom: 0;padding: 0.3em;box-sizing: border-box;text-align: center;}#sk-container-id-1 label.sk-toggleable__label-arrow:before {content: \"▸\";float: left;margin-right: 0.25em;color: #696969;}#sk-container-id-1 label.sk-toggleable__label-arrow:hover:before {color: black;}#sk-container-id-1 div.sk-estimator:hover label.sk-toggleable__label-arrow:before {color: black;}#sk-container-id-1 div.sk-toggleable__content {max-height: 0;max-width: 0;overflow: hidden;text-align: left;background-color: #f0f8ff;}#sk-container-id-1 div.sk-toggleable__content pre {margin: 0.2em;color: black;border-radius: 0.25em;background-color: #f0f8ff;}#sk-container-id-1 input.sk-toggleable__control:checked~div.sk-toggleable__content {max-height: 200px;max-width: 100%;overflow: auto;}#sk-container-id-1 input.sk-toggleable__control:checked~label.sk-toggleable__label-arrow:before {content: \"▾\";}#sk-container-id-1 div.sk-estimator input.sk-toggleable__control:checked~label.sk-toggleable__label {background-color: #d4ebff;}#sk-container-id-1 div.sk-label input.sk-toggleable__control:checked~label.sk-toggleable__label {background-color: #d4ebff;}#sk-container-id-1 input.sk-hidden--visually {border: 0;clip: rect(1px 1px 1px 1px);clip: rect(1px, 1px, 1px, 1px);height: 1px;margin: -1px;overflow: hidden;padding: 0;position: absolute;width: 1px;}#sk-container-id-1 div.sk-estimator {font-family: monospace;background-color: #f0f8ff;border: 1px dotted black;border-radius: 0.25em;box-sizing: border-box;margin-bottom: 0.5em;}#sk-container-id-1 div.sk-estimator:hover {background-color: #d4ebff;}#sk-container-id-1 div.sk-parallel-item::after {content: \"\";width: 100%;border-bottom: 1px solid gray;flex-grow: 1;}#sk-container-id-1 div.sk-label:hover label.sk-toggleable__label {background-color: #d4ebff;}#sk-container-id-1 div.sk-serial::before {content: \"\";position: absolute;border-left: 1px solid gray;box-sizing: border-box;top: 0;bottom: 0;left: 50%;z-index: 0;}#sk-container-id-1 div.sk-serial {display: flex;flex-direction: column;align-items: center;background-color: white;padding-right: 0.2em;padding-left: 0.2em;position: relative;}#sk-container-id-1 div.sk-item {position: relative;z-index: 1;}#sk-container-id-1 div.sk-parallel {display: flex;align-items: stretch;justify-content: center;background-color: white;position: relative;}#sk-container-id-1 div.sk-item::before, #sk-container-id-1 div.sk-parallel-item::before {content: \"\";position: absolute;border-left: 1px solid gray;box-sizing: border-box;top: 0;bottom: 0;left: 50%;z-index: -1;}#sk-container-id-1 div.sk-parallel-item {display: flex;flex-direction: column;z-index: 1;position: relative;background-color: white;}#sk-container-id-1 div.sk-parallel-item:first-child::after {align-self: flex-end;width: 50%;}#sk-container-id-1 div.sk-parallel-item:last-child::after {align-self: flex-start;width: 50%;}#sk-container-id-1 div.sk-parallel-item:only-child::after {width: 0;}#sk-container-id-1 div.sk-dashed-wrapped {border: 1px dashed gray;margin: 0 0.4em 0.5em 0.4em;box-sizing: border-box;padding-bottom: 0.4em;background-color: white;}#sk-container-id-1 div.sk-label label {font-family: monospace;font-weight: bold;display: inline-block;line-height: 1.2em;}#sk-container-id-1 div.sk-label-container {text-align: center;}#sk-container-id-1 div.sk-container {/* jupyter's `normalize.less` sets `[hidden] { display: none; }` but bootstrap.min.css set `[hidden] { display: none !important; }` so we also need the `!important` here to be able to override the default hidden behavior on the sphinx rendered scikit-learn.org. See: https://github.com/scikit-learn/scikit-learn/issues/21755 */display: inline-block !important;position: relative;}#sk-container-id-1 div.sk-text-repr-fallback {display: none;}</style><div id=\"sk-container-id-1\" class=\"sk-top-container\"><div class=\"sk-text-repr-fallback\"><pre>XGBClassifier(base_score=None, booster=None, callbacks=None,\n",
       "              colsample_bylevel=None, colsample_bynode=None,\n",
       "              colsample_bytree=0.6067786481189409, device=None,\n",
       "              early_stopping_rounds=300, enable_categorical=True,\n",
       "              eval_metric=&#x27;auc&#x27;, feature_types=None, gamma=None,\n",
       "              grow_policy=None, importance_type=None,\n",
       "              interaction_constraints=None, learning_rate=0.12526307664736916,\n",
       "              max_bin=None, max_cat_threshold=None, max_cat_to_onehot=None,\n",
       "              max_delta_step=None, max_depth=10, max_leaves=None,\n",
       "              min_child_weight=3, missing=-999, monotone_constraints=None,\n",
       "              multi_strategy=None, n_estimators=5000, n_jobs=-1,\n",
       "              num_parallel_tree=None, random_state=0, ...)</pre><b>In a Jupyter environment, please rerun this cell to show the HTML representation or trust the notebook. <br />On GitHub, the HTML representation is unable to render, please try loading this page with nbviewer.org.</b></div><div class=\"sk-container\" hidden><div class=\"sk-item\"><div class=\"sk-estimator sk-toggleable\"><input class=\"sk-toggleable__control sk-hidden--visually\" id=\"sk-estimator-id-1\" type=\"checkbox\" checked><label for=\"sk-estimator-id-1\" class=\"sk-toggleable__label sk-toggleable__label-arrow\">XGBClassifier</label><div class=\"sk-toggleable__content\"><pre>XGBClassifier(base_score=None, booster=None, callbacks=None,\n",
       "              colsample_bylevel=None, colsample_bynode=None,\n",
       "              colsample_bytree=0.6067786481189409, device=None,\n",
       "              early_stopping_rounds=300, enable_categorical=True,\n",
       "              eval_metric=&#x27;auc&#x27;, feature_types=None, gamma=None,\n",
       "              grow_policy=None, importance_type=None,\n",
       "              interaction_constraints=None, learning_rate=0.12526307664736916,\n",
       "              max_bin=None, max_cat_threshold=None, max_cat_to_onehot=None,\n",
       "              max_delta_step=None, max_depth=10, max_leaves=None,\n",
       "              min_child_weight=3, missing=-999, monotone_constraints=None,\n",
       "              multi_strategy=None, n_estimators=5000, n_jobs=-1,\n",
       "              num_parallel_tree=None, random_state=0, ...)</pre></div></div></div></div></div>"
      ],
      "text/plain": [
       "XGBClassifier(base_score=None, booster=None, callbacks=None,\n",
       "              colsample_bylevel=None, colsample_bynode=None,\n",
       "              colsample_bytree=0.6067786481189409, device=None,\n",
       "              early_stopping_rounds=300, enable_categorical=True,\n",
       "              eval_metric='auc', feature_types=None, gamma=None,\n",
       "              grow_policy=None, importance_type=None,\n",
       "              interaction_constraints=None, learning_rate=0.12526307664736916,\n",
       "              max_bin=None, max_cat_threshold=None, max_cat_to_onehot=None,\n",
       "              max_delta_step=None, max_depth=10, max_leaves=None,\n",
       "              min_child_weight=3, missing=-999, monotone_constraints=None,\n",
       "              multi_strategy=None, n_estimators=5000, n_jobs=-1,\n",
       "              num_parallel_tree=None, random_state=0, ...)"
      ]
     },
     "execution_count": 90,
     "metadata": {},
     "output_type": "execute_result"
    }
   ],
   "source": [
    "xgb_model = xgb.XGBClassifier(\n",
    "    n_estimators=5000,\n",
    "    max_depth=10,\n",
    "    learning_rate=0.12526307664736916,\n",
    "    random_state=0,\n",
    "    subsample=0.79155511238352,\n",
    "    colsample_bytree=0.6067786481189409,\n",
    "    min_child_weight=3,\n",
    "    reg_alpha=1,\n",
    "    reg_lambda=0.6,\n",
    "    n_jobs=-1,\n",
    "    tree_method='gpu_hist',\n",
    "    eval_metric='auc',\n",
    "    scale_pos_weight=fraud_ratio *1.2,\n",
    "    early_stopping_rounds=300,\n",
    "    enable_categorical=True,\n",
    "    missing=-999\n",
    ")\n",
    "\n",
    "print(\"\\nTraining XGBoost Model...\\n\")\n",
    "xgb_model.fit(X_train, y_train, eval_set=[(X_val, y_val)], verbose=100)"
   ]
  },
  {
   "cell_type": "code",
   "execution_count": 91,
   "metadata": {
    "execution": {
     "iopub.execute_input": "2025-04-27T21:58:59.146510Z",
     "iopub.status.busy": "2025-04-27T21:58:59.146142Z",
     "iopub.status.idle": "2025-04-27T21:58:59.368520Z",
     "shell.execute_reply": "2025-04-27T21:58:59.367727Z",
     "shell.execute_reply.started": "2025-04-27T21:58:59.146460Z"
    },
    "trusted": true
   },
   "outputs": [],
   "source": [
    "import joblib\n",
    "\n",
    "joblib.dump(xgb_model, '/kaggle/working/xgb_model.pkl')\n",
    "xgb_model.save_model('/kaggle/working/xgb_model.json')"
   ]
  },
  {
   "cell_type": "markdown",
   "metadata": {},
   "source": [
    "### Predictions"
   ]
  },
  {
   "cell_type": "code",
   "execution_count": 92,
   "metadata": {
    "execution": {
     "iopub.execute_input": "2025-04-27T21:58:59.369616Z",
     "iopub.status.busy": "2025-04-27T21:58:59.369337Z",
     "iopub.status.idle": "2025-04-27T21:59:15.833126Z",
     "shell.execute_reply": "2025-04-27T21:59:15.832240Z",
     "shell.execute_reply.started": "2025-04-27T21:58:59.369596Z"
    },
    "trusted": true
   },
   "outputs": [
    {
     "name": "stdout",
     "output_type": "stream",
     "text": [
      "XGBOOST\n",
      "AUC = 0.9824, F1 = 0.8803, Recall = 0.8292, Precision = 0.9381\n",
      "Confusion Matrix:\n",
      "[[113749    226]\n",
      " [   706   3427]]\n"
     ]
    }
   ],
   "source": [
    "xgb_val_preds = xgb_model.predict_proba(X_val)[:, 1]\n",
    "xgb_test_preds = xgb_model.predict_proba(X_test)[:, 1]\n",
    "\n",
    "print(\"XGBOOST\")\n",
    "xgb_probs = xgb_model.predict_proba(X_val)[:, 1]\n",
    "xgb_preds = xgb_model.predict(X_val)\n",
    "\n",
    "xgb_auc = roc_auc_score(y_val, xgb_probs)\n",
    "xgb_f1 = f1_score(y_val, xgb_preds)\n",
    "xgb_recall = recall_score(y_val, xgb_preds)\n",
    "xgb_precision = precision_score(y_val, xgb_preds)\n",
    "xgb_conf_matrix = confusion_matrix(y_val, xgb_preds)\n",
    "\n",
    "print(f\"AUC = {xgb_auc:.4f}, F1 = {xgb_f1:.4f}, Recall = {xgb_recall:.4f}, Precision = {xgb_precision:.4f}\")\n",
    "print(\"Confusion Matrix:\")\n",
    "print(xgb_conf_matrix)"
   ]
  },
  {
   "cell_type": "markdown",
   "metadata": {},
   "source": [
    "## Catboost"
   ]
  },
  {
   "cell_type": "markdown",
   "metadata": {},
   "source": [
    "### CatBoost Model Training"
   ]
  },
  {
   "cell_type": "code",
   "execution_count": 93,
   "metadata": {
    "execution": {
     "iopub.execute_input": "2025-04-27T21:59:15.834246Z",
     "iopub.status.busy": "2025-04-27T21:59:15.833978Z",
     "iopub.status.idle": "2025-04-27T22:05:37.292905Z",
     "shell.execute_reply": "2025-04-27T22:05:37.291851Z",
     "shell.execute_reply.started": "2025-04-27T21:59:15.834215Z"
    },
    "trusted": true
   },
   "outputs": [
    {
     "name": "stdout",
     "output_type": "stream",
     "text": [
      "\n",
      "Training CatBoost Model...\n",
      "\n"
     ]
    },
    {
     "name": "stderr",
     "output_type": "stream",
     "text": [
      "Default metric period is 5 because AUC is/are not implemented for GPU\n"
     ]
    },
    {
     "name": "stdout",
     "output_type": "stream",
     "text": [
      "0:\ttest: 0.8778264\tbest: 0.8778264 (0)\ttotal: 619ms\tremaining: 1h 43m 5s\n",
      "200:\ttest: 0.9727081\tbest: 0.9727081 (200)\ttotal: 24.1s\tremaining: 19m 32s\n",
      "400:\ttest: 0.9748736\tbest: 0.9749621 (388)\ttotal: 46s\tremaining: 18m 20s\n",
      "600:\ttest: 0.9755714\tbest: 0.9755887 (598)\ttotal: 1m 6s\tremaining: 17m 27s\n",
      "800:\ttest: 0.9764561\tbest: 0.9764561 (800)\ttotal: 1m 28s\tremaining: 16m 59s\n",
      "1000:\ttest: 0.9769140\tbest: 0.9770073 (989)\ttotal: 1m 50s\tremaining: 16m 33s\n",
      "1200:\ttest: 0.9771907\tbest: 0.9771934 (1199)\ttotal: 2m 12s\tremaining: 16m 7s\n",
      "1400:\ttest: 0.9775789\tbest: 0.9775789 (1400)\ttotal: 2m 33s\tremaining: 15m 40s\n",
      "1600:\ttest: 0.9778603\tbest: 0.9779162 (1517)\ttotal: 2m 54s\tremaining: 15m 15s\n",
      "1800:\ttest: 0.9780618\tbest: 0.9780809 (1793)\ttotal: 3m 15s\tremaining: 14m 49s\n",
      "2000:\ttest: 0.9782880\tbest: 0.9782954 (1998)\ttotal: 3m 35s\tremaining: 14m 22s\n",
      "2200:\ttest: 0.9783974\tbest: 0.9783974 (2200)\ttotal: 3m 56s\tremaining: 13m 57s\n",
      "2400:\ttest: 0.9784604\tbest: 0.9784885 (2277)\ttotal: 4m 16s\tremaining: 13m 31s\n",
      "2600:\ttest: 0.9785108\tbest: 0.9785377 (2517)\ttotal: 4m 36s\tremaining: 13m 6s\n",
      "2800:\ttest: 0.9786993\tbest: 0.9787128 (2790)\ttotal: 4m 56s\tremaining: 12m 40s\n",
      "3000:\ttest: 0.9786609\tbest: 0.9787128 (2790)\ttotal: 5m 15s\tremaining: 12m 16s\n",
      "bestTest = 0.9787127972\n",
      "bestIteration = 2790\n",
      "Shrink model to first 2791 iterations.\n"
     ]
    },
    {
     "data": {
      "text/plain": [
       "<catboost.core.CatBoostClassifier at 0x7f9c1a9b8a90>"
      ]
     },
     "execution_count": 93,
     "metadata": {},
     "output_type": "execute_result"
    }
   ],
   "source": [
    "catboost_model = cb.CatBoostClassifier(\n",
    "    iterations=10000,\n",
    "    depth=11,\n",
    "    learning_rate=0.124,\n",
    "    random_seed=0,\n",
    "    l2_leaf_reg=1,  # Regularization\n",
    "    bagging_temperature=0.6,  # Similar to reg_lambda\n",
    "    auto_class_weights=\"Balanced\",  # Handles imbalance automatically\n",
    "    eval_metric=\"AUC\",\n",
    "    early_stopping_rounds=400,\n",
    "    task_type=\"GPU\",  # Using GPU if available\n",
    "    nan_mode=\"Min\",\n",
    "    verbose=50\n",
    ")\n",
    "\n",
    "print(\"\\nTraining CatBoost Model...\\n\")\n",
    "catboost_model.fit(X_train, y_train, eval_set=(X_val, y_val), verbose=200)"
   ]
  },
  {
   "cell_type": "code",
   "execution_count": 94,
   "metadata": {
    "execution": {
     "iopub.execute_input": "2025-04-27T22:05:37.294443Z",
     "iopub.status.busy": "2025-04-27T22:05:37.294069Z",
     "iopub.status.idle": "2025-04-27T22:05:38.393797Z",
     "shell.execute_reply": "2025-04-27T22:05:38.392767Z",
     "shell.execute_reply.started": "2025-04-27T22:05:37.294408Z"
    },
    "trusted": true
   },
   "outputs": [],
   "source": [
    "joblib.dump(catboost_model, '/kaggle/working/cat_model.pkl')\n",
    "catboost_model.save_model('/kaggle/working/cat_model.cbm')  # Binary format"
   ]
  },
  {
   "cell_type": "markdown",
   "metadata": {},
   "source": [
    "### Predictions"
   ]
  },
  {
   "cell_type": "code",
   "execution_count": 95,
   "metadata": {
    "execution": {
     "iopub.execute_input": "2025-04-27T22:05:38.395032Z",
     "iopub.status.busy": "2025-04-27T22:05:38.394777Z",
     "iopub.status.idle": "2025-04-27T22:05:46.489974Z",
     "shell.execute_reply": "2025-04-27T22:05:46.489099Z",
     "shell.execute_reply.started": "2025-04-27T22:05:38.395011Z"
    },
    "trusted": true
   },
   "outputs": [
    {
     "name": "stdout",
     "output_type": "stream",
     "text": [
      "CATBOOST\n",
      "AUC = 0.9787, F1 = 0.8890, Recall = 0.8316, Precision = 0.9550\n",
      "Confusion Matrix:\n",
      "[[113813    162]\n",
      " [   696   3437]]\n"
     ]
    }
   ],
   "source": [
    "cat_val_preds = catboost_model.predict_proba(X_val)[:, 1]\n",
    "cat_test_preds = catboost_model.predict_proba(X_test)[:, 1]\n",
    "\n",
    "print(\"CATBOOST\")\n",
    "cat_probs = catboost_model.predict_proba(X_val)[:, 1]\n",
    "cat_preds = catboost_model.predict(X_val)\n",
    "\n",
    "cat_auc = roc_auc_score(y_val, cat_probs)\n",
    "cat_f1 = f1_score(y_val, cat_preds)\n",
    "cat_recall = recall_score(y_val, cat_preds)\n",
    "cat_precision = precision_score(y_val, cat_preds)\n",
    "cat_conf_matrix = confusion_matrix(y_val, cat_preds)\n",
    "\n",
    "print(f\"AUC = {cat_auc:.4f}, F1 = {cat_f1:.4f}, Recall = {cat_recall:.4f}, Precision = {cat_precision:.4f}\")\n",
    "print(\"Confusion Matrix:\")\n",
    "print(cat_conf_matrix)"
   ]
  },
  {
   "cell_type": "markdown",
   "metadata": {},
   "source": [
    "## Stacked Model"
   ]
  },
  {
   "cell_type": "code",
   "execution_count": 96,
   "metadata": {
    "execution": {
     "iopub.execute_input": "2025-04-27T22:05:46.491107Z",
     "iopub.status.busy": "2025-04-27T22:05:46.490808Z",
     "iopub.status.idle": "2025-04-27T22:05:46.550091Z",
     "shell.execute_reply": "2025-04-27T22:05:46.549032Z",
     "shell.execute_reply.started": "2025-04-27T22:05:46.491067Z"
    },
    "trusted": true
   },
   "outputs": [],
   "source": [
    "stacked_val = np.column_stack((xgb_val_preds, cat_val_preds))\n",
    "stacked_test = np.column_stack((xgb_test_preds, cat_test_preds))\n",
    "stacked_train, stacked_eval, y_train_stack, y_eval_stack = train_test_split(\n",
    "    stacked_val, y_val, test_size=0.2, random_state=42, stratify=y_val\n",
    ")"
   ]
  },
  {
   "cell_type": "code",
   "execution_count": 97,
   "metadata": {
    "execution": {
     "iopub.execute_input": "2025-04-27T22:05:46.551330Z",
     "iopub.status.busy": "2025-04-27T22:05:46.551038Z",
     "iopub.status.idle": "2025-04-27T22:06:06.829144Z",
     "shell.execute_reply": "2025-04-27T22:06:06.828137Z",
     "shell.execute_reply.started": "2025-04-27T22:05:46.551297Z"
    },
    "trusted": true
   },
   "outputs": [
    {
     "name": "stdout",
     "output_type": "stream",
     "text": [
      "\n",
      "Training Meta-Model (Stacking)...\n",
      "\n",
      "[LightGBM] [Info] Number of positive: 3306, number of negative: 91180\n",
      "[LightGBM] [Info] Auto-choosing row-wise multi-threading, the overhead of testing was 0.001435 seconds.\n",
      "You can set `force_row_wise=true` to remove the overhead.\n",
      "And if memory is not enough, you can set `force_col_wise=true`.\n",
      "[LightGBM] [Info] Total Bins 510\n",
      "[LightGBM] [Info] Number of data points in the train set: 94486, number of used features: 2\n",
      "[LightGBM] [Info] [binary:BoostFromScore]: pavg=0.034989 -> initscore=-3.317097\n",
      "[LightGBM] [Info] Start training from score -3.317097\n",
      "[200]\tvalid_0's auc: 0.981386\n",
      "[400]\tvalid_0's auc: 0.981394\n",
      "[600]\tvalid_0's auc: 0.980685\n",
      "[800]\tvalid_0's auc: 0.980386\n",
      "[1000]\tvalid_0's auc: 0.980274\n",
      "[1200]\tvalid_0's auc: 0.980294\n",
      "[1400]\tvalid_0's auc: 0.98012\n",
      "[1600]\tvalid_0's auc: 0.979914\n",
      "[1800]\tvalid_0's auc: 0.979695\n",
      "[2000]\tvalid_0's auc: 0.979747\n",
      "[2200]\tvalid_0's auc: 0.979481\n",
      "[2400]\tvalid_0's auc: 0.979404\n",
      "[2600]\tvalid_0's auc: 0.979321\n",
      "[2800]\tvalid_0's auc: 0.979402\n",
      "[3000]\tvalid_0's auc: 0.979331\n",
      "[3200]\tvalid_0's auc: 0.979182\n",
      "[3400]\tvalid_0's auc: 0.979006\n",
      "[3600]\tvalid_0's auc: 0.978884\n",
      "[3800]\tvalid_0's auc: 0.9785\n",
      "[4000]\tvalid_0's auc: 0.978215\n",
      "[4200]\tvalid_0's auc: 0.978084\n",
      "[4400]\tvalid_0's auc: 0.977706\n",
      "[4600]\tvalid_0's auc: 0.97732\n",
      "[4800]\tvalid_0's auc: 0.976973\n",
      "[5000]\tvalid_0's auc: 0.976812\n"
     ]
    },
    {
     "data": {
      "text/html": [
       "<style>#sk-container-id-2 {color: black;background-color: white;}#sk-container-id-2 pre{padding: 0;}#sk-container-id-2 div.sk-toggleable {background-color: white;}#sk-container-id-2 label.sk-toggleable__label {cursor: pointer;display: block;width: 100%;margin-bottom: 0;padding: 0.3em;box-sizing: border-box;text-align: center;}#sk-container-id-2 label.sk-toggleable__label-arrow:before {content: \"▸\";float: left;margin-right: 0.25em;color: #696969;}#sk-container-id-2 label.sk-toggleable__label-arrow:hover:before {color: black;}#sk-container-id-2 div.sk-estimator:hover label.sk-toggleable__label-arrow:before {color: black;}#sk-container-id-2 div.sk-toggleable__content {max-height: 0;max-width: 0;overflow: hidden;text-align: left;background-color: #f0f8ff;}#sk-container-id-2 div.sk-toggleable__content pre {margin: 0.2em;color: black;border-radius: 0.25em;background-color: #f0f8ff;}#sk-container-id-2 input.sk-toggleable__control:checked~div.sk-toggleable__content {max-height: 200px;max-width: 100%;overflow: auto;}#sk-container-id-2 input.sk-toggleable__control:checked~label.sk-toggleable__label-arrow:before {content: \"▾\";}#sk-container-id-2 div.sk-estimator input.sk-toggleable__control:checked~label.sk-toggleable__label {background-color: #d4ebff;}#sk-container-id-2 div.sk-label input.sk-toggleable__control:checked~label.sk-toggleable__label {background-color: #d4ebff;}#sk-container-id-2 input.sk-hidden--visually {border: 0;clip: rect(1px 1px 1px 1px);clip: rect(1px, 1px, 1px, 1px);height: 1px;margin: -1px;overflow: hidden;padding: 0;position: absolute;width: 1px;}#sk-container-id-2 div.sk-estimator {font-family: monospace;background-color: #f0f8ff;border: 1px dotted black;border-radius: 0.25em;box-sizing: border-box;margin-bottom: 0.5em;}#sk-container-id-2 div.sk-estimator:hover {background-color: #d4ebff;}#sk-container-id-2 div.sk-parallel-item::after {content: \"\";width: 100%;border-bottom: 1px solid gray;flex-grow: 1;}#sk-container-id-2 div.sk-label:hover label.sk-toggleable__label {background-color: #d4ebff;}#sk-container-id-2 div.sk-serial::before {content: \"\";position: absolute;border-left: 1px solid gray;box-sizing: border-box;top: 0;bottom: 0;left: 50%;z-index: 0;}#sk-container-id-2 div.sk-serial {display: flex;flex-direction: column;align-items: center;background-color: white;padding-right: 0.2em;padding-left: 0.2em;position: relative;}#sk-container-id-2 div.sk-item {position: relative;z-index: 1;}#sk-container-id-2 div.sk-parallel {display: flex;align-items: stretch;justify-content: center;background-color: white;position: relative;}#sk-container-id-2 div.sk-item::before, #sk-container-id-2 div.sk-parallel-item::before {content: \"\";position: absolute;border-left: 1px solid gray;box-sizing: border-box;top: 0;bottom: 0;left: 50%;z-index: -1;}#sk-container-id-2 div.sk-parallel-item {display: flex;flex-direction: column;z-index: 1;position: relative;background-color: white;}#sk-container-id-2 div.sk-parallel-item:first-child::after {align-self: flex-end;width: 50%;}#sk-container-id-2 div.sk-parallel-item:last-child::after {align-self: flex-start;width: 50%;}#sk-container-id-2 div.sk-parallel-item:only-child::after {width: 0;}#sk-container-id-2 div.sk-dashed-wrapped {border: 1px dashed gray;margin: 0 0.4em 0.5em 0.4em;box-sizing: border-box;padding-bottom: 0.4em;background-color: white;}#sk-container-id-2 div.sk-label label {font-family: monospace;font-weight: bold;display: inline-block;line-height: 1.2em;}#sk-container-id-2 div.sk-label-container {text-align: center;}#sk-container-id-2 div.sk-container {/* jupyter's `normalize.less` sets `[hidden] { display: none; }` but bootstrap.min.css set `[hidden] { display: none !important; }` so we also need the `!important` here to be able to override the default hidden behavior on the sphinx rendered scikit-learn.org. See: https://github.com/scikit-learn/scikit-learn/issues/21755 */display: inline-block !important;position: relative;}#sk-container-id-2 div.sk-text-repr-fallback {display: none;}</style><div id=\"sk-container-id-2\" class=\"sk-top-container\"><div class=\"sk-text-repr-fallback\"><pre>LGBMClassifier(learning_rate=0.01, max_depth=14, metric=&#x27;auc&#x27;,\n",
       "               min_child_samples=50, n_estimators=5000, n_jobs=-1,\n",
       "               objective=&#x27;binary&#x27;, random_state=42)</pre><b>In a Jupyter environment, please rerun this cell to show the HTML representation or trust the notebook. <br />On GitHub, the HTML representation is unable to render, please try loading this page with nbviewer.org.</b></div><div class=\"sk-container\" hidden><div class=\"sk-item\"><div class=\"sk-estimator sk-toggleable\"><input class=\"sk-toggleable__control sk-hidden--visually\" id=\"sk-estimator-id-2\" type=\"checkbox\" checked><label for=\"sk-estimator-id-2\" class=\"sk-toggleable__label sk-toggleable__label-arrow\">LGBMClassifier</label><div class=\"sk-toggleable__content\"><pre>LGBMClassifier(learning_rate=0.01, max_depth=14, metric=&#x27;auc&#x27;,\n",
       "               min_child_samples=50, n_estimators=5000, n_jobs=-1,\n",
       "               objective=&#x27;binary&#x27;, random_state=42)</pre></div></div></div></div></div>"
      ],
      "text/plain": [
       "LGBMClassifier(learning_rate=0.01, max_depth=14, metric='auc',\n",
       "               min_child_samples=50, n_estimators=5000, n_jobs=-1,\n",
       "               objective='binary', random_state=42)"
      ]
     },
     "execution_count": 97,
     "metadata": {},
     "output_type": "execute_result"
    }
   ],
   "source": [
    "from lightgbm import log_evaluation\n",
    "\n",
    "meta_model = lgb.LGBMClassifier(\n",
    "    n_estimators=5000,\n",
    "    max_depth=14,\n",
    "    learning_rate=0.01,\n",
    "    random_state=42,\n",
    "    n_jobs=-1,\n",
    "    metric='auc',\n",
    "    min_child_samples=50, \n",
    "    objective='binary',\n",
    "    \n",
    ")\n",
    "callbacks = [log_evaluation(period=200)]\n",
    "\n",
    "print(\"\\nTraining Meta-Model (Stacking)...\\n\")\n",
    "meta_model.fit(stacked_train, y_train_stack, eval_set=(stacked_eval, y_eval_stack), \n",
    "    callbacks=callbacks)\n"
   ]
  },
  {
   "cell_type": "code",
   "execution_count": 98,
   "metadata": {
    "execution": {
     "iopub.execute_input": "2025-04-27T22:06:06.830541Z",
     "iopub.status.busy": "2025-04-27T22:06:06.830175Z",
     "iopub.status.idle": "2025-04-27T22:06:07.262052Z",
     "shell.execute_reply": "2025-04-27T22:06:07.261302Z",
     "shell.execute_reply.started": "2025-04-27T22:06:06.830508Z"
    },
    "trusted": true
   },
   "outputs": [
    {
     "data": {
      "text/plain": [
       "['/kaggle/working/meta_model_val.pkl']"
      ]
     },
     "execution_count": 98,
     "metadata": {},
     "output_type": "execute_result"
    }
   ],
   "source": [
    "joblib.dump(meta_model, '/kaggle/working/meta_model_val.pkl')"
   ]
  },
  {
   "cell_type": "code",
   "execution_count": 99,
   "metadata": {
    "execution": {
     "iopub.execute_input": "2025-04-27T22:06:07.263108Z",
     "iopub.status.busy": "2025-04-27T22:06:07.262869Z",
     "iopub.status.idle": "2025-04-27T22:06:26.373085Z",
     "shell.execute_reply": "2025-04-27T22:06:26.372006Z",
     "shell.execute_reply.started": "2025-04-27T22:06:07.263075Z"
    },
    "trusted": true
   },
   "outputs": [
    {
     "name": "stdout",
     "output_type": "stream",
     "text": [
      "\n",
      "Evaluating Meta-Model...\n",
      "\n",
      "Final Validation Metrics:\n",
      "AUC = 0.9944, F1 = 0.8940, Recall = 0.9003, Precision = 0.8879\n",
      "Confusion Matrix:\n",
      "[[113505    470]\n",
      " [   412   3721]]\n"
     ]
    }
   ],
   "source": [
    "print(\"\\nEvaluating Meta-Model...\\n\")\n",
    "y_pred_final_proba = meta_model.predict_proba(stacked_val)[:, 1]  \n",
    "threshold = 0.3\n",
    "y_pred_final_labels = (y_pred_final_proba >= threshold).astype(int)\n",
    "\n",
    "test_auc = roc_auc_score(y_val, y_pred_final_proba)\n",
    "test_f1 = f1_score(y_val, y_pred_final_labels)\n",
    "test_recall = recall_score(y_val, y_pred_final_labels)\n",
    "test_precision = precision_score(y_val, y_pred_final_labels)\n",
    "test_conf_matrix = confusion_matrix(y_val, y_pred_final_labels)\n",
    "\n",
    "print(\"Final Validation Metrics:\")\n",
    "print(f\"AUC = {test_auc:.4f}, F1 = {test_f1:.4f}, Recall = {test_recall:.4f}, Precision = {test_precision:.4f}\")\n",
    "print(\"Confusion Matrix:\")\n",
    "print(test_conf_matrix)"
   ]
  },
  {
   "cell_type": "markdown",
   "metadata": {},
   "source": [
    "## Final submission"
   ]
  },
  {
   "cell_type": "code",
   "execution_count": 100,
   "metadata": {
    "execution": {
     "iopub.execute_input": "2025-04-27T22:06:26.374427Z",
     "iopub.status.busy": "2025-04-27T22:06:26.374055Z",
     "iopub.status.idle": "2025-04-27T22:07:45.172421Z",
     "shell.execute_reply": "2025-04-27T22:07:45.171723Z",
     "shell.execute_reply.started": "2025-04-27T22:06:26.374373Z"
    },
    "trusted": true
   },
   "outputs": [
    {
     "name": "stdout",
     "output_type": "stream",
     "text": [
      "\n",
      "Submission...\n",
      "\n"
     ]
    }
   ],
   "source": [
    "print(\"\\nSubmission...\\n\")\n",
    "\n",
    "# Predict probabilities for the test set\n",
    "y_pred = meta_model.predict_proba(stacked_test)[:, 1]\n",
    "\n",
    "# Optional: Apply threshold if needed\n",
    "# threshold = 0.6\n",
    "# y_pred_final_labels = (y_pred >= threshold).astype(int)\n",
    "\n",
    "# Load sample submission and write predictions\n",
    "result = pd.read_csv(f'{folder_path}sample_submission.csv')\n",
    "result['isFraud'] = y_pred\n",
    "result.to_csv('/kaggle/working/submission.csv', index=False)\n",
    "\n",
    "# Optional: Save stacked test predictions for further use or ensembling\n",
    "# df = pd.DataFrame(stacked_test, columns=[\"xgb_pred\", \"cat_pred\"])\n",
    "# df.to_csv('/kaggle/working/stacked_test_preds.csv', index=False)"
   ]
  },
  {
   "cell_type": "markdown",
   "metadata": {},
   "source": [
    "## Feature importance"
   ]
  },
  {
   "cell_type": "code",
   "execution_count": 101,
   "metadata": {
    "execution": {
     "iopub.execute_input": "2025-04-27T22:07:45.173396Z",
     "iopub.status.busy": "2025-04-27T22:07:45.173161Z",
     "iopub.status.idle": "2025-04-27T22:07:45.178256Z",
     "shell.execute_reply": "2025-04-27T22:07:45.177455Z",
     "shell.execute_reply.started": "2025-04-27T22:07:45.173361Z"
    },
    "trusted": true
   },
   "outputs": [],
   "source": [
    "def plot_feature_importance(importances, cols, title):\n",
    "    feature_imp = pd.DataFrame(sorted(zip(importances, cols)), columns=['Value', 'Feature'])\n",
    "    plt.figure(figsize=(12, 16))\n",
    "    sns.barplot(x=\"Value\", y=\"Feature\", data=feature_imp.sort_values(by=\"Value\", ascending=False).iloc[:50])\n",
    "    plt.title(title)\n",
    "    plt.tight_layout()\n",
    "    plt.show()"
   ]
  },
  {
   "cell_type": "code",
   "execution_count": null,
   "metadata": {
    "trusted": true
   },
   "outputs": [],
   "source": []
  },
  {
   "cell_type": "code",
   "execution_count": null,
   "metadata": {
    "trusted": true
   },
   "outputs": [],
   "source": []
  },
  {
   "cell_type": "code",
   "execution_count": null,
   "metadata": {
    "trusted": true
   },
   "outputs": [],
   "source": []
  },
  {
   "cell_type": "code",
   "execution_count": null,
   "metadata": {
    "trusted": true
   },
   "outputs": [],
   "source": []
  },
  {
   "cell_type": "code",
   "execution_count": null,
   "metadata": {
    "trusted": true
   },
   "outputs": [],
   "source": []
  },
  {
   "cell_type": "code",
   "execution_count": null,
   "metadata": {
    "trusted": true
   },
   "outputs": [],
   "source": []
  },
  {
   "cell_type": "code",
   "execution_count": null,
   "metadata": {
    "trusted": true
   },
   "outputs": [],
   "source": []
  },
  {
   "cell_type": "code",
   "execution_count": null,
   "metadata": {
    "trusted": true
   },
   "outputs": [],
   "source": []
  },
  {
   "cell_type": "code",
   "execution_count": null,
   "metadata": {
    "trusted": true
   },
   "outputs": [],
   "source": []
  },
  {
   "cell_type": "code",
   "execution_count": null,
   "metadata": {
    "trusted": true
   },
   "outputs": [],
   "source": []
  },
  {
   "cell_type": "code",
   "execution_count": null,
   "metadata": {
    "trusted": true
   },
   "outputs": [],
   "source": []
  },
  {
   "cell_type": "code",
   "execution_count": null,
   "metadata": {
    "trusted": true
   },
   "outputs": [],
   "source": []
  },
  {
   "cell_type": "code",
   "execution_count": null,
   "metadata": {
    "trusted": true
   },
   "outputs": [],
   "source": []
  },
  {
   "cell_type": "code",
   "execution_count": null,
   "metadata": {
    "trusted": true
   },
   "outputs": [],
   "source": []
  },
  {
   "cell_type": "code",
   "execution_count": null,
   "metadata": {
    "trusted": true
   },
   "outputs": [],
   "source": []
  },
  {
   "cell_type": "code",
   "execution_count": null,
   "metadata": {
    "trusted": true
   },
   "outputs": [],
   "source": []
  },
  {
   "cell_type": "code",
   "execution_count": null,
   "metadata": {
    "trusted": true
   },
   "outputs": [],
   "source": []
  },
  {
   "cell_type": "code",
   "execution_count": null,
   "metadata": {
    "trusted": true
   },
   "outputs": [],
   "source": []
  },
  {
   "cell_type": "code",
   "execution_count": null,
   "metadata": {
    "trusted": true
   },
   "outputs": [],
   "source": []
  },
  {
   "cell_type": "code",
   "execution_count": null,
   "metadata": {
    "trusted": true
   },
   "outputs": [],
   "source": []
  },
  {
   "cell_type": "code",
   "execution_count": null,
   "metadata": {
    "trusted": true
   },
   "outputs": [],
   "source": []
  },
  {
   "cell_type": "code",
   "execution_count": null,
   "metadata": {
    "trusted": true
   },
   "outputs": [],
   "source": []
  },
  {
   "cell_type": "code",
   "execution_count": null,
   "metadata": {
    "trusted": true
   },
   "outputs": [],
   "source": []
  },
  {
   "cell_type": "code",
   "execution_count": null,
   "metadata": {
    "trusted": true
   },
   "outputs": [],
   "source": []
  },
  {
   "cell_type": "code",
   "execution_count": null,
   "metadata": {
    "trusted": true
   },
   "outputs": [],
   "source": []
  },
  {
   "cell_type": "code",
   "execution_count": null,
   "metadata": {
    "trusted": true
   },
   "outputs": [],
   "source": []
  },
  {
   "cell_type": "code",
   "execution_count": null,
   "metadata": {
    "trusted": true
   },
   "outputs": [],
   "source": []
  },
  {
   "cell_type": "code",
   "execution_count": null,
   "metadata": {
    "trusted": true
   },
   "outputs": [],
   "source": []
  },
  {
   "cell_type": "code",
   "execution_count": null,
   "metadata": {
    "trusted": true
   },
   "outputs": [],
   "source": []
  },
  {
   "cell_type": "code",
   "execution_count": null,
   "metadata": {
    "trusted": true
   },
   "outputs": [],
   "source": []
  },
  {
   "cell_type": "code",
   "execution_count": null,
   "metadata": {
    "trusted": true
   },
   "outputs": [],
   "source": []
  },
  {
   "cell_type": "code",
   "execution_count": null,
   "metadata": {
    "trusted": true
   },
   "outputs": [],
   "source": []
  },
  {
   "cell_type": "code",
   "execution_count": null,
   "metadata": {
    "trusted": true
   },
   "outputs": [],
   "source": []
  },
  {
   "cell_type": "code",
   "execution_count": null,
   "metadata": {
    "trusted": true
   },
   "outputs": [],
   "source": []
  },
  {
   "cell_type": "code",
   "execution_count": null,
   "metadata": {
    "trusted": true
   },
   "outputs": [],
   "source": []
  },
  {
   "cell_type": "code",
   "execution_count": null,
   "metadata": {
    "trusted": true
   },
   "outputs": [],
   "source": []
  },
  {
   "cell_type": "code",
   "execution_count": null,
   "metadata": {
    "trusted": true
   },
   "outputs": [],
   "source": []
  },
  {
   "cell_type": "code",
   "execution_count": null,
   "metadata": {
    "trusted": true
   },
   "outputs": [],
   "source": []
  },
  {
   "cell_type": "code",
   "execution_count": null,
   "metadata": {
    "trusted": true
   },
   "outputs": [],
   "source": []
  },
  {
   "cell_type": "code",
   "execution_count": null,
   "metadata": {
    "trusted": true
   },
   "outputs": [],
   "source": []
  },
  {
   "cell_type": "code",
   "execution_count": null,
   "metadata": {
    "trusted": true
   },
   "outputs": [],
   "source": []
  },
  {
   "cell_type": "code",
   "execution_count": null,
   "metadata": {
    "trusted": true
   },
   "outputs": [],
   "source": []
  },
  {
   "cell_type": "code",
   "execution_count": null,
   "metadata": {
    "trusted": true
   },
   "outputs": [],
   "source": []
  },
  {
   "cell_type": "code",
   "execution_count": null,
   "metadata": {
    "trusted": true
   },
   "outputs": [],
   "source": []
  },
  {
   "cell_type": "code",
   "execution_count": null,
   "metadata": {
    "trusted": true
   },
   "outputs": [],
   "source": []
  },
  {
   "cell_type": "code",
   "execution_count": null,
   "metadata": {
    "trusted": true
   },
   "outputs": [],
   "source": []
  },
  {
   "cell_type": "code",
   "execution_count": null,
   "metadata": {
    "trusted": true
   },
   "outputs": [],
   "source": []
  },
  {
   "cell_type": "code",
   "execution_count": null,
   "metadata": {
    "trusted": true
   },
   "outputs": [],
   "source": []
  },
  {
   "cell_type": "code",
   "execution_count": null,
   "metadata": {
    "trusted": true
   },
   "outputs": [],
   "source": []
  },
  {
   "cell_type": "code",
   "execution_count": null,
   "metadata": {
    "trusted": true
   },
   "outputs": [],
   "source": []
  },
  {
   "cell_type": "code",
   "execution_count": null,
   "metadata": {
    "trusted": true
   },
   "outputs": [],
   "source": []
  },
  {
   "cell_type": "code",
   "execution_count": null,
   "metadata": {
    "trusted": true
   },
   "outputs": [],
   "source": []
  },
  {
   "cell_type": "code",
   "execution_count": null,
   "metadata": {
    "trusted": true
   },
   "outputs": [],
   "source": []
  },
  {
   "cell_type": "code",
   "execution_count": null,
   "metadata": {
    "trusted": true
   },
   "outputs": [],
   "source": []
  },
  {
   "cell_type": "code",
   "execution_count": null,
   "metadata": {
    "trusted": true
   },
   "outputs": [],
   "source": []
  },
  {
   "cell_type": "code",
   "execution_count": null,
   "metadata": {
    "trusted": true
   },
   "outputs": [],
   "source": []
  },
  {
   "cell_type": "code",
   "execution_count": null,
   "metadata": {
    "trusted": true
   },
   "outputs": [],
   "source": []
  },
  {
   "cell_type": "code",
   "execution_count": null,
   "metadata": {
    "trusted": true
   },
   "outputs": [],
   "source": []
  },
  {
   "cell_type": "code",
   "execution_count": null,
   "metadata": {
    "trusted": true
   },
   "outputs": [],
   "source": []
  },
  {
   "cell_type": "code",
   "execution_count": null,
   "metadata": {
    "trusted": true
   },
   "outputs": [],
   "source": []
  },
  {
   "cell_type": "code",
   "execution_count": null,
   "metadata": {
    "trusted": true
   },
   "outputs": [],
   "source": []
  },
  {
   "cell_type": "code",
   "execution_count": null,
   "metadata": {
    "trusted": true
   },
   "outputs": [],
   "source": []
  },
  {
   "cell_type": "code",
   "execution_count": null,
   "metadata": {
    "trusted": true
   },
   "outputs": [],
   "source": []
  },
  {
   "cell_type": "code",
   "execution_count": null,
   "metadata": {
    "trusted": true
   },
   "outputs": [],
   "source": []
  },
  {
   "cell_type": "code",
   "execution_count": null,
   "metadata": {
    "trusted": true
   },
   "outputs": [],
   "source": []
  },
  {
   "cell_type": "code",
   "execution_count": null,
   "metadata": {
    "trusted": true
   },
   "outputs": [],
   "source": []
  },
  {
   "cell_type": "code",
   "execution_count": null,
   "metadata": {
    "trusted": true
   },
   "outputs": [],
   "source": []
  },
  {
   "cell_type": "code",
   "execution_count": null,
   "metadata": {
    "trusted": true
   },
   "outputs": [],
   "source": []
  },
  {
   "cell_type": "code",
   "execution_count": null,
   "metadata": {
    "trusted": true
   },
   "outputs": [],
   "source": []
  },
  {
   "cell_type": "code",
   "execution_count": null,
   "metadata": {
    "trusted": true
   },
   "outputs": [],
   "source": []
  },
  {
   "cell_type": "code",
   "execution_count": null,
   "metadata": {
    "trusted": true
   },
   "outputs": [],
   "source": []
  },
  {
   "cell_type": "code",
   "execution_count": null,
   "metadata": {
    "trusted": true
   },
   "outputs": [],
   "source": []
  },
  {
   "cell_type": "code",
   "execution_count": null,
   "metadata": {
    "trusted": true
   },
   "outputs": [],
   "source": []
  },
  {
   "cell_type": "code",
   "execution_count": null,
   "metadata": {
    "trusted": true
   },
   "outputs": [],
   "source": []
  },
  {
   "cell_type": "code",
   "execution_count": null,
   "metadata": {
    "trusted": true
   },
   "outputs": [],
   "source": []
  },
  {
   "cell_type": "code",
   "execution_count": null,
   "metadata": {
    "trusted": true
   },
   "outputs": [],
   "source": []
  },
  {
   "cell_type": "code",
   "execution_count": null,
   "metadata": {
    "trusted": true
   },
   "outputs": [],
   "source": []
  },
  {
   "cell_type": "code",
   "execution_count": null,
   "metadata": {
    "trusted": true
   },
   "outputs": [],
   "source": []
  },
  {
   "cell_type": "code",
   "execution_count": null,
   "metadata": {
    "trusted": true
   },
   "outputs": [],
   "source": []
  },
  {
   "cell_type": "code",
   "execution_count": null,
   "metadata": {
    "trusted": true
   },
   "outputs": [],
   "source": []
  },
  {
   "cell_type": "code",
   "execution_count": null,
   "metadata": {
    "trusted": true
   },
   "outputs": [],
   "source": []
  },
  {
   "cell_type": "code",
   "execution_count": null,
   "metadata": {
    "trusted": true
   },
   "outputs": [],
   "source": []
  },
  {
   "cell_type": "code",
   "execution_count": null,
   "metadata": {
    "trusted": true
   },
   "outputs": [],
   "source": []
  },
  {
   "cell_type": "code",
   "execution_count": null,
   "metadata": {
    "trusted": true
   },
   "outputs": [],
   "source": []
  },
  {
   "cell_type": "code",
   "execution_count": null,
   "metadata": {
    "trusted": true
   },
   "outputs": [],
   "source": []
  },
  {
   "cell_type": "code",
   "execution_count": null,
   "metadata": {
    "trusted": true
   },
   "outputs": [],
   "source": []
  }
 ],
 "metadata": {
  "accelerator": "GPU",
  "colab": {
   "collapsed_sections": [],
   "machine_shape": "hm",
   "name": "Copy of  Model.ipynb",
   "provenance": []
  },
  "kaggle": {
   "accelerator": "nvidiaTeslaT4",
   "dataSources": [
    {
     "databundleVersionId": 568274,
     "sourceId": 14242,
     "sourceType": "competition"
    }
   ],
   "dockerImageVersionId": 30887,
   "isGpuEnabled": true,
   "isInternetEnabled": true,
   "language": "python",
   "sourceType": "notebook"
  },
  "kernelspec": {
   "display_name": "venv",
   "language": "python",
   "name": "python3"
  },
  "language_info": {
   "codemirror_mode": {
    "name": "ipython",
    "version": 3
   },
   "file_extension": ".py",
   "mimetype": "text/x-python",
   "name": "python",
   "nbconvert_exporter": "python",
   "pygments_lexer": "ipython3",
   "version": "3.12.6"
  }
 },
 "nbformat": 4,
 "nbformat_minor": 4
}

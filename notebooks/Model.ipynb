{
  "cells": [
    {
      "cell_type": "code",
      "execution_count": 3,
      "metadata": {
        "colab": {},
        "colab_type": "code",
        "id": "hePAVnT3TBAz"
      },
      "outputs": [],
      "source": [
        "import numpy as np\n",
        "import pandas as pd\n",
        "import seaborn as sns\n",
        "import matplotlib.pyplot as plt\n",
        "import datetime\n",
        "import gc\n",
        "import hashlib\n",
        "\n",
        "from sklearn import preprocessing\n",
        "from sklearn.preprocessing import LabelEncoder\n",
        "from sklearn.model_selection import GridSearchCV, StratifiedKFold, TimeSeriesSplit, KFold, GroupKFold\n",
        "from sklearn.metrics import roc_auc_score\n",
        "\n",
        "import catboost as cb\n",
        "import lightgbm as lgb\n",
        "import xgboost as xgb\n",
        "\n",
        "import warnings\n",
        "warnings.filterwarnings('ignore')"
      ]
    },
    {
      "cell_type": "code",
      "execution_count": 4,
      "metadata": {
        "colab": {},
        "colab_type": "code",
        "id": "99dYi0tf8xoj"
      },
      "outputs": [],
      "source": [
        "# Process DeviceInfo, id_30-31 and generate a feature 'has identity'\n",
        "def id_split(dataframe):\n",
        "  dataframe['device_name'] = dataframe['DeviceInfo'].str.split('/', expand=True)[0]\n",
        "  dataframe['device_version'] = dataframe['DeviceInfo'].str.split('/', expand=True)[1] #extracts the part before / (device name) and  the part after / (device version).\n",
        "  dataframe['OS_id_30'] = dataframe['id_30'].str.split(' ', expand=True)[0]\n",
        "  dataframe['browser_id_31'] = dataframe['id_31'].str.split(' ', expand=True)[0]\n",
        "  dataframe.loc[dataframe['device_name'].str.contains('SM', na=False), 'device_name'] = 'Samsung' # replace Sm with Samsung\n",
        "  dataframe.loc[dataframe['device_name'].str.contains('SAMSUNG', na=False), 'device_name'] = 'Samsung'\n",
        "  dataframe.loc[dataframe['device_name'].str.contains('GT-', na=False), 'device_name'] = 'Samsung'\n",
        "  dataframe.loc[dataframe['device_name'].str.contains('Moto G', na=False), 'device_name'] = 'Motorola'\n",
        "  dataframe.loc[dataframe['device_name'].str.contains('Moto', na=False), 'device_name'] = 'Motorola'\n",
        "  dataframe.loc[dataframe['device_name'].str.contains('moto', na=False), 'device_name'] = 'Motorola'\n",
        "  dataframe.loc[dataframe['device_name'].str.contains('LG-', na=False), 'device_name'] = 'LG'\n",
        "  dataframe.loc[dataframe['device_name'].str.contains('rv:', na=False), 'device_name'] = 'RV'# rv:This is often found in browser user agents, not device names.\n",
        "  dataframe.loc[dataframe['device_name'].str.contains('HUAWEI', na=False), 'device_name'] = 'Huawei'\n",
        "  dataframe.loc[dataframe['device_name'].str.contains('ALE-', na=False), 'device_name'] = 'Huawei'\n",
        "  dataframe.loc[dataframe['device_name'].str.contains('-L', na=False), 'device_name'] = 'Huawei'#-L → While used in Huawei devices, it is too generic and might misclassify other brands.\n",
        "  dataframe.loc[dataframe['device_name'].str.contains('Blade', na=False), 'device_name'] = 'ZTE'\n",
        "  dataframe.loc[dataframe['device_name'].str.contains('BLADE', na=False), 'device_name'] = 'ZTE'\n",
        "  dataframe.loc[dataframe['device_name'].str.contains('Linux', na=False), 'device_name'] = 'Linux'\n",
        "  dataframe.loc[dataframe['device_name'].str.contains('XT', na=False), 'device_name'] = 'Sony' #XT → Should be Motorola\n",
        "  dataframe.loc[dataframe['device_name'].str.contains('HTC', na=False), 'device_name'] = 'HTC'\n",
        "  dataframe.loc[dataframe['device_name'].str.contains('ASUS', na=False), 'device_name'] = 'Asus'\n",
        "#hi6210sft is huawei\n",
        "#F5121 Build and F3213 Build are sony devices\n",
        "# Classes that are too sparse are placed in other classes\n",
        "  dataframe.loc[dataframe.device_name.isin(dataframe.device_name.value_counts()[dataframe.device_name.value_counts() < 100].index), 'device_name'] = \"Others\"\n",
        "  dataframe['had_id'] = 1\n",
        "  gc.collect() # to free up memory\n",
        "  return dataframe"
      ]
    },
    {
      "cell_type": "code",
      "execution_count": 5,
      "metadata": {
        "colab": {},
        "colab_type": "code",
        "id": "2O8TbADaQT3E"
      },
      "outputs": [],
      "source": [
        "folder_path = '../data/raw/'\n",
        "train_identity = pd.read_csv(f'{folder_path}train_identity.csv')\n",
        "train_transaction = pd.read_csv(f'{folder_path}train_transaction.csv')\n",
        "test_identity = pd.read_csv(f'{folder_path}test_identity.csv')\n",
        "test_transaction = pd.read_csv(f'{folder_path}test_transaction.csv')"
      ]
    },
    {
      "cell_type": "code",
      "execution_count": 6,
      "metadata": {},
      "outputs": [],
      "source": [
        "# Rename columns in test_identity (replace hyphens with underscores in \"id-xx\" columns)\n",
        "test_identity.columns = [col.replace(\"id-\", \"id_\") for col in test_identity.columns]"
      ]
    },
    {
      "cell_type": "code",
      "execution_count": 7,
      "metadata": {},
      "outputs": [
        {
          "name": "stdout",
          "output_type": "stream",
          "text": [
            "Index(['TransactionID', 'id_01', 'id_02', 'id_03', 'id_04', 'id_05', 'id_06',\n",
            "       'id_07', 'id_08', 'id_09', 'id_10', 'id_11', 'id_12', 'id_13', 'id_14',\n",
            "       'id_15', 'id_16', 'id_17', 'id_18', 'id_19', 'id_20', 'id_21', 'id_22',\n",
            "       'id_23', 'id_24', 'id_25', 'id_26', 'id_27', 'id_28', 'id_29', 'id_30',\n",
            "       'id_31', 'id_32', 'id_33', 'id_34', 'id_35', 'id_36', 'id_37', 'id_38',\n",
            "       'DeviceType', 'DeviceInfo'],\n",
            "      dtype='object')\n"
          ]
        }
      ],
      "source": [
        "print(test_identity.columns)"
      ]
    },
    {
      "cell_type": "code",
      "execution_count": 8,
      "metadata": {
        "colab": {},
        "colab_type": "code",
        "id": "09ujBqO-9k3m"
      },
      "outputs": [],
      "source": [
        "train_identity = id_split(train_identity)\n",
        "test_identity = id_split(test_identity)"
      ]
    },
    {
      "cell_type": "code",
      "execution_count": 9,
      "metadata": {},
      "outputs": [
        {
          "name": "stdout",
          "output_type": "stream",
          "text": [
            "['Samsung', 'iOS Device', 'Windows', nan, 'MacOS', 'ZTE', 'Sony', 'Others', 'RV', 'LG', 'Trident', 'Huawei', 'Motorola', 'HTC', 'F5121 Build', 'F3213 Build', 'Linux', 'hi6210sft Build']\n"
          ]
        }
      ],
      "source": [
        "device_names_list = train_identity['device_name'].unique().tolist()\n",
        "print(device_names_list)"
      ]
    },
    {
      "cell_type": "code",
      "execution_count": 10,
      "metadata": {
        "colab": {
          "base_uri": "https://localhost:8080/",
          "height": 51
        },
        "colab_type": "code",
        "id": "eVbLDCxw9smX",
        "outputId": "e2ec7e81-ec39-473e-e19b-f2796bd103fa"
      },
      "outputs": [
        {
          "name": "stdout",
          "output_type": "stream",
          "text": [
            "(144233, 46)\n",
            "(141907, 46)\n"
          ]
        }
      ],
      "source": [
        "print(train_identity.shape)\n",
        "print(test_identity.shape)"
      ]
    },
    {
      "cell_type": "code",
      "execution_count": 11,
      "metadata": {
        "colab": {
          "base_uri": "https://localhost:8080/",
          "height": 1000
        },
        "colab_type": "code",
        "id": "3ZB7IzrIAJ9M",
        "outputId": "5ff80129-3616-4797-fff2-665df32f261d"
      },
      "outputs": [
        {
          "name": "stdout",
          "output_type": "stream",
          "text": [
            "device_name\n",
            "Windows            47722\n",
            "iOS Device         19782\n",
            "MacOS              12573\n",
            "Samsung            12092\n",
            "Trident             7440\n",
            "Others              4978\n",
            "RV                  4385\n",
            "Motorola            2935\n",
            "Huawei              2377\n",
            "LG                  2331\n",
            "Sony                 575\n",
            "ZTE                  518\n",
            "HTC                  406\n",
            "hi6210sft Build      190\n",
            "F3213 Build          125\n",
            "Linux                121\n",
            "F5121 Build          116\n",
            "Name: count, dtype: int64\n",
            "device_version\n",
            "7.0                7440\n",
            "NRD90M             5908\n",
            "MMB29K             1874\n",
            "MRA58K             1446\n",
            "MMB29M             1342\n",
            "                   ... \n",
            "NPKS25.200-12-9       1\n",
            "H81022f               1\n",
            "V100                  1\n",
            "H81021z               1\n",
            "HUAWEILDN-LX3         1\n",
            "Name: count, Length: 293, dtype: int64\n",
            "OS_id_30\n",
            "Windows    36739\n",
            "iOS        19782\n",
            "Mac        13580\n",
            "Android     6303\n",
            "Linux       1136\n",
            "other         15\n",
            "func          10\n",
            "Name: count, dtype: int64\n",
            "browser_id_31\n",
            "chrome               76059\n",
            "mobile               28379\n",
            "ie                    9733\n",
            "safari                8913\n",
            "firefox               7012\n",
            "edge                  6401\n",
            "samsung               2044\n",
            "opera                  449\n",
            "android                386\n",
            "other                  312\n",
            "Samsung/SM-G532M       150\n",
            "google                 146\n",
            "Generic/Android        138\n",
            "Samsung/SM-G531H        52\n",
            "Microsoft/Windows       25\n",
            "silk                    19\n",
            "ZTE/Blade                9\n",
            "comodo                   6\n",
            "maxthon                  6\n",
            "line                     6\n",
            "aol                      5\n",
            "icedragon                5\n",
            "Mozilla/Firefox          5\n",
            "Lanix/Ilium              3\n",
            "waterfox                 2\n",
            "facebook                 2\n",
            "palemoon                 2\n",
            "puffin                   2\n",
            "iron                     1\n",
            "LG/K-200                 1\n",
            "seamonkey                1\n",
            "M4Tel/M4                 1\n",
            "cyberfox                 1\n",
            "chromium                 1\n",
            "Inco/Minion              1\n",
            "Samsung/SCH              1\n",
            "Cherry                   1\n",
            "Nokia/Lumia              1\n",
            "BLU/Dash                 1\n",
            "Name: count, dtype: int64\n"
          ]
        }
      ],
      "source": [
        "# New fields have been added\n",
        "print(train_identity['device_name'].value_counts())\n",
        "print(train_identity['device_version'].value_counts())\n",
        "print(train_identity['OS_id_30'].value_counts())\n",
        "print(train_identity['browser_id_31'].value_counts())"
      ]
    },
    {
      "cell_type": "code",
      "execution_count": 12,
      "metadata": {
        "colab": {},
        "colab_type": "code",
        "id": "AIBhQL0p-Y44"
      },
      "outputs": [],
      "source": [
        "# Let's combine the data and work with the whole dataset\n",
        "train = pd.merge(train_transaction, train_identity, on = 'TransactionID', how = 'left')# train_transaction|train_identity\n",
        "test = pd.merge(test_transaction, test_identity, on = 'TransactionID', how = 'left')"
      ]
    },
    {
      "cell_type": "code",
      "execution_count": 13,
      "metadata": {
        "colab": {},
        "colab_type": "code",
        "id": "b6GXjCyMTMoY"
      },
      "outputs": [],
      "source": [
        "del train_transaction, test_transaction, train_identity, test_identity"
      ]
    },
    {
      "cell_type": "code",
      "execution_count": 14,
      "metadata": {
        "colab": {},
        "colab_type": "code",
        "id": "mSLRa7OBJpdP"
      },
      "outputs": [],
      "source": [
        "train_len = len(train)"
      ]
    },
    {
      "cell_type": "markdown",
      "metadata": {
        "colab_type": "text",
        "id": "Y2ppvswi-y1L"
      },
      "source": [
        "## Feature Engineering"
      ]
    },
    {
      "cell_type": "markdown",
      "metadata": {
        "colab_type": "text",
        "id": "ik937gK0BFgu"
      },
      "source": [
        "- DT_D (Days)\n",
        "- DT_W (Weeks)\n",
        "- DT_M (Months)"
      ]
    },
    {
      "cell_type": "code",
      "execution_count": 15,
      "metadata": {
        "colab": {},
        "colab_type": "code",
        "id": "DwEMZcN0-5Jr"
      },
      "outputs": [],
      "source": [
        "START_DATE = '2017-11-30'\n",
        "startdate = datetime.datetime.strptime(START_DATE, '%Y-%m-%d')\n",
        "train['TransactionDT'] = train['TransactionDT'].apply(lambda x: startdate + datetime.timedelta(seconds=x))\n",
        "test['TransactionDT'] = test['TransactionDT'].apply(lambda x: startdate + datetime.timedelta(seconds=x))\n",
        "for df in [train, test]:\n",
        "    df['DT_D'] = ((df['TransactionDT'].dt.year - 2017) * 365 + df['TransactionDT'].dt.dayofyear).astype(np.int16)#Uses day of the year (dayofyear) to count days from 2017\n",
        "    df['DT_W'] = (df['TransactionDT'].dt.year - 2017) * 52 + df['TransactionDT'].dt.isocalendar().week\n",
        "    df['DT_M'] = (df['TransactionDT'].dt.year - 2017) * 12 + df['TransactionDT'].dt.month"
      ]
    },
    {
      "cell_type": "code",
      "execution_count": 16,
      "metadata": {
        "colab": {
          "base_uri": "https://localhost:8080/",
          "height": 119
        },
        "colab_type": "code",
        "id": "EK43eYjf_fwA",
        "outputId": "bd7a35b4-1d4b-4b19-a8a1-de716dc8c1d1"
      },
      "outputs": [
        {
          "data": {
            "text/plain": [
              "ProductCD\n",
              "W    439670\n",
              "C     68519\n",
              "R     37699\n",
              "H     33024\n",
              "S     11628\n",
              "Name: count, dtype: int64"
            ]
          },
          "execution_count": 16,
          "metadata": {},
          "output_type": "execute_result"
        }
      ],
      "source": [
        "train.ProductCD.value_counts()"
      ]
    },
    {
      "cell_type": "markdown",
      "metadata": {
        "colab_type": "text",
        "id": "WexANhdz_yHx"
      },
      "source": [
        "Recognizing that the various categories of ProductCD behave differently in terms of fraud and time series, we split their count_encoding feature into five indicators"
      ]
    },
    {
      "cell_type": "code",
      "execution_count": 17,
      "metadata": {
        "colab": {},
        "colab_type": "code",
        "id": "YCiyk9rK_ivz"
      },
      "outputs": [],
      "source": [
        "# W\n",
        "te = train.groupby(['ProductCD','DT_D'])['isFraud'].agg(['count','mean'])#groupby ProductCD and DT_D and aggregate count and mean of isFraud\n",
        "te.reset_index(inplace=True)\n",
        "train['ProductCD_W_Day'] = pd.merge(train[['ProductCD','DT_D']],te[['ProductCD','DT_D','count']],on = ['ProductCD','DT_D'],how='left')['count']#nombre total de transactions pour un produit donné (ProductCD) à une date donnée (DT_D).\n",
        "te = test.groupby(['ProductCD','DT_D'])['TransactionAmt'].agg(['count','mean'])##On a specific day X (DT_D = X), we will know:The total number of transactions for each ProductCD and The average transaction amount for that product on that day.\n",
        "te.reset_index(inplace=True)\n",
        "test['ProductCD_W_Day'] = pd.merge(test[['ProductCD','DT_D']],te[['ProductCD','DT_D','count']],on = ['ProductCD','DT_D'],how='left')['count']\n",
        "train.loc[train.ProductCD != 'W','ProductCD_W_Day'] = -999\n",
        "test.loc[test.ProductCD != 'W','ProductCD_W_Day'] = -999#sets the value to -999 for all rows where ProductCD is NOT 'W\n",
        "\n",
        "# C\n",
        "te = train.groupby(['ProductCD','DT_D'])['isFraud'].agg(['count','mean'])\n",
        "te.reset_index(inplace=True)\n",
        "train['ProductCD_C_Day'] = pd.merge(train[['ProductCD','DT_D']],te[['ProductCD','DT_D','count']],on = ['ProductCD','DT_D'],how='left')['count']\n",
        "te = test.groupby(['ProductCD','DT_D'])['TransactionAmt'].agg(['count','mean'])\n",
        "te.reset_index(inplace=True)\n",
        "test['ProductCD_C_Day'] = pd.merge(test[['ProductCD','DT_D']],te[['ProductCD','DT_D','count']],on = ['ProductCD','DT_D'],how='left')['count']\n",
        "train.loc[train.ProductCD != 'C','ProductCD_C_Day'] = 999999\n",
        "test.loc[test.ProductCD != 'C','ProductCD_C_Day'] = 999999\n",
        "\n",
        "# R\n",
        "te = train.groupby(['ProductCD','DT_D'])['isFraud'].agg(['count','mean'])\n",
        "te.reset_index(inplace=True)\n",
        "train['ProductCD_R_Day'] = pd.merge(train[['ProductCD','DT_D']],te[['ProductCD','DT_D','count']],on = ['ProductCD','DT_D'],how='left')['count']\n",
        "te = test.groupby(['ProductCD','DT_D'])['TransactionAmt'].agg(['count','mean'])\n",
        "te.reset_index(inplace=True)\n",
        "test['ProductCD_R_Day'] = pd.merge(test[['ProductCD','DT_D']],te[['ProductCD','DT_D','count']],on = ['ProductCD','DT_D'],how='left')['count']\n",
        "train.loc[train.ProductCD != 'R','ProductCD_R_Day'] = -999\n",
        "test.loc[test.ProductCD != 'R','ProductCD_R_Day'] = -999\n",
        "\n",
        "# H\n",
        "te = train.groupby(['ProductCD','DT_D'])['isFraud'].agg(['count','mean'])\n",
        "te.reset_index(inplace=True)\n",
        "train['ProductCD_H_Day'] = pd.merge(train[['ProductCD','DT_D']],te[['ProductCD','DT_D','count']],on = ['ProductCD','DT_D'],how='left')['count']\n",
        "te = test.groupby(['ProductCD','DT_D'])['TransactionAmt'].agg(['count','mean'])\n",
        "te.reset_index(inplace=True)\n",
        "test['ProductCD_H_Day'] = pd.merge(test[['ProductCD','DT_D']],te[['ProductCD','DT_D','count']],on = ['ProductCD','DT_D'],how='left')['count']\n",
        "train.loc[train.ProductCD != 'H','ProductCD_H_Day'] = -999\n",
        "test.loc[test.ProductCD != 'H','ProductCD_H_Day'] = -999\n",
        "\n",
        "# S\n",
        "te = train.groupby(['ProductCD','DT_D'])['isFraud'].agg(['count','mean'])\n",
        "te.reset_index(inplace=True)\n",
        "train['ProductCD_S_Day'] = pd.merge(train[['ProductCD','DT_D']],te[['ProductCD','DT_D','count']],on = ['ProductCD','DT_D'],how='left')['count']\n",
        "te = test.groupby(['ProductCD','DT_D'])['TransactionAmt'].agg(['count','mean'])\n",
        "te.reset_index(inplace=True)\n",
        "test['ProductCD_S_Day'] = pd.merge(test[['ProductCD','DT_D']],te[['ProductCD','DT_D','count']],on = ['ProductCD','DT_D'],how='left')['count']\n",
        "train.loc[train.ProductCD != 'S','ProductCD_S_Day'] = -999\n",
        "test.loc[test.ProductCD != 'S','ProductCD_S_Day'] = -999"
      ]
    },
    {
      "cell_type": "code",
      "execution_count": 18,
      "metadata": {
        "colab": {
          "base_uri": "https://localhost:8080/",
          "height": 34
        },
        "colab_type": "code",
        "id": "EJVkPFTeAUkJ",
        "outputId": "110ec43e-11e8-4cdd-8781-4a475d923754"
      },
      "outputs": [
        {
          "name": "stdout",
          "output_type": "stream",
          "text": [
            "['ProductCD_W_Day', 'ProductCD_C_Day', 'ProductCD_R_Day', 'ProductCD_H_Day', 'ProductCD_S_Day']\n"
          ]
        }
      ],
      "source": [
        "# Five new fields have been added\n",
        "print(train.columns[-5:].tolist())"
      ]
    },
    {
      "cell_type": "code",
      "execution_count": null,
      "metadata": {
        "colab": {},
        "colab_type": "code",
        "id": "DEcOAgCxAZ7S"
      },
      "outputs": [],
      "source": [
        "# Use card series and open_card fields are used as identifiers only UserID\n",
        "train['open_card'] = train.DT_D - train['D1'] #This creates a new column open_card in the train dataframe by subtracting the values in column D1 from DT_D\n",
        "train['first_tran'] = train.DT_D - train['D2']\n",
        "test['open_card'] = test.DT_D - test['D1']\n",
        "test['first_tran'] = test.DT_D - test['D2']\n",
        "#uid1 is a unique identifier for each user\n",
        "train['uid1'] = train['card1'].astype(str) +' '+ train['card2'].astype(str)+' '+ train['card3'].astype(str)+' '+train['card4'].astype(str)+' '+ train['card5'].astype(str)+' '+ train['card6'].astype(str) +' '+ train['addr1'].astype(str)+' '+train['addr2'].astype(str)+' '+train['open_card'].astype(str)\n",
        "test['uid1'] = test['card1'].astype(str) +' '+ test['card2'].astype(str)+' '+ test['card3'].astype(str)+' '+ test['card4'].astype(str)+' '+ test['card5'].astype(str)+' '+ test['card6'].astype(str) +' '+ test['addr1'].astype(str)+' '+test['addr2'].astype(str)+' '+test['open_card'] .astype(str)"
      ]
    },
    {
      "cell_type": "code",
      "execution_count": 20,
      "metadata": {
        "colab": {
          "base_uri": "https://localhost:8080/",
          "height": 51
        },
        "colab_type": "code",
        "id": "zM2Dwwj-BCBO",
        "outputId": "60f2c471-9b94-4f3e-85a6-e05a607cecd0"
      },
      "outputs": [
        {
          "name": "stdout",
          "output_type": "stream",
          "text": [
            "222518\n",
            "198011\n"
          ]
        }
      ],
      "source": [
        "print(train['uid1'].nunique())\n",
        "print(test['uid1'].nunique())"
      ]
    },
    {
      "cell_type": "code",
      "execution_count": 21,
      "metadata": {
        "colab": {},
        "colab_type": "code",
        "id": "bWXS1EpZBGNz"
      },
      "outputs": [],
      "source": [
        "# Identify a device using id_30, id_31, id_32, id_33, DeviceType, DeviceInfo\n",
        "def device_hash(x):\n",
        "    s =  str(x['id_30'])+str(x['id_31'])+str(x['id_32'])+str(x['id_33'])+str( x['DeviceType'])+ str(x['DeviceInfo'])\n",
        "    h = hashlib.sha256(s.encode('utf-8')).hexdigest()[0:15]\n",
        "    return h"
      ]
    },
    {
      "cell_type": "code",
      "execution_count": 22,
      "metadata": {
        "colab": {},
        "colab_type": "code",
        "id": "elX_TiKlBJKy"
      },
      "outputs": [],
      "source": [
        "for df in [train,test]:df['device_hash'] = df.apply(lambda x: device_hash(x), axis=1)"
      ]
    },
    {
      "cell_type": "code",
      "execution_count": null,
      "metadata": {
        "colab": {},
        "colab_type": "code",
        "id": "UQfyWrLbBMBu"
      },
      "outputs": [],
      "source": [
        "# Number of devices with the same user\n",
        "concat_df = pd.concat([train[['uid1','device_hash']],test[['uid1','device_hash']]])\n",
        "tmp = concat_df.groupby('uid1')['device_hash'].agg(['nunique'])#groups by uid1"
      ]
    },
    {
      "cell_type": "code",
      "execution_count": 24,
      "metadata": {
        "colab": {},
        "colab_type": "code",
        "id": "43FKB1KuBQtp"
      },
      "outputs": [],
      "source": [
        "train['uid_device_nunique'] = train.uid1.map(tmp.to_dict()['nunique'])\n",
        "test['uid_device_nunique'] = test.uid1.map(tmp.to_dict()['nunique'])"
      ]
    },
    {
      "cell_type": "code",
      "execution_count": null,
      "metadata": {
        "colab": {},
        "colab_type": "code",
        "id": "Otyz1JLgBSc_"
      },
      "outputs": [],
      "source": [
        "# Number of user with the same devices\n",
        "tmp = concat_df.groupby('device_hash')['uid1'].agg(['nunique'])#groups by device_hash\n",
        "train['device_uid_nunique'] = train.device_hash.map(tmp.to_dict()['nunique'])\n",
        "test['device_uid_nunique'] = test.device_hash.map(tmp.to_dict()['nunique'])"
      ]
    },
    {
      "cell_type": "code",
      "execution_count": 26,
      "metadata": {
        "colab": {},
        "colab_type": "code",
        "id": "FF9zhl6dBUhc"
      },
      "outputs": [],
      "source": [
        "del concat_df"
      ]
    },
    {
      "cell_type": "code",
      "execution_count": null,
      "metadata": {
        "colab": {
          "base_uri": "https://localhost:8080/",
          "height": 34
        },
        "colab_type": "code",
        "id": "GuXXcJroBWqV",
        "outputId": "da04fa52-2859-4205-b129-1e14faf19e59"
      },
      "outputs": [
        {
          "data": {
            "text/plain": [
              "28"
            ]
          },
          "execution_count": 27,
          "metadata": {},
          "output_type": "execute_result"
        }
      ],
      "source": [
        "# Get number of non-zero decimal digits:It rounds the number to 3 decimal places, converts it into an integer, and counts how many decimal digits are non-zero\n",
        "def change(dec):\n",
        "    dec = np.round(dec,3)\n",
        "    num = 3\n",
        "    dec = int(np.round(np.round(dec,3)*1000))\n",
        "    while(dec % 10 ==0):\n",
        "        num = num-1\n",
        "        dec = dec /10\n",
        "    if num<0:\n",
        "        num = 0\n",
        "    return num\n",
        "  \n",
        "train['decimal_digit'] = train[\"TransactionAmt\"].map(change)\n",
        "test['decimal_digit'] = test['TransactionAmt'].map(change)\n",
        "\n",
        "gc.collect()"
      ]
    },
    {
      "cell_type": "code",
      "execution_count": 28,
      "metadata": {
        "colab": {},
        "colab_type": "code",
        "id": "xRpqynfxB3E3"
      },
      "outputs": [],
      "source": [
        "# Fill missing value with zero \n",
        "train['had_id'] = train['had_id'].fillna(0)\n",
        "test['had_id'] = test['had_id'].fillna(0)"
      ]
    },
    {
      "cell_type": "code",
      "execution_count": null,
      "metadata": {
        "colab": {},
        "colab_type": "code",
        "id": "rhbi0xadBbLX"
      },
      "outputs": [],
      "source": [
        "# D series data has a trend of increasing with time. Future data is larger than past data, so zoom in and keep the relative relationship.\n",
        "for t in ['D1','D2','D4','D6','D10','D11','D12','D14','D15']:\n",
        "  train[t+'_revised'] = train[t]/train.groupby('DT_W')[t].transform('max')\n",
        "  test[t+'_revised'] = test[t]/test.groupby('DT_W')[t].transform('max')\n",
        "for t in ['D3','D5','D7','D8','D13']:\n",
        "  train[t+'_revised'] = train[t]/train.groupby('DT_M')[t].transform('max')\n",
        "  test[t+'_revised'] = test[t]/test.groupby('DT_M')[t].transform('max')\n",
        "#normalisation"
      ]
    },
    {
      "cell_type": "code",
      "execution_count": null,
      "metadata": {
        "colab": {},
        "colab_type": "code",
        "id": "Ck2w5iVPCAbe"
      },
      "outputs": [],
      "source": [
        "test.loc[test.DT_W == 78 ,'D14_revised'] = test.loc[test.DT_W == 78 ,'D14_revised'].map(lambda x: np.nan if pd.isna(x) else x/900*530)\n",
        "#scaling"
      ]
    },
    {
      "cell_type": "code",
      "execution_count": null,
      "metadata": {
        "colab": {},
        "colab_type": "code",
        "id": "y5aBB_q9CDYG"
      },
      "outputs": [],
      "source": [
        "# Subdivide the time into days of the week and hours of the day.\n",
        "train['dow'] = train['TransactionDT'].dt.dayofweek\n",
        "train['hour'] = train['TransactionDT'].dt.hour\n",
        "test['dow'] = test['TransactionDT'].dt.dayofweek\n",
        "test['hour'] = test['TransactionDT'].dt.hour\n",
        "train['email_domain_comp'] = (train['P_emaildomain'].values == train['R_emaildomain'].values).astype(int)# 1: True\n",
        "test['email_domain_comp'] = (test['P_emaildomain'].values == test['R_emaildomain'].values).astype(int)\n",
        "train.drop(['D9'],axis=1,inplace=True)\n",
        "test.drop(['D9'],axis=1,inplace=True)"
      ]
    },
    {
      "cell_type": "code",
      "execution_count": 32,
      "metadata": {
        "colab": {},
        "colab_type": "code",
        "id": "nKm__75yCOwb"
      },
      "outputs": [],
      "source": [
        "# Categorical Variables\n",
        "cat_columns = ['uid1','id_12', 'id_13', 'id_14', 'id_15', 'id_16', 'id_17', 'id_18', 'id_19', 'id_20', 'id_21', 'id_22', 'id_23', 'id_24', 'id_25', 'id_26', 'id_27', 'id_28', 'id_29',\n",
        "            'id_30', 'id_31', 'id_32', 'id_33', 'id_34', 'id_35', 'id_36', 'id_37', 'id_38', 'DeviceType', 'DeviceInfo', 'ProductCD', 'card4', 'card6', 'M4','P_emaildomain',\n",
        "            'R_emaildomain', 'card1', 'card2', 'card3',  'card5', 'addr1', 'addr2', 'M1', 'M2', 'M3', 'M5', 'M6', 'M7', 'M8', 'M9','hour','dow','device_name', 'device_version', 'OS_id_30',  'browser_id_31']\n",
        "# Count Numerical\n",
        "count_columns = ['uid1','id_13','id_14','id_17','id_18','id_19','id_20','id_21','id_22','id_24','id_25','id_26','id_30','id_31','id_33',\n",
        "                 'DeviceInfo','card6','P_emaildomain','R_emaildomain','card1','card2','card3','card5','addr1','addr2','hour','device_version',\n",
        "                 'OS_id_30','browser_id_31']"
      ]
    },
    {
      "cell_type": "code",
      "execution_count": null,
      "metadata": {
        "colab": {},
        "colab_type": "code",
        "id": "HLznWG6ECvp7"
      },
      "outputs": [
        {
          "ename": "KeyboardInterrupt",
          "evalue": "",
          "output_type": "error",
          "traceback": [
            "\u001b[1;31m---------------------------------------------------------------------------\u001b[0m",
            "\u001b[1;31mKeyboardInterrupt\u001b[0m                         Traceback (most recent call last)",
            "Cell \u001b[1;32mIn[33], line 3\u001b[0m\n\u001b[0;32m      1\u001b[0m \u001b[38;5;28;01mfor\u001b[39;00m f \u001b[38;5;129;01min\u001b[39;00m cat_columns:\n\u001b[0;32m      2\u001b[0m   lbl \u001b[38;5;241m=\u001b[39m preprocessing\u001b[38;5;241m.\u001b[39mLabelEncoder()\n\u001b[1;32m----> 3\u001b[0m   lbl\u001b[38;5;241m.\u001b[39mfit(\u001b[38;5;28mlist\u001b[39m(train[f]\u001b[38;5;241m.\u001b[39mastype(\u001b[38;5;28mstr\u001b[39m)) \u001b[38;5;241m+\u001b[39m \u001b[38;5;28mlist\u001b[39m(\u001b[43mtest\u001b[49m\u001b[43m[\u001b[49m\u001b[43mf\u001b[49m\u001b[43m]\u001b[49m\u001b[38;5;241;43m.\u001b[39;49m\u001b[43mastype\u001b[49m\u001b[43m(\u001b[49m\u001b[38;5;28;43mstr\u001b[39;49m\u001b[43m)\u001b[49m))\n\u001b[0;32m      4\u001b[0m   train[f] \u001b[38;5;241m=\u001b[39m lbl\u001b[38;5;241m.\u001b[39mtransform(\u001b[38;5;28mlist\u001b[39m(train[f]\u001b[38;5;241m.\u001b[39mastype(\u001b[38;5;28mstr\u001b[39m)))\n\u001b[0;32m      5\u001b[0m   test[f] \u001b[38;5;241m=\u001b[39m lbl\u001b[38;5;241m.\u001b[39mtransform(\u001b[38;5;28mlist\u001b[39m(test[f]\u001b[38;5;241m.\u001b[39mastype(\u001b[38;5;28mstr\u001b[39m))) \n",
            "File \u001b[1;32mc:\\Users\\user\\Desktop\\P22M\\Financial-Fraud-Detection\\venv\\Lib\\site-packages\\pandas\\core\\generic.py:6643\u001b[0m, in \u001b[0;36mNDFrame.astype\u001b[1;34m(self, dtype, copy, errors)\u001b[0m\n\u001b[0;32m   6637\u001b[0m     results \u001b[38;5;241m=\u001b[39m [\n\u001b[0;32m   6638\u001b[0m         ser\u001b[38;5;241m.\u001b[39mastype(dtype, copy\u001b[38;5;241m=\u001b[39mcopy, errors\u001b[38;5;241m=\u001b[39merrors) \u001b[38;5;28;01mfor\u001b[39;00m _, ser \u001b[38;5;129;01min\u001b[39;00m \u001b[38;5;28mself\u001b[39m\u001b[38;5;241m.\u001b[39mitems()\n\u001b[0;32m   6639\u001b[0m     ]\n\u001b[0;32m   6641\u001b[0m \u001b[38;5;28;01melse\u001b[39;00m:\n\u001b[0;32m   6642\u001b[0m     \u001b[38;5;66;03m# else, only a single dtype is given\u001b[39;00m\n\u001b[1;32m-> 6643\u001b[0m     new_data \u001b[38;5;241m=\u001b[39m \u001b[38;5;28;43mself\u001b[39;49m\u001b[38;5;241;43m.\u001b[39;49m\u001b[43m_mgr\u001b[49m\u001b[38;5;241;43m.\u001b[39;49m\u001b[43mastype\u001b[49m\u001b[43m(\u001b[49m\u001b[43mdtype\u001b[49m\u001b[38;5;241;43m=\u001b[39;49m\u001b[43mdtype\u001b[49m\u001b[43m,\u001b[49m\u001b[43m \u001b[49m\u001b[43mcopy\u001b[49m\u001b[38;5;241;43m=\u001b[39;49m\u001b[43mcopy\u001b[49m\u001b[43m,\u001b[49m\u001b[43m \u001b[49m\u001b[43merrors\u001b[49m\u001b[38;5;241;43m=\u001b[39;49m\u001b[43merrors\u001b[49m\u001b[43m)\u001b[49m\n\u001b[0;32m   6644\u001b[0m     res \u001b[38;5;241m=\u001b[39m \u001b[38;5;28mself\u001b[39m\u001b[38;5;241m.\u001b[39m_constructor_from_mgr(new_data, axes\u001b[38;5;241m=\u001b[39mnew_data\u001b[38;5;241m.\u001b[39maxes)\n\u001b[0;32m   6645\u001b[0m     \u001b[38;5;28;01mreturn\u001b[39;00m res\u001b[38;5;241m.\u001b[39m__finalize__(\u001b[38;5;28mself\u001b[39m, method\u001b[38;5;241m=\u001b[39m\u001b[38;5;124m\"\u001b[39m\u001b[38;5;124mastype\u001b[39m\u001b[38;5;124m\"\u001b[39m)\n",
            "File \u001b[1;32mc:\\Users\\user\\Desktop\\P22M\\Financial-Fraud-Detection\\venv\\Lib\\site-packages\\pandas\\core\\internals\\managers.py:430\u001b[0m, in \u001b[0;36mBaseBlockManager.astype\u001b[1;34m(self, dtype, copy, errors)\u001b[0m\n\u001b[0;32m    427\u001b[0m \u001b[38;5;28;01melif\u001b[39;00m using_copy_on_write():\n\u001b[0;32m    428\u001b[0m     copy \u001b[38;5;241m=\u001b[39m \u001b[38;5;28;01mFalse\u001b[39;00m\n\u001b[1;32m--> 430\u001b[0m \u001b[38;5;28;01mreturn\u001b[39;00m \u001b[38;5;28;43mself\u001b[39;49m\u001b[38;5;241;43m.\u001b[39;49m\u001b[43mapply\u001b[49m\u001b[43m(\u001b[49m\n\u001b[0;32m    431\u001b[0m \u001b[43m    \u001b[49m\u001b[38;5;124;43m\"\u001b[39;49m\u001b[38;5;124;43mastype\u001b[39;49m\u001b[38;5;124;43m\"\u001b[39;49m\u001b[43m,\u001b[49m\n\u001b[0;32m    432\u001b[0m \u001b[43m    \u001b[49m\u001b[43mdtype\u001b[49m\u001b[38;5;241;43m=\u001b[39;49m\u001b[43mdtype\u001b[49m\u001b[43m,\u001b[49m\n\u001b[0;32m    433\u001b[0m \u001b[43m    \u001b[49m\u001b[43mcopy\u001b[49m\u001b[38;5;241;43m=\u001b[39;49m\u001b[43mcopy\u001b[49m\u001b[43m,\u001b[49m\n\u001b[0;32m    434\u001b[0m \u001b[43m    \u001b[49m\u001b[43merrors\u001b[49m\u001b[38;5;241;43m=\u001b[39;49m\u001b[43merrors\u001b[49m\u001b[43m,\u001b[49m\n\u001b[0;32m    435\u001b[0m \u001b[43m    \u001b[49m\u001b[43musing_cow\u001b[49m\u001b[38;5;241;43m=\u001b[39;49m\u001b[43musing_copy_on_write\u001b[49m\u001b[43m(\u001b[49m\u001b[43m)\u001b[49m\u001b[43m,\u001b[49m\n\u001b[0;32m    436\u001b[0m \u001b[43m\u001b[49m\u001b[43m)\u001b[49m\n",
            "File \u001b[1;32mc:\\Users\\user\\Desktop\\P22M\\Financial-Fraud-Detection\\venv\\Lib\\site-packages\\pandas\\core\\internals\\managers.py:363\u001b[0m, in \u001b[0;36mBaseBlockManager.apply\u001b[1;34m(self, f, align_keys, **kwargs)\u001b[0m\n\u001b[0;32m    361\u001b[0m         applied \u001b[38;5;241m=\u001b[39m b\u001b[38;5;241m.\u001b[39mapply(f, \u001b[38;5;241m*\u001b[39m\u001b[38;5;241m*\u001b[39mkwargs)\n\u001b[0;32m    362\u001b[0m     \u001b[38;5;28;01melse\u001b[39;00m:\n\u001b[1;32m--> 363\u001b[0m         applied \u001b[38;5;241m=\u001b[39m \u001b[38;5;28;43mgetattr\u001b[39;49m\u001b[43m(\u001b[49m\u001b[43mb\u001b[49m\u001b[43m,\u001b[49m\u001b[43m \u001b[49m\u001b[43mf\u001b[49m\u001b[43m)\u001b[49m\u001b[43m(\u001b[49m\u001b[38;5;241;43m*\u001b[39;49m\u001b[38;5;241;43m*\u001b[39;49m\u001b[43mkwargs\u001b[49m\u001b[43m)\u001b[49m\n\u001b[0;32m    364\u001b[0m     result_blocks \u001b[38;5;241m=\u001b[39m extend_blocks(applied, result_blocks)\n\u001b[0;32m    366\u001b[0m out \u001b[38;5;241m=\u001b[39m \u001b[38;5;28mtype\u001b[39m(\u001b[38;5;28mself\u001b[39m)\u001b[38;5;241m.\u001b[39mfrom_blocks(result_blocks, \u001b[38;5;28mself\u001b[39m\u001b[38;5;241m.\u001b[39maxes)\n",
            "File \u001b[1;32mc:\\Users\\user\\Desktop\\P22M\\Financial-Fraud-Detection\\venv\\Lib\\site-packages\\pandas\\core\\internals\\blocks.py:758\u001b[0m, in \u001b[0;36mBlock.astype\u001b[1;34m(self, dtype, copy, errors, using_cow, squeeze)\u001b[0m\n\u001b[0;32m    755\u001b[0m         \u001b[38;5;28;01mraise\u001b[39;00m \u001b[38;5;167;01mValueError\u001b[39;00m(\u001b[38;5;124m\"\u001b[39m\u001b[38;5;124mCan not squeeze with more than one column.\u001b[39m\u001b[38;5;124m\"\u001b[39m)\n\u001b[0;32m    756\u001b[0m     values \u001b[38;5;241m=\u001b[39m values[\u001b[38;5;241m0\u001b[39m, :]  \u001b[38;5;66;03m# type: ignore[call-overload]\u001b[39;00m\n\u001b[1;32m--> 758\u001b[0m new_values \u001b[38;5;241m=\u001b[39m \u001b[43mastype_array_safe\u001b[49m\u001b[43m(\u001b[49m\u001b[43mvalues\u001b[49m\u001b[43m,\u001b[49m\u001b[43m \u001b[49m\u001b[43mdtype\u001b[49m\u001b[43m,\u001b[49m\u001b[43m \u001b[49m\u001b[43mcopy\u001b[49m\u001b[38;5;241;43m=\u001b[39;49m\u001b[43mcopy\u001b[49m\u001b[43m,\u001b[49m\u001b[43m \u001b[49m\u001b[43merrors\u001b[49m\u001b[38;5;241;43m=\u001b[39;49m\u001b[43merrors\u001b[49m\u001b[43m)\u001b[49m\n\u001b[0;32m    760\u001b[0m new_values \u001b[38;5;241m=\u001b[39m maybe_coerce_values(new_values)\n\u001b[0;32m    762\u001b[0m refs \u001b[38;5;241m=\u001b[39m \u001b[38;5;28;01mNone\u001b[39;00m\n",
            "File \u001b[1;32mc:\\Users\\user\\Desktop\\P22M\\Financial-Fraud-Detection\\venv\\Lib\\site-packages\\pandas\\core\\dtypes\\astype.py:237\u001b[0m, in \u001b[0;36mastype_array_safe\u001b[1;34m(values, dtype, copy, errors)\u001b[0m\n\u001b[0;32m    234\u001b[0m     dtype \u001b[38;5;241m=\u001b[39m dtype\u001b[38;5;241m.\u001b[39mnumpy_dtype\n\u001b[0;32m    236\u001b[0m \u001b[38;5;28;01mtry\u001b[39;00m:\n\u001b[1;32m--> 237\u001b[0m     new_values \u001b[38;5;241m=\u001b[39m \u001b[43mastype_array\u001b[49m\u001b[43m(\u001b[49m\u001b[43mvalues\u001b[49m\u001b[43m,\u001b[49m\u001b[43m \u001b[49m\u001b[43mdtype\u001b[49m\u001b[43m,\u001b[49m\u001b[43m \u001b[49m\u001b[43mcopy\u001b[49m\u001b[38;5;241;43m=\u001b[39;49m\u001b[43mcopy\u001b[49m\u001b[43m)\u001b[49m\n\u001b[0;32m    238\u001b[0m \u001b[38;5;28;01mexcept\u001b[39;00m (\u001b[38;5;167;01mValueError\u001b[39;00m, \u001b[38;5;167;01mTypeError\u001b[39;00m):\n\u001b[0;32m    239\u001b[0m     \u001b[38;5;66;03m# e.g. _astype_nansafe can fail on object-dtype of strings\u001b[39;00m\n\u001b[0;32m    240\u001b[0m     \u001b[38;5;66;03m#  trying to convert to float\u001b[39;00m\n\u001b[0;32m    241\u001b[0m     \u001b[38;5;28;01mif\u001b[39;00m errors \u001b[38;5;241m==\u001b[39m \u001b[38;5;124m\"\u001b[39m\u001b[38;5;124mignore\u001b[39m\u001b[38;5;124m\"\u001b[39m:\n",
            "File \u001b[1;32mc:\\Users\\user\\Desktop\\P22M\\Financial-Fraud-Detection\\venv\\Lib\\site-packages\\pandas\\core\\dtypes\\astype.py:182\u001b[0m, in \u001b[0;36mastype_array\u001b[1;34m(values, dtype, copy)\u001b[0m\n\u001b[0;32m    179\u001b[0m     values \u001b[38;5;241m=\u001b[39m values\u001b[38;5;241m.\u001b[39mastype(dtype, copy\u001b[38;5;241m=\u001b[39mcopy)\n\u001b[0;32m    181\u001b[0m \u001b[38;5;28;01melse\u001b[39;00m:\n\u001b[1;32m--> 182\u001b[0m     values \u001b[38;5;241m=\u001b[39m \u001b[43m_astype_nansafe\u001b[49m\u001b[43m(\u001b[49m\u001b[43mvalues\u001b[49m\u001b[43m,\u001b[49m\u001b[43m \u001b[49m\u001b[43mdtype\u001b[49m\u001b[43m,\u001b[49m\u001b[43m \u001b[49m\u001b[43mcopy\u001b[49m\u001b[38;5;241;43m=\u001b[39;49m\u001b[43mcopy\u001b[49m\u001b[43m)\u001b[49m\n\u001b[0;32m    184\u001b[0m \u001b[38;5;66;03m# in pandas we don't store numpy str dtypes, so convert to object\u001b[39;00m\n\u001b[0;32m    185\u001b[0m \u001b[38;5;28;01mif\u001b[39;00m \u001b[38;5;28misinstance\u001b[39m(dtype, np\u001b[38;5;241m.\u001b[39mdtype) \u001b[38;5;129;01mand\u001b[39;00m \u001b[38;5;28missubclass\u001b[39m(values\u001b[38;5;241m.\u001b[39mdtype\u001b[38;5;241m.\u001b[39mtype, \u001b[38;5;28mstr\u001b[39m):\n",
            "File \u001b[1;32mc:\\Users\\user\\Desktop\\P22M\\Financial-Fraud-Detection\\venv\\Lib\\site-packages\\pandas\\core\\dtypes\\astype.py:98\u001b[0m, in \u001b[0;36m_astype_nansafe\u001b[1;34m(arr, dtype, copy, skipna)\u001b[0m\n\u001b[0;32m     94\u001b[0m     \u001b[38;5;28;01mif\u001b[39;00m arr\u001b[38;5;241m.\u001b[39mndim \u001b[38;5;241m>\u001b[39m \u001b[38;5;241m1\u001b[39m:\n\u001b[0;32m     95\u001b[0m         arr \u001b[38;5;241m=\u001b[39m arr\u001b[38;5;241m.\u001b[39mravel()\n\u001b[0;32m     96\u001b[0m     \u001b[38;5;28;01mreturn\u001b[39;00m \u001b[43mlib\u001b[49m\u001b[38;5;241;43m.\u001b[39;49m\u001b[43mensure_string_array\u001b[49m\u001b[43m(\u001b[49m\n\u001b[0;32m     97\u001b[0m \u001b[43m        \u001b[49m\u001b[43marr\u001b[49m\u001b[43m,\u001b[49m\u001b[43m \u001b[49m\u001b[43mskipna\u001b[49m\u001b[38;5;241;43m=\u001b[39;49m\u001b[43mskipna\u001b[49m\u001b[43m,\u001b[49m\u001b[43m \u001b[49m\u001b[43mconvert_na_value\u001b[49m\u001b[38;5;241;43m=\u001b[39;49m\u001b[38;5;28;43;01mFalse\u001b[39;49;00m\n\u001b[1;32m---> 98\u001b[0m \u001b[43m    \u001b[49m\u001b[43m)\u001b[49m\u001b[38;5;241;43m.\u001b[39;49m\u001b[43mreshape\u001b[49m\u001b[43m(\u001b[49m\u001b[43mshape\u001b[49m\u001b[43m)\u001b[49m\n\u001b[0;32m    100\u001b[0m \u001b[38;5;28;01melif\u001b[39;00m np\u001b[38;5;241m.\u001b[39missubdtype(arr\u001b[38;5;241m.\u001b[39mdtype, np\u001b[38;5;241m.\u001b[39mfloating) \u001b[38;5;129;01mand\u001b[39;00m dtype\u001b[38;5;241m.\u001b[39mkind \u001b[38;5;129;01min\u001b[39;00m \u001b[38;5;124m\"\u001b[39m\u001b[38;5;124miu\u001b[39m\u001b[38;5;124m\"\u001b[39m:\n\u001b[0;32m    101\u001b[0m     \u001b[38;5;28;01mreturn\u001b[39;00m _astype_float_to_int_nansafe(arr, dtype, copy)\n",
            "\u001b[1;31mKeyboardInterrupt\u001b[0m: "
          ]
        }
      ],
      "source": [
        "#label encoding\n",
        "for f in cat_columns:\n",
        "  lbl = preprocessing.LabelEncoder()\n",
        "  lbl.fit(list(train[f].astype(str)) + list(test[f].astype(str)))\n",
        "  train[f] = lbl.transform(list(train[f].astype(str)))\n",
        "  test[f] = lbl.transform(list(test[f].astype(str))) "
      ]
    },
    {
      "cell_type": "markdown",
      "metadata": {
        "colab_type": "text",
        "id": "RA0rQ-v4Ec_G"
      },
      "source": [
        "### Missing Values\n",
        "Impute all missing values with -999 which is very fast and model can still find some pattern instead of losing information by dropping them."
      ]
    },
    {
      "cell_type": "code",
      "execution_count": null,
      "metadata": {
        "colab": {},
        "colab_type": "code",
        "id": "X24DpMd-CzRg"
      },
      "outputs": [],
      "source": [
        "train.fillna(-999,inplace = True)#replace nan with -999\n",
        "test.fillna(-999,inplace = True)"
      ]
    },
    {
      "cell_type": "code",
      "execution_count": null,
      "metadata": {
        "colab": {},
        "colab_type": "code",
        "id": "FWZaCPHwEhTV"
      },
      "outputs": [],
      "source": [
        "# Count encoding\n",
        "for i in count_columns:\n",
        "  train[i+'_count_full'] = train[i].map(pd.concat([train[i], test[i]], ignore_index=True).value_counts(dropna=False))\n",
        "  test[i+'_count_full'] = test[i].map(pd.concat([train[i], test[i]], ignore_index=True).value_counts(dropna=False))\n",
        "  #For each column in count_columns, the code creates a new column in both train and test that contains the number of times each value appears across (both) datasets"
      ]
    },
    {
      "cell_type": "code",
      "execution_count": null,
      "metadata": {
        "colab": {},
        "colab_type": "code",
        "id": "gkwlq18lEojp"
      },
      "outputs": [],
      "source": [
        "# Calculate the number of transactions in hours and days\n",
        "train_test_all = pd.concat([train[['TransactionDT','TransactionAmt']],test[['TransactionDT','TransactionAmt']]],ignore_index=True,sort=False)\n",
        "train_test_all['day_count'] = train_test_all.groupby(train_test_all.TransactionDT.dt.date)['TransactionAmt'].transform('count')\n",
        "train_test_all['hour_count'] = train_test_all.groupby(train_test_all.TransactionDT.map(lambda x:str(x)[:13]))['TransactionAmt'].transform('count')\n",
        "train['day_count'] = train_test_all[:train_len].day_count.tolist()\n",
        "test['day_count'] = train_test_all[train_len:].day_count.tolist()\n",
        "train['hour_count'] = train_test_all[:train_len].hour_count.tolist()\n",
        "test['hour_count'] = train_test_all[train_len:].hour_count.tolist()"
      ]
    },
    {
      "cell_type": "code",
      "execution_count": null,
      "metadata": {
        "colab": {},
        "colab_type": "code",
        "id": "QlPtNSJ5E9l1"
      },
      "outputs": [],
      "source": [
        "# Identify commodity ID by price category\n",
        "temp123 = ['TransactionAmt__ProductCD']\n",
        "for feature in temp123:\n",
        "  f1, f2 = feature.split('__')\n",
        "  train[feature] = train[f1].astype(str) + '_' + train[f2].astype(str)\n",
        "  test[feature] = test[f1].astype(str) + '_' + test[f2].astype(str)\n",
        "  le = LabelEncoder()\n",
        "  le.fit(list(train[feature].astype(str).values) + list(test[feature].astype(str).values))\n",
        "  train[feature] = le.transform(list(train[feature].astype(str).values))\n",
        "  test[feature] = le.transform(list(test[feature].astype(str).values))\n",
        "train.rename(columns = {'TransactionAmt__ProductCD':'ProductID'},inplace=True)\n",
        "test.rename(columns = {'TransactionAmt__ProductCD':'ProductID'},inplace=True)\n",
        "#productID is a combination of TransactionAmt and ProductCD and it is encoded\n",
        "for i in ['ProductID']:\n",
        "  train[i+'_count_full'] = train[i].map(pd.concat([train[i], test[i]], ignore_index=True).value_counts(dropna=False))# the frequency of these combinations across both datasets\n",
        "  test[i+'_count_full'] = test[i].map(pd.concat([train[i], test[i]], ignore_index=True).value_counts(dropna=False))"
      ]
    },
    {
      "cell_type": "code",
      "execution_count": null,
      "metadata": {
        "colab": {},
        "colab_type": "code",
        "id": "lMCbZE6lFIjm"
      },
      "outputs": [],
      "source": [
        "# Similarly, continue to do some crossover categories\n",
        "temp = ['DeviceInfo__P_emaildomain', \n",
        "        'card1__card5', \n",
        "        'card2__id_20',\n",
        "        'card5__P_emaildomain', \n",
        "        'addr1__card1',\n",
        "        'addr1__addr2',\n",
        "        'card1__card2',\n",
        "        'card2__addr1',\n",
        "        'card1__P_emaildomain',\n",
        "        'card2__P_emaildomain',\n",
        "        'addr1__P_emaildomain',\n",
        "        'DeviceInfo__id_31',\n",
        "        'DeviceInfo__id_20',\n",
        "        'DeviceType__id_31',\n",
        "        'DeviceType__id_20',\n",
        "        'DeviceType__P_emaildomain',\n",
        "        'card1__M4',\n",
        "        'card2__M4',\n",
        "        'addr1__M4',\n",
        "        'P_emaildomain__M4',\n",
        "       'uid1__ProductID',\n",
        "       'uid1__DeviceInfo']\n",
        "for feature in temp:\n",
        "  f1, f2 = feature.split('__')\n",
        "  train[feature] = train[f1].astype(str) + '_' + train[f2].astype(str)\n",
        "  test[feature] = test[f1].astype(str) + '_' + test[f2].astype(str)\n",
        "  le = LabelEncoder()\n",
        "  le.fit(list(train[feature].astype(str).values) + list(test[feature].astype(str).values))\n",
        "  train[feature] = le.transform(list(train[feature].astype(str).values))\n",
        "  test[feature] = le.transform(list(test[feature].astype(str).values))\n",
        "\n",
        "for i in temp:\n",
        "  train[i+'_count_full'] = train[i].map(pd.concat([train[i], test[i]], ignore_index=True).value_counts(dropna=False))\n",
        "  test[i+'_count_full'] = test[i].map(pd.concat([train[i], test[i]], ignore_index=True).value_counts(dropna=False))"
      ]
    },
    {
      "cell_type": "code",
      "execution_count": null,
      "metadata": {
        "colab": {},
        "colab_type": "code",
        "id": "cUQcJsDWFXM9"
      },
      "outputs": [],
      "source": [
        "# Cross some categories and continuous variables\n",
        "con_fea = ['V258','C1','C14','C13','TransactionAmt','D15_revised','D2_revised','id_02','dist1','V294','C11']\n",
        "cat_fea = ['card1','card2','addr1','card4','R_emaildomain','P_emaildomain','ProductID','uid1']\n",
        "train_test = pd.concat([train[con_fea+cat_fea],test[con_fea+cat_fea]],ignore_index=True,sort=False)\n",
        "\n",
        "for cont in con_fea:\n",
        "  for cat in cat_fea:\n",
        "    train[cont+'_'+cat+'_mean'] = train_test[cont].map(lambda x:np.nan if x==-999 else x).groupby(train_test[cat]).transform('mean')[:train_len].tolist()\n",
        "    train[cont+'_'+cat+'_std'] = train_test[cont].map(lambda x:np.nan if x==-999 else x).groupby(train_test[cat]).transform('std')[:train_len].tolist()\n",
        "    test[cont+'_'+cat+'_mean'] = train_test[cont].map(lambda x:np.nan if x==-999 else x).groupby(train_test[cat]).transform('mean')[train_len:].tolist()\n",
        "    test[cont+'_'+cat+'_std'] =  train_test[cont].map(lambda x:np.nan if x==-999 else x).groupby(train_test[cat]).transform('std')[train_len:].tolist()"
      ]
    },
    {
      "cell_type": "code",
      "execution_count": null,
      "metadata": {
        "colab": {
          "base_uri": "https://localhost:8080/",
          "height": 34
        },
        "colab_type": "code",
        "id": "WkYkEsxMFqSN",
        "outputId": "947f93b5-f5d3-4a27-de75-13dba1a9040b"
      },
      "outputs": [
        {
          "data": {
            "text/plain": [
              "26"
            ]
          },
          "execution_count": 111,
          "metadata": {},
          "output_type": "execute_result"
        }
      ],
      "source": [
        "del df\n",
        "del train_test\n",
        "del train_test_all\n",
        "gc.collect()"
      ]
    },
    {
      "cell_type": "code",
      "execution_count": null,
      "metadata": {
        "colab": {},
        "colab_type": "code",
        "id": "8g2oyARnFxI1"
      },
      "outputs": [],
      "source": [
        "train.drop(['DeviceInfo','device_version','DT_D','DT_W','DT_M','D15',\n",
        "              'D2','D1','D4','D6','D10','D11','D12','D3','D5','D7','D8','D13','D14','TransactionAmt_ProductID_mean'],axis=1,inplace=True)\n",
        "test.drop(['DeviceInfo','device_version','DT_D','DT_W','DT_M','D15',\n",
        "             'D2','D1','D4','D6','D10','D11','D12','D3','D5','D7','D8','D13','D14','TransactionAmt_ProductID_mean'],axis=1,inplace=True)"
      ]
    },
    {
      "cell_type": "code",
      "execution_count": null,
      "metadata": {
        "colab": {},
        "colab_type": "code",
        "id": "-7NEyHEOFznJ"
      },
      "outputs": [],
      "source": [
        "# Remove non important features \n",
        "drop = ['V256', 'V223', 'V19', 'V244', 'V324', 'V37', 'V200', 'card3', 'C1_P_emaildomain_mean', 'V131', 'V35', 'id_17_count_full', \n",
        "        'id_17', 'V30', 'V163', 'V81', 'V332', 'V164', 'D7_revised', 'id_02_R_emaildomain_std', 'V336', 'M9', 'V301', 'V251', 'M8', \n",
        "        'V275', 'V5', 'V272', 'V331', 'V215', 'V291', 'V129', 'C11_P_emaildomain_mean', 'id_34', 'V160', 'V139', 'V124', 'V159',\n",
        "        'V274', 'V59', 'V126', 'V52', 'V79', 'V271', 'V24', 'V137', 'V286', 'TransactionAmt_R_emaildomain_std', 'V335', 'V115', \n",
        "        'V198', 'V234', 'V298', 'V43', 'V258_card4_mean', 'V264', 'OS_id_30_count_full', 'V267', 'V169', 'V217', 'C3', 'V23', \n",
        "        'V287', 'id_18_count_full', 'V96', 'V208', 'card4', 'id_32', 'V232', 'V188', 'V4', 'V7', 'id_38', 'id_02_R_emaildomain_mean', \n",
        "        'V293', 'V219', 'V259', 'V276', 'C1_R_emaildomain_mean', 'V279', 'V102', 'V253', 'C13_R_emaildomain_std', 'V245', 'V73', \n",
        "        'browser_id_31', 'V74', 'V322', 'V209', 'V203', 'V273', 'V221', 'V40', 'V242', 'V289', 'D15_revised_R_emaildomain_std', \n",
        "        'C14_R_emaildomain_std', 'V150', 'V316', 'V239', 'V265', 'V278', 'V166', 'V172', 'V132', 'V93', 'V58', 'C1_R_emaildomain_std', \n",
        "        'V29', 'V300', 'V134', 'V254', 'V145', 'V141', 'C11_P_emaildomain_std', 'V292', 'V210', 'V231', 'V280', 'V158', 'V123', 'V135', \n",
        "        'V220', 'V39', 'V26', 'V238', 'id_11', 'V319', 'V125', 'id_37', 'V206', 'C1_card4_mean', 'V94', 'V304', 'V57', 'V270', 'V33', \n",
        "        'V170', 'V202', 'V218', 'V108', 'V303', 'V213', 'V222', 'V64', 'V263', 'V326', 'V10', 'V147', 'V101', 'V142', 'V97', 'V214', \n",
        "        'V105', 'V60', 'V171', 'V329', 'ProductCD', 'V216', 'V34', 'V25', 'V6', 'TransactionAmt_card4_mean', 'V212', 'V250', 'V3',\n",
        "        'V63', 'V194', 'id_36', 'V178', 'V42', 'V85', 'V193', 'V290', 'id_23', 'V258_card4_std', 'V15', 'V288', 'id_15', 'V182', 'V2', \n",
        "        'V192', 'V260', 'V235', 'id_26_count_full', 'V138', 'id_24', 'id_10', 'C1_card4_std', 'V11', 'id_08', 'id_25_count_full', 'id_07', \n",
        "        'V167', 'V51', 'V229', 'V248', 'V197', 'V230', 'V144', 'V233', 'V157', 'dist1_card4_std', 'V284', 'V140', 'addr2_count_full', 'V154', \n",
        "        'V22', 'V204', 'M1', 'V71', 'V211', 'V255', 'V72', 'TransactionAmt_card4_std', 'V1', 'V80', 'V184', 'V299', 'C11_R_emaildomain_mean', \n",
        "        'V173', 'V177', 'id_04', 'D15_revised_card4_std', 'V180', 'V228', 'V151', 'V186', 'OS_id_30', 'V109', 'DeviceType', 'V18', 'V17', \n",
        "        'id_26', 'V247', 'V9', 'V191', 'V148', 'V65', 'V196', 'id_21', 'V297', 'V46', 'V338', 'addr2', 'V95', 'V92', 'dist1_card4_mean', \n",
        "        'V334', 'V100', 'id_25', 'V179', 'V104', 'V116', 'V16', 'V183', 'id_21_count_full', 'V302', 'V199', 'V227', 'C11_R_emaildomain_std', \n",
        "        'V176', 'V249', 'V237', 'V327', 'id_16', 'V155', 'V8', 'V252', 'V175', 'V339', 'V330', 'V181', 'V190', 'C14_card4_mean', 'V14', 'V337', \n",
        "        'C14_card4_std', 'id_35', 'id_02_card4_mean', 'V110', 'id_12', 'V226', 'V168', 'V21', 'V153', 'V195', 'id_02_card4_std', 'V236', 'V174', \n",
        "        'id_28', 'V84', 'V32', 'V106', 'V41', 'V111', 'V112', 'V114', 'V146', 'V328', 'V50', 'id_29', 'C13_card4_mean', 'V103', 'V98', 'V121', \n",
        "        'id_24_count_full', 'D2_revised_card4_mean', 'had_id', 'V113', 'D2_revised_card4_std', 'V240', 'TransactionAmt_ProductID_std', 'V185', \n",
        "        'id_22_count_full', 'id_22', 'V31', 'C13_card4_std', 'V68', 'V88', 'V294_card4_std', 'V294_card4_mean', 'V122', 'dist1_R_emaildomain_mean', \n",
        "        'V118', 'V269', 'V107', 'V305', 'V117', 'V119', 'V120', 'C11_card4_mean', 'C11_card4_std', 'dist1_R_emaildomain_std', 'V89', 'V241', 'id_27', \n",
        "        'V325', 'V28', 'D15_revised_card4_mean', 'V27']"
      ]
    },
    {
      "cell_type": "code",
      "execution_count": null,
      "metadata": {
        "colab": {},
        "colab_type": "code",
        "id": "Ds4-9CASGVj6"
      },
      "outputs": [],
      "source": [
        "drop1 = drop[:200]\n",
        "drop2 = drop[200:]\n",
        "\n",
        "train.drop(drop1,axis=1,inplace=True)\n",
        "test.drop(drop1,axis=1,inplace=True)\n",
        "train.drop(drop2,axis=1,inplace=True)\n",
        "test.drop(drop2,axis=1,inplace=True)"
      ]
    },
    {
      "cell_type": "code",
      "execution_count": null,
      "metadata": {
        "colab": {},
        "colab_type": "code",
        "id": "1opSNtZrGdI8"
      },
      "outputs": [],
      "source": [
        "y_train = train['isFraud'].copy()\n",
        "X_train = train.drop(['TransactionID','isFraud','TransactionDT'],axis=1)\n",
        "X_test = test.drop(['TransactionID','TransactionDT'],axis=1)"
      ]
    },
    {
      "cell_type": "code",
      "execution_count": null,
      "metadata": {
        "colab": {},
        "colab_type": "code",
        "id": "-y-Uvi70GfoA"
      },
      "outputs": [],
      "source": [
        "del train,test"
      ]
    },
    {
      "cell_type": "code",
      "execution_count": null,
      "metadata": {
        "colab": {
          "base_uri": "https://localhost:8080/",
          "height": 51
        },
        "colab_type": "code",
        "id": "62jPwG37Ghzi",
        "outputId": "bf9a9e3f-a6f0-4edd-d12b-708858b11897"
      },
      "outputs": [
        {
          "name": "stdout",
          "output_type": "stream",
          "text": [
            "(590540, 359)\n",
            "(506691, 359)\n"
          ]
        }
      ],
      "source": [
        "print(X_train.shape)\n",
        "print(X_test.shape)"
      ]
    },
    {
      "cell_type": "code",
      "execution_count": null,
      "metadata": {
        "colab": {},
        "colab_type": "code",
        "id": "CyKPvFBxGj9h"
      },
      "outputs": [],
      "source": [
        "cat = ['uid1','id_12', 'id_13', 'id_14', 'id_15', 'id_16', 'id_17', 'id_18', 'id_19', 'id_20', 'id_21', 'id_22', 'id_23', 'id_24', 'id_25', 'id_26', 'id_27', 'id_28', 'id_29',\n",
        "       'id_30', 'id_31', 'id_32', 'id_33', 'id_34', 'id_35', 'id_36', 'id_37', 'id_38', 'DeviceType', 'ProductCD', 'card4', 'card6', 'M4','P_emaildomain',\n",
        "       'R_emaildomain', 'card1', 'card2', 'card3',  'card5', 'addr1', 'addr2', 'M1', 'M2', 'M3', 'M5', 'M6', 'M7', 'M8', 'M9','hour','dow','device_name', 'OS_id_30',  'browser_id_31','ProductID',\n",
        "       'DeviceInfo__P_emaildomain', 'card1__card5', 'card2__id_20','card5__P_emaildomain', 'addr1__card1','addr1__addr2','card1__card2','card2__addr1','card1__P_emaildomain',\n",
        "        'card2__P_emaildomain','addr1__P_emaildomain','DeviceInfo__id_31','DeviceInfo__id_20','DeviceType__id_31','DeviceType__id_20','DeviceType__P_emaildomain',\n",
        "        'card1__M4','card2__M4','addr1__M4','P_emaildomain__M4','uid1__ProductID','uid1__DeviceInfo']\n",
        "        "
      ]
    },
    {
      "cell_type": "code",
      "execution_count": null,
      "metadata": {
        "colab": {},
        "colab_type": "code",
        "id": "B-ulGcgqG_Lk"
      },
      "outputs": [],
      "source": [
        "for i in drop:\n",
        "  if i in cat:\n",
        "    cat.remove(i)"
      ]
    },
    {
      "cell_type": "code",
      "execution_count": null,
      "metadata": {
        "colab": {},
        "colab_type": "code",
        "id": "Mw4fSdijHKTB"
      },
      "outputs": [],
      "source": [
        "X_train.drop(['device_hash'],axis=1,inplace=True)\n",
        "X_test.drop(['device_hash'],axis=1,inplace=True)"
      ]
    },
    {
      "cell_type": "code",
      "execution_count": null,
      "metadata": {
        "colab": {},
        "colab_type": "code",
        "id": "4u4NDJGmHNMt"
      },
      "outputs": [],
      "source": [
        "import os\n",
        "\n",
        "# Ensure the directory exists\n",
        "processed_dir = '../data/processed'\n",
        "os.makedirs(processed_dir, exist_ok=True)\n",
        "\n",
        "X_train.to_pickle(f'{processed_dir}/X_train2.pkl')\n",
        "X_test.to_pickle(f'{processed_dir}/X_test2.pkl')\n",
        "y_train.to_frame().to_pickle(f'{processed_dir}/y_train2.pkl')"
      ]
    },
    {
      "cell_type": "markdown",
      "metadata": {
        "colab_type": "text",
        "id": "KT1FK0bMIi0x"
      },
      "source": [
        "## Model"
      ]
    },
    {
      "cell_type": "code",
      "execution_count": null,
      "metadata": {
        "colab": {},
        "colab_type": "code",
        "id": "gKWzCtnWKWgV"
      },
      "outputs": [],
      "source": [
        "X_train = pd.read_pickle(\"../data/processed/X_train2.pkl\")\n",
        "X_test = pd.read_pickle(\"../data/processed/X_test2.pkl\")\n",
        "y_train = pd.read_pickle(\"../data/processed/y_train2.pkl\")\n",
        "y_train = y_train.isFraud"
      ]
    },
    {
      "cell_type": "code",
      "execution_count": null,
      "metadata": {
        "colab": {},
        "colab_type": "code",
        "id": "j2uqhZd-LTUx"
      },
      "outputs": [],
      "source": [
        "cat = set(cat) & set(X_train.columns)"
      ]
    },
    {
      "cell_type": "code",
      "execution_count": null,
      "metadata": {
        "colab": {
          "base_uri": "https://localhost:8080/",
          "height": 1000
        },
        "colab_type": "code",
        "id": "wWi4696iLuHy",
        "outputId": "d8f437d3-ec62-4328-a201-6624d548e41b"
      },
      "outputs": [
        {
          "name": "stdout",
          "output_type": "stream",
          "text": [
            "----------------------------------------\n",
            "M7\n",
            "train:1.0\n",
            "test:1.0\n",
            "----------------------------------------\n",
            "addr1__M4\n",
            "train:0.6373983739837399\n",
            "test:0.6962699822380106\n",
            "----------------------------------------\n",
            "dow\n",
            "train:1.0\n",
            "test:1.0\n",
            "----------------------------------------\n",
            "card5\n",
            "train:0.7\n",
            "test:0.8155339805825242\n",
            "----------------------------------------\n",
            "card1\n",
            "train:0.7161514055928576\n",
            "test:0.7328601630927213\n",
            "----------------------------------------\n",
            "DeviceType__id_31\n",
            "train:0.7254901960784313\n",
            "test:0.6894409937888198\n",
            "----------------------------------------\n",
            "id_18\n",
            "train:0.8947368421052632\n",
            "test:0.9444444444444444\n",
            "----------------------------------------\n",
            "P_emaildomain__M4\n",
            "train:0.9444444444444444\n",
            "test:0.966824644549763\n",
            "----------------------------------------\n",
            "DeviceInfo__P_emaildomain\n",
            "train:0.40294840294840295\n",
            "test:0.3663859769719883\n",
            "----------------------------------------\n",
            "DeviceInfo__id_20\n",
            "train:0.3211884623725873\n",
            "test:0.25567544238239104\n",
            "----------------------------------------\n",
            "uid1__ProductID\n",
            "train:0.04352361041676135\n",
            "test:0.051496664668066586\n",
            "----------------------------------------\n",
            "card2__P_emaildomain\n",
            "train:0.7593962710861202\n",
            "test:0.8160279853712832\n",
            "----------------------------------------\n",
            "uid1__DeviceInfo\n",
            "train:0.1028989375475554\n",
            "test:0.1150085488352212\n",
            "----------------------------------------\n",
            "addr1\n",
            "train:0.5525525525525525\n",
            "test:0.6279863481228669\n",
            "----------------------------------------\n",
            "card6\n",
            "train:0.8\n",
            "test:1.0\n",
            "----------------------------------------\n",
            "card2\n",
            "train:0.9920159680638723\n",
            "test:0.9979919678714859\n",
            "----------------------------------------\n",
            "addr1__card1\n",
            "train:0.5559863911542503\n",
            "test:0.5907604795194173\n",
            "----------------------------------------\n",
            "card2__id_20\n",
            "train:0.6699238396321311\n",
            "test:0.6714676652743771\n",
            "----------------------------------------\n",
            "addr1__P_emaildomain\n",
            "train:0.7479224376731302\n",
            "test:0.7792207792207793\n",
            "----------------------------------------\n",
            "M5\n",
            "train:1.0\n",
            "test:1.0\n",
            "----------------------------------------\n",
            "card2__M4\n",
            "train:0.9207073588134627\n",
            "test:0.9516509433962265\n",
            "----------------------------------------\n",
            "card1__card2\n",
            "train:0.6867254199944919\n",
            "test:0.700765825897562\n",
            "----------------------------------------\n",
            "id_33\n",
            "train:0.7279693486590039\n",
            "test:0.4859335038363171\n",
            "----------------------------------------\n",
            "card1__card5\n",
            "train:0.6877796901893287\n",
            "test:0.699922931408954\n",
            "----------------------------------------\n",
            "uid1\n",
            "train:0.12073629998472034\n",
            "test:0.13567933094626056\n",
            "----------------------------------------\n",
            "card1__P_emaildomain\n",
            "train:0.5412019042800303\n",
            "test:0.5949936788874842\n",
            "----------------------------------------\n",
            "hour\n",
            "train:1.0\n",
            "test:1.0\n",
            "----------------------------------------\n",
            "DeviceType__P_emaildomain\n",
            "train:0.9943502824858758\n",
            "test:0.9887640449438202\n",
            "----------------------------------------\n",
            "DeviceType__id_20\n",
            "train:0.7169179229480737\n",
            "test:0.6445783132530121\n",
            "----------------------------------------\n",
            "card1__M4\n",
            "train:0.6411827270793449\n",
            "test:0.6816680989642228\n",
            "----------------------------------------\n",
            "M4\n",
            "train:1.0\n",
            "test:1.0\n",
            "----------------------------------------\n",
            "R_emaildomain\n",
            "train:1.0\n",
            "test:1.0\n",
            "----------------------------------------\n",
            "DeviceInfo__id_31\n",
            "train:0.13367799113737075\n",
            "test:0.1395259202158412\n",
            "----------------------------------------\n",
            "id_19\n",
            "train:0.8738049713193117\n",
            "test:0.9085487077534792\n",
            "----------------------------------------\n",
            "id_20\n",
            "train:0.7189873417721518\n",
            "test:0.6498855835240275\n",
            "----------------------------------------\n",
            "device_name\n",
            "train:0.8333333333333334\n",
            "test:0.8823529411764706\n",
            "----------------------------------------\n",
            "id_31\n",
            "train:0.7175572519083969\n",
            "test:0.6911764705882353\n",
            "----------------------------------------\n",
            "id_13\n",
            "train:0.4909090909090909\n",
            "test:0.9642857142857143\n",
            "----------------------------------------\n",
            "id_14\n",
            "train:0.9615384615384616\n",
            "test:0.8928571428571429\n",
            "----------------------------------------\n",
            "M2\n",
            "train:1.0\n",
            "test:1.0\n",
            "----------------------------------------\n",
            "ProductID\n",
            "train:0.2539071666588445\n",
            "test:0.3730777187780153\n",
            "----------------------------------------\n",
            "M3\n",
            "train:1.0\n",
            "test:1.0\n",
            "----------------------------------------\n",
            "id_30\n",
            "train:0.9868421052631579\n",
            "test:0.8620689655172413\n",
            "----------------------------------------\n",
            "card2__addr1\n",
            "train:0.7194469805660624\n",
            "test:0.7564454196379594\n",
            "----------------------------------------\n",
            "P_emaildomain\n",
            "train:1.0\n",
            "test:0.9836065573770492\n",
            "----------------------------------------\n",
            "card5__P_emaildomain\n",
            "train:0.7474226804123711\n",
            "test:0.8245329000812348\n",
            "----------------------------------------\n",
            "M6\n",
            "train:1.0\n",
            "test:1.0\n",
            "----------------------------------------\n",
            "addr1__addr2\n",
            "train:0.5136986301369864\n",
            "test:0.569620253164557\n"
          ]
        }
      ],
      "source": [
        "for column in cat:\n",
        "    train_set = set(X_train[column])\n",
        "    test_set = set(X_test[column])\n",
        "    tt = train_set.intersection(test_set)\n",
        "    print('----------------------------------------')\n",
        "    print(column)\n",
        "    print(f'train:{len(tt)/len(train_set)}')\n",
        "    print(f'test:{len(tt)/len(test_set)}')\n",
        "    X_train[column] = X_train[column].map(lambda x: -999 if x not in tt else x)\n",
        "    X_test[column] = X_test[column].map(lambda x: -999 if x not in tt else x)\n",
        "    #replaces any values in these columns that are not common between the two datasets with -999"
      ]
    },
    {
      "cell_type": "markdown",
      "metadata": {},
      "source": [
        "### CatBoost"
      ]
    },
    {
      "cell_type": "code",
      "execution_count": null,
      "metadata": {},
      "outputs": [],
      "source": [
        "## Memory Reducer\n",
        "# :df pandas dataframe to reduce size             \n",
        "# type: pd.DataFrame()\n",
        "# :verbose                                        \n",
        "# type: bool\n",
        "def reduce_mem_usage(df, verbose=True):\n",
        "    numerics = ['int16', 'int32', 'int64', 'float16', 'float32', 'float64']\n",
        "    start_mem = df.memory_usage().sum() / 1024**2    \n",
        "    for col in df.columns:\n",
        "        col_type = df[col].dtypes\n",
        "        if col_type in numerics:\n",
        "            c_min = df[col].min()\n",
        "            c_max = df[col].max()\n",
        "            if str(col_type)[:3] == 'int':\n",
        "                if c_min > np.iinfo(np.int8).min and c_max < np.iinfo(np.int8).max:\n",
        "                    df[col] = df[col].astype(np.int8)\n",
        "                elif c_min > np.iinfo(np.int16).min and c_max < np.iinfo(np.int16).max:\n",
        "                    df[col] = df[col].astype(np.int16)\n",
        "                elif c_min > np.iinfo(np.int32).min and c_max < np.iinfo(np.int32).max:\n",
        "                    df[col] = df[col].astype(np.int32)\n",
        "                elif c_min > np.iinfo(np.int64).min and c_max < np.iinfo(np.int64).max:\n",
        "                    df[col] = df[col].astype(np.int64)  \n",
        "            else:\n",
        "                if c_min > np.finfo(np.float16).min and c_max < np.finfo(np.float16).max:\n",
        "                    df[col] = df[col].astype(np.float16)\n",
        "                elif c_min > np.finfo(np.float32).min and c_max < np.finfo(np.float32).max:\n",
        "                    df[col] = df[col].astype(np.float32)\n",
        "                else:\n",
        "                    df[col] = df[col].astype(np.float64)    \n",
        "    end_mem = df.memory_usage().sum() / 1024**2\n",
        "    if verbose: print('Mem. usage decreased to {:5.2f} Mb ({:.1f}% reduction)'.format(end_mem, 100 * (start_mem - end_mem) / start_mem))\n",
        "    return df\n"
      ]
    },
    {
      "cell_type": "code",
      "execution_count": null,
      "metadata": {},
      "outputs": [
        {
          "name": "stdout",
          "output_type": "stream",
          "text": [
            "Mem. usage decreased to 471.38 Mb (70.7% reduction)\n",
            "CPU times: total: 2.33 s\n",
            "Wall time: 2.4 s\n"
          ]
        }
      ],
      "source": [
        "%%time\n",
        "X_train = reduce_mem_usage(X_train)"
      ]
    },
    {
      "cell_type": "code",
      "execution_count": null,
      "metadata": {},
      "outputs": [
        {
          "name": "stdout",
          "output_type": "stream",
          "text": [
            "check1\n"
          ]
        },
        {
          "name": "stderr",
          "output_type": "stream",
          "text": [
            "Default metric period is 5 because AUC is/are not implemented for GPU\n"
          ]
        },
        {
          "name": "stdout",
          "output_type": "stream",
          "text": [
            "0:\ttest: 0.8056985\tbest: 0.8056985 (0)\ttotal: 832ms\tremaining: 23h 5m 53s\n",
            "100:\ttest: 0.9383692\tbest: 0.9383692 (100)\ttotal: 58.4s\tremaining: 16h 3m 23s\n",
            "200:\ttest: 0.9439129\tbest: 0.9439129 (200)\ttotal: 1m 53s\tremaining: 15h 39m 19s\n",
            "300:\ttest: 0.9447275\tbest: 0.9448468 (259)\ttotal: 2m 48s\tremaining: 15h 32m 32s\n",
            "400:\ttest: 0.9463442\tbest: 0.9463442 (400)\ttotal: 3m 45s\tremaining: 15h 34m 35s\n",
            "500:\ttest: 0.9472132\tbest: 0.9473038 (493)\ttotal: 4m 42s\tremaining: 15h 34m 9s\n",
            "600:\ttest: 0.9471385\tbest: 0.9473038 (493)\ttotal: 5m 40s\tremaining: 15h 37m 27s\n",
            "700:\ttest: 0.9477561\tbest: 0.9477561 (700)\ttotal: 6m 37s\tremaining: 15h 38m 38s\n",
            "800:\ttest: 0.9478585\tbest: 0.9480420 (752)\ttotal: 7m 35s\tremaining: 15h 39m 14s\n",
            "900:\ttest: 0.9482847\tbest: 0.9484305 (876)\ttotal: 8m 31s\tremaining: 15h 37m 6s\n",
            "1000:\ttest: 0.9480826\tbest: 0.9484305 (876)\ttotal: 9m 27s\tremaining: 15h 36m 5s\n",
            "1100:\ttest: 0.9474373\tbest: 0.9484305 (876)\ttotal: 10m 25s\tremaining: 15h 36m\n",
            "1200:\ttest: 0.9471877\tbest: 0.9484305 (876)\ttotal: 11m 22s\tremaining: 15h 35m 34s\n",
            "bestTest = 0.9484305382\n",
            "bestIteration = 876\n",
            "Shrink model to first 877 iterations.\n",
            "check2\n",
            "0.948430583458762\n",
            "check3\n",
            "check4\n",
            "check1\n"
          ]
        },
        {
          "name": "stderr",
          "output_type": "stream",
          "text": [
            "Default metric period is 5 because AUC is/are not implemented for GPU\n"
          ]
        },
        {
          "name": "stdout",
          "output_type": "stream",
          "text": [
            "0:\ttest: 0.8164729\tbest: 0.8164729 (0)\ttotal: 839ms\tremaining: 23h 17m 43s\n",
            "100:\ttest: 0.9535946\tbest: 0.9535946 (100)\ttotal: 58s\tremaining: 15h 56m 20s\n",
            "200:\ttest: 0.9568740\tbest: 0.9568740 (200)\ttotal: 1m 54s\tremaining: 15h 51m 23s\n",
            "300:\ttest: 0.9583006\tbest: 0.9583006 (300)\ttotal: 2m 51s\tremaining: 15h 48m 19s\n",
            "400:\ttest: 0.9595645\tbest: 0.9595675 (398)\ttotal: 3m 50s\tremaining: 15h 52m 40s\n",
            "500:\ttest: 0.9605218\tbest: 0.9605352 (487)\ttotal: 4m 47s\tremaining: 15h 51m 29s\n",
            "600:\ttest: 0.9606642\tbest: 0.9609030 (566)\ttotal: 5m 45s\tremaining: 15h 51m 44s\n",
            "700:\ttest: 0.9607632\tbest: 0.9609030 (566)\ttotal: 6m 42s\tremaining: 15h 51m 10s\n",
            "800:\ttest: 0.9605019\tbest: 0.9609030 (566)\ttotal: 7m 40s\tremaining: 15h 49m 35s\n",
            "900:\ttest: 0.9604327\tbest: 0.9609030 (566)\ttotal: 8m 41s\tremaining: 15h 55m 14s\n",
            "bestTest = 0.9609030485\n",
            "bestIteration = 566\n",
            "Shrink model to first 567 iterations.\n",
            "check2\n",
            "0.9609030653976064\n",
            "check3\n",
            "check4\n",
            "check1\n"
          ]
        },
        {
          "name": "stderr",
          "output_type": "stream",
          "text": [
            "Default metric period is 5 because AUC is/are not implemented for GPU\n"
          ]
        },
        {
          "name": "stdout",
          "output_type": "stream",
          "text": [
            "0:\ttest: 0.8057905\tbest: 0.8057905 (0)\ttotal: 791ms\tremaining: 21h 57m 38s\n",
            "100:\ttest: 0.9563465\tbest: 0.9563465 (100)\ttotal: 1m\tremaining: 16h 29m 28s\n",
            "200:\ttest: 0.9599839\tbest: 0.9599839 (200)\ttotal: 1m 57s\tremaining: 16h 10m 32s\n",
            "300:\ttest: 0.9613248\tbest: 0.9613248 (300)\ttotal: 2m 55s\tremaining: 16h 10m 48s\n",
            "400:\ttest: 0.9620832\tbest: 0.9620832 (400)\ttotal: 3m 54s\tremaining: 16h 10m 19s\n",
            "500:\ttest: 0.9622979\tbest: 0.9624048 (466)\ttotal: 4m 52s\tremaining: 16h 7m 20s\n",
            "600:\ttest: 0.9624096\tbest: 0.9624603 (593)\ttotal: 5m 49s\tremaining: 16h 3m 44s\n",
            "700:\ttest: 0.9625247\tbest: 0.9625838 (672)\ttotal: 6m 47s\tremaining: 16h 1m 12s\n",
            "800:\ttest: 0.9625798\tbest: 0.9625838 (672)\ttotal: 7m 43s\tremaining: 15h 56m 38s\n",
            "900:\ttest: 0.9621944\tbest: 0.9626258 (810)\ttotal: 8m 40s\tremaining: 15h 54m 7s\n",
            "1000:\ttest: 0.9623549\tbest: 0.9626258 (810)\ttotal: 9m 37s\tremaining: 15h 52m 4s\n",
            "1100:\ttest: 0.9623022\tbest: 0.9626258 (810)\ttotal: 10m 34s\tremaining: 15h 50m 19s\n",
            "1200:\ttest: 0.9620335\tbest: 0.9626258 (810)\ttotal: 11m 32s\tremaining: 15h 48m 54s\n",
            "bestTest = 0.9626258016\n",
            "bestIteration = 810\n",
            "Shrink model to first 811 iterations.\n",
            "check2\n",
            "0.9626258073127784\n",
            "check3\n",
            "check4\n",
            "check1\n"
          ]
        },
        {
          "name": "stderr",
          "output_type": "stream",
          "text": [
            "Default metric period is 5 because AUC is/are not implemented for GPU\n"
          ]
        },
        {
          "name": "stdout",
          "output_type": "stream",
          "text": [
            "0:\ttest: 0.8220302\tbest: 0.8220302 (0)\ttotal: 884ms\tremaining: 1d 32m 41s\n",
            "100:\ttest: 0.9665020\tbest: 0.9665020 (100)\ttotal: 1m\tremaining: 16h 31m 38s\n",
            "200:\ttest: 0.9687249\tbest: 0.9688501 (196)\ttotal: 1m 57s\tremaining: 16h 9m 42s\n",
            "300:\ttest: 0.9695012\tbest: 0.9695019 (298)\ttotal: 2m 53s\tremaining: 16h 19s\n",
            "400:\ttest: 0.9704620\tbest: 0.9704787 (399)\ttotal: 3m 50s\tremaining: 15h 55m 17s\n",
            "500:\ttest: 0.9706996\tbest: 0.9707053 (499)\ttotal: 4m 48s\tremaining: 15h 53m 31s\n",
            "600:\ttest: 0.9709565\tbest: 0.9710276 (589)\ttotal: 5m 45s\tremaining: 15h 50m 59s\n",
            "700:\ttest: 0.9709752\tbest: 0.9710498 (693)\ttotal: 6m 41s\tremaining: 15h 48m 56s\n",
            "800:\ttest: 0.9708632\tbest: 0.9710498 (693)\ttotal: 7m 39s\tremaining: 15h 48m 17s\n",
            "900:\ttest: 0.9704868\tbest: 0.9710498 (693)\ttotal: 8m 37s\tremaining: 15h 48m 32s\n",
            "1000:\ttest: 0.9703684\tbest: 0.9710498 (693)\ttotal: 9m 35s\tremaining: 15h 48m 7s\n",
            "bestTest = 0.9710497856\n",
            "bestIteration = 693\n",
            "Shrink model to first 694 iterations.\n",
            "check2\n",
            "0.9710498043501482\n",
            "check3\n",
            "check4\n",
            "check1\n"
          ]
        },
        {
          "name": "stderr",
          "output_type": "stream",
          "text": [
            "Default metric period is 5 because AUC is/are not implemented for GPU\n"
          ]
        },
        {
          "name": "stdout",
          "output_type": "stream",
          "text": [
            "0:\ttest: 0.8038033\tbest: 0.8038033 (0)\ttotal: 838ms\tremaining: 23h 16m 52s\n",
            "100:\ttest: 0.9422728\tbest: 0.9422728 (100)\ttotal: 58.5s\tremaining: 16h 5m 9s\n",
            "200:\ttest: 0.9454392\tbest: 0.9457054 (195)\ttotal: 1m 54s\tremaining: 15h 50m\n",
            "300:\ttest: 0.9467590\tbest: 0.9467596 (295)\ttotal: 2m 51s\tremaining: 15h 48m 5s\n",
            "400:\ttest: 0.9475865\tbest: 0.9475865 (400)\ttotal: 3m 48s\tremaining: 15h 47m 22s\n",
            "500:\ttest: 0.9482016\tbest: 0.9483172 (496)\ttotal: 4m 44s\tremaining: 15h 43m 5s\n",
            "600:\ttest: 0.9483359\tbest: 0.9486824 (555)\ttotal: 5m 41s\tremaining: 15h 41m 5s\n",
            "700:\ttest: 0.9480404\tbest: 0.9486824 (555)\ttotal: 6m 38s\tremaining: 15h 40m 23s\n",
            "800:\ttest: 0.9477926\tbest: 0.9486824 (555)\ttotal: 7m 34s\tremaining: 15h 38m 54s\n",
            "900:\ttest: 0.9476125\tbest: 0.9486824 (555)\ttotal: 8m 32s\tremaining: 15h 39m 34s\n",
            "bestTest = 0.9486824274\n",
            "bestIteration = 555\n",
            "Shrink model to first 556 iterations.\n",
            "check2\n",
            "0.9486823853661123\n",
            "check3\n",
            "check4\n",
            "End:0.9583383291770813\n"
          ]
        }
      ],
      "source": [
        "cat = list(set(cat) & set(X_train.columns))\n",
        "#cross validation\n",
        "kf=KFold(n_splits = 5)\n",
        "resu1 = 0 #Stores the average AUC score over the 5 folds\n",
        "impor1 = 0#Stores the feature importance of the model\n",
        "y_pred = 0\n",
        "stack_train = np.zeros([X_train.shape[0],])#Stores the out-of-fold predictions for stacking: 1D array\n",
        "\n",
        "for train_index, test_index in kf.split(X_train, y_train): #train_index and test_index contain the index of the training and validation data for each fold\n",
        "  X_train = pd.read_pickle(f'{processed_dir}/X_train2.pkl')\n",
        "  X_train = reduce_mem_usage(X_train, verbose=False)\n",
        "  X_train2= X_train.iloc[train_index,:]# training data for this fold\n",
        "  y_train2= y_train.iloc[train_index]\n",
        "  X_test2= X_train.iloc[test_index,:]#validation data for this fold\n",
        "  y_test2= y_train.iloc[test_index]\n",
        "  \n",
        "  del X_train\n",
        "  print('check1')\n",
        "  clf = cb.CatBoostClassifier(n_estimators=100000, random_state=0, learning_rate= 0.1, depth=10, cat_features = cat,task_type = 'GPU', \n",
        "                              early_stopping_rounds = 400, eval_metric='AUC', border_count = 254, l2_leaf_reg=2)\n",
        "  clf.fit(X_train2,y_train2,eval_set = (X_test2,y_test2),verbose=100)\n",
        "  del X_train2,y_train2\n",
        "\n",
        "  #validation data for this fold  \n",
        "  print('check2')\n",
        "  temp_predict = clf.predict_proba(X_test2)[:,1]\n",
        "  roc = roc_auc_score(y_test2, temp_predict)\n",
        "  stack_train[test_index] = temp_predict #we stack the proba of each example in the row with the same index as the example\n",
        "  print(roc)\n",
        "  del X_test2,y_test2\n",
        "\n",
        "  #test data for this fold  \n",
        "  print('check3')\n",
        "  X_test = pd.read_pickle(f'{processed_dir}/X_test2.pkl')\n",
        "  X_test = reduce_mem_usage(X_test, verbose=False)\n",
        "  y_pred += clf.predict_proba(X_test)[:,1]/5\n",
        "  del X_test\n",
        "    \n",
        "  print('check4')\n",
        "  resu1 += roc/5\n",
        "  impor1 += clf.feature_importances_/5\n",
        "  gc.collect()\n",
        "print(f'End:{resu1}')"
      ]
    },
    {
      "cell_type": "markdown",
      "metadata": {},
      "source": [
        "#### CatBoost Submission"
      ]
    },
    {
      "cell_type": "code",
      "execution_count": null,
      "metadata": {},
      "outputs": [],
      "source": [
        "result = pd.read_csv(f'{folder_path}/sample_submission.csv')\n",
        "result['isFraud'] = y_pred\n",
        "result.to_csv(f'{folder_path}/catboost.csv',index=False)"
      ]
    },
    {
      "cell_type": "code",
      "execution_count": null,
      "metadata": {},
      "outputs": [],
      "source": [
        "df = pd.DataFrame()\n",
        "df['train'] = stack_train\n",
        "df.to_csv(f'{folder_path}/catboost_train.csv',index=False)"
      ]
    },
    {
      "cell_type": "markdown",
      "metadata": {
        "colab_type": "text",
        "id": "IhT1qhLLpRJR"
      },
      "source": [
        "### Extreme Gradient Boosting (XGBoost)"
      ]
    },
    {
      "cell_type": "code",
      "execution_count": null,
      "metadata": {
        "colab": {
          "base_uri": "https://localhost:8080/",
          "height": 1000
        },
        "colab_type": "code",
        "id": "lakr1_MhpT98",
        "outputId": "aa684b18-7bf7-4421-b903-3a2ce5b93710"
      },
      "outputs": [
        {
          "name": "stdout",
          "output_type": "stream",
          "text": [
            "[0]\tvalidation_0-auc:0.83833\n",
            "[30]\tvalidation_0-auc:0.88233\n",
            "[60]\tvalidation_0-auc:0.88825\n",
            "[90]\tvalidation_0-auc:0.89451\n",
            "[120]\tvalidation_0-auc:0.90046\n",
            "[150]\tvalidation_0-auc:0.90456\n",
            "[180]\tvalidation_0-auc:0.90842\n",
            "[210]\tvalidation_0-auc:0.91229\n",
            "[240]\tvalidation_0-auc:0.91471\n",
            "[270]\tvalidation_0-auc:0.91677\n",
            "[300]\tvalidation_0-auc:0.91867\n",
            "[330]\tvalidation_0-auc:0.92057\n",
            "[360]\tvalidation_0-auc:0.92209\n",
            "[390]\tvalidation_0-auc:0.92376\n",
            "[420]\tvalidation_0-auc:0.92506\n",
            "[450]\tvalidation_0-auc:0.92631\n",
            "[480]\tvalidation_0-auc:0.92751\n",
            "[510]\tvalidation_0-auc:0.92876\n",
            "[540]\tvalidation_0-auc:0.92962\n",
            "[570]\tvalidation_0-auc:0.93045\n",
            "[600]\tvalidation_0-auc:0.93131\n",
            "[630]\tvalidation_0-auc:0.93196\n",
            "[660]\tvalidation_0-auc:0.93274\n",
            "[690]\tvalidation_0-auc:0.93352\n",
            "[720]\tvalidation_0-auc:0.93404\n",
            "[750]\tvalidation_0-auc:0.93461\n",
            "[780]\tvalidation_0-auc:0.93505\n",
            "[810]\tvalidation_0-auc:0.93550\n",
            "[840]\tvalidation_0-auc:0.93596\n",
            "[870]\tvalidation_0-auc:0.93633\n",
            "[900]\tvalidation_0-auc:0.93671\n",
            "[930]\tvalidation_0-auc:0.93701\n",
            "[960]\tvalidation_0-auc:0.93730\n",
            "[990]\tvalidation_0-auc:0.93755\n",
            "[1020]\tvalidation_0-auc:0.93790\n",
            "[1050]\tvalidation_0-auc:0.93798\n",
            "[1080]\tvalidation_0-auc:0.93823\n",
            "[1110]\tvalidation_0-auc:0.93843\n",
            "[1140]\tvalidation_0-auc:0.93853\n",
            "[1170]\tvalidation_0-auc:0.93870\n",
            "[1200]\tvalidation_0-auc:0.93868\n",
            "[1230]\tvalidation_0-auc:0.93889\n",
            "[1260]\tvalidation_0-auc:0.93894\n",
            "[1290]\tvalidation_0-auc:0.93915\n",
            "[1320]\tvalidation_0-auc:0.93929\n",
            "[1350]\tvalidation_0-auc:0.93928\n",
            "[1380]\tvalidation_0-auc:0.93939\n",
            "[1410]\tvalidation_0-auc:0.93939\n",
            "[1440]\tvalidation_0-auc:0.93937\n",
            "[1470]\tvalidation_0-auc:0.93956\n",
            "[1500]\tvalidation_0-auc:0.93955\n",
            "[1530]\tvalidation_0-auc:0.93956\n",
            "[1560]\tvalidation_0-auc:0.93967\n",
            "[1590]\tvalidation_0-auc:0.93977\n",
            "[1620]\tvalidation_0-auc:0.93980\n",
            "[1650]\tvalidation_0-auc:0.93989\n",
            "[1680]\tvalidation_0-auc:0.93979\n",
            "[1710]\tvalidation_0-auc:0.93972\n",
            "[1740]\tvalidation_0-auc:0.93976\n",
            "[1770]\tvalidation_0-auc:0.93982\n",
            "[1800]\tvalidation_0-auc:0.93982\n",
            "[1830]\tvalidation_0-auc:0.93979\n",
            "[1860]\tvalidation_0-auc:0.93974\n",
            "[1890]\tvalidation_0-auc:0.93985\n",
            "[1920]\tvalidation_0-auc:0.93980\n",
            "[1950]\tvalidation_0-auc:0.93983\n",
            "[1980]\tvalidation_0-auc:0.93991\n",
            "[2010]\tvalidation_0-auc:0.93990\n",
            "[2040]\tvalidation_0-auc:0.93994\n",
            "[2070]\tvalidation_0-auc:0.93997\n",
            "[2100]\tvalidation_0-auc:0.93999\n",
            "[2130]\tvalidation_0-auc:0.94000\n",
            "[2160]\tvalidation_0-auc:0.94003\n",
            "[2190]\tvalidation_0-auc:0.94000\n",
            "[2220]\tvalidation_0-auc:0.94002\n",
            "[2250]\tvalidation_0-auc:0.94000\n",
            "[2280]\tvalidation_0-auc:0.93999\n",
            "[2310]\tvalidation_0-auc:0.94007\n",
            "[2340]\tvalidation_0-auc:0.94009\n",
            "[2370]\tvalidation_0-auc:0.94011\n",
            "[2400]\tvalidation_0-auc:0.94011\n",
            "[2430]\tvalidation_0-auc:0.94011\n",
            "[2460]\tvalidation_0-auc:0.94012\n",
            "[2490]\tvalidation_0-auc:0.94015\n",
            "[2520]\tvalidation_0-auc:0.94016\n",
            "[2550]\tvalidation_0-auc:0.94011\n",
            "[2580]\tvalidation_0-auc:0.94009\n",
            "[2610]\tvalidation_0-auc:0.94013\n",
            "[2640]\tvalidation_0-auc:0.94016\n",
            "[2670]\tvalidation_0-auc:0.94018\n",
            "[2700]\tvalidation_0-auc:0.94022\n",
            "[2730]\tvalidation_0-auc:0.94025\n",
            "[2760]\tvalidation_0-auc:0.94028\n",
            "[2790]\tvalidation_0-auc:0.94028\n",
            "[2820]\tvalidation_0-auc:0.94022\n",
            "[2850]\tvalidation_0-auc:0.94019\n",
            "[2880]\tvalidation_0-auc:0.94016\n",
            "[2910]\tvalidation_0-auc:0.94012\n",
            "[2940]\tvalidation_0-auc:0.94013\n",
            "[2970]\tvalidation_0-auc:0.94013\n",
            "[3000]\tvalidation_0-auc:0.94010\n",
            "[3030]\tvalidation_0-auc:0.94007\n",
            "[3060]\tvalidation_0-auc:0.94006\n",
            "[3090]\tvalidation_0-auc:0.94005\n",
            "[3120]\tvalidation_0-auc:0.94006\n",
            "[3150]\tvalidation_0-auc:0.94007\n",
            "[3180]\tvalidation_0-auc:0.94008\n",
            "[3210]\tvalidation_0-auc:0.94009\n",
            "[3240]\tvalidation_0-auc:0.94015\n",
            "[3256]\tvalidation_0-auc:0.94013\n",
            "0.9403122759386802\n",
            "[0]\tvalidation_0-auc:0.85932\n",
            "[30]\tvalidation_0-auc:0.90036\n",
            "[60]\tvalidation_0-auc:0.90539\n",
            "[90]\tvalidation_0-auc:0.90939\n",
            "[120]\tvalidation_0-auc:0.91420\n",
            "[150]\tvalidation_0-auc:0.91793\n",
            "[180]\tvalidation_0-auc:0.92174\n",
            "[210]\tvalidation_0-auc:0.92629\n",
            "[240]\tvalidation_0-auc:0.93113\n",
            "[270]\tvalidation_0-auc:0.93523\n",
            "[300]\tvalidation_0-auc:0.93817\n",
            "[330]\tvalidation_0-auc:0.94123\n",
            "[360]\tvalidation_0-auc:0.94381\n",
            "[390]\tvalidation_0-auc:0.94575\n",
            "[420]\tvalidation_0-auc:0.94736\n",
            "[450]\tvalidation_0-auc:0.94855\n",
            "[480]\tvalidation_0-auc:0.94986\n",
            "[510]\tvalidation_0-auc:0.95076\n",
            "[540]\tvalidation_0-auc:0.95172\n",
            "[570]\tvalidation_0-auc:0.95245\n",
            "[600]\tvalidation_0-auc:0.95299\n",
            "[630]\tvalidation_0-auc:0.95355\n",
            "[660]\tvalidation_0-auc:0.95406\n",
            "[690]\tvalidation_0-auc:0.95453\n",
            "[720]\tvalidation_0-auc:0.95489\n",
            "[750]\tvalidation_0-auc:0.95515\n",
            "[780]\tvalidation_0-auc:0.95545\n",
            "[810]\tvalidation_0-auc:0.95560\n",
            "[840]\tvalidation_0-auc:0.95586\n",
            "[870]\tvalidation_0-auc:0.95607\n",
            "[900]\tvalidation_0-auc:0.95627\n",
            "[930]\tvalidation_0-auc:0.95648\n",
            "[960]\tvalidation_0-auc:0.95658\n",
            "[990]\tvalidation_0-auc:0.95672\n",
            "[1020]\tvalidation_0-auc:0.95680\n",
            "[1050]\tvalidation_0-auc:0.95686\n",
            "[1080]\tvalidation_0-auc:0.95696\n",
            "[1110]\tvalidation_0-auc:0.95695\n",
            "[1140]\tvalidation_0-auc:0.95697\n",
            "[1170]\tvalidation_0-auc:0.95698\n",
            "[1200]\tvalidation_0-auc:0.95706\n",
            "[1230]\tvalidation_0-auc:0.95712\n",
            "[1260]\tvalidation_0-auc:0.95725\n",
            "[1290]\tvalidation_0-auc:0.95732\n",
            "[1320]\tvalidation_0-auc:0.95738\n",
            "[1350]\tvalidation_0-auc:0.95740\n",
            "[1380]\tvalidation_0-auc:0.95739\n",
            "[1410]\tvalidation_0-auc:0.95742\n",
            "[1440]\tvalidation_0-auc:0.95743\n",
            "[1470]\tvalidation_0-auc:0.95742\n",
            "[1500]\tvalidation_0-auc:0.95745\n",
            "[1530]\tvalidation_0-auc:0.95744\n",
            "[1560]\tvalidation_0-auc:0.95743\n",
            "[1590]\tvalidation_0-auc:0.95744\n",
            "[1620]\tvalidation_0-auc:0.95742\n",
            "[1650]\tvalidation_0-auc:0.95745\n",
            "[1680]\tvalidation_0-auc:0.95748\n",
            "[1710]\tvalidation_0-auc:0.95752\n",
            "[1740]\tvalidation_0-auc:0.95746\n",
            "[1770]\tvalidation_0-auc:0.95747\n",
            "[1800]\tvalidation_0-auc:0.95748\n",
            "[1830]\tvalidation_0-auc:0.95746\n",
            "[1860]\tvalidation_0-auc:0.95745\n",
            "[1890]\tvalidation_0-auc:0.95739\n",
            "[1920]\tvalidation_0-auc:0.95737\n",
            "[1950]\tvalidation_0-auc:0.95738\n",
            "[1980]\tvalidation_0-auc:0.95741\n",
            "[2010]\tvalidation_0-auc:0.95743\n",
            "[2040]\tvalidation_0-auc:0.95750\n",
            "[2070]\tvalidation_0-auc:0.95745\n",
            "[2100]\tvalidation_0-auc:0.95742\n",
            "[2130]\tvalidation_0-auc:0.95745\n",
            "[2160]\tvalidation_0-auc:0.95744\n",
            "[2190]\tvalidation_0-auc:0.95745\n",
            "[2220]\tvalidation_0-auc:0.95743\n",
            "[2222]\tvalidation_0-auc:0.95742\n",
            "0.9575368723873392\n",
            "[0]\tvalidation_0-auc:0.85672\n",
            "[30]\tvalidation_0-auc:0.89993\n",
            "[60]\tvalidation_0-auc:0.90647\n",
            "[90]\tvalidation_0-auc:0.91191\n",
            "[120]\tvalidation_0-auc:0.91732\n",
            "[150]\tvalidation_0-auc:0.92089\n",
            "[180]\tvalidation_0-auc:0.92495\n",
            "[210]\tvalidation_0-auc:0.92876\n",
            "[240]\tvalidation_0-auc:0.93324\n",
            "[270]\tvalidation_0-auc:0.93686\n",
            "[300]\tvalidation_0-auc:0.93993\n",
            "[330]\tvalidation_0-auc:0.94221\n",
            "[360]\tvalidation_0-auc:0.94396\n",
            "[390]\tvalidation_0-auc:0.94552\n",
            "[420]\tvalidation_0-auc:0.94676\n",
            "[450]\tvalidation_0-auc:0.94793\n",
            "[480]\tvalidation_0-auc:0.94899\n",
            "[510]\tvalidation_0-auc:0.94970\n",
            "[540]\tvalidation_0-auc:0.95029\n",
            "[570]\tvalidation_0-auc:0.95068\n",
            "[600]\tvalidation_0-auc:0.95106\n",
            "[630]\tvalidation_0-auc:0.95141\n",
            "[660]\tvalidation_0-auc:0.95173\n",
            "[690]\tvalidation_0-auc:0.95200\n",
            "[720]\tvalidation_0-auc:0.95223\n",
            "[750]\tvalidation_0-auc:0.95233\n",
            "[780]\tvalidation_0-auc:0.95256\n",
            "[810]\tvalidation_0-auc:0.95282\n",
            "[840]\tvalidation_0-auc:0.95301\n",
            "[870]\tvalidation_0-auc:0.95312\n",
            "[900]\tvalidation_0-auc:0.95322\n",
            "[930]\tvalidation_0-auc:0.95339\n",
            "[960]\tvalidation_0-auc:0.95345\n",
            "[990]\tvalidation_0-auc:0.95365\n",
            "[1020]\tvalidation_0-auc:0.95375\n",
            "[1050]\tvalidation_0-auc:0.95380\n",
            "[1080]\tvalidation_0-auc:0.95381\n",
            "[1110]\tvalidation_0-auc:0.95384\n",
            "[1140]\tvalidation_0-auc:0.95383\n",
            "[1170]\tvalidation_0-auc:0.95382\n",
            "[1200]\tvalidation_0-auc:0.95389\n",
            "[1230]\tvalidation_0-auc:0.95392\n",
            "[1260]\tvalidation_0-auc:0.95390\n",
            "[1290]\tvalidation_0-auc:0.95390\n",
            "[1320]\tvalidation_0-auc:0.95388\n",
            "[1350]\tvalidation_0-auc:0.95388\n",
            "[1380]\tvalidation_0-auc:0.95387\n",
            "[1410]\tvalidation_0-auc:0.95390\n",
            "[1440]\tvalidation_0-auc:0.95387\n",
            "[1470]\tvalidation_0-auc:0.95388\n",
            "[1500]\tvalidation_0-auc:0.95389\n",
            "[1530]\tvalidation_0-auc:0.95389\n",
            "[1560]\tvalidation_0-auc:0.95382\n",
            "[1590]\tvalidation_0-auc:0.95382\n",
            "[1620]\tvalidation_0-auc:0.95382\n",
            "[1650]\tvalidation_0-auc:0.95381\n",
            "[1680]\tvalidation_0-auc:0.95385\n",
            "[1710]\tvalidation_0-auc:0.95381\n",
            "[1725]\tvalidation_0-auc:0.95383\n",
            "0.9539337140821942\n",
            "[0]\tvalidation_0-auc:0.87259\n",
            "[30]\tvalidation_0-auc:0.91094\n",
            "[60]\tvalidation_0-auc:0.91692\n",
            "[90]\tvalidation_0-auc:0.92300\n",
            "[120]\tvalidation_0-auc:0.92877\n",
            "[150]\tvalidation_0-auc:0.93270\n",
            "[180]\tvalidation_0-auc:0.93695\n",
            "[210]\tvalidation_0-auc:0.94113\n",
            "[240]\tvalidation_0-auc:0.94494\n",
            "[270]\tvalidation_0-auc:0.94812\n",
            "[300]\tvalidation_0-auc:0.95029\n",
            "[330]\tvalidation_0-auc:0.95247\n",
            "[360]\tvalidation_0-auc:0.95451\n",
            "[390]\tvalidation_0-auc:0.95646\n",
            "[420]\tvalidation_0-auc:0.95780\n",
            "[450]\tvalidation_0-auc:0.95902\n",
            "[480]\tvalidation_0-auc:0.96001\n",
            "[510]\tvalidation_0-auc:0.96087\n",
            "[540]\tvalidation_0-auc:0.96162\n",
            "[570]\tvalidation_0-auc:0.96222\n",
            "[600]\tvalidation_0-auc:0.96284\n",
            "[630]\tvalidation_0-auc:0.96334\n",
            "[660]\tvalidation_0-auc:0.96377\n",
            "[690]\tvalidation_0-auc:0.96412\n",
            "[720]\tvalidation_0-auc:0.96448\n",
            "[750]\tvalidation_0-auc:0.96472\n",
            "[780]\tvalidation_0-auc:0.96503\n",
            "[810]\tvalidation_0-auc:0.96527\n",
            "[840]\tvalidation_0-auc:0.96550\n",
            "[870]\tvalidation_0-auc:0.96571\n",
            "[900]\tvalidation_0-auc:0.96597\n",
            "[930]\tvalidation_0-auc:0.96617\n",
            "[960]\tvalidation_0-auc:0.96634\n",
            "[990]\tvalidation_0-auc:0.96651\n",
            "[1020]\tvalidation_0-auc:0.96669\n",
            "[1050]\tvalidation_0-auc:0.96684\n",
            "[1080]\tvalidation_0-auc:0.96691\n",
            "[1110]\tvalidation_0-auc:0.96703\n",
            "[1140]\tvalidation_0-auc:0.96712\n",
            "[1170]\tvalidation_0-auc:0.96718\n",
            "[1200]\tvalidation_0-auc:0.96723\n",
            "[1230]\tvalidation_0-auc:0.96728\n",
            "[1260]\tvalidation_0-auc:0.96738\n",
            "[1290]\tvalidation_0-auc:0.96739\n",
            "[1320]\tvalidation_0-auc:0.96744\n",
            "[1350]\tvalidation_0-auc:0.96747\n",
            "[1380]\tvalidation_0-auc:0.96751\n",
            "[1410]\tvalidation_0-auc:0.96755\n",
            "[1440]\tvalidation_0-auc:0.96760\n",
            "[1470]\tvalidation_0-auc:0.96764\n",
            "[1500]\tvalidation_0-auc:0.96768\n",
            "[1530]\tvalidation_0-auc:0.96771\n",
            "[1560]\tvalidation_0-auc:0.96771\n",
            "[1590]\tvalidation_0-auc:0.96772\n",
            "[1620]\tvalidation_0-auc:0.96775\n",
            "[1650]\tvalidation_0-auc:0.96774\n",
            "[1680]\tvalidation_0-auc:0.96776\n",
            "[1710]\tvalidation_0-auc:0.96782\n",
            "[1740]\tvalidation_0-auc:0.96786\n",
            "[1770]\tvalidation_0-auc:0.96788\n",
            "[1800]\tvalidation_0-auc:0.96788\n",
            "[1830]\tvalidation_0-auc:0.96792\n",
            "[1860]\tvalidation_0-auc:0.96792\n",
            "[1890]\tvalidation_0-auc:0.96790\n",
            "[1920]\tvalidation_0-auc:0.96790\n",
            "[1950]\tvalidation_0-auc:0.96787\n",
            "[1980]\tvalidation_0-auc:0.96781\n",
            "[2010]\tvalidation_0-auc:0.96783\n",
            "[2040]\tvalidation_0-auc:0.96775\n",
            "[2070]\tvalidation_0-auc:0.96775\n",
            "[2100]\tvalidation_0-auc:0.96774\n",
            "[2130]\tvalidation_0-auc:0.96773\n",
            "[2160]\tvalidation_0-auc:0.96773\n",
            "[2190]\tvalidation_0-auc:0.96772\n",
            "[2220]\tvalidation_0-auc:0.96772\n",
            "[2250]\tvalidation_0-auc:0.96774\n",
            "[2280]\tvalidation_0-auc:0.96772\n",
            "[2310]\tvalidation_0-auc:0.96771\n",
            "[2340]\tvalidation_0-auc:0.96772\n",
            "[2346]\tvalidation_0-auc:0.96771\n",
            "0.9679513434564808\n",
            "[0]\tvalidation_0-auc:0.85314\n",
            "[30]\tvalidation_0-auc:0.88810\n",
            "[60]\tvalidation_0-auc:0.89382\n",
            "[90]\tvalidation_0-auc:0.89955\n",
            "[120]\tvalidation_0-auc:0.90507\n",
            "[150]\tvalidation_0-auc:0.90942\n",
            "[180]\tvalidation_0-auc:0.91379\n",
            "[210]\tvalidation_0-auc:0.91768\n",
            "[240]\tvalidation_0-auc:0.92106\n",
            "[270]\tvalidation_0-auc:0.92395\n",
            "[300]\tvalidation_0-auc:0.92616\n",
            "[330]\tvalidation_0-auc:0.92834\n",
            "[360]\tvalidation_0-auc:0.93039\n",
            "[390]\tvalidation_0-auc:0.93233\n",
            "[420]\tvalidation_0-auc:0.93399\n",
            "[450]\tvalidation_0-auc:0.93519\n",
            "[480]\tvalidation_0-auc:0.93656\n",
            "[510]\tvalidation_0-auc:0.93767\n",
            "[540]\tvalidation_0-auc:0.93873\n",
            "[570]\tvalidation_0-auc:0.93960\n",
            "[600]\tvalidation_0-auc:0.94020\n",
            "[630]\tvalidation_0-auc:0.94090\n",
            "[660]\tvalidation_0-auc:0.94142\n",
            "[690]\tvalidation_0-auc:0.94195\n",
            "[720]\tvalidation_0-auc:0.94245\n",
            "[750]\tvalidation_0-auc:0.94282\n",
            "[780]\tvalidation_0-auc:0.94308\n",
            "[810]\tvalidation_0-auc:0.94355\n",
            "[840]\tvalidation_0-auc:0.94388\n",
            "[870]\tvalidation_0-auc:0.94415\n",
            "[900]\tvalidation_0-auc:0.94450\n",
            "[930]\tvalidation_0-auc:0.94474\n",
            "[960]\tvalidation_0-auc:0.94496\n",
            "[990]\tvalidation_0-auc:0.94516\n",
            "[1020]\tvalidation_0-auc:0.94548\n",
            "[1050]\tvalidation_0-auc:0.94562\n",
            "[1080]\tvalidation_0-auc:0.94582\n",
            "[1110]\tvalidation_0-auc:0.94590\n",
            "[1140]\tvalidation_0-auc:0.94608\n",
            "[1170]\tvalidation_0-auc:0.94620\n",
            "[1200]\tvalidation_0-auc:0.94630\n",
            "[1230]\tvalidation_0-auc:0.94640\n",
            "[1260]\tvalidation_0-auc:0.94644\n",
            "[1290]\tvalidation_0-auc:0.94651\n",
            "[1320]\tvalidation_0-auc:0.94660\n",
            "[1350]\tvalidation_0-auc:0.94662\n",
            "[1380]\tvalidation_0-auc:0.94673\n",
            "[1410]\tvalidation_0-auc:0.94680\n",
            "[1440]\tvalidation_0-auc:0.94694\n",
            "[1470]\tvalidation_0-auc:0.94702\n",
            "[1500]\tvalidation_0-auc:0.94708\n",
            "[1530]\tvalidation_0-auc:0.94710\n",
            "[1560]\tvalidation_0-auc:0.94712\n",
            "[1590]\tvalidation_0-auc:0.94716\n",
            "[1620]\tvalidation_0-auc:0.94720\n",
            "[1650]\tvalidation_0-auc:0.94717\n",
            "[1680]\tvalidation_0-auc:0.94719\n",
            "[1710]\tvalidation_0-auc:0.94724\n",
            "[1740]\tvalidation_0-auc:0.94729\n",
            "[1770]\tvalidation_0-auc:0.94731\n",
            "[1800]\tvalidation_0-auc:0.94738\n",
            "[1830]\tvalidation_0-auc:0.94738\n",
            "[1860]\tvalidation_0-auc:0.94734\n",
            "[1890]\tvalidation_0-auc:0.94733\n",
            "[1920]\tvalidation_0-auc:0.94740\n",
            "[1950]\tvalidation_0-auc:0.94744\n",
            "[1980]\tvalidation_0-auc:0.94747\n",
            "[2010]\tvalidation_0-auc:0.94746\n",
            "[2040]\tvalidation_0-auc:0.94751\n",
            "[2070]\tvalidation_0-auc:0.94749\n",
            "[2100]\tvalidation_0-auc:0.94748\n",
            "[2130]\tvalidation_0-auc:0.94751\n",
            "[2160]\tvalidation_0-auc:0.94749\n",
            "[2190]\tvalidation_0-auc:0.94755\n",
            "[2220]\tvalidation_0-auc:0.94754\n",
            "[2250]\tvalidation_0-auc:0.94760\n",
            "[2280]\tvalidation_0-auc:0.94758\n",
            "[2310]\tvalidation_0-auc:0.94756\n",
            "[2340]\tvalidation_0-auc:0.94762\n",
            "[2370]\tvalidation_0-auc:0.94761\n",
            "[2400]\tvalidation_0-auc:0.94764\n",
            "[2430]\tvalidation_0-auc:0.94764\n",
            "[2460]\tvalidation_0-auc:0.94767\n",
            "[2490]\tvalidation_0-auc:0.94764\n",
            "[2520]\tvalidation_0-auc:0.94764\n",
            "[2550]\tvalidation_0-auc:0.94766\n",
            "[2580]\tvalidation_0-auc:0.94762\n",
            "[2610]\tvalidation_0-auc:0.94761\n",
            "[2640]\tvalidation_0-auc:0.94759\n",
            "[2670]\tvalidation_0-auc:0.94753\n",
            "[2700]\tvalidation_0-auc:0.94753\n",
            "[2730]\tvalidation_0-auc:0.94749\n",
            "[2760]\tvalidation_0-auc:0.94748\n",
            "[2790]\tvalidation_0-auc:0.94750\n",
            "[2820]\tvalidation_0-auc:0.94751\n",
            "[2850]\tvalidation_0-auc:0.94751\n",
            "[2880]\tvalidation_0-auc:0.94749\n",
            "[2910]\tvalidation_0-auc:0.94747\n",
            "[2940]\tvalidation_0-auc:0.94751\n",
            "[2970]\tvalidation_0-auc:0.94751\n",
            "[3000]\tvalidation_0-auc:0.94752\n",
            "[3030]\tvalidation_0-auc:0.94755\n",
            "[3031]\tvalidation_0-auc:0.94755\n",
            "0.947676891682503\n",
            "End:0.9534822195094395\n"
          ]
        }
      ],
      "source": [
        "kf=KFold(n_splits = 5)\n",
        "resu1 = 0\n",
        "impor1 = 0\n",
        "y_pred = 0\n",
        "stack_train = np.zeros([X_train.shape[0],])\n",
        "for train_index, test_index in kf.split(X_train, y_train):\n",
        "    X_train2= X_train.iloc[train_index,:]\n",
        "    y_train2= y_train.iloc[train_index]\n",
        "    X_test2= X_train.iloc[test_index,:]\n",
        "    y_test2= y_train.iloc[test_index]\n",
        "    clf = xgb.XGBClassifier(n_estimators=100000, max_depth=11, learning_rate=0.01,random_state=0, subsample=0.8,\n",
        "                                 colsample_bytree=0.6,min_child_weight = 3,reg_alpha=1,reg_lambda = 0.01,n_jobs=-1,tree_method='gpu_hist', eval_metric='auc', early_stopping_rounds=500)\n",
        "    clf.fit(X_train2, y_train2, eval_set=[(X_test2, y_test2)], verbose=30)\n",
        "    del X_train2,y_train2\n",
        "    temp_predict = clf.predict_proba(X_test2)[:,1]\n",
        "    stack_train[test_index] = temp_predict\n",
        "    y_pred += clf.predict_proba(X_test)[:,1]/5\n",
        "    roc = roc_auc_score(y_test2, temp_predict)\n",
        "    print(roc)\n",
        "    resu1 += roc/5\n",
        "    impor1 += clf.feature_importances_/5\n",
        "    del X_test2,y_test2\n",
        "    gc.collect()\n",
        "print(f'End:{resu1}')"
      ]
    },
    {
      "cell_type": "markdown",
      "metadata": {
        "colab_type": "text",
        "id": "2w3z0USjWzBM"
      },
      "source": [
        "#### XGBoost Submission"
      ]
    },
    {
      "cell_type": "code",
      "execution_count": null,
      "metadata": {
        "colab": {},
        "colab_type": "code",
        "id": "0edo-J-0paCl"
      },
      "outputs": [],
      "source": [
        "result = pd.read_csv(f'{folder_path}/sample_submission.csv')\n",
        "result['isFraud'] = y_pred\n",
        "result.to_csv(f'{folder_path}/xgb.csv',index=False)\n",
        "\n",
        "df = pd.DataFrame()\n",
        "df['train'] = stack_train\n",
        "df.to_csv(f'{folder_path}/xgb_train.csv',index=False)"
      ]
    },
    {
      "cell_type": "markdown",
      "metadata": {
        "colab_type": "text",
        "id": "qPGZwi11WpZ_"
      },
      "source": [
        "#### Leaderboard Score\n",
        "- **Public Score** : 0.960077 \n",
        "- **Private Score** : 0.935508"
      ]
    },
    {
      "cell_type": "markdown",
      "metadata": {},
      "source": [
        "### LightGBM"
      ]
    },
    {
      "cell_type": "markdown",
      "metadata": {},
      "source": [
        "#### LightGBM Submission"
      ]
    },
    {
      "cell_type": "markdown",
      "metadata": {},
      "source": [
        "#### Leaderboard Score\n",
        "- **Public Score** : 0.961445 \n",
        "- **Private Score** : 0.938790"
      ]
    },
    {
      "cell_type": "code",
      "execution_count": null,
      "metadata": {},
      "outputs": [
        {
          "name": "stdout",
          "output_type": "stream",
          "text": [
            "[LightGBM] [Warning] bagging_freq is set=1, subsample_freq=0 will be ignored. Current value: bagging_freq=1\n",
            "[LightGBM] [Warning] bagging_freq is set=1, subsample_freq=0 will be ignored. Current value: bagging_freq=1\n",
            "[LightGBM] [Info] Number of positive: 17837, number of negative: 454595\n",
            "[LightGBM] [Info] This is the GPU trainer!!\n",
            "[LightGBM] [Info] Total Bins 55773\n",
            "[LightGBM] [Info] Number of data points in the train set: 472432, number of used features: 358\n",
            "[LightGBM] [Info] Using GPU Device: NVIDIA GeForce RTX 3050 Ti Laptop GPU, Vendor: NVIDIA Corporation\n",
            "[LightGBM] [Info] Compiling OpenCL Kernel with 256 bins...\n",
            "[LightGBM] [Info] GPU programs have been built\n",
            "[LightGBM] [Info] Size of histogram bin entry: 16\n",
            "[LightGBM] [Info] 221 dense feature groups (100.92 MB) transferred to GPU in 0.226347 secs. 1 sparse feature groups\n",
            "[LightGBM] [Warning] bagging_freq is set=1, subsample_freq=0 will be ignored. Current value: bagging_freq=1\n",
            "[LightGBM] [Info] [binary:BoostFromScore]: pavg=0.037756 -> initscore=-3.238132\n",
            "[LightGBM] [Info] Start training from score -3.238132\n"
          ]
        },
        {
          "ename": "KeyboardInterrupt",
          "evalue": "",
          "output_type": "error",
          "traceback": [
            "\u001b[1;31m---------------------------------------------------------------------------\u001b[0m",
            "\u001b[1;31mKeyboardInterrupt\u001b[0m                         Traceback (most recent call last)",
            "Cell \u001b[1;32mIn[141], line 30\u001b[0m\n\u001b[0;32m     10\u001b[0m y_test2 \u001b[38;5;241m=\u001b[39m y_train\u001b[38;5;241m.\u001b[39miloc[test_index]\n\u001b[0;32m     11\u001b[0m clf \u001b[38;5;241m=\u001b[39m lgb\u001b[38;5;241m.\u001b[39mLGBMClassifier(\n\u001b[0;32m     12\u001b[0m     n_estimators\u001b[38;5;241m=\u001b[39m\u001b[38;5;241m100000\u001b[39m,\n\u001b[0;32m     13\u001b[0m     random_state\u001b[38;5;241m=\u001b[39m\u001b[38;5;241m42\u001b[39m,\n\u001b[1;32m   (...)\u001b[0m\n\u001b[0;32m     28\u001b[0m     metric\u001b[38;5;241m=\u001b[39m\u001b[38;5;124m\"\u001b[39m\u001b[38;5;124mNone\u001b[39m\u001b[38;5;124m\"\u001b[39m,\n\u001b[0;32m     29\u001b[0m )\n\u001b[1;32m---> 30\u001b[0m \u001b[43mclf\u001b[49m\u001b[38;5;241;43m.\u001b[39;49m\u001b[43mfit\u001b[49m\u001b[43m(\u001b[49m\u001b[43mX_train2\u001b[49m\u001b[43m,\u001b[49m\u001b[43m \u001b[49m\u001b[43my_train2\u001b[49m\u001b[43m,\u001b[49m\u001b[43m \u001b[49m\u001b[43meval_set\u001b[49m\u001b[38;5;241;43m=\u001b[39;49m\u001b[43m[\u001b[49m\u001b[43m(\u001b[49m\u001b[43mX_test2\u001b[49m\u001b[43m,\u001b[49m\u001b[43m \u001b[49m\u001b[43my_test2\u001b[49m\u001b[43m)\u001b[49m\u001b[43m]\u001b[49m\u001b[43m,\u001b[49m\u001b[43m \u001b[49m\u001b[43meval_metric\u001b[49m\u001b[38;5;241;43m=\u001b[39;49m\u001b[38;5;124;43m\"\u001b[39;49m\u001b[38;5;124;43mauc\u001b[39;49m\u001b[38;5;124;43m\"\u001b[39;49m\u001b[43m)\u001b[49m\n\u001b[0;32m     31\u001b[0m clf\u001b[38;5;241m.\u001b[39mbooster_\u001b[38;5;241m.\u001b[39mearly_stopping(\u001b[38;5;241m500\u001b[39m)\n\u001b[0;32m     32\u001b[0m temp_predict \u001b[38;5;241m=\u001b[39m clf\u001b[38;5;241m.\u001b[39mpredict_proba(X_test2)[:, \u001b[38;5;241m1\u001b[39m]\n",
            "File \u001b[1;32mc:\\Users\\user\\Desktop\\P22M\\Financial-Fraud-Detection\\venv\\Lib\\site-packages\\lightgbm\\sklearn.py:1284\u001b[0m, in \u001b[0;36mLGBMClassifier.fit\u001b[1;34m(self, X, y, sample_weight, init_score, eval_set, eval_names, eval_sample_weight, eval_class_weight, eval_init_score, eval_metric, feature_name, categorical_feature, callbacks, init_model)\u001b[0m\n\u001b[0;32m   1281\u001b[0m         \u001b[38;5;28;01melse\u001b[39;00m:\n\u001b[0;32m   1282\u001b[0m             valid_sets\u001b[38;5;241m.\u001b[39mappend((valid_x, \u001b[38;5;28mself\u001b[39m\u001b[38;5;241m.\u001b[39m_le\u001b[38;5;241m.\u001b[39mtransform(valid_y)))\n\u001b[1;32m-> 1284\u001b[0m \u001b[38;5;28;43msuper\u001b[39;49m\u001b[43m(\u001b[49m\u001b[43m)\u001b[49m\u001b[38;5;241;43m.\u001b[39;49m\u001b[43mfit\u001b[49m\u001b[43m(\u001b[49m\n\u001b[0;32m   1285\u001b[0m \u001b[43m    \u001b[49m\u001b[43mX\u001b[49m\u001b[43m,\u001b[49m\n\u001b[0;32m   1286\u001b[0m \u001b[43m    \u001b[49m\u001b[43m_y\u001b[49m\u001b[43m,\u001b[49m\n\u001b[0;32m   1287\u001b[0m \u001b[43m    \u001b[49m\u001b[43msample_weight\u001b[49m\u001b[38;5;241;43m=\u001b[39;49m\u001b[43msample_weight\u001b[49m\u001b[43m,\u001b[49m\n\u001b[0;32m   1288\u001b[0m \u001b[43m    \u001b[49m\u001b[43minit_score\u001b[49m\u001b[38;5;241;43m=\u001b[39;49m\u001b[43minit_score\u001b[49m\u001b[43m,\u001b[49m\n\u001b[0;32m   1289\u001b[0m \u001b[43m    \u001b[49m\u001b[43meval_set\u001b[49m\u001b[38;5;241;43m=\u001b[39;49m\u001b[43mvalid_sets\u001b[49m\u001b[43m,\u001b[49m\n\u001b[0;32m   1290\u001b[0m \u001b[43m    \u001b[49m\u001b[43meval_names\u001b[49m\u001b[38;5;241;43m=\u001b[39;49m\u001b[43meval_names\u001b[49m\u001b[43m,\u001b[49m\n\u001b[0;32m   1291\u001b[0m \u001b[43m    \u001b[49m\u001b[43meval_sample_weight\u001b[49m\u001b[38;5;241;43m=\u001b[39;49m\u001b[43meval_sample_weight\u001b[49m\u001b[43m,\u001b[49m\n\u001b[0;32m   1292\u001b[0m \u001b[43m    \u001b[49m\u001b[43meval_class_weight\u001b[49m\u001b[38;5;241;43m=\u001b[39;49m\u001b[43meval_class_weight\u001b[49m\u001b[43m,\u001b[49m\n\u001b[0;32m   1293\u001b[0m \u001b[43m    \u001b[49m\u001b[43meval_init_score\u001b[49m\u001b[38;5;241;43m=\u001b[39;49m\u001b[43meval_init_score\u001b[49m\u001b[43m,\u001b[49m\n\u001b[0;32m   1294\u001b[0m \u001b[43m    \u001b[49m\u001b[43meval_metric\u001b[49m\u001b[38;5;241;43m=\u001b[39;49m\u001b[43meval_metric\u001b[49m\u001b[43m,\u001b[49m\n\u001b[0;32m   1295\u001b[0m \u001b[43m    \u001b[49m\u001b[43mfeature_name\u001b[49m\u001b[38;5;241;43m=\u001b[39;49m\u001b[43mfeature_name\u001b[49m\u001b[43m,\u001b[49m\n\u001b[0;32m   1296\u001b[0m \u001b[43m    \u001b[49m\u001b[43mcategorical_feature\u001b[49m\u001b[38;5;241;43m=\u001b[39;49m\u001b[43mcategorical_feature\u001b[49m\u001b[43m,\u001b[49m\n\u001b[0;32m   1297\u001b[0m \u001b[43m    \u001b[49m\u001b[43mcallbacks\u001b[49m\u001b[38;5;241;43m=\u001b[39;49m\u001b[43mcallbacks\u001b[49m\u001b[43m,\u001b[49m\n\u001b[0;32m   1298\u001b[0m \u001b[43m    \u001b[49m\u001b[43minit_model\u001b[49m\u001b[38;5;241;43m=\u001b[39;49m\u001b[43minit_model\u001b[49m\u001b[43m,\u001b[49m\n\u001b[0;32m   1299\u001b[0m \u001b[43m\u001b[49m\u001b[43m)\u001b[49m\n\u001b[0;32m   1300\u001b[0m \u001b[38;5;28;01mreturn\u001b[39;00m \u001b[38;5;28mself\u001b[39m\n",
            "File \u001b[1;32mc:\\Users\\user\\Desktop\\P22M\\Financial-Fraud-Detection\\venv\\Lib\\site-packages\\lightgbm\\sklearn.py:955\u001b[0m, in \u001b[0;36mLGBMModel.fit\u001b[1;34m(self, X, y, sample_weight, init_score, group, eval_set, eval_names, eval_sample_weight, eval_class_weight, eval_init_score, eval_group, eval_metric, feature_name, categorical_feature, callbacks, init_model)\u001b[0m\n\u001b[0;32m    952\u001b[0m evals_result: _EvalResultDict \u001b[38;5;241m=\u001b[39m {}\n\u001b[0;32m    953\u001b[0m callbacks\u001b[38;5;241m.\u001b[39mappend(record_evaluation(evals_result))\n\u001b[1;32m--> 955\u001b[0m \u001b[38;5;28mself\u001b[39m\u001b[38;5;241m.\u001b[39m_Booster \u001b[38;5;241m=\u001b[39m \u001b[43mtrain\u001b[49m\u001b[43m(\u001b[49m\n\u001b[0;32m    956\u001b[0m \u001b[43m    \u001b[49m\u001b[43mparams\u001b[49m\u001b[38;5;241;43m=\u001b[39;49m\u001b[43mparams\u001b[49m\u001b[43m,\u001b[49m\n\u001b[0;32m    957\u001b[0m \u001b[43m    \u001b[49m\u001b[43mtrain_set\u001b[49m\u001b[38;5;241;43m=\u001b[39;49m\u001b[43mtrain_set\u001b[49m\u001b[43m,\u001b[49m\n\u001b[0;32m    958\u001b[0m \u001b[43m    \u001b[49m\u001b[43mnum_boost_round\u001b[49m\u001b[38;5;241;43m=\u001b[39;49m\u001b[38;5;28;43mself\u001b[39;49m\u001b[38;5;241;43m.\u001b[39;49m\u001b[43mn_estimators\u001b[49m\u001b[43m,\u001b[49m\n\u001b[0;32m    959\u001b[0m \u001b[43m    \u001b[49m\u001b[43mvalid_sets\u001b[49m\u001b[38;5;241;43m=\u001b[39;49m\u001b[43mvalid_sets\u001b[49m\u001b[43m,\u001b[49m\n\u001b[0;32m    960\u001b[0m \u001b[43m    \u001b[49m\u001b[43mvalid_names\u001b[49m\u001b[38;5;241;43m=\u001b[39;49m\u001b[43meval_names\u001b[49m\u001b[43m,\u001b[49m\n\u001b[0;32m    961\u001b[0m \u001b[43m    \u001b[49m\u001b[43mfeval\u001b[49m\u001b[38;5;241;43m=\u001b[39;49m\u001b[43meval_metrics_callable\u001b[49m\u001b[43m,\u001b[49m\u001b[43m  \u001b[49m\u001b[38;5;66;43;03m# type: ignore[arg-type]\u001b[39;49;00m\n\u001b[0;32m    962\u001b[0m \u001b[43m    \u001b[49m\u001b[43minit_model\u001b[49m\u001b[38;5;241;43m=\u001b[39;49m\u001b[43minit_model\u001b[49m\u001b[43m,\u001b[49m\n\u001b[0;32m    963\u001b[0m \u001b[43m    \u001b[49m\u001b[43mcallbacks\u001b[49m\u001b[38;5;241;43m=\u001b[39;49m\u001b[43mcallbacks\u001b[49m\u001b[43m,\u001b[49m\n\u001b[0;32m    964\u001b[0m \u001b[43m\u001b[49m\u001b[43m)\u001b[49m\n\u001b[0;32m    966\u001b[0m \u001b[38;5;28mself\u001b[39m\u001b[38;5;241m.\u001b[39m_evals_result \u001b[38;5;241m=\u001b[39m evals_result\n\u001b[0;32m    967\u001b[0m \u001b[38;5;28mself\u001b[39m\u001b[38;5;241m.\u001b[39m_best_iteration \u001b[38;5;241m=\u001b[39m \u001b[38;5;28mself\u001b[39m\u001b[38;5;241m.\u001b[39m_Booster\u001b[38;5;241m.\u001b[39mbest_iteration\n",
            "File \u001b[1;32mc:\\Users\\user\\Desktop\\P22M\\Financial-Fraud-Detection\\venv\\Lib\\site-packages\\lightgbm\\engine.py:307\u001b[0m, in \u001b[0;36mtrain\u001b[1;34m(params, train_set, num_boost_round, valid_sets, valid_names, feval, init_model, feature_name, categorical_feature, keep_training_booster, callbacks)\u001b[0m\n\u001b[0;32m    295\u001b[0m \u001b[38;5;28;01mfor\u001b[39;00m cb \u001b[38;5;129;01min\u001b[39;00m callbacks_before_iter:\n\u001b[0;32m    296\u001b[0m     cb(\n\u001b[0;32m    297\u001b[0m         callback\u001b[38;5;241m.\u001b[39mCallbackEnv(\n\u001b[0;32m    298\u001b[0m             model\u001b[38;5;241m=\u001b[39mbooster,\n\u001b[1;32m   (...)\u001b[0m\n\u001b[0;32m    304\u001b[0m         )\n\u001b[0;32m    305\u001b[0m     )\n\u001b[1;32m--> 307\u001b[0m \u001b[43mbooster\u001b[49m\u001b[38;5;241;43m.\u001b[39;49m\u001b[43mupdate\u001b[49m\u001b[43m(\u001b[49m\u001b[43mfobj\u001b[49m\u001b[38;5;241;43m=\u001b[39;49m\u001b[43mfobj\u001b[49m\u001b[43m)\u001b[49m\n\u001b[0;32m    309\u001b[0m evaluation_result_list: List[_LGBM_BoosterEvalMethodResultType] \u001b[38;5;241m=\u001b[39m []\n\u001b[0;32m    310\u001b[0m \u001b[38;5;66;03m# check evaluation result.\u001b[39;00m\n",
            "File \u001b[1;32mc:\\Users\\user\\Desktop\\P22M\\Financial-Fraud-Detection\\venv\\Lib\\site-packages\\lightgbm\\basic.py:4136\u001b[0m, in \u001b[0;36mBooster.update\u001b[1;34m(self, train_set, fobj)\u001b[0m\n\u001b[0;32m   4133\u001b[0m \u001b[38;5;28;01mif\u001b[39;00m \u001b[38;5;28mself\u001b[39m\u001b[38;5;241m.\u001b[39m__set_objective_to_none:\n\u001b[0;32m   4134\u001b[0m     \u001b[38;5;28;01mraise\u001b[39;00m LightGBMError(\u001b[38;5;124m\"\u001b[39m\u001b[38;5;124mCannot update due to null objective function.\u001b[39m\u001b[38;5;124m\"\u001b[39m)\n\u001b[0;32m   4135\u001b[0m _safe_call(\n\u001b[1;32m-> 4136\u001b[0m     \u001b[43m_LIB\u001b[49m\u001b[38;5;241;43m.\u001b[39;49m\u001b[43mLGBM_BoosterUpdateOneIter\u001b[49m\u001b[43m(\u001b[49m\n\u001b[0;32m   4137\u001b[0m \u001b[43m        \u001b[49m\u001b[38;5;28;43mself\u001b[39;49m\u001b[38;5;241;43m.\u001b[39;49m\u001b[43m_handle\u001b[49m\u001b[43m,\u001b[49m\n\u001b[0;32m   4138\u001b[0m \u001b[43m        \u001b[49m\u001b[43mctypes\u001b[49m\u001b[38;5;241;43m.\u001b[39;49m\u001b[43mbyref\u001b[49m\u001b[43m(\u001b[49m\u001b[43mis_finished\u001b[49m\u001b[43m)\u001b[49m\u001b[43m,\u001b[49m\n\u001b[0;32m   4139\u001b[0m \u001b[43m    \u001b[49m\u001b[43m)\u001b[49m\n\u001b[0;32m   4140\u001b[0m )\n\u001b[0;32m   4141\u001b[0m \u001b[38;5;28mself\u001b[39m\u001b[38;5;241m.\u001b[39m__is_predicted_cur_iter \u001b[38;5;241m=\u001b[39m [\u001b[38;5;28;01mFalse\u001b[39;00m \u001b[38;5;28;01mfor\u001b[39;00m _ \u001b[38;5;129;01min\u001b[39;00m \u001b[38;5;28mrange\u001b[39m(\u001b[38;5;28mself\u001b[39m\u001b[38;5;241m.\u001b[39m__num_dataset)]\n\u001b[0;32m   4142\u001b[0m \u001b[38;5;28;01mreturn\u001b[39;00m is_finished\u001b[38;5;241m.\u001b[39mvalue \u001b[38;5;241m==\u001b[39m \u001b[38;5;241m1\u001b[39m\n",
            "\u001b[1;31mKeyboardInterrupt\u001b[0m: "
          ]
        }
      ],
      "source": [
        "kf=KFold(n_splits = 5)\n",
        "resu1 = 0\n",
        "impor1 = 0\n",
        "y_pred = 0\n",
        "stack_train = np.zeros([X_train.shape[0],])\n",
        "for train_index, test_index in kf.split(X_train, y_train):\n",
        "    X_train2 = X_train.iloc[train_index, :]\n",
        "    y_train2 = y_train.iloc[train_index]\n",
        "    X_test2 = X_train.iloc[test_index, :]\n",
        "    y_test2 = y_train.iloc[test_index]\n",
        "    clf = lgb.LGBMClassifier(\n",
        "        n_estimators=100000,\n",
        "        random_state=42,\n",
        "        subsample=0.7,\n",
        "        device=\"gpu\",\n",
        "        gpu_platform_id=0,\n",
        "        gpu_device_id=1,\n",
        "        gpu_use_dp=True,\n",
        "        colsample_bytree=0.7, learning_rate=0.005, importance_type='gain',\n",
        "        max_depth=-1,\n",
        "        num_leaves=256,\n",
        "        min_child_samples=20,\n",
        "        min_split_gain=0.001,\n",
        "        bagging_freq=1,\n",
        "        reg_alpha=0,\n",
        "        reg_lambda=0,\n",
        "        n_jobs=-1,\n",
        "        metric=\"None\",\n",
        "    )\n",
        "    clf.fit(X_train2, y_train2, eval_set=[(X_test2, y_test2)], eval_metric=\"auc\")\n",
        "    clf.booster_.early_stopping(500)\n",
        "    temp_predict = clf.predict_proba(X_test2)[:, 1]\n",
        "    stack_train[test_index] = temp_predict\n",
        "    y_pred += clf.predict_proba(X_test)[:, 1] / 5\n",
        "    roc = roc_auc_score(y_test2, temp_predict)\n",
        "    print(roc)\n",
        "    resu1 += roc / 5\n",
        "    impor1 += clf.feature_importances_ / 5\n",
        "    gc.collect()\n",
        "print(f\"End:{resu1}\")"
      ]
    },
    {
      "cell_type": "code",
      "execution_count": null,
      "metadata": {},
      "outputs": [
        {
          "ename": "NameError",
          "evalue": "name 'pd' is not defined",
          "output_type": "error",
          "traceback": [
            "\u001b[1;31m---------------------------------------------------------------------------\u001b[0m\n",
            "\u001b[1;31mNameError\u001b[0m                                 Traceback (most recent call last)\n",
            "Cell \u001b[1;32mIn[5], line 1\u001b[0m\n",
            "\u001b[1;32m----> 1\u001b[0m result \u001b[38;5;241m=\u001b[39m \u001b[43mpd\u001b[49m\u001b[38;5;241m.\u001b[39mread_csv(\u001b[38;5;124mf\u001b[39m\u001b[38;5;124m'\u001b[39m\u001b[38;5;132;01m{\u001b[39;00mfolder_path\u001b[38;5;132;01m}\u001b[39;00m\u001b[38;5;124msample_submission.csv\u001b[39m\u001b[38;5;124m'\u001b[39m)\n",
            "\u001b[0;32m      2\u001b[0m result[\u001b[38;5;124m'\u001b[39m\u001b[38;5;124misFraud\u001b[39m\u001b[38;5;124m'\u001b[39m] \u001b[38;5;241m=\u001b[39m y_pred\n",
            "\u001b[0;32m      3\u001b[0m result\u001b[38;5;241m.\u001b[39mto_csv(\u001b[38;5;124mf\u001b[39m\u001b[38;5;124m'\u001b[39m\u001b[38;5;132;01m{\u001b[39;00mfolder_path\u001b[38;5;132;01m}\u001b[39;00m\u001b[38;5;124mlgbm.csv\u001b[39m\u001b[38;5;124m'\u001b[39m,index\u001b[38;5;241m=\u001b[39m\u001b[38;5;28;01mFalse\u001b[39;00m)\n",
            "\n",
            "\u001b[1;31mNameError\u001b[0m: name 'pd' is not defined"
          ]
        }
      ],
      "source": [
        "result = pd.read_csv(f'{folder_path}sample_submission.csv')\n",
        "result['isFraud'] = y_pred\n",
        "result.to_csv(f'{folder_path}lgbm.csv',index=False)\n",
        "\n",
        "df = pd.DataFrame()\n",
        "df['train'] = stack_train\n",
        "df.to_csv(f'{folder_path}lgb_train.csv',index=False)"
      ]
    },
    {
      "cell_type": "markdown",
      "metadata": {
        "colab_type": "text",
        "id": "NvT15LN-Dz9g"
      },
      "source": [
        "#### Leaderboard Score\n",
        "- **Public Score** : 0.958433 \n",
        "- **Private Score** : 0.933450\n"
      ]
    },
    {
      "cell_type": "markdown",
      "metadata": {
        "colab_type": "text",
        "id": "nBaXaY-FR1v_"
      },
      "source": [
        "## Ensemble \n",
        "Ensemble learning helps improve machine learning results by combining several models. This approach allows the production of better predictive performance compared to a single model. "
      ]
    },
    {
      "cell_type": "code",
      "execution_count": null,
      "metadata": {
        "colab": {},
        "colab_type": "code",
        "id": "lVwEhcj7Y9AH"
      },
      "outputs": [],
      "source": [
        "y_train = train_transaction = pd.read_csv(f'{folder_path}train_transaction.csv',usecols = ['isFraud'])\n",
        "y_train = y_train.isFraud"
      ]
    },
    {
      "cell_type": "code",
      "execution_count": 0,
      "metadata": {
        "colab": {},
        "colab_type": "code",
        "id": "wVJrQvI8JVnk"
      },
      "outputs": [],
      "source": []
    },
    {
      "cell_type": "code",
      "execution_count": null,
      "metadata": {
        "colab": {},
        "colab_type": "code",
        "id": "C2BWxEiEYAny"
      },
      "outputs": [],
      "source": [
        "#lgb = pd.read_csv(f'{folder_path}lgb.csv')\n",
        "#lgb_train = pd.read_csv(f'{folder_path}lgb_train.csv')\n",
        "xgb = pd.read_csv(f'{folder_path}xgb.csv')\n",
        "xgb_train = pd.read_csv(f'{folder_path}xgb_train.csv')\n",
        "cat = pd.read_csv(f'{folder_path}catboost.csv')\n",
        "cat_train = pd.read_csv(f'{folder_path}catboost_train.csv')"
      ]
    },
    {
      "cell_type": "markdown",
      "metadata": {
        "colab_type": "text",
        "id": "1n5xdk9UIeGi"
      },
      "source": [
        "### ROC_AUC Score"
      ]
    },
    {
      "cell_type": "code",
      "execution_count": null,
      "metadata": {
        "colab": {
          "base_uri": "https://localhost:8080/",
          "height": 68
        },
        "colab_type": "code",
        "id": "_hkGhnI9YX_W",
        "outputId": "39256ea5-e053-4579-a07f-5635b501a139"
      },
      "outputs": [
        {
          "name": "stdout",
          "output_type": "stream",
          "text": [
            "0.9536180090438174\n",
            "0.959303778901347\n"
          ]
        }
      ],
      "source": [
        "#print(roc_auc_score(y_train.values,lgb_train.train.values))\n",
        "print(roc_auc_score(y_train.values,xgb_train.train.values))\n",
        "print(roc_auc_score(y_train.values,cat_train.train.values))"
      ]
    },
    {
      "cell_type": "markdown",
      "metadata": {
        "colab_type": "text",
        "id": "2O7IkY-XIPja"
      },
      "source": [
        "#### Ensemble Submissiion"
      ]
    },
    {
      "cell_type": "code",
      "execution_count": null,
      "metadata": {
        "colab": {},
        "colab_type": "code",
        "id": "aQwGor_vYaT5"
      },
      "outputs": [
        {
          "ename": "AttributeError",
          "evalue": "module 'lightgbm' has no attribute 'copy'",
          "output_type": "error",
          "traceback": [
            "\u001b[1;31m---------------------------------------------------------------------------\u001b[0m",
            "\u001b[1;31mAttributeError\u001b[0m                            Traceback (most recent call last)",
            "Cell \u001b[1;32mIn[145], line 1\u001b[0m\n\u001b[1;32m----> 1\u001b[0m sub \u001b[38;5;241m=\u001b[39m \u001b[43mlgb\u001b[49m\u001b[38;5;241;43m.\u001b[39;49m\u001b[43mcopy\u001b[49m()\n\u001b[0;32m      2\u001b[0m sub\u001b[38;5;241m.\u001b[39misFraud \u001b[38;5;241m=\u001b[39m \u001b[38;5;241m0.8\u001b[39m\u001b[38;5;241m*\u001b[39mlgb\u001b[38;5;241m.\u001b[39misFraud \u001b[38;5;241m+\u001b[39m \u001b[38;5;241m0.2\u001b[39m\u001b[38;5;241m*\u001b[39mcat\u001b[38;5;241m.\u001b[39misFraud\n\u001b[0;32m      3\u001b[0m sub\u001b[38;5;241m.\u001b[39mto_csv(\u001b[38;5;124mf\u001b[39m\u001b[38;5;124m'\u001b[39m\u001b[38;5;132;01m{\u001b[39;00mfolder_path\u001b[38;5;132;01m}\u001b[39;00m\u001b[38;5;124mensemble_model.csv\u001b[39m\u001b[38;5;124m'\u001b[39m,index \u001b[38;5;241m=\u001b[39m \u001b[38;5;28;01mNone\u001b[39;00m)\n",
            "\u001b[1;31mAttributeError\u001b[0m: module 'lightgbm' has no attribute 'copy'"
          ]
        }
      ],
      "source": [
        "sub = lgb.copy()\n",
        "sub.isFraud = 0.8*lgb.isFraud + 0.2*cat.isFraud\n",
        "sub.to_csv(f'{folder_path}ensemble_model.csv',index = None)"
      ]
    },
    {
      "cell_type": "markdown",
      "metadata": {
        "colab_type": "text",
        "id": "vOuhTxDjQXrn"
      },
      "source": [
        "#### Final Leaderboard Score\n",
        "- **Public Score** : 0.963487 \n",
        "- **Private Score** : 0.941655\n"
      ]
    }
  ],
  "metadata": {
    "accelerator": "GPU",
    "colab": {
      "collapsed_sections": [],
      "machine_shape": "hm",
      "name": "Copy of  Model.ipynb",
      "provenance": []
    },
    "kernelspec": {
      "display_name": "venv",
      "language": "python",
      "name": "python3"
    },
    "language_info": {
      "codemirror_mode": {
        "name": "ipython",
        "version": 3
      },
      "file_extension": ".py",
      "mimetype": "text/x-python",
      "name": "python",
      "nbconvert_exporter": "python",
      "pygments_lexer": "ipython3",
      "version": "3.12.6"
    }
  },
  "nbformat": 4,
  "nbformat_minor": 0
}

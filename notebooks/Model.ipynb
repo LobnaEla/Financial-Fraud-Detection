{
  "cells": [
    {
      "cell_type": "code",
      "execution_count": 1,
      "metadata": {
        "execution": {
          "iopub.execute_input": "2025-04-19T11:58:39.126202Z",
          "iopub.status.busy": "2025-04-19T11:58:39.125900Z",
          "iopub.status.idle": "2025-04-19T11:58:45.076175Z",
          "shell.execute_reply": "2025-04-19T11:58:45.075435Z",
          "shell.execute_reply.started": "2025-04-19T11:58:39.126179Z"
        },
        "id": "hePAVnT3TBAz",
        "trusted": true
      },
      "outputs": [],
      "source": [
        "# !pip install xgboost catboost lightgbm\n",
        "#hi\n",
        "import numpy as np\n",
        "import pandas as pd\n",
        "import seaborn as sns\n",
        "import matplotlib.pyplot as plt\n",
        "import datetime\n",
        "import gc\n",
        "import hashlib\n",
        "\n",
        "from sklearn import preprocessing\n",
        "from sklearn.preprocessing import LabelEncoder\n",
        "from sklearn.model_selection import GridSearchCV, StratifiedKFold, TimeSeriesSplit, KFold, GroupKFold, train_test_split\n",
        "from sklearn.metrics import roc_auc_score, f1_score, recall_score,precision_score, confusion_matrix\n",
        "\n",
        "import catboost as cb\n",
        "import lightgbm as lgb\n",
        "import xgboost as xgb\n",
        "\n",
        "import warnings\n",
        "warnings.filterwarnings('ignore')\n",
        "import os\n",
        "\n",
        "os.environ[\"CUDA_VISIBLE_DEVICES\"] = \"1\""
      ]
    },
    {
      "cell_type": "code",
      "source": [
        "# from google.colab import files\n",
        "# uploaded = files.upload()\n"
      ],
      "metadata": {
        "id": "Gx66GWzUq2wD"
      },
      "execution_count": 2,
      "outputs": []
    },
    {
      "cell_type": "code",
      "source": [
        "# !unzip Financial-Fraud-Detection-main.zip"
      ],
      "metadata": {
        "id": "hyGUzxuYrHDi"
      },
      "execution_count": 3,
      "outputs": []
    },
    {
      "cell_type": "code",
      "source": [
        "# from google.colab import drive\n",
        "# drive.mount('/content/drive')"
      ],
      "metadata": {
        "id": "NgnIKYlpsK7o"
      },
      "execution_count": 4,
      "outputs": []
    },
    {
      "cell_type": "code",
      "source": [
        "# !cp -r /content/Financial-Fraud-Detection-main /content/drive/MyDrive/Colab\\ Notebooks/"
      ],
      "metadata": {
        "id": "3mF1X-4SsTJw"
      },
      "execution_count": 5,
      "outputs": []
    },
    {
      "cell_type": "code",
      "source": [
        "# !ls \"/content/drive/MyDrive/Colab Notebooks/fraud_detection_project\"\n"
      ],
      "metadata": {
        "id": "jTJLkOImt3re"
      },
      "execution_count": 6,
      "outputs": []
    },
    {
      "cell_type": "code",
      "execution_count": 7,
      "metadata": {
        "execution": {
          "iopub.execute_input": "2025-04-19T11:58:45.078101Z",
          "iopub.status.busy": "2025-04-19T11:58:45.077414Z",
          "iopub.status.idle": "2025-04-19T11:58:45.087695Z",
          "shell.execute_reply": "2025-04-19T11:58:45.086650Z",
          "shell.execute_reply.started": "2025-04-19T11:58:45.078072Z"
        },
        "id": "99dYi0tf8xoj",
        "trusted": true
      },
      "outputs": [],
      "source": [
        "# Process DeviceInfo, id_30-31 and generate a feature 'has identity'\n",
        "def id_split(dataframe):\n",
        "  dataframe['device_name'] = dataframe['DeviceInfo'].str.split('/', expand=True)[0]\n",
        "  dataframe['device_version'] = dataframe['DeviceInfo'].str.split('/', expand=True)[1]\n",
        "  dataframe['OS_id_30'] = dataframe['id_30'].str.split(' ', expand=True)[0]\n",
        "  dataframe['browser_id_31'] = dataframe['id_31'].str.split(' ', expand=True)[0]\n",
        "  dataframe.loc[dataframe['device_name'].str.contains('SM', na=False), 'device_name'] = 'Samsung'\n",
        "  dataframe.loc[dataframe['device_name'].str.contains('SAMSUNG', na=False), 'device_name'] = 'Samsung'\n",
        "  dataframe.loc[dataframe['device_name'].str.contains('GT-', na=False), 'device_name'] = 'Samsung'\n",
        "  dataframe.loc[dataframe['device_name'].str.contains('Moto G', na=False), 'device_name'] = 'Motorola'\n",
        "  dataframe.loc[dataframe['device_name'].str.contains('Moto', na=False), 'device_name'] = 'Motorola'\n",
        "  dataframe.loc[dataframe['device_name'].str.contains('moto', na=False), 'device_name'] = 'Motorola'\n",
        "  dataframe.loc[dataframe['device_name'].str.contains('LG-', na=False), 'device_name'] = 'LG'\n",
        "  dataframe.loc[dataframe['device_name'].str.contains('rv:', na=False), 'device_name'] = 'RV'\n",
        "  dataframe.loc[dataframe['device_name'].str.contains('HUAWEI', na=False), 'device_name'] = 'Huawei'\n",
        "  dataframe.loc[dataframe['device_name'].str.contains('ALE-', na=False), 'device_name'] = 'Huawei'\n",
        "  dataframe.loc[dataframe['device_name'].str.contains('-L', na=False), 'device_name'] = 'Huawei'\n",
        "  dataframe.loc[dataframe['device_name'].str.contains('Blade', na=False), 'device_name'] = 'ZTE'\n",
        "  dataframe.loc[dataframe['device_name'].str.contains('BLADE', na=False), 'device_name'] = 'ZTE'\n",
        "  dataframe.loc[dataframe['device_name'].str.contains('Linux', na=False), 'device_name'] = 'Linux'\n",
        "  dataframe.loc[dataframe['device_name'].str.contains('XT', na=False), 'device_name'] = 'Sony'\n",
        "  dataframe.loc[dataframe['device_name'].str.contains('HTC', na=False), 'device_name'] = 'HTC'\n",
        "  dataframe.loc[dataframe['device_name'].str.contains('ASUS', na=False), 'device_name'] = 'Asus'\n",
        "\n",
        "# Classes that are too sparse are placed in other classes\n",
        "  dataframe.loc[dataframe.device_name.isin(dataframe.device_name.value_counts()[dataframe.device_name.value_counts() < 100].index), 'device_name'] = \"Others\"\n",
        "  dataframe['had_id'] = 1\n",
        "  gc.collect()\n",
        "  return dataframe"
      ]
    },
    {
      "cell_type": "markdown",
      "metadata": {
        "id": "THUVqq65quDb"
      },
      "source": [
        "# Loading Data"
      ]
    },
    {
      "cell_type": "code",
      "execution_count": 8,
      "metadata": {
        "execution": {
          "iopub.execute_input": "2025-04-19T11:58:45.089850Z",
          "iopub.status.busy": "2025-04-19T11:58:45.089524Z",
          "iopub.status.idle": "2025-04-19T11:58:45.108451Z",
          "shell.execute_reply": "2025-04-19T11:58:45.107565Z",
          "shell.execute_reply.started": "2025-04-19T11:58:45.089812Z"
        },
        "trusted": true,
        "id": "Dfcxl9YIquDd"
      },
      "outputs": [],
      "source": [
        "# COLUMNS WITH STRINGS\n",
        "str_type = ['ProductCD', 'card4', 'card6', 'P_emaildomain', 'R_emaildomain','M1', 'M2', 'M3', 'M4','M5',\n",
        "            'M6', 'M7', 'M8', 'M9', 'id_12', 'id_15', 'id_16', 'id_23', 'id_27', 'id_28', 'id_29', 'id_30',\n",
        "            'id_31', 'id_33', 'id_34', 'id_35', 'id_36', 'id_37', 'id_38', 'DeviceType', 'DeviceInfo']\n",
        "\n",
        "# FIRST 53 COLUMNS\n",
        "cols = ['TransactionID', 'TransactionDT', 'TransactionAmt',\n",
        "       'ProductCD', 'card1', 'card2', 'card3', 'card4', 'card5', 'card6',\n",
        "       'addr1', 'addr2', 'dist1', 'dist2', 'P_emaildomain', 'R_emaildomain',\n",
        "       'C1', 'C2', 'C3', 'C4', 'C5', 'C6', 'C7', 'C8', 'C9', 'C10', 'C11',\n",
        "       'C12', 'C13', 'C14', 'D1', 'D2', 'D3', 'D4', 'D5', 'D6', 'D7', 'D8',\n",
        "       'D9', 'D10', 'D11', 'D12', 'D13', 'D14', 'D15', 'M1', 'M2', 'M3', 'M4',\n",
        "       'M5', 'M6', 'M7', 'M8', 'M9']\n",
        "\n",
        "# V COLUMNS TO LOAD DECIDED BY CORRELATION EDA\n",
        "# https://www.kaggle.com/cdeotte/eda-for-columns-v-and-id\n",
        "v =  [1, 3, 4, 6, 8, 11]\n",
        "v += [13, 14, 17, 20, 23, 26, 27, 30]\n",
        "v += [36, 37, 40, 41, 44, 47, 48]\n",
        "v += [54, 56, 59, 62, 65, 67, 68, 70]\n",
        "v += [76, 78, 80, 82, 86, 88, 89, 91]\n",
        "\n",
        "#v += [96, 98, 99, 104] #relates to groups, no NAN\n",
        "v += [107, 108, 111, 115, 117, 120, 121, 123] # maybe group, no NAN\n",
        "v += [124, 127, 129, 130, 136] # relates to groups, no NAN\n",
        "\n",
        "# LOTS OF NAN BELOW\n",
        "v += [138, 139, 142, 147, 156, 162] #b1\n",
        "v += [165, 160, 166] #b1\n",
        "v += [178, 176, 173, 182] #b2\n",
        "v += [187, 203, 205, 207, 215] #b2\n",
        "v += [169, 171, 175, 180, 185, 188, 198, 210, 209] #b2\n",
        "v += [218, 223, 224, 226, 228, 229, 235] #b3\n",
        "v += [240, 258, 257, 253, 252, 260, 261] #b3\n",
        "v += [264, 266, 267, 274, 277] #b3\n",
        "v += [220, 221, 234, 238, 250, 271] #b3\n",
        "\n",
        "v += [294, 284, 285, 286, 291, 297] # relates to grous, no NAN\n",
        "v += [303, 305, 307, 309, 310, 320] # relates to groups, no NAN\n",
        "v += [281, 283, 289, 296, 301, 314] # relates to groups, no NAN\n",
        "#v += [332, 325, 335, 338] # b4 lots NAN\n",
        "\n",
        "cols += ['V'+str(x) for x in v]\n",
        "dtypes = {}\n",
        "for c in cols+['id_0'+str(x) for x in range(1,10)]+['id_'+str(x) for x in range(10,34)]+\\\n",
        "    ['id-0'+str(x) for x in range(1,10)]+['id-'+str(x) for x in range(10,34)]:\n",
        "        dtypes[c] = 'float32'\n",
        "for c in str_type: dtypes[c] = 'category'"
      ]
    },
    {
      "cell_type": "code",
      "execution_count": 9,
      "metadata": {
        "execution": {
          "iopub.execute_input": "2025-04-19T11:58:45.110092Z",
          "iopub.status.busy": "2025-04-19T11:58:45.109871Z",
          "iopub.status.idle": "2025-04-19T11:59:19.122487Z",
          "shell.execute_reply": "2025-04-19T11:59:19.121713Z",
          "shell.execute_reply.started": "2025-04-19T11:58:45.110074Z"
        },
        "id": "2O8TbADaQT3E",
        "trusted": true
      },
      "outputs": [],
      "source": [
        "folder_path = '/content/Financial-Fraud-Detection-main/data/'\n",
        "train_identity = pd.read_csv(f'{folder_path}raw/train_identity.csv')\n",
        "train_transaction = pd.read_csv(f'{folder_path}raw/train_transaction.csv', usecols=cols+['isFraud'])\n",
        "test_identity = pd.read_csv(f'{folder_path}raw/test_identity.csv')\n",
        "test_transaction = pd.read_csv(f'{folder_path}raw/test_transaction.csv', usecols=cols)"
      ]
    },
    {
      "cell_type": "code",
      "execution_count": 10,
      "metadata": {
        "execution": {
          "iopub.execute_input": "2025-04-19T11:59:19.123753Z",
          "iopub.status.busy": "2025-04-19T11:59:19.123434Z",
          "iopub.status.idle": "2025-04-19T11:59:19.127831Z",
          "shell.execute_reply": "2025-04-19T11:59:19.127136Z",
          "shell.execute_reply.started": "2025-04-19T11:59:19.123722Z"
        },
        "trusted": true,
        "id": "cwo0qXDvquDd"
      },
      "outputs": [],
      "source": [
        "# Rename columns in test_identity (replace hyphens with underscores in \"id-xx\" columns)\n",
        "test_identity.columns = [col.replace(\"id-\", \"id_\") for col in test_identity.columns]"
      ]
    },
    {
      "cell_type": "code",
      "execution_count": 11,
      "metadata": {
        "execution": {
          "iopub.execute_input": "2025-04-19T11:59:19.129019Z",
          "iopub.status.busy": "2025-04-19T11:59:19.128650Z",
          "iopub.status.idle": "2025-04-19T11:59:19.157408Z",
          "shell.execute_reply": "2025-04-19T11:59:19.156575Z",
          "shell.execute_reply.started": "2025-04-19T11:59:19.128984Z"
        },
        "trusted": true,
        "colab": {
          "base_uri": "https://localhost:8080/"
        },
        "id": "nBdhbhuEquDe",
        "outputId": "0e857f89-d01b-40e8-a5a4-4c071942c2e5"
      },
      "outputs": [
        {
          "output_type": "stream",
          "name": "stdout",
          "text": [
            "Index(['TransactionID', 'id_01', 'id_02', 'id_03', 'id_04', 'id_05', 'id_06',\n",
            "       'id_07', 'id_08', 'id_09', 'id_10', 'id_11', 'id_12', 'id_13', 'id_14',\n",
            "       'id_15', 'id_16', 'id_17', 'id_18', 'id_19', 'id_20', 'id_21', 'id_22',\n",
            "       'id_23', 'id_24', 'id_25', 'id_26', 'id_27', 'id_28', 'id_29', 'id_30',\n",
            "       'id_31', 'id_32', 'id_33', 'id_34', 'id_35', 'id_36', 'id_37', 'id_38',\n",
            "       'DeviceType', 'DeviceInfo'],\n",
            "      dtype='object')\n"
          ]
        }
      ],
      "source": [
        "print(test_identity.columns)"
      ]
    },
    {
      "cell_type": "code",
      "execution_count": 12,
      "metadata": {
        "execution": {
          "iopub.execute_input": "2025-04-19T11:59:19.158564Z",
          "iopub.status.busy": "2025-04-19T11:59:19.158225Z",
          "iopub.status.idle": "2025-04-19T11:59:19.171532Z",
          "shell.execute_reply": "2025-04-19T11:59:19.170668Z",
          "shell.execute_reply.started": "2025-04-19T11:59:19.158534Z"
        },
        "trusted": true,
        "colab": {
          "base_uri": "https://localhost:8080/"
        },
        "id": "3EedQ5uxquDf",
        "outputId": "638b68e8-0d8e-42e1-d54a-a9679102f32e"
      },
      "outputs": [
        {
          "output_type": "stream",
          "name": "stdout",
          "text": [
            "Index(['TransactionID', 'id_01', 'id_02', 'id_03', 'id_04', 'id_05', 'id_06',\n",
            "       'id_07', 'id_08', 'id_09', 'id_10', 'id_11', 'id_12', 'id_13', 'id_14',\n",
            "       'id_15', 'id_16', 'id_17', 'id_18', 'id_19', 'id_20', 'id_21', 'id_22',\n",
            "       'id_23', 'id_24', 'id_25', 'id_26', 'id_27', 'id_28', 'id_29', 'id_30',\n",
            "       'id_31', 'id_32', 'id_33', 'id_34', 'id_35', 'id_36', 'id_37', 'id_38',\n",
            "       'DeviceType', 'DeviceInfo'],\n",
            "      dtype='object')\n"
          ]
        }
      ],
      "source": [
        "print(train_identity.columns)"
      ]
    },
    {
      "cell_type": "code",
      "execution_count": 13,
      "metadata": {
        "execution": {
          "iopub.execute_input": "2025-04-19T11:59:19.172674Z",
          "iopub.status.busy": "2025-04-19T11:59:19.172345Z",
          "iopub.status.idle": "2025-04-19T11:59:20.404661Z",
          "shell.execute_reply": "2025-04-19T11:59:20.403911Z",
          "shell.execute_reply.started": "2025-04-19T11:59:19.172640Z"
        },
        "id": "AIBhQL0p-Y44",
        "trusted": true
      },
      "outputs": [],
      "source": [
        "# Let's combine the data and work with the whole dataset\n",
        "X_train = pd.merge(train_transaction, train_identity, on = 'TransactionID', how = 'left')\n",
        "X_test = pd.merge(test_transaction, test_identity, on = 'TransactionID', how = 'left')"
      ]
    },
    {
      "cell_type": "code",
      "execution_count": 14,
      "metadata": {
        "execution": {
          "iopub.execute_input": "2025-04-19T11:59:20.407410Z",
          "iopub.status.busy": "2025-04-19T11:59:20.407157Z",
          "iopub.status.idle": "2025-04-19T11:59:21.017162Z",
          "shell.execute_reply": "2025-04-19T11:59:21.016278Z",
          "shell.execute_reply.started": "2025-04-19T11:59:20.407390Z"
        },
        "trusted": true,
        "colab": {
          "base_uri": "https://localhost:8080/"
        },
        "id": "QptekyLEquDf",
        "outputId": "e464cd0d-2877-4237-c568-819336a7e0fa"
      },
      "outputs": [
        {
          "output_type": "stream",
          "name": "stdout",
          "text": [
            "Train shape (590540, 214) test shape (506691, 214)\n"
          ]
        }
      ],
      "source": [
        "# TARGET\n",
        "y_train = X_train['isFraud'].copy()\n",
        "X_train = X_train.drop(['isFraud'],axis=1)\n",
        "\n",
        "del train_identity, test_identity, train_transaction, test_transaction; x = gc.collect()\n",
        "\n",
        "# PRINT STATUS\n",
        "print('Train shape',X_train.shape,'test shape',X_test.shape)"
      ]
    },
    {
      "cell_type": "markdown",
      "metadata": {
        "id": "D9W5s4xkquDg"
      },
      "source": [
        "### Splitting into validation and train"
      ]
    },
    {
      "cell_type": "code",
      "execution_count": 15,
      "metadata": {
        "execution": {
          "iopub.execute_input": "2025-04-19T11:59:21.019060Z",
          "iopub.status.busy": "2025-04-19T11:59:21.018753Z",
          "iopub.status.idle": "2025-04-19T11:59:21.022790Z",
          "shell.execute_reply": "2025-04-19T11:59:21.021762Z",
          "shell.execute_reply.started": "2025-04-19T11:59:21.019026Z"
        },
        "trusted": true,
        "id": "UrqcJbEkquDg"
      },
      "outputs": [],
      "source": [
        "# # Vérifier que X_train et y_train ont le même nombre d'échantillons\n",
        "# assert len(X_train) == len(y_train), \"Les ensembles X_train et y_train n'ont pas le même nombre d'échantillons.\"\n",
        "\n",
        "# # Diviser les données en un ensemble d'entraînement et de test avec la même répartition des classes\n",
        "# X_train, X_val, y_train, y_val = train_test_split(X_train, y_train, test_size=0.2, random_state=42, stratify=y_train)\n",
        "\n",
        "# # Afficher les tailles des ensembles de données\n",
        "# print(f\"Ensemble d'entraînement : {X_train.shape[0]} échantillons\")\n",
        "# print(f\"Ensemble de test : {X_val.shape[0]} échantillons\")\n",
        "\n",
        "# # Vérifier la répartition des classes dans chaque ensemble\n",
        "# print(f\"Répartition des classes dans le jeu d'entraînement :\\n{y_train.value_counts()}\")\n",
        "# print(f\"Répartition des classes dans le jeu de validation :\\n{y_val.value_counts()}\")"
      ]
    },
    {
      "cell_type": "markdown",
      "metadata": {
        "id": "Y2ppvswi-y1L"
      },
      "source": [
        "# Feature Engineering"
      ]
    },
    {
      "cell_type": "code",
      "execution_count": 16,
      "metadata": {
        "execution": {
          "iopub.execute_input": "2025-04-19T11:59:21.024089Z",
          "iopub.status.busy": "2025-04-19T11:59:21.023774Z",
          "iopub.status.idle": "2025-04-19T11:59:37.027120Z",
          "shell.execute_reply": "2025-04-19T11:59:37.026397Z",
          "shell.execute_reply.started": "2025-04-19T11:59:21.024060Z"
        },
        "id": "09ujBqO-9k3m",
        "trusted": true
      },
      "outputs": [],
      "source": [
        "X_train = id_split(X_train)\n",
        "X_test = id_split(X_test)"
      ]
    },
    {
      "cell_type": "code",
      "execution_count": 17,
      "metadata": {
        "execution": {
          "iopub.execute_input": "2025-04-19T11:59:37.028069Z",
          "iopub.status.busy": "2025-04-19T11:59:37.027866Z",
          "iopub.status.idle": "2025-04-19T11:59:37.032602Z",
          "shell.execute_reply": "2025-04-19T11:59:37.031893Z",
          "shell.execute_reply.started": "2025-04-19T11:59:37.028051Z"
        },
        "id": "eVbLDCxw9smX",
        "outputId": "4d9b1f09-f7ee-4cdb-e09b-14e2ea2e6d13",
        "trusted": true,
        "colab": {
          "base_uri": "https://localhost:8080/"
        }
      },
      "outputs": [
        {
          "output_type": "stream",
          "name": "stdout",
          "text": [
            "(590540, 219)\n",
            "(506691, 219)\n"
          ]
        }
      ],
      "source": [
        "print(X_train.shape)\n",
        "print(X_test.shape)"
      ]
    },
    {
      "cell_type": "code",
      "execution_count": 18,
      "metadata": {
        "execution": {
          "iopub.execute_input": "2025-04-19T11:59:37.033455Z",
          "iopub.status.busy": "2025-04-19T11:59:37.033217Z",
          "iopub.status.idle": "2025-04-19T11:59:37.131324Z",
          "shell.execute_reply": "2025-04-19T11:59:37.130404Z",
          "shell.execute_reply.started": "2025-04-19T11:59:37.033435Z"
        },
        "id": "3ZB7IzrIAJ9M",
        "outputId": "d104c283-3389-4066-dd02-2e8d7c3ed09f",
        "trusted": true,
        "colab": {
          "base_uri": "https://localhost:8080/"
        }
      },
      "outputs": [
        {
          "output_type": "stream",
          "name": "stdout",
          "text": [
            "device_name\n",
            "Windows            47722\n",
            "iOS Device         19782\n",
            "MacOS              12573\n",
            "Samsung            12092\n",
            "Trident             7440\n",
            "Others              4978\n",
            "RV                  4385\n",
            "Motorola            2935\n",
            "Huawei              2377\n",
            "LG                  2331\n",
            "Sony                 575\n",
            "ZTE                  518\n",
            "HTC                  406\n",
            "hi6210sft Build      190\n",
            "F3213 Build          125\n",
            "Linux                121\n",
            "F5121 Build          116\n",
            "Name: count, dtype: int64\n",
            "device_version\n",
            "7.0                7440\n",
            "NRD90M             5908\n",
            "MMB29K             1874\n",
            "MRA58K             1446\n",
            "MMB29M             1342\n",
            "                   ... \n",
            "4.28.502.2            1\n",
            "V41020c               1\n",
            "OPR4.170623.006       1\n",
            "OPN27.76-12-22        1\n",
            "HUAWEILDN-LX3         1\n",
            "Name: count, Length: 293, dtype: int64\n",
            "OS_id_30\n",
            "Windows    36739\n",
            "iOS        19782\n",
            "Mac        13580\n",
            "Android     6303\n",
            "Linux       1136\n",
            "other         15\n",
            "func          10\n",
            "Name: count, dtype: int64\n",
            "browser_id_31\n",
            "chrome               76059\n",
            "mobile               28379\n",
            "ie                    9733\n",
            "safari                8913\n",
            "firefox               7012\n",
            "edge                  6401\n",
            "samsung               2044\n",
            "opera                  449\n",
            "android                386\n",
            "other                  312\n",
            "Samsung/SM-G532M       150\n",
            "google                 146\n",
            "Generic/Android        138\n",
            "Samsung/SM-G531H        52\n",
            "Microsoft/Windows       25\n",
            "silk                    19\n",
            "ZTE/Blade                9\n",
            "maxthon                  6\n",
            "comodo                   6\n",
            "line                     6\n",
            "aol                      5\n",
            "icedragon                5\n",
            "Mozilla/Firefox          5\n",
            "Lanix/Ilium              3\n",
            "palemoon                 2\n",
            "waterfox                 2\n",
            "puffin                   2\n",
            "facebook                 2\n",
            "cyberfox                 1\n",
            "Samsung/SCH              1\n",
            "Nokia/Lumia              1\n",
            "M4Tel/M4                 1\n",
            "seamonkey                1\n",
            "BLU/Dash                 1\n",
            "iron                     1\n",
            "LG/K-200                 1\n",
            "chromium                 1\n",
            "Inco/Minion              1\n",
            "Cherry                   1\n",
            "Name: count, dtype: int64\n"
          ]
        }
      ],
      "source": [
        "# New fields have been added\n",
        "print(X_train['device_name'].value_counts())\n",
        "print(X_train['device_version'].value_counts())\n",
        "print(X_train['OS_id_30'].value_counts())\n",
        "print(X_train['browser_id_31'].value_counts())"
      ]
    },
    {
      "cell_type": "code",
      "execution_count": 19,
      "metadata": {
        "execution": {
          "iopub.execute_input": "2025-04-19T11:59:37.132306Z",
          "iopub.status.busy": "2025-04-19T11:59:37.132089Z",
          "iopub.status.idle": "2025-04-19T11:59:37.150062Z",
          "shell.execute_reply": "2025-04-19T11:59:37.148953Z",
          "shell.execute_reply.started": "2025-04-19T11:59:37.132289Z"
        },
        "trusted": true,
        "id": "hSjqXzlQquDh"
      },
      "outputs": [],
      "source": [
        "X_train['TransactionAmt'] = np.log1p(X_train['TransactionAmt'])\n",
        "X_test['TransactionAmt'] = np.log1p(X_test['TransactionAmt'])"
      ]
    },
    {
      "cell_type": "markdown",
      "metadata": {
        "id": "6v3bym3HquDi"
      },
      "source": [
        "## Flagging outliers"
      ]
    },
    {
      "cell_type": "code",
      "execution_count": 20,
      "metadata": {
        "execution": {
          "iopub.execute_input": "2025-04-19T11:59:37.151431Z",
          "iopub.status.busy": "2025-04-19T11:59:37.151139Z",
          "iopub.status.idle": "2025-04-19T11:59:37.157316Z",
          "shell.execute_reply": "2025-04-19T11:59:37.156526Z",
          "shell.execute_reply.started": "2025-04-19T11:59:37.151407Z"
        },
        "trusted": true,
        "id": "HkgwpL0rquDi"
      },
      "outputs": [],
      "source": [
        "def compute_outlier_bounds(series):\n",
        "    valid = series[(series != -999) & (~series.isna())]\n",
        "    Q1 = valid.quantile(0.25)\n",
        "    Q3 = valid.quantile(0.75)\n",
        "    IQR = Q3 - Q1\n",
        "    lower = Q1 - 1.5 * IQR\n",
        "    upper = Q3 + 1.5 * IQR\n",
        "    return lower, upper\n",
        "\n",
        "def add_outlier_flag_from_bounds(df, col, lower, upper):\n",
        "    df[col + '_is_outlier'] = ((df[col] < lower) | (df[col] > upper)).astype('int8')\n",
        "    return df"
      ]
    },
    {
      "cell_type": "code",
      "execution_count": 21,
      "metadata": {
        "execution": {
          "iopub.execute_input": "2025-04-19T11:59:37.158679Z",
          "iopub.status.busy": "2025-04-19T11:59:37.158291Z",
          "iopub.status.idle": "2025-04-19T11:59:38.027160Z",
          "shell.execute_reply": "2025-04-19T11:59:38.026238Z",
          "shell.execute_reply.started": "2025-04-19T11:59:37.158654Z"
        },
        "trusted": true,
        "id": "afgpKC_-quDi"
      },
      "outputs": [],
      "source": [
        "numeric_features = X_train.select_dtypes(include=['float32', 'float64', 'int32', 'int64']).columns"
      ]
    },
    {
      "cell_type": "code",
      "execution_count": 22,
      "metadata": {
        "execution": {
          "iopub.execute_input": "2025-04-19T11:59:38.028279Z",
          "iopub.status.busy": "2025-04-19T11:59:38.028044Z",
          "iopub.status.idle": "2025-04-19T11:59:40.351642Z",
          "shell.execute_reply": "2025-04-19T11:59:40.350260Z",
          "shell.execute_reply.started": "2025-04-19T11:59:38.028259Z"
        },
        "trusted": true,
        "colab": {
          "base_uri": "https://localhost:8080/"
        },
        "id": "1dgkCE3yquDi",
        "outputId": "fe67de82-e61a-4d43-f4da-789bcf86411c"
      },
      "outputs": [
        {
          "output_type": "stream",
          "name": "stdout",
          "text": [
            "TransactionID - skew: -0.0\n",
            "TransactionDT - skew: 0.13\n",
            "TransactionAmt - skew: 0.49\n",
            "card1 - skew: -0.04\n",
            "card2 - skew: -0.2\n",
            "card3 - skew: 2.02\n",
            "card5 - skew: -1.22\n",
            "addr1 - skew: 0.37\n",
            "addr2 - skew: -14.5\n",
            "dist1 - skew: 5.11\n",
            "dist2 - skew: 5.97\n",
            "C1 - skew: 23.96\n",
            "C2 - skew: 23.68\n",
            "C3 - skew: 88.95\n",
            "C4 - skew: 22.08\n",
            "C5 - skew: 5.79\n",
            "C6 - skew: 19.77\n",
            "C7 - skew: 27.19\n",
            "C8 - skew: 26.08\n",
            "C9 - skew: 5.69\n",
            "C10 - skew: 25.22\n",
            "C11 - skew: 22.36\n",
            "C12 - skew: 27.42\n",
            "C13 - skew: 8.99\n",
            "C14 - skew: 16.53\n",
            "D1 - skew: 1.81\n",
            "D2 - skew: 1.02\n",
            "D3 - skew: 4.54\n",
            "D4 - skew: 1.17\n",
            "D5 - skew: 3.39\n",
            "D6 - skew: 2.26\n",
            "D7 - skew: 2.95\n",
            "D8 - skew: 2.24\n",
            "D9 - skew: -0.59\n",
            "D10 - skew: 1.39\n",
            "D11 - skew: 1.05\n",
            "D12 - skew: 2.46\n",
            "D13 - skew: 5.41\n",
            "D14 - skew: 2.58\n",
            "D15 - skew: 0.96\n",
            "V17 - skew: 3.79\n",
            "V20 - skew: 0.25\n",
            "V23 - skew: 12.12\n",
            "V26 - skew: 2.69\n",
            "V37 - skew: 22.63\n",
            "V40 - skew: 6.65\n",
            "V44 - skew: 29.04\n",
            "V56 - skew: 23.56\n",
            "V59 - skew: 4.38\n",
            "V62 - skew: 0.61\n",
            "V78 - skew: 15.27\n",
            "V80 - skew: 5.69\n",
            "V86 - skew: 16.93\n",
            "V123 - skew: 12.88\n",
            "V124 - skew: 6.09\n",
            "V127 - skew: 25.68\n",
            "V129 - skew: 240.27\n",
            "V130 - skew: 26.3\n",
            "V136 - skew: 49.02\n",
            "V138 - skew: 22.58\n",
            "V139 - skew: 5.91\n",
            "V147 - skew: 9.94\n",
            "V156 - skew: 8.06\n",
            "V160 - skew: 3.0\n",
            "V162 - skew: 25.2\n",
            "V165 - skew: 6.81\n",
            "V166 - skew: 27.33\n",
            "V169 - skew: 8.84\n",
            "V171 - skew: 6.72\n",
            "V175 - skew: 6.45\n",
            "V176 - skew: 12.14\n",
            "V178 - skew: 13.3\n",
            "V180 - skew: 8.69\n",
            "V182 - skew: 9.15\n",
            "V185 - skew: 9.94\n",
            "V187 - skew: 15.68\n",
            "V188 - skew: 13.02\n",
            "V198 - skew: 15.33\n",
            "V203 - skew: 10.56\n",
            "V205 - skew: 84.9\n",
            "V207 - skew: 21.02\n",
            "V209 - skew: 11.94\n",
            "V210 - skew: 14.67\n",
            "V215 - skew: 25.55\n",
            "V218 - skew: 19.66\n",
            "V220 - skew: 10.33\n",
            "V221 - skew: 51.3\n",
            "V223 - skew: 11.19\n",
            "V224 - skew: 29.95\n",
            "V226 - skew: 30.26\n",
            "V228 - skew: 10.8\n",
            "V229 - skew: 29.37\n",
            "V234 - skew: 6.29\n",
            "V235 - skew: 10.82\n",
            "V238 - skew: 10.17\n",
            "V250 - skew: 3.36\n",
            "V252 - skew: 26.34\n",
            "V253 - skew: 39.22\n",
            "V257 - skew: 13.35\n",
            "V258 - skew: 17.43\n",
            "V261 - skew: 20.74\n",
            "V264 - skew: 24.5\n",
            "V266 - skew: 175.96\n",
            "V267 - skew: 38.01\n",
            "V271 - skew: 26.45\n",
            "V274 - skew: 20.15\n",
            "V277 - skew: 69.37\n",
            "V281 - skew: 10.01\n",
            "V283 - skew: 12.4\n",
            "V284 - skew: 5.3\n",
            "V285 - skew: 12.29\n",
            "V289 - skew: 3.51\n",
            "V291 - skew: 50.16\n",
            "V294 - skew: 23.85\n",
            "V296 - skew: 18.93\n",
            "V297 - skew: 13.28\n",
            "V301 - skew: 10.54\n",
            "V303 - skew: 5.16\n",
            "V307 - skew: 23.67\n",
            "V309 - skew: 224.88\n",
            "V310 - skew: 19.5\n",
            "V314 - skew: 10.75\n",
            "V320 - skew: 70.52\n",
            "id_01 - skew: -3.67\n",
            "id_02 - skew: 1.84\n",
            "id_03 - skew: -0.78\n",
            "id_04 - skew: -14.29\n",
            "id_05 - skew: 2.45\n",
            "id_06 - skew: -3.9\n",
            "id_07 - skew: -0.16\n",
            "id_08 - skew: -1.02\n",
            "id_09 - skew: -4.8\n",
            "id_10 - skew: -19.48\n",
            "id_11 - skew: -4.83\n",
            "id_13 - skew: -1.26\n",
            "id_14 - skew: 2.71\n",
            "id_17 - skew: 0.14\n",
            "id_18 - skew: 2.07\n",
            "id_19 - skew: 0.2\n",
            "id_20 - skew: -0.32\n",
            "id_21 - skew: 1.24\n",
            "id_22 - skew: 3.23\n",
            "id_24 - skew: 1.29\n",
            "id_25 - skew: 0.05\n",
            "id_26 - skew: 0.01\n"
          ]
        }
      ],
      "source": [
        "for col in numeric_features:\n",
        "    if X_train[col].nunique() > 10:  # skip low-cardinality features\n",
        "        skew = X_train[col].skew()\n",
        "        print(f\"{col} - skew: {round(skew,2)}\")"
      ]
    },
    {
      "cell_type": "code",
      "execution_count": 23,
      "metadata": {
        "execution": {
          "iopub.execute_input": "2025-04-19T11:59:40.353265Z",
          "iopub.status.busy": "2025-04-19T11:59:40.352985Z",
          "iopub.status.idle": "2025-04-19T11:59:42.612245Z",
          "shell.execute_reply": "2025-04-19T11:59:42.611505Z",
          "shell.execute_reply.started": "2025-04-19T11:59:40.353242Z"
        },
        "trusted": true,
        "id": "32Zgy3cKquDj"
      },
      "outputs": [],
      "source": [
        "# Threshold for skewness (you can tweak it)\n",
        "skew_threshold = 2\n",
        "\n",
        "# Filter numeric features by skewness\n",
        "numeric_features_filtered = [\n",
        "    col for col in numeric_features\n",
        "    if X_train[col].nunique() > 10 and abs(X_train[col].skew()) > skew_threshold\n",
        "]"
      ]
    },
    {
      "cell_type": "code",
      "execution_count": 24,
      "metadata": {
        "execution": {
          "iopub.execute_input": "2025-04-19T11:59:42.613446Z",
          "iopub.status.busy": "2025-04-19T11:59:42.613112Z",
          "iopub.status.idle": "2025-04-19T11:59:42.617928Z",
          "shell.execute_reply": "2025-04-19T11:59:42.617120Z",
          "shell.execute_reply.started": "2025-04-19T11:59:42.613405Z"
        },
        "trusted": true,
        "id": "PMKLFkWQquDj"
      },
      "outputs": [],
      "source": [
        "important_features=[\n",
        "    'C1', 'C10', 'C13', 'C14', 'C1_card2_mean', 'C1_card2_std', 'C2', 'C4', 'C8',\n",
        "    'ProductCD_R_Day', 'R_emaildomain', 'R_emaildomain_count_full',\n",
        "    'TransactionAmt_card1_addr1_P_emaildomain_std', 'V121', 'V187', 'V188', 'V210',\n",
        "    'V257', 'V258', 'V258_ProductID_std', 'V258_R_emaildomain_mean',\n",
        "    'V258_R_emaildomain_std', 'V258_uid_mean', 'V271', 'V274', 'V294', 'V294_uid_mean',\n",
        "    'V30', 'V309', 'V48', 'V68', 'V70', 'V89', 'V91', 'addr1_count_full', 'card1',\n",
        "    'card1_addr1_FE', 'card3_count_full', 'card5', 'card6', 'card6_count_full', 'day',\n",
        "    'dow', 'email_domain_comp', 'id_02_uid_std', 'id_29', 'uid_C13_ct'\n",
        "]"
      ]
    },
    {
      "cell_type": "code",
      "execution_count": 25,
      "metadata": {
        "execution": {
          "iopub.execute_input": "2025-04-19T11:59:42.619032Z",
          "iopub.status.busy": "2025-04-19T11:59:42.618764Z",
          "iopub.status.idle": "2025-04-19T11:59:42.635264Z",
          "shell.execute_reply": "2025-04-19T11:59:42.634497Z",
          "shell.execute_reply.started": "2025-04-19T11:59:42.619010Z"
        },
        "trusted": true,
        "colab": {
          "base_uri": "https://localhost:8080/"
        },
        "id": "1pEihX4KquDj",
        "outputId": "d1031e7b-7788-4733-c609-11bec1584b91"
      },
      "outputs": [
        {
          "output_type": "stream",
          "name": "stdout",
          "text": [
            "['C1', 'C10', 'C13', 'C14', 'C2', 'C4', 'C8', 'V187', 'V188', 'V210', 'V257', 'V258', 'V271', 'V274', 'V294', 'V309']\n"
          ]
        }
      ],
      "source": [
        "outlier_flag_features = list(set(important_features) & set(numeric_features_filtered))\n",
        "outlier_flag_features.sort()\n",
        "\n",
        "# Output\n",
        "print(outlier_flag_features)"
      ]
    },
    {
      "cell_type": "code",
      "execution_count": 26,
      "metadata": {
        "execution": {
          "iopub.execute_input": "2025-04-19T11:59:42.636557Z",
          "iopub.status.busy": "2025-04-19T11:59:42.636187Z",
          "iopub.status.idle": "2025-04-19T11:59:43.028188Z",
          "shell.execute_reply": "2025-04-19T11:59:43.027508Z",
          "shell.execute_reply.started": "2025-04-19T11:59:42.636523Z"
        },
        "trusted": true,
        "id": "JQeDDjnkquDj"
      },
      "outputs": [],
      "source": [
        "# Apply to selected features\n",
        "for col in outlier_flag_features:\n",
        "    lower, upper = compute_outlier_bounds(X_train[col])\n",
        "    X_train = add_outlier_flag_from_bounds(X_train, col, lower, upper)\n",
        "    X_test = add_outlier_flag_from_bounds(X_test, col, lower, upper)  # ✅ SAFE: using train's thresholds"
      ]
    },
    {
      "cell_type": "markdown",
      "metadata": {
        "id": "vBmdsWHequDk"
      },
      "source": [
        "### Extracting Time Features"
      ]
    },
    {
      "cell_type": "code",
      "execution_count": 27,
      "metadata": {
        "execution": {
          "iopub.execute_input": "2025-04-19T11:59:43.029151Z",
          "iopub.status.busy": "2025-04-19T11:59:43.028946Z",
          "iopub.status.idle": "2025-04-19T11:59:43.034219Z",
          "shell.execute_reply": "2025-04-19T11:59:43.033370Z",
          "shell.execute_reply.started": "2025-04-19T11:59:43.029134Z"
        },
        "trusted": true,
        "colab": {
          "base_uri": "https://localhost:8080/"
        },
        "id": "nHfcYvoaquDk",
        "outputId": "e90fabbc-ffa2-49b3-9d52-d4635b113353"
      },
      "outputs": [
        {
          "output_type": "stream",
          "name": "stdout",
          "text": [
            "0    18403224\n",
            "1    18403263\n",
            "2    18403310\n",
            "3    18403310\n",
            "4    18403317\n",
            "Name: TransactionDT, dtype: int64\n"
          ]
        }
      ],
      "source": [
        "print(X_test['TransactionDT'][:5])"
      ]
    },
    {
      "cell_type": "markdown",
      "metadata": {
        "id": "ik937gK0BFgu"
      },
      "source": [
        "- DT_D (Days)\n",
        "- DT_W (Weeks)\n",
        "- DT_M (Months)"
      ]
    },
    {
      "cell_type": "code",
      "execution_count": 28,
      "metadata": {
        "execution": {
          "iopub.execute_input": "2025-04-19T11:59:43.035503Z",
          "iopub.status.busy": "2025-04-19T11:59:43.035224Z",
          "iopub.status.idle": "2025-04-19T11:59:44.738348Z",
          "shell.execute_reply": "2025-04-19T11:59:44.737398Z",
          "shell.execute_reply.started": "2025-04-19T11:59:43.035482Z"
        },
        "id": "DwEMZcN0-5Jr",
        "trusted": true
      },
      "outputs": [],
      "source": [
        "START_DATE = '2017-11-30'\n",
        "startdate = datetime.datetime.strptime(START_DATE, '%Y-%m-%d')\n",
        "X_train['TransactionDT_date'] = X_train['TransactionDT'].apply(lambda x: startdate + datetime.timedelta(seconds=x))\n",
        "X_test['TransactionDT_date'] = X_test['TransactionDT'].apply(lambda x: startdate + datetime.timedelta(seconds=x))\n",
        "for df in [X_train, X_test]:\n",
        "    df['DT_D'] = ((df['TransactionDT_date'].dt.year - 2017) * 365 + df['TransactionDT_date'].dt.dayofyear).astype(np.int16)\n",
        "    df['DT_W'] = (df['TransactionDT_date'].dt.year - 2017) * 52 + df['TransactionDT_date'].dt.isocalendar().week\n",
        "    df['DT_M'] = (df['TransactionDT_date'].dt.year - 2017) * 12 + df['TransactionDT_date'].dt.month"
      ]
    },
    {
      "cell_type": "markdown",
      "metadata": {
        "id": "Tq4IUW8iquDk"
      },
      "source": [
        "## Encoding ProductCD with Count Features Over Time"
      ]
    },
    {
      "cell_type": "code",
      "execution_count": 29,
      "metadata": {
        "execution": {
          "iopub.execute_input": "2025-04-19T11:59:44.739702Z",
          "iopub.status.busy": "2025-04-19T11:59:44.739366Z",
          "iopub.status.idle": "2025-04-19T11:59:44.772898Z",
          "shell.execute_reply": "2025-04-19T11:59:44.772080Z",
          "shell.execute_reply.started": "2025-04-19T11:59:44.739672Z"
        },
        "id": "EK43eYjf_fwA",
        "outputId": "da16a17a-f718-4d03-9ad1-9b18a8d8cf22",
        "trusted": true,
        "colab": {
          "base_uri": "https://localhost:8080/",
          "height": 272
        }
      },
      "outputs": [
        {
          "output_type": "execute_result",
          "data": {
            "text/plain": [
              "ProductCD\n",
              "W    439670\n",
              "C     68519\n",
              "R     37699\n",
              "H     33024\n",
              "S     11628\n",
              "Name: count, dtype: int64"
            ],
            "text/html": [
              "<div>\n",
              "<style scoped>\n",
              "    .dataframe tbody tr th:only-of-type {\n",
              "        vertical-align: middle;\n",
              "    }\n",
              "\n",
              "    .dataframe tbody tr th {\n",
              "        vertical-align: top;\n",
              "    }\n",
              "\n",
              "    .dataframe thead th {\n",
              "        text-align: right;\n",
              "    }\n",
              "</style>\n",
              "<table border=\"1\" class=\"dataframe\">\n",
              "  <thead>\n",
              "    <tr style=\"text-align: right;\">\n",
              "      <th></th>\n",
              "      <th>count</th>\n",
              "    </tr>\n",
              "    <tr>\n",
              "      <th>ProductCD</th>\n",
              "      <th></th>\n",
              "    </tr>\n",
              "  </thead>\n",
              "  <tbody>\n",
              "    <tr>\n",
              "      <th>W</th>\n",
              "      <td>439670</td>\n",
              "    </tr>\n",
              "    <tr>\n",
              "      <th>C</th>\n",
              "      <td>68519</td>\n",
              "    </tr>\n",
              "    <tr>\n",
              "      <th>R</th>\n",
              "      <td>37699</td>\n",
              "    </tr>\n",
              "    <tr>\n",
              "      <th>H</th>\n",
              "      <td>33024</td>\n",
              "    </tr>\n",
              "    <tr>\n",
              "      <th>S</th>\n",
              "      <td>11628</td>\n",
              "    </tr>\n",
              "  </tbody>\n",
              "</table>\n",
              "</div><br><label><b>dtype:</b> int64</label>"
            ]
          },
          "metadata": {},
          "execution_count": 29
        }
      ],
      "source": [
        "X_train.ProductCD.value_counts()"
      ]
    },
    {
      "cell_type": "markdown",
      "metadata": {
        "id": "WexANhdz_yHx"
      },
      "source": [
        "Recognizing that the various categories of ProductCD behave differently in terms of fraud and time series, we split their count_encoding feature into five indicators"
      ]
    },
    {
      "cell_type": "code",
      "execution_count": 30,
      "metadata": {
        "execution": {
          "iopub.execute_input": "2025-04-19T11:59:44.774053Z",
          "iopub.status.busy": "2025-04-19T11:59:44.773827Z",
          "iopub.status.idle": "2025-04-19T11:59:46.439654Z",
          "shell.execute_reply": "2025-04-19T11:59:46.438936Z",
          "shell.execute_reply.started": "2025-04-19T11:59:44.774035Z"
        },
        "trusted": true,
        "id": "j2r8PwMzquDl"
      },
      "outputs": [],
      "source": [
        "# Merge X_train and y_train into train\n",
        "train = X_train.copy()  # Copy X_train\n",
        "train['isFraud'] = y_train  # Add y_train as a new column"
      ]
    },
    {
      "cell_type": "code",
      "execution_count": 31,
      "metadata": {
        "execution": {
          "iopub.execute_input": "2025-04-19T11:59:46.440909Z",
          "iopub.status.busy": "2025-04-19T11:59:46.440643Z",
          "iopub.status.idle": "2025-04-19T11:59:47.976321Z",
          "shell.execute_reply": "2025-04-19T11:59:47.975435Z",
          "shell.execute_reply.started": "2025-04-19T11:59:46.440887Z"
        },
        "id": "YCiyk9rK_ivz",
        "trusted": true
      },
      "outputs": [],
      "source": [
        "# W\n",
        "te = train.groupby(['ProductCD','DT_D'])['isFraud'].agg(['count','mean'])\n",
        "te.reset_index(inplace=True)\n",
        "train['ProductCD_W_Day'] = pd.merge(train[['ProductCD','DT_D']],te[['ProductCD','DT_D','count']],on = ['ProductCD','DT_D'],how='left')['count']\n",
        "te = X_test.groupby(['ProductCD','DT_D'])['TransactionAmt'].agg(['count','mean'])\n",
        "te.reset_index(inplace=True)\n",
        "X_test['ProductCD_W_Day'] = pd.merge(X_test[['ProductCD','DT_D']],te[['ProductCD','DT_D','count']],on = ['ProductCD','DT_D'],how='left')['count']\n",
        "train.loc[train.ProductCD != 'W','ProductCD_W_Day'] = 0\n",
        "X_test.loc[X_test.ProductCD != 'W','ProductCD_W_Day'] = 0\n",
        "\n",
        "# C\n",
        "te = train.groupby(['ProductCD','DT_D'])['isFraud'].agg(['count','mean'])\n",
        "te.reset_index(inplace=True)\n",
        "train['ProductCD_C_Day'] = pd.merge(train[['ProductCD','DT_D']],te[['ProductCD','DT_D','count']],on = ['ProductCD','DT_D'],how='left')['count']\n",
        "te = X_test.groupby(['ProductCD','DT_D'])['TransactionAmt'].agg(['count','mean'])\n",
        "te.reset_index(inplace=True)\n",
        "X_test['ProductCD_C_Day'] = pd.merge(X_test[['ProductCD','DT_D']],te[['ProductCD','DT_D','count']],on = ['ProductCD','DT_D'],how='left')['count']\n",
        "train.loc[train.ProductCD != 'C','ProductCD_C_Day'] = 0\n",
        "X_test.loc[X_test.ProductCD != 'C','ProductCD_C_Day'] = 0\n",
        "\n",
        "# R\n",
        "te = train.groupby(['ProductCD','DT_D'])['isFraud'].agg(['count','mean'])\n",
        "te.reset_index(inplace=True)\n",
        "train['ProductCD_R_Day'] = pd.merge(train[['ProductCD','DT_D']],te[['ProductCD','DT_D','count']],on = ['ProductCD','DT_D'],how='left')['count']\n",
        "te = X_test.groupby(['ProductCD','DT_D'])['TransactionAmt'].agg(['count','mean'])\n",
        "te.reset_index(inplace=True)\n",
        "X_test['ProductCD_R_Day'] = pd.merge(X_test[['ProductCD','DT_D']],te[['ProductCD','DT_D','count']],on = ['ProductCD','DT_D'],how='left')['count']\n",
        "train.loc[train.ProductCD != 'R','ProductCD_R_Day'] = 0\n",
        "X_test.loc[X_test.ProductCD != 'R','ProductCD_R_Day'] = 0\n",
        "\n",
        "# H\n",
        "te = train.groupby(['ProductCD','DT_D'])['isFraud'].agg(['count','mean'])\n",
        "te.reset_index(inplace=True)\n",
        "train['ProductCD_H_Day'] = pd.merge(train[['ProductCD','DT_D']],te[['ProductCD','DT_D','count']],on = ['ProductCD','DT_D'],how='left')['count']\n",
        "te = X_test.groupby(['ProductCD','DT_D'])['TransactionAmt'].agg(['count','mean'])\n",
        "te.reset_index(inplace=True)\n",
        "X_test['ProductCD_H_Day'] = pd.merge(X_test[['ProductCD','DT_D']],te[['ProductCD','DT_D','count']],on = ['ProductCD','DT_D'],how='left')['count']\n",
        "train.loc[train.ProductCD != 'H','ProductCD_H_Day'] = 0\n",
        "X_test.loc[X_test.ProductCD != 'H','ProductCD_H_Day'] = 0\n",
        "\n",
        "# S\n",
        "te = train.groupby(['ProductCD','DT_D'])['isFraud'].agg(['count','mean'])\n",
        "te.reset_index(inplace=True)\n",
        "train['ProductCD_S_Day'] = pd.merge(train[['ProductCD','DT_D']],te[['ProductCD','DT_D','count']],on = ['ProductCD','DT_D'],how='left')['count']\n",
        "te = X_test.groupby(['ProductCD','DT_D'])['TransactionAmt'].agg(['count','mean'])\n",
        "te.reset_index(inplace=True)\n",
        "X_test['ProductCD_S_Day'] = pd.merge(X_test[['ProductCD','DT_D']],te[['ProductCD','DT_D','count']],on = ['ProductCD','DT_D'],how='left')['count']\n",
        "train.loc[train.ProductCD != 'S','ProductCD_S_Day'] = 0\n",
        "X_test.loc[X_test.ProductCD != 'S','ProductCD_S_Day'] = 0"
      ]
    },
    {
      "cell_type": "code",
      "execution_count": 32,
      "metadata": {
        "execution": {
          "iopub.execute_input": "2025-04-19T11:59:47.981280Z",
          "iopub.status.busy": "2025-04-19T11:59:47.981025Z",
          "iopub.status.idle": "2025-04-19T11:59:47.985449Z",
          "shell.execute_reply": "2025-04-19T11:59:47.984633Z",
          "shell.execute_reply.started": "2025-04-19T11:59:47.981259Z"
        },
        "id": "EJVkPFTeAUkJ",
        "outputId": "5300ddcc-577d-49fe-ee5f-0ae48d7d7f0a",
        "trusted": true,
        "colab": {
          "base_uri": "https://localhost:8080/"
        }
      },
      "outputs": [
        {
          "output_type": "stream",
          "name": "stdout",
          "text": [
            "['ProductCD_W_Day', 'ProductCD_C_Day', 'ProductCD_R_Day', 'ProductCD_H_Day', 'ProductCD_S_Day']\n"
          ]
        }
      ],
      "source": [
        "# Five new fields have been added\n",
        "print(train.columns[-5:].tolist())"
      ]
    },
    {
      "cell_type": "markdown",
      "metadata": {
        "id": "EBordfEsquDm"
      },
      "source": [
        "## Normalize D Columns"
      ]
    },
    {
      "cell_type": "code",
      "execution_count": 33,
      "metadata": {
        "execution": {
          "iopub.execute_input": "2025-04-19T11:59:47.988412Z",
          "iopub.status.busy": "2025-04-19T11:59:47.988189Z",
          "iopub.status.idle": "2025-04-19T11:59:49.234660Z",
          "shell.execute_reply": "2025-04-19T11:59:49.233775Z",
          "shell.execute_reply.started": "2025-04-19T11:59:47.988394Z"
        },
        "trusted": true,
        "colab": {
          "base_uri": "https://localhost:8080/",
          "height": 439
        },
        "id": "eKmOmxoUquDm",
        "outputId": "e432ab33-d1cd-4bcb-b51c-5d62d5d9ebce"
      },
      "outputs": [
        {
          "output_type": "display_data",
          "data": {
            "text/plain": [
              "<Figure size 1500x500 with 1 Axes>"
            ],
            "image/png": "[encoded data removed]"
          },
          "metadata": {}
        }
      ],
      "source": [
        "# PLOT ORIGINAL D\n",
        "plt.figure(figsize=(15,5))\n",
        "plt.scatter(train.TransactionDT,train.D15)\n",
        "plt.title('Original D15')\n",
        "plt.xlabel('Time')\n",
        "plt.ylabel('D15')\n",
        "plt.show()"
      ]
    },
    {
      "cell_type": "code",
      "execution_count": 34,
      "metadata": {
        "execution": {
          "iopub.execute_input": "2025-04-19T11:59:49.235771Z",
          "iopub.status.busy": "2025-04-19T11:59:49.235543Z",
          "iopub.status.idle": "2025-04-19T11:59:49.300981Z",
          "shell.execute_reply": "2025-04-19T11:59:49.300038Z",
          "shell.execute_reply.started": "2025-04-19T11:59:49.235751Z"
        },
        "trusted": true,
        "id": "byBDA3XvquDm"
      },
      "outputs": [],
      "source": [
        "# NORMALIZE D COLUMNS\n",
        "for i in range(1,16):\n",
        "    if i in [1,2,3,5,9]: continue\n",
        "    train['D'+str(i)] =  train['D'+str(i)] - train.TransactionDT/np.float32(24*60*60)\n",
        "    X_test['D'+str(i)] = X_test['D'+str(i)] - X_test.TransactionDT/np.float32(24*60*60)"
      ]
    },
    {
      "cell_type": "code",
      "execution_count": 35,
      "metadata": {
        "execution": {
          "iopub.execute_input": "2025-04-19T11:59:49.302301Z",
          "iopub.status.busy": "2025-04-19T11:59:49.302002Z",
          "iopub.status.idle": "2025-04-19T11:59:50.487695Z",
          "shell.execute_reply": "2025-04-19T11:59:50.486696Z",
          "shell.execute_reply.started": "2025-04-19T11:59:49.302270Z"
        },
        "trusted": true,
        "colab": {
          "base_uri": "https://localhost:8080/",
          "height": 436
        },
        "id": "FQB4itlVquDm",
        "outputId": "5e666811-e30d-47e4-ef79-6d3b5a75c843"
      },
      "outputs": [
        {
          "output_type": "display_data",
          "data": {
            "text/plain": [
              "<Figure size 1500x500 with 1 Axes>"
            ],
            "image/png": "[encoded data removed]"
          },
          "metadata": {}
        }
      ],
      "source": [
        "# PLOT TRANSFORMED D\n",
        "plt.figure(figsize=(15,5))\n",
        "plt.scatter(train.TransactionDT,train.D15)\n",
        "plt.title('Transformed D15')\n",
        "plt.xlabel('Time')\n",
        "plt.ylabel('D15n')\n",
        "plt.show()"
      ]
    },
    {
      "cell_type": "markdown",
      "metadata": {
        "id": "S92xuY79quDv"
      },
      "source": [
        "## Label Encoding"
      ]
    },
    {
      "cell_type": "code",
      "execution_count": 36,
      "metadata": {
        "execution": {
          "iopub.execute_input": "2025-04-19T11:59:50.489204Z",
          "iopub.status.busy": "2025-04-19T11:59:50.488824Z",
          "iopub.status.idle": "2025-04-19T11:59:52.645246Z",
          "shell.execute_reply": "2025-04-19T11:59:52.644413Z",
          "shell.execute_reply.started": "2025-04-19T11:59:50.489157Z"
        },
        "trusted": true,
        "colab": {
          "base_uri": "https://localhost:8080/"
        },
        "id": "1XIfGEIbquDw",
        "outputId": "c888876e-1150-47c6-9f58-d9c3c87e1461"
      },
      "outputs": [
        {
          "output_type": "stream",
          "name": "stdout",
          "text": [
            "CPU times: user 2.03 s, sys: 20.6 ms, total: 2.05 s\n",
            "Wall time: 2.04 s\n"
          ]
        }
      ],
      "source": [
        "%%time\n",
        "# LABEL ENCODE AND MEMORY REDUCE\n",
        "for i,f in enumerate(train.columns):\n",
        "    # FACTORIZE CATEGORICAL VARIABLES\n",
        "    if (str(train[f].dtype)=='category')|(train[f].dtype=='object'):\n",
        "        df_comb = pd.concat([train[f],X_test[f]],axis=0)\n",
        "        df_comb,_ = df_comb.factorize(sort=True)\n",
        "        if df_comb.max()>32000: print(f,'needs int32')\n",
        "        train[f] = df_comb[:len(X_train)].astype('int16')\n",
        "        X_test[f] = df_comb[len(X_train):].astype('int16')"
      ]
    },
    {
      "cell_type": "markdown",
      "metadata": {
        "id": "E-ZFdUSoquDw"
      },
      "source": [
        "## Missing Values\n",
        "Impute all missing values with -999 which is very fast and model can still find some pattern instead of losing information by dropping them."
      ]
    },
    {
      "cell_type": "code",
      "execution_count": 37,
      "metadata": {
        "execution": {
          "iopub.execute_input": "2025-04-19T11:59:52.646422Z",
          "iopub.status.busy": "2025-04-19T11:59:52.646096Z",
          "iopub.status.idle": "2025-04-19T11:59:53.126427Z",
          "shell.execute_reply": "2025-04-19T11:59:53.125437Z",
          "shell.execute_reply.started": "2025-04-19T11:59:52.646389Z"
        },
        "trusted": true,
        "colab": {
          "base_uri": "https://localhost:8080/"
        },
        "id": "atHM--d7quDw",
        "outputId": "96f8f9f9-924d-4512-9f62-2feab76a73ef"
      },
      "outputs": [
        {
          "output_type": "stream",
          "name": "stdout",
          "text": [
            "Nombre de colonnes à supprimer : 10\n",
            "Colonnes supprimées (NaN > 90%) : ['dist2', 'D7', 'id_07', 'id_08', 'id_18', 'id_21', 'id_22', 'id_24', 'id_25', 'id_26']\n"
          ]
        }
      ],
      "source": [
        "# Seuil de tolérance : ici 90%\n",
        "threshold = 0.90\n",
        "\n",
        "# Calcul du ratio de valeurs manquantes par colonne\n",
        "missing_ratio = train.isnull().mean()\n",
        "\n",
        "# Colonnes à supprimer\n",
        "cols_to_drop = missing_ratio[missing_ratio > threshold].index\n",
        "\n",
        "# Affichage des colonnes concernées\n",
        "print(f\"Nombre de colonnes à supprimer : {len(cols_to_drop)}\")\n",
        "print(\"Colonnes supprimées (NaN > 90%) :\", list(cols_to_drop))"
      ]
    },
    {
      "cell_type": "code",
      "execution_count": 38,
      "metadata": {
        "execution": {
          "iopub.execute_input": "2025-04-19T11:59:53.127742Z",
          "iopub.status.busy": "2025-04-19T11:59:53.127417Z",
          "iopub.status.idle": "2025-04-19T11:59:53.131226Z",
          "shell.execute_reply": "2025-04-19T11:59:53.130542Z",
          "shell.execute_reply.started": "2025-04-19T11:59:53.127717Z"
        },
        "trusted": true,
        "id": "W7aqWz8OquDx"
      },
      "outputs": [],
      "source": [
        "# Suppression des colonnes\n",
        "drop = []\n",
        "drop += list(cols_to_drop)"
      ]
    },
    {
      "cell_type": "code",
      "execution_count": 39,
      "metadata": {
        "execution": {
          "iopub.execute_input": "2025-04-19T11:59:53.132497Z",
          "iopub.status.busy": "2025-04-19T11:59:53.132247Z",
          "iopub.status.idle": "2025-04-19T11:59:56.602835Z",
          "shell.execute_reply": "2025-04-19T11:59:56.602117Z",
          "shell.execute_reply.started": "2025-04-19T11:59:53.132476Z"
        },
        "trusted": true,
        "id": "jiFIFR4CquDx"
      },
      "outputs": [],
      "source": [
        "train.fillna(-999,inplace = True)\n",
        "X_test.fillna(-999,inplace = True)"
      ]
    },
    {
      "cell_type": "markdown",
      "metadata": {
        "id": "4xNlOQTYquDx"
      },
      "source": [
        "## Encoding Functions"
      ]
    },
    {
      "cell_type": "code",
      "execution_count": 40,
      "metadata": {
        "execution": {
          "iopub.execute_input": "2025-04-19T11:59:56.604031Z",
          "iopub.status.busy": "2025-04-19T11:59:56.603718Z",
          "iopub.status.idle": "2025-04-19T11:59:56.619338Z",
          "shell.execute_reply": "2025-04-19T11:59:56.618440Z",
          "shell.execute_reply.started": "2025-04-19T11:59:56.603998Z"
        },
        "trusted": true,
        "id": "O2Y4ZBcOquDx"
      },
      "outputs": [],
      "source": [
        "# FREQUENCY ENCODE TOGETHER\n",
        "def encode_FE(df1, df2, cols):\n",
        "    for col in cols:\n",
        "        df = pd.concat([df1[col],df2[col]])\n",
        "        vc = df.value_counts(dropna=True, normalize=True).to_dict()\n",
        "        vc[-999] = -999\n",
        "        nm = col+'_FE'\n",
        "        df1[nm] = df1[col].map(vc)\n",
        "        df1[nm] = df1[nm].astype('float32')\n",
        "        df2[nm] = df2[col].map(vc)\n",
        "        df2[nm] = df2[nm].astype('float32')\n",
        "        print(nm,', ',end='')\n",
        "\n",
        "# LABEL ENCODE\n",
        "def encode_LE(col,train=train,test=X_test,verbose=True):\n",
        "    df_comb = pd.concat([train[col],test[col]],axis=0)\n",
        "    df_comb,_ = df_comb.factorize(sort=True)\n",
        "    nm = col\n",
        "    if df_comb.max()>32000:\n",
        "        train[nm] = df_comb[:len(train)].astype('int32')\n",
        "        test[nm] = df_comb[len(train):].astype('int32')\n",
        "    else:\n",
        "        train[nm] = df_comb[:len(train)].astype('int16')\n",
        "        test[nm] = df_comb[len(train):].astype('int16')\n",
        "    del df_comb; x=gc.collect()\n",
        "    if verbose: print(nm,', ',end='')\n",
        "\n",
        "# GROUP AGGREGATION MEAN AND STD\n",
        "# https://www.kaggle.com/kyakovlev/ieee-fe-with-some-eda\n",
        "def encode_AG(main_columns, uids, aggregations=['mean'], train_df=train, test_df=X_test,\n",
        "              fillna=True, usena=False):\n",
        "    # AGGREGATION OF MAIN WITH UID FOR GIVEN STATISTICS\n",
        "    for main_column in main_columns:\n",
        "        for col in uids:\n",
        "            for agg_type in aggregations:\n",
        "                new_col_name = main_column+'_'+col+'_'+agg_type\n",
        "                temp_df = pd.concat([train_df[[col, main_column]], test_df[[col,main_column]]])\n",
        "                if usena: temp_df.loc[temp_df[main_column]==-1,main_column] = np.nan\n",
        "                temp_df = temp_df.groupby([col])[main_column].agg([agg_type]).reset_index().rename(\n",
        "                                                        columns={agg_type: new_col_name})\n",
        "\n",
        "                temp_df.index = list(temp_df[col])\n",
        "                temp_df = temp_df[new_col_name].to_dict()\n",
        "\n",
        "                train_df[new_col_name] = train_df[col].map(temp_df).astype('float32')\n",
        "                test_df[new_col_name]  = test_df[col].map(temp_df).astype('float32')\n",
        "\n",
        "                if fillna:\n",
        "                    train_df[new_col_name].fillna(-999,inplace=True)\n",
        "                    test_df[new_col_name].fillna(-999,inplace=True)\n",
        "\n",
        "                print(\"'\"+new_col_name+\"'\",', ',end='')\n",
        "\n",
        "# COMBINE FEATURES\n",
        "def encode_CB(col1,col2,df1=train,df2=X_test):\n",
        "    nm = col1+'_'+col2\n",
        "    df1[nm] = df1[col1].astype(str)+'_'+df1[col2].astype(str)\n",
        "    df2[nm] = df2[col1].astype(str)+'_'+df2[col2].astype(str)\n",
        "    encode_LE(nm,verbose=False)\n",
        "    print(nm,', ',end='')\n",
        "\n",
        "# GROUP AGGREGATION NUNIQUE\n",
        "def encode_AG2(main_columns, uids, train_df=train, test_df=X_test):\n",
        "    for main_column in main_columns:\n",
        "        for col in uids:\n",
        "            comb = pd.concat([train_df[[col]+[main_column]],test_df[[col]+[main_column]]],axis=0)\n",
        "            mp = comb.groupby(col)[main_column].agg(['nunique'])['nunique'].to_dict()\n",
        "            train_df[col+'_'+main_column+'_ct'] = train_df[col].map(mp).astype('float32')\n",
        "            test_df[col+'_'+main_column+'_ct'] = test_df[col].map(mp).astype('float32')\n",
        "            print(col+'_'+main_column+'_ct, ',end='')"
      ]
    },
    {
      "cell_type": "code",
      "execution_count": 41,
      "metadata": {
        "execution": {
          "iopub.execute_input": "2025-04-19T11:59:56.620415Z",
          "iopub.status.busy": "2025-04-19T11:59:56.620170Z",
          "iopub.status.idle": "2025-04-19T12:00:02.386795Z",
          "shell.execute_reply": "2025-04-19T12:00:02.386018Z",
          "shell.execute_reply.started": "2025-04-19T11:59:56.620394Z"
        },
        "trusted": true,
        "colab": {
          "base_uri": "https://localhost:8080/"
        },
        "id": "T0VsaJroquDx",
        "outputId": "61b21452-c011-4310-896b-b21cc999f20b"
      },
      "outputs": [
        {
          "output_type": "stream",
          "name": "stdout",
          "text": [
            "cents, addr1_FE , card1_FE , card2_FE , card3_FE , P_emaildomain_FE , card1_addr1 , card1_addr1_P_emaildomain , card1_addr1_FE , card1_addr1_P_emaildomain_FE , 'TransactionAmt_card1_mean' , 'TransactionAmt_card1_std' , 'TransactionAmt_card1_addr1_mean' , 'TransactionAmt_card1_addr1_std' , 'TransactionAmt_card1_addr1_P_emaildomain_mean' , 'TransactionAmt_card1_addr1_P_emaildomain_std' , 'D9_card1_mean' , 'D9_card1_std' , 'D9_card1_addr1_mean' , 'D9_card1_addr1_std' , 'D9_card1_addr1_P_emaildomain_mean' , 'D9_card1_addr1_P_emaildomain_std' , 'D11_card1_mean' , 'D11_card1_std' , 'D11_card1_addr1_mean' , 'D11_card1_addr1_std' , 'D11_card1_addr1_P_emaildomain_mean' , 'D11_card1_addr1_P_emaildomain_std' , CPU times: user 5.12 s, sys: 108 ms, total: 5.23 s\n",
            "Wall time: 5.23 s\n"
          ]
        }
      ],
      "source": [
        "%%time\n",
        "# TRANSACTION AMT CENTS\n",
        "train['cents'] = (train['TransactionAmt'] - np.floor(train['TransactionAmt'])).astype('float32')\n",
        "X_test['cents'] = (X_test['TransactionAmt'] - np.floor(X_test['TransactionAmt'])).astype('float32')\n",
        "print('cents, ', end='')\n",
        "# FREQUENCY ENCODE: ADDR1, CARD1, CARD2, CARD3, P_EMAILDOMAIN\n",
        "encode_FE(train,X_test,['addr1','card1','card2','card3','P_emaildomain'])\n",
        "# COMBINE COLUMNS CARD1+ADDR1, CARD1+ADDR1+P_EMAILDOMAIN\n",
        "encode_CB('card1','addr1')\n",
        "encode_CB('card1_addr1','P_emaildomain')\n",
        "# FREQUENCY ENOCDE\n",
        "encode_FE(train,X_test,['card1_addr1','card1_addr1_P_emaildomain'])\n",
        "# GROUP AGGREGATE\n",
        "encode_AG(['TransactionAmt','D9','D11'],['card1','card1_addr1','card1_addr1_P_emaildomain'],['mean','std'],usena=True)"
      ]
    },
    {
      "cell_type": "markdown",
      "metadata": {
        "id": "2L5Qi1ZWquDy"
      },
      "source": [
        "## UID"
      ]
    },
    {
      "cell_type": "code",
      "execution_count": 42,
      "metadata": {
        "execution": {
          "iopub.execute_input": "2025-04-19T12:00:02.387960Z",
          "iopub.status.busy": "2025-04-19T12:00:02.387639Z",
          "iopub.status.idle": "2025-04-19T12:00:03.554538Z",
          "shell.execute_reply": "2025-04-19T12:00:03.553852Z",
          "shell.execute_reply.started": "2025-04-19T12:00:02.387930Z"
        },
        "trusted": true,
        "id": "Gi-ydazequDy"
      },
      "outputs": [],
      "source": [
        "train['day'] = train.TransactionDT / (24*60*60)\n",
        "train['uid'] = train.card1_addr1.astype(str)+'_'+np.floor(train.day-train.D1).astype(str)\n",
        "\n",
        "X_test['day'] = X_test.TransactionDT / (24*60*60)\n",
        "X_test['uid'] = X_test.card1_addr1.astype(str)+'_'+np.floor(X_test.day-X_test.D1).astype(str)"
      ]
    },
    {
      "cell_type": "markdown",
      "metadata": {
        "id": "P61j-OEWquDy"
      },
      "source": [
        "## Group Aggregation Features"
      ]
    },
    {
      "cell_type": "code",
      "execution_count": 43,
      "metadata": {
        "execution": {
          "iopub.execute_input": "2025-04-19T12:00:03.555501Z",
          "iopub.status.busy": "2025-04-19T12:00:03.555260Z",
          "iopub.status.idle": "2025-04-19T12:01:36.892393Z",
          "shell.execute_reply": "2025-04-19T12:01:36.891603Z",
          "shell.execute_reply.started": "2025-04-19T12:00:03.555482Z"
        },
        "trusted": true,
        "colab": {
          "base_uri": "https://localhost:8080/"
        },
        "id": "jlafKcZ_quDy",
        "outputId": "113890c1-2923-42e1-8664-392e3fe2590a"
      },
      "outputs": [
        {
          "output_type": "stream",
          "name": "stdout",
          "text": [
            "uid_FE , 'TransactionAmt_uid_mean' , 'TransactionAmt_uid_std' , 'D4_uid_mean' , 'D4_uid_std' , 'D9_uid_mean' , 'D9_uid_std' , 'D10_uid_mean' , 'D10_uid_std' , 'D15_uid_mean' , 'D15_uid_std' , 'C1_uid_mean' , 'C2_uid_mean' , 'C4_uid_mean' , 'C5_uid_mean' , 'C6_uid_mean' , 'C7_uid_mean' , 'C8_uid_mean' , 'C9_uid_mean' , 'C10_uid_mean' , 'C11_uid_mean' , 'C12_uid_mean' , 'C13_uid_mean' , 'C14_uid_mean' , 'M1_uid_mean' , 'M2_uid_mean' , 'M3_uid_mean' , 'M4_uid_mean' , 'M5_uid_mean' , 'M6_uid_mean' , 'M7_uid_mean' , 'M8_uid_mean' , 'M9_uid_mean' , uid_P_emaildomain_ct, uid_dist1_ct, uid_DT_M_ct, uid_id_02_ct, uid_cents_ct, 'C14_uid_std' , uid_C13_ct, uid_V314_ct, uid_V127_ct, uid_V136_ct, uid_V309_ct, uid_V307_ct, uid_V320_ct, outsider15\n",
            "CPU times: user 1min 33s, sys: 311 ms, total: 1min 34s\n",
            "Wall time: 1min 37s\n"
          ]
        }
      ],
      "source": [
        "%%time\n",
        "# FREQUENCY ENCODE UID\n",
        "encode_FE(train,X_test,['uid'])\n",
        "# AGGREGATE\n",
        "encode_AG(['TransactionAmt','D4','D9','D10','D15'],['uid'],['mean','std'],fillna=True,usena=True)\n",
        "# AGGREGATE\n",
        "encode_AG(['C'+str(x) for x in range(1,15) if x!=3],['uid'],['mean'],train,X_test,fillna=True,usena=True)\n",
        "# AGGREGATE\n",
        "encode_AG(['M'+str(x) for x in range(1,10)],['uid'],['mean'],fillna=True,usena=True)\n",
        "# AGGREGATE\n",
        "encode_AG2(['P_emaildomain','dist1','DT_M','id_02','cents'], ['uid'], train_df=train, test_df=X_test)\n",
        "# AGGREGATE\n",
        "encode_AG(['C14'],['uid'],['std'],train,X_test,fillna=True,usena=True)\n",
        "# AGGREGATE\n",
        "encode_AG2(['C13','V314'], ['uid'], train_df=train, test_df=X_test)\n",
        "# AGGREATE\n",
        "encode_AG2(['V127','V136','V309','V307','V320'], ['uid'], train_df=train, test_df=X_test)\n",
        "# NEW FEATURE\n",
        "train['outsider15'] = (np.abs(train.D1-train.D15)>3).astype('int8')\n",
        "X_test['outsider15'] = (np.abs(X_test.D1-X_test.D15)>3).astype('int8')\n",
        "print('outsider15')"
      ]
    },
    {
      "cell_type": "markdown",
      "metadata": {
        "id": "5zpb4eLxquDy"
      },
      "source": [
        "## Creating new features"
      ]
    },
    {
      "cell_type": "code",
      "execution_count": 44,
      "metadata": {
        "execution": {
          "iopub.execute_input": "2025-04-19T12:01:36.893536Z",
          "iopub.status.busy": "2025-04-19T12:01:36.893230Z",
          "iopub.status.idle": "2025-04-19T12:01:36.909795Z",
          "shell.execute_reply": "2025-04-19T12:01:36.908829Z",
          "shell.execute_reply.started": "2025-04-19T12:01:36.893497Z"
        },
        "id": "DEcOAgCxAZ7S",
        "trusted": true
      },
      "outputs": [],
      "source": [
        "# Use card series and open_card fields are used as identifiers only UserID\n",
        "train['open_card'] = train.DT_D - train['D1']\n",
        "train['first_tran'] = train.DT_D - train['D2']\n",
        "X_test['open_card'] = X_test.DT_D - X_test['D1']\n",
        "X_test['first_tran'] = X_test.DT_D - X_test['D2']\n",
        "\n",
        "# train['uid1'] = train['card1'].astype(str) +' '+ train['card2'].astype(str)+' '+ train['card3'].astype(str)+' '+train['card4'].astype(str)+' '+ train['card5'].astype(str)+' '+ train['card6'].astype(str) +' '+ train['addr1'].astype(str)+' '+train['addr2'].astype(str)+' '+train['open_card'].astype(str)\n",
        "# X_test['uid1'] = X_test['card1'].astype(str) +' '+ X_test['card2'].astype(str)+' '+ X_test['card3'].astype(str)+' '+ X_test['card4'].astype(str)+' '+ X_test['card5'].astype(str)+' '+ X_test['card6'].astype(str) +' '+ X_test['addr1'].astype(str)+' '+X_test['addr2'].astype(str)+' '+X_test['open_card'] .astype(str)"
      ]
    },
    {
      "cell_type": "code",
      "execution_count": 45,
      "metadata": {
        "execution": {
          "iopub.execute_input": "2025-04-19T12:01:36.911220Z",
          "iopub.status.busy": "2025-04-19T12:01:36.910893Z",
          "iopub.status.idle": "2025-04-19T12:01:37.071266Z",
          "shell.execute_reply": "2025-04-19T12:01:37.070428Z",
          "shell.execute_reply.started": "2025-04-19T12:01:36.911190Z"
        },
        "id": "zM2Dwwj-BCBO",
        "outputId": "c893cf61-b0d9-4fbe-f1b6-eaccb74834b5",
        "trusted": true,
        "colab": {
          "base_uri": "https://localhost:8080/"
        }
      },
      "outputs": [
        {
          "output_type": "stream",
          "name": "stdout",
          "text": [
            "218030\n",
            "198035\n"
          ]
        }
      ],
      "source": [
        "print(train['uid'].nunique())\n",
        "print(X_test['uid'].nunique())"
      ]
    },
    {
      "cell_type": "code",
      "execution_count": 46,
      "metadata": {
        "execution": {
          "iopub.execute_input": "2025-04-19T12:01:37.072513Z",
          "iopub.status.busy": "2025-04-19T12:01:37.072162Z",
          "iopub.status.idle": "2025-04-19T12:01:37.077141Z",
          "shell.execute_reply": "2025-04-19T12:01:37.076150Z",
          "shell.execute_reply.started": "2025-04-19T12:01:37.072487Z"
        },
        "id": "bWXS1EpZBGNz",
        "trusted": true
      },
      "outputs": [],
      "source": [
        "# Identify a device using id_30, id_31, id_32, id_33, DeviceType, DeviceInfo\n",
        "def device_hash(x):\n",
        "    s =  str(x['id_30'])+str(x['id_31'])+str(x['id_32'])+str(x['id_33'])+str( x['DeviceType'])+ str(x['DeviceInfo'])\n",
        "    h = hashlib.sha256(s.encode('utf-8')).hexdigest()[0:15]\n",
        "    return h"
      ]
    },
    {
      "cell_type": "code",
      "execution_count": 47,
      "metadata": {
        "execution": {
          "iopub.execute_input": "2025-04-19T12:01:37.078330Z",
          "iopub.status.busy": "2025-04-19T12:01:37.078048Z",
          "iopub.status.idle": "2025-04-19T12:02:17.183342Z",
          "shell.execute_reply": "2025-04-19T12:02:17.182568Z",
          "shell.execute_reply.started": "2025-04-19T12:01:37.078301Z"
        },
        "id": "elX_TiKlBJKy",
        "trusted": true
      },
      "outputs": [],
      "source": [
        "for df in [train,X_test]:df['device_hash'] = df.apply(lambda x: device_hash(x), axis=1)"
      ]
    },
    {
      "cell_type": "code",
      "execution_count": 48,
      "metadata": {
        "execution": {
          "iopub.execute_input": "2025-04-19T12:02:17.184502Z",
          "iopub.status.busy": "2025-04-19T12:02:17.184241Z",
          "iopub.status.idle": "2025-04-19T12:02:18.119233Z",
          "shell.execute_reply": "2025-04-19T12:02:18.118239Z",
          "shell.execute_reply.started": "2025-04-19T12:02:17.184481Z"
        },
        "id": "UQfyWrLbBMBu",
        "trusted": true
      },
      "outputs": [],
      "source": [
        "# Number of devices with the same user\n",
        "concat_df = pd.concat([train[['uid','device_hash']],X_test[['uid','device_hash']]])\n",
        "tmp = concat_df.groupby('uid')['device_hash'].agg(['nunique'])"
      ]
    },
    {
      "cell_type": "code",
      "execution_count": 49,
      "metadata": {
        "execution": {
          "iopub.execute_input": "2025-04-19T12:02:18.120709Z",
          "iopub.status.busy": "2025-04-19T12:02:18.120325Z",
          "iopub.status.idle": "2025-04-19T12:02:19.455606Z",
          "shell.execute_reply": "2025-04-19T12:02:19.454905Z",
          "shell.execute_reply.started": "2025-04-19T12:02:18.120674Z"
        },
        "id": "43FKB1KuBQtp",
        "trusted": true
      },
      "outputs": [],
      "source": [
        "train['uid_device_nunique'] = train.uid.map(tmp.to_dict()['nunique'])\n",
        "X_test['uid_device_nunique'] = X_test.uid.map(tmp.to_dict()['nunique'])"
      ]
    },
    {
      "cell_type": "code",
      "execution_count": 50,
      "metadata": {
        "execution": {
          "iopub.execute_input": "2025-04-19T12:02:19.456716Z",
          "iopub.status.busy": "2025-04-19T12:02:19.456407Z",
          "iopub.status.idle": "2025-04-19T12:02:19.974636Z",
          "shell.execute_reply": "2025-04-19T12:02:19.973922Z",
          "shell.execute_reply.started": "2025-04-19T12:02:19.456686Z"
        },
        "id": "Otyz1JLgBSc_",
        "trusted": true
      },
      "outputs": [],
      "source": [
        "# Number of user with the same devices\n",
        "tmp = concat_df.groupby('device_hash')['uid'].agg(['nunique'])\n",
        "train['device_uid_nunique'] = train.device_hash.map(tmp.to_dict()['nunique'])\n",
        "X_test['device_uid_nunique'] = X_test.device_hash.map(tmp.to_dict()['nunique'])"
      ]
    },
    {
      "cell_type": "code",
      "execution_count": 51,
      "metadata": {
        "execution": {
          "iopub.execute_input": "2025-04-19T12:02:19.975715Z",
          "iopub.status.busy": "2025-04-19T12:02:19.975492Z",
          "iopub.status.idle": "2025-04-19T12:02:19.994454Z",
          "shell.execute_reply": "2025-04-19T12:02:19.993453Z",
          "shell.execute_reply.started": "2025-04-19T12:02:19.975697Z"
        },
        "id": "FF9zhl6dBUhc",
        "trusted": true
      },
      "outputs": [],
      "source": [
        "del concat_df"
      ]
    },
    {
      "cell_type": "code",
      "execution_count": 52,
      "metadata": {
        "execution": {
          "iopub.execute_input": "2025-04-19T12:02:19.996060Z",
          "iopub.status.busy": "2025-04-19T12:02:19.995667Z",
          "iopub.status.idle": "2025-04-19T12:02:35.992150Z",
          "shell.execute_reply": "2025-04-19T12:02:35.991211Z",
          "shell.execute_reply.started": "2025-04-19T12:02:19.996020Z"
        },
        "id": "GuXXcJroBWqV",
        "outputId": "6cdb1646-3025-41a8-a29c-44508aafe2ee",
        "trusted": true,
        "colab": {
          "base_uri": "https://localhost:8080/"
        }
      },
      "outputs": [
        {
          "output_type": "execute_result",
          "data": {
            "text/plain": [
              "0"
            ]
          },
          "metadata": {},
          "execution_count": 52
        }
      ],
      "source": [
        "# Get number of non-zero decimal digits\n",
        "def change(dec):\n",
        "    dec = np.round(dec,3)\n",
        "    num = 3\n",
        "    dec = int(np.round(np.round(dec,3)*1000))\n",
        "    while(dec % 10 ==0):\n",
        "        num = num-1\n",
        "        dec = dec /10\n",
        "    if num<0:\n",
        "        num = 0\n",
        "    return num\n",
        "\n",
        "train['decimal_digit'] = train[\"TransactionAmt\"].map(change)\n",
        "X_test['decimal_digit'] = X_test['TransactionAmt'].map(change)\n",
        "\n",
        "gc.collect()"
      ]
    },
    {
      "cell_type": "code",
      "execution_count": 53,
      "metadata": {
        "execution": {
          "iopub.execute_input": "2025-04-19T12:02:35.993694Z",
          "iopub.status.busy": "2025-04-19T12:02:35.993233Z",
          "iopub.status.idle": "2025-04-19T12:02:36.001419Z",
          "shell.execute_reply": "2025-04-19T12:02:36.000638Z",
          "shell.execute_reply.started": "2025-04-19T12:02:35.993659Z"
        },
        "id": "xRpqynfxB3E3",
        "trusted": true
      },
      "outputs": [],
      "source": [
        "# Fill missing value with zero\n",
        "train['had_id'] = train['had_id'].fillna(0)\n",
        "X_test['had_id'] = X_test['had_id'].fillna(0)"
      ]
    },
    {
      "cell_type": "code",
      "execution_count": 54,
      "metadata": {
        "execution": {
          "iopub.execute_input": "2025-04-19T12:02:36.002608Z",
          "iopub.status.busy": "2025-04-19T12:02:36.002299Z",
          "iopub.status.idle": "2025-04-19T12:02:36.082688Z",
          "shell.execute_reply": "2025-04-19T12:02:36.081691Z",
          "shell.execute_reply.started": "2025-04-19T12:02:36.002575Z"
        },
        "id": "y5aBB_q9CDYG",
        "trusted": true
      },
      "outputs": [],
      "source": [
        "# Subdivide the time into days of the week and hours of the day.\n",
        "train['dow'] = train['TransactionDT_date'].dt.dayofweek\n",
        "train['hour'] = train['TransactionDT_date'].dt.hour\n",
        "X_test['dow'] = X_test['TransactionDT_date'].dt.dayofweek\n",
        "X_test['hour'] = X_test['TransactionDT_date'].dt.hour\n",
        "train['email_domain_comp'] = (train['P_emaildomain'].values == train['R_emaildomain'].values).astype(int)\n",
        "X_test['email_domain_comp'] = (X_test['P_emaildomain'].values == X_test['R_emaildomain'].values).astype(int)\n",
        "# train.drop(['D9'],axis=1,inplace=True)\n",
        "# X_test.drop(['D9'],axis=1,inplace=True)\n",
        "drop += ['D9']"
      ]
    },
    {
      "cell_type": "code",
      "execution_count": 55,
      "metadata": {
        "execution": {
          "iopub.execute_input": "2025-04-19T12:02:36.083800Z",
          "iopub.status.busy": "2025-04-19T12:02:36.083540Z",
          "iopub.status.idle": "2025-04-19T12:02:36.088224Z",
          "shell.execute_reply": "2025-04-19T12:02:36.087267Z",
          "shell.execute_reply.started": "2025-04-19T12:02:36.083778Z"
        },
        "trusted": true,
        "id": "u3Bnq91fquD0"
      },
      "outputs": [],
      "source": [
        "# New Features\n",
        "def hourFeature(hour):\n",
        "    if hour>3 and hour < 11:\n",
        "        return 3\n",
        "    if hour ==11 or hour==18:\n",
        "        return 1\n",
        "    if hour==2 or hour==3 or hour==23:\n",
        "        return 2\n",
        "    else:\n",
        "        return 0"
      ]
    },
    {
      "cell_type": "code",
      "execution_count": 56,
      "metadata": {
        "execution": {
          "iopub.execute_input": "2025-04-19T12:02:36.089522Z",
          "iopub.status.busy": "2025-04-19T12:02:36.089180Z",
          "iopub.status.idle": "2025-04-19T12:02:36.575069Z",
          "shell.execute_reply": "2025-04-19T12:02:36.574364Z",
          "shell.execute_reply.started": "2025-04-19T12:02:36.089486Z"
        },
        "trusted": true,
        "id": "izEU7hLCquD1"
      },
      "outputs": [],
      "source": [
        "train['alertFeature'] = train['hour'].apply(hourFeature)\n",
        "X_test['alertFeature'] = X_test['hour'].apply(hourFeature)"
      ]
    },
    {
      "cell_type": "code",
      "execution_count": 57,
      "metadata": {
        "execution": {
          "iopub.execute_input": "2025-04-19T12:02:36.576267Z",
          "iopub.status.busy": "2025-04-19T12:02:36.576056Z",
          "iopub.status.idle": "2025-04-19T12:02:36.581348Z",
          "shell.execute_reply": "2025-04-19T12:02:36.580451Z",
          "shell.execute_reply.started": "2025-04-19T12:02:36.576249Z"
        },
        "id": "nKm__75yCOwb",
        "trusted": true
      },
      "outputs": [],
      "source": [
        "# Categorical Variables\n",
        "cat_columns = ['id_12', 'id_13', 'id_14', 'id_15', 'id_16', 'id_17', 'id_18', 'id_19', 'id_20', 'id_21', 'id_22', 'id_23', 'id_24', 'id_25', 'id_26', 'id_27', 'id_28', 'id_29',\n",
        "            'id_30', 'id_31', 'id_32', 'id_33', 'id_34', 'id_35', 'id_36', 'id_37', 'id_38', 'DeviceType', 'DeviceInfo', 'ProductCD', 'card4', 'card6', 'M4','P_emaildomain',\n",
        "            'R_emaildomain', 'card1', 'card2', 'card3',  'card5', 'addr1', 'addr2', 'M1', 'M2', 'M3', 'M5', 'M6', 'M7', 'M8', 'M9','hour','dow','device_name', 'device_version', 'OS_id_30',  'browser_id_31']\n",
        "# Count Numerical\n",
        "count_columns = ['id_13','id_14','id_17','id_18','id_19','id_20','id_21','id_22','id_24','id_25','id_26','id_30','id_31','id_33',\n",
        "                 'DeviceInfo','card6','P_emaildomain','R_emaildomain','card1','card2','card3','card5','addr1','addr2','hour','device_version',\n",
        "                 'OS_id_30','browser_id_31']"
      ]
    },
    {
      "cell_type": "code",
      "execution_count": 58,
      "metadata": {
        "execution": {
          "iopub.execute_input": "2025-04-19T12:02:36.582231Z",
          "iopub.status.busy": "2025-04-19T12:02:36.582043Z",
          "iopub.status.idle": "2025-04-19T12:02:36.596400Z",
          "shell.execute_reply": "2025-04-19T12:02:36.595524Z",
          "shell.execute_reply.started": "2025-04-19T12:02:36.582214Z"
        },
        "trusted": true,
        "id": "lpNPbgp6quD1"
      },
      "outputs": [],
      "source": [
        "# # COLUMNS WITH STRINGS\n",
        "# str_type = ['ProductCD', 'card4', 'card6', 'P_emaildomain', 'R_emaildomain','M1', 'M2', 'M3', 'M4','M5',\n",
        "#             'M6', 'M7', 'M8', 'M9', 'id_12', 'id_15', 'id_16', 'id_23', 'id_27', 'id_28', 'id_29', 'id_30',\n",
        "#             'id_31', 'id_33', 'id_34', 'id_35', 'id_36', 'id_37', 'id_38', 'DeviceType', 'DeviceInfo']\n",
        "\n",
        "# # FIRST 53 COLUMNS\n",
        "# cols = ['TransactionID', 'TransactionDT', 'TransactionAmt',\n",
        "#        'ProductCD', 'card1', 'card2', 'card3', 'card4', 'card5', 'card6',\n",
        "#        'addr1', 'addr2', 'dist1', 'dist2', 'P_emaildomain', 'R_emaildomain',\n",
        "#        'C1', 'C2', 'C3', 'C4', 'C5', 'C6', 'C7', 'C8', 'C9', 'C10', 'C11',\n",
        "#        'C12', 'C13', 'C14', 'D1', 'D2', 'D3', 'D4', 'D5', 'D6', 'D7', 'D8',\n",
        "#        'D9', 'D10', 'D11', 'D12', 'D13', 'D14', 'D15', 'M1', 'M2', 'M3', 'M4',\n",
        "#        'M5', 'M6', 'M7', 'M8', 'M9']\n"
      ]
    },
    {
      "cell_type": "code",
      "execution_count": 59,
      "metadata": {
        "execution": {
          "iopub.execute_input": "2025-04-19T12:02:36.597318Z",
          "iopub.status.busy": "2025-04-19T12:02:36.597125Z",
          "iopub.status.idle": "2025-04-19T12:02:36.612987Z",
          "shell.execute_reply": "2025-04-19T12:02:36.612258Z",
          "shell.execute_reply.started": "2025-04-19T12:02:36.597296Z"
        },
        "trusted": true,
        "colab": {
          "base_uri": "https://localhost:8080/"
        },
        "id": "zyg55a-JquD1",
        "outputId": "edae10dd-712e-46a6-9a8c-b3ff811c4183"
      },
      "outputs": [
        {
          "output_type": "stream",
          "name": "stdout",
          "text": [
            "NOW USING THE FOLLOWING 174 FEATURES.\n"
          ]
        },
        {
          "output_type": "execute_result",
          "data": {
            "text/plain": [
              "array(['TransactionID', 'TransactionDT', 'TransactionAmt', 'ProductCD',\n",
              "       'card1', 'card2', 'card3', 'card4', 'card5', 'card6', 'addr1',\n",
              "       'addr2', 'dist1', 'dist2', 'P_emaildomain', 'R_emaildomain', 'C1',\n",
              "       'C2', 'C3', 'C4', 'C5', 'C6', 'C7', 'C8', 'C9', 'C10', 'C11',\n",
              "       'C12', 'C13', 'C14', 'D1', 'D2', 'D3', 'D4', 'D5', 'D6', 'D7',\n",
              "       'D8', 'D9', 'D10', 'D11', 'D12', 'D13', 'D14', 'D15', 'M1', 'M2',\n",
              "       'M3', 'M4', 'M5', 'M6', 'M7', 'M8', 'M9', 'V1', 'V3', 'V4', 'V6',\n",
              "       'V8', 'V11', 'V13', 'V14', 'V17', 'V20', 'V23', 'V26', 'V27',\n",
              "       'V30', 'V36', 'V37', 'V40', 'V41', 'V44', 'V47', 'V48', 'V54',\n",
              "       'V56', 'V59', 'V62', 'V65', 'V67', 'V68', 'V70', 'V76', 'V78',\n",
              "       'V80', 'V82', 'V86', 'V88', 'V89', 'V91', 'V107', 'V108', 'V111',\n",
              "       'V115', 'V117', 'V120', 'V121', 'V123', 'V124', 'V127', 'V129',\n",
              "       'V130', 'V136', 'V138', 'V139', 'V142', 'V147', 'V156', 'V162',\n",
              "       'V165', 'V160', 'V166', 'V178', 'V176', 'V173', 'V182', 'V187',\n",
              "       'V203', 'V205', 'V207', 'V215', 'V169', 'V171', 'V175', 'V180',\n",
              "       'V185', 'V188', 'V198', 'V210', 'V209', 'V218', 'V223', 'V224',\n",
              "       'V226', 'V228', 'V229', 'V235', 'V240', 'V258', 'V257', 'V253',\n",
              "       'V252', 'V260', 'V261', 'V264', 'V266', 'V267', 'V274', 'V277',\n",
              "       'V220', 'V221', 'V234', 'V238', 'V250', 'V271', 'V294', 'V284',\n",
              "       'V285', 'V286', 'V291', 'V297', 'V303', 'V305', 'V307', 'V309',\n",
              "       'V310', 'V320', 'V281', 'V283', 'V289', 'V296', 'V301', 'V314'],\n",
              "      dtype='<U14')"
            ]
          },
          "metadata": {},
          "execution_count": 59
        }
      ],
      "source": [
        "print('NOW USING THE FOLLOWING',len(cols),'FEATURES.')\n",
        "np.array(cols)"
      ]
    },
    {
      "cell_type": "code",
      "execution_count": 60,
      "metadata": {
        "execution": {
          "iopub.execute_input": "2025-04-19T12:02:36.613943Z",
          "iopub.status.busy": "2025-04-19T12:02:36.613749Z",
          "iopub.status.idle": "2025-04-19T12:02:36.626109Z",
          "shell.execute_reply": "2025-04-19T12:02:36.625195Z",
          "shell.execute_reply.started": "2025-04-19T12:02:36.613925Z"
        },
        "id": "HLznWG6ECvp7",
        "trusted": true
      },
      "outputs": [],
      "source": [
        "# for f in cat_columns:\n",
        "#   if f not in str_type:\n",
        "#       lbl = preprocessing.LabelEncoder()\n",
        "#       lbl.fit(list(train[f].astype(str)) + list(X_test[f].astype(str)))\n",
        "#       train[f] = lbl.transform(list(train[f].astype(str)))\n",
        "#       X_test[f] = lbl.transform(list(X_test[f].astype(str)))"
      ]
    },
    {
      "cell_type": "code",
      "execution_count": 61,
      "metadata": {
        "execution": {
          "iopub.execute_input": "2025-04-19T12:02:36.627261Z",
          "iopub.status.busy": "2025-04-19T12:02:36.626943Z",
          "iopub.status.idle": "2025-04-19T12:02:37.717601Z",
          "shell.execute_reply": "2025-04-19T12:02:37.716890Z",
          "shell.execute_reply.started": "2025-04-19T12:02:36.627230Z"
        },
        "id": "FWZaCPHwEhTV",
        "trusted": true
      },
      "outputs": [],
      "source": [
        "# Count encoding\n",
        "for i in count_columns:\n",
        "  train[i+'_count_full'] = train[i].map(pd.concat([train[i], X_test[i]], ignore_index=True).value_counts(dropna=False))\n",
        "  X_test[i+'_count_full'] = X_test[i].map(pd.concat([train[i], X_test[i]], ignore_index=True).value_counts(dropna=False))"
      ]
    },
    {
      "cell_type": "code",
      "execution_count": 62,
      "metadata": {
        "execution": {
          "iopub.execute_input": "2025-04-19T12:02:37.718605Z",
          "iopub.status.busy": "2025-04-19T12:02:37.718382Z",
          "iopub.status.idle": "2025-04-19T12:02:37.722057Z",
          "shell.execute_reply": "2025-04-19T12:02:37.721346Z",
          "shell.execute_reply.started": "2025-04-19T12:02:37.718586Z"
        },
        "trusted": true,
        "id": "jWW1JOzwquD1"
      },
      "outputs": [],
      "source": [
        "train_len = len(train)"
      ]
    },
    {
      "cell_type": "code",
      "execution_count": 63,
      "metadata": {
        "execution": {
          "iopub.execute_input": "2025-04-19T12:02:37.723089Z",
          "iopub.status.busy": "2025-04-19T12:02:37.722889Z",
          "iopub.status.idle": "2025-04-19T12:02:43.380519Z",
          "shell.execute_reply": "2025-04-19T12:02:43.379857Z",
          "shell.execute_reply.started": "2025-04-19T12:02:37.723071Z"
        },
        "id": "gkwlq18lEojp",
        "trusted": true
      },
      "outputs": [],
      "source": [
        "# Calculate the number of transactions in hours and days\n",
        "train_test_all = pd.concat([train[['TransactionDT_date','TransactionAmt']],X_test[['TransactionDT_date','TransactionAmt']]],ignore_index=True,sort=False)\n",
        "train_test_all['day_count'] = train_test_all.groupby(train_test_all.TransactionDT_date.dt.date)['TransactionAmt'].transform('count')\n",
        "train_test_all['hour_count'] = train_test_all.groupby(train_test_all.TransactionDT_date.map(lambda x:str(x)[:13]))['TransactionAmt'].transform('count')\n",
        "train['day_count'] = train_test_all[:train_len].day_count.tolist()\n",
        "X_test['day_count'] = train_test_all[train_len:].day_count.tolist()\n",
        "train['hour_count'] = train_test_all[:train_len].hour_count.tolist()\n",
        "X_test['hour_count'] = train_test_all[train_len:].hour_count.tolist()"
      ]
    },
    {
      "cell_type": "code",
      "execution_count": 64,
      "metadata": {
        "execution": {
          "iopub.execute_input": "2025-04-19T12:02:43.381430Z",
          "iopub.status.busy": "2025-04-19T12:02:43.381181Z",
          "iopub.status.idle": "2025-04-19T12:02:46.581823Z",
          "shell.execute_reply": "2025-04-19T12:02:46.580933Z",
          "shell.execute_reply.started": "2025-04-19T12:02:43.381406Z"
        },
        "id": "QlPtNSJ5E9l1",
        "trusted": true
      },
      "outputs": [],
      "source": [
        "# Identify commodity ID by price category\n",
        "temp123 = ['TransactionAmt__ProductCD']\n",
        "for feature in temp123:\n",
        "  f1, f2 = feature.split('__')\n",
        "  train[feature] = train[f1].astype(str) + '_' + train[f2].astype(str)\n",
        "  X_test[feature] = X_test[f1].astype(str) + '_' + X_test[f2].astype(str)\n",
        "  le = LabelEncoder()\n",
        "  le.fit(list(train[feature].astype(str).values) + list(X_test[feature].astype(str).values))\n",
        "  train[feature] = le.transform(list(train[feature].astype(str).values))\n",
        "  X_test[feature] = le.transform(list(X_test[feature].astype(str).values))\n",
        "train.rename(columns = {'TransactionAmt__ProductCD':'ProductID'},inplace=True)\n",
        "X_test.rename(columns = {'TransactionAmt__ProductCD':'ProductID'},inplace=True)\n",
        "for i in ['ProductID']:\n",
        "  train[i+'_count_full'] = train[i].map(pd.concat([train[i], X_test[i]], ignore_index=True).value_counts(dropna=False))\n",
        "  X_test[i+'_count_full'] = X_test[i].map(pd.concat([train[i], X_test[i]], ignore_index=True).value_counts(dropna=False))"
      ]
    },
    {
      "cell_type": "code",
      "execution_count": 65,
      "metadata": {
        "execution": {
          "iopub.execute_input": "2025-04-19T12:02:46.583257Z",
          "iopub.status.busy": "2025-04-19T12:02:46.582872Z",
          "iopub.status.idle": "2025-04-19T12:03:37.819722Z",
          "shell.execute_reply": "2025-04-19T12:03:37.818723Z",
          "shell.execute_reply.started": "2025-04-19T12:02:46.583222Z"
        },
        "id": "lMCbZE6lFIjm",
        "trusted": true
      },
      "outputs": [],
      "source": [
        "# Similarly, continue to do some crossover categories\n",
        "temp = ['DeviceInfo__P_emaildomain',\n",
        "        'card1__card5',\n",
        "        'card2__id_20',\n",
        "        'card5__P_emaildomain',\n",
        "        'addr1__card1',\n",
        "        'addr1__addr2',\n",
        "        'card1__card2',\n",
        "        'card2__addr1',\n",
        "        'card1__P_emaildomain',\n",
        "        'card2__P_emaildomain',\n",
        "        'addr1__P_emaildomain',\n",
        "        'DeviceInfo__id_31',\n",
        "        'DeviceInfo__id_20',\n",
        "        'DeviceType__id_31',\n",
        "        'DeviceType__id_20',\n",
        "        'DeviceType__P_emaildomain',\n",
        "        'card1__M4',\n",
        "        'card2__M4',\n",
        "        'addr1__M4',\n",
        "        'P_emaildomain__M4',\n",
        "       'uid__ProductID',\n",
        "       'uid__DeviceInfo']\n",
        "for feature in temp:\n",
        "  f1, f2 = feature.split('__')\n",
        "  train[feature] = train[f1].astype(str) + '_' + train[f2].astype(str)\n",
        "  X_test[feature] = X_test[f1].astype(str) + '_' + X_test[f2].astype(str)\n",
        "  le = LabelEncoder()\n",
        "  le.fit(list(train[feature].astype(str).values) + list(X_test[feature].astype(str).values))\n",
        "  train[feature] = le.transform(list(train[feature].astype(str).values))\n",
        "  X_test[feature] = le.transform(list(X_test[feature].astype(str).values))\n",
        "\n",
        "for i in temp:\n",
        "  train[i+'_count_full'] = train[i].map(pd.concat([train[i], X_test[i]], ignore_index=True).value_counts(dropna=False))\n",
        "  X_test[i+'_count_full'] = X_test[i].map(pd.concat([train[i], X_test[i]], ignore_index=True).value_counts(dropna=False))"
      ]
    },
    {
      "cell_type": "code",
      "execution_count": 66,
      "metadata": {
        "execution": {
          "iopub.execute_input": "2025-04-19T12:03:37.821081Z",
          "iopub.status.busy": "2025-04-19T12:03:37.820758Z",
          "iopub.status.idle": "2025-04-19T12:06:09.007140Z",
          "shell.execute_reply": "2025-04-19T12:06:09.006431Z",
          "shell.execute_reply.started": "2025-04-19T12:03:37.821047Z"
        },
        "id": "cUQcJsDWFXM9",
        "trusted": true
      },
      "outputs": [],
      "source": [
        "# Cross some categories and continuous variables\n",
        "con_fea = ['V258','C1','C14','C13','TransactionAmt','D15','D2','id_02','dist1','V294','C11']\n",
        "cat_fea = ['card1','card2','addr1','card4','R_emaildomain','P_emaildomain','ProductID','uid']\n",
        "train_test = pd.concat([train[con_fea+cat_fea],X_test[con_fea+cat_fea]],ignore_index=True,sort=False)\n",
        "\n",
        "for cont in con_fea:\n",
        "  for cat in cat_fea:\n",
        "    train[cont+'_'+cat+'_mean'] = train_test[cont].map(lambda x:np.nan if x==-999 else x).groupby(train_test[cat]).transform('mean')[:train_len].tolist()\n",
        "    train[cont+'_'+cat+'_std'] = train_test[cont].map(lambda x:np.nan if x==-999 else x).groupby(train_test[cat]).transform('std')[:train_len].tolist()\n",
        "    X_test[cont+'_'+cat+'_mean'] = train_test[cont].map(lambda x:np.nan if x==-999 else x).groupby(train_test[cat]).transform('mean')[train_len:].tolist()\n",
        "    X_test[cont+'_'+cat+'_std'] =  train_test[cont].map(lambda x:np.nan if x==-999 else x).groupby(train_test[cat]).transform('std')[train_len:].tolist()"
      ]
    },
    {
      "cell_type": "markdown",
      "metadata": {
        "id": "uN8ZBGoHquD2"
      },
      "source": [
        "## Feature Selection"
      ]
    },
    {
      "cell_type": "code",
      "execution_count": 67,
      "metadata": {
        "execution": {
          "iopub.execute_input": "2025-04-19T12:06:09.008144Z",
          "iopub.status.busy": "2025-04-19T12:06:09.007932Z",
          "iopub.status.idle": "2025-04-19T12:06:09.013560Z",
          "shell.execute_reply": "2025-04-19T12:06:09.012638Z",
          "shell.execute_reply.started": "2025-04-19T12:06:09.008125Z"
        },
        "trusted": true,
        "id": "uSvD8tEequD2"
      },
      "outputs": [],
      "source": [
        "cols = list( train.columns )\n",
        "cols.remove('TransactionDT')\n",
        "for c in ['D6','D7','D8','D9','D12','D13','D14']:\n",
        "    cols.remove(c)\n",
        "\n",
        "# FAILED TIME CONSISTENCY TEST\n",
        "for c in ['C3','M5','id_08','id_33']:\n",
        "    cols.remove(c)\n",
        "for c in ['card4','id_07','id_14','id_21','id_30','id_32','id_34']:\n",
        "    cols.remove(c)\n",
        "for c in ['id_'+str(x) for x in range(22,28)]:\n",
        "    cols.remove(c)"
      ]
    },
    {
      "cell_type": "code",
      "execution_count": 68,
      "metadata": {
        "execution": {
          "iopub.execute_input": "2025-04-19T12:06:09.014743Z",
          "iopub.status.busy": "2025-04-19T12:06:09.014441Z",
          "iopub.status.idle": "2025-04-19T12:06:09.032156Z",
          "shell.execute_reply": "2025-04-19T12:06:09.031305Z",
          "shell.execute_reply.started": "2025-04-19T12:06:09.014720Z"
        },
        "trusted": true,
        "colab": {
          "base_uri": "https://localhost:8080/"
        },
        "id": "zEPwTshmquD2",
        "outputId": "cb69e653-4eff-4dac-dccc-76dfa36e5276"
      },
      "outputs": [
        {
          "output_type": "stream",
          "name": "stdout",
          "text": [
            "NOW USING THE FOLLOWING 548 FEATURES.\n"
          ]
        },
        {
          "output_type": "execute_result",
          "data": {
            "text/plain": [
              "array(['TransactionID', 'TransactionAmt', 'ProductCD', 'card1', 'card2',\n",
              "       'card3', 'card5', 'card6', 'addr1', 'addr2', 'dist1', 'dist2',\n",
              "       'P_emaildomain', 'R_emaildomain', 'C1', 'C2', 'C4', 'C5', 'C6',\n",
              "       'C7', 'C8', 'C9', 'C10', 'C11', 'C12', 'C13', 'C14', 'D1', 'D2',\n",
              "       'D3', 'D4', 'D5', 'D10', 'D11', 'D15', 'M1', 'M2', 'M3', 'M4',\n",
              "       'M6', 'M7', 'M8', 'M9', 'V1', 'V3', 'V4', 'V6', 'V8', 'V11', 'V13',\n",
              "       'V14', 'V17', 'V20', 'V23', 'V26', 'V27', 'V30', 'V36', 'V37',\n",
              "       'V40', 'V41', 'V44', 'V47', 'V48', 'V54', 'V56', 'V59', 'V62',\n",
              "       'V65', 'V67', 'V68', 'V70', 'V76', 'V78', 'V80', 'V82', 'V86',\n",
              "       'V88', 'V89', 'V91', 'V107', 'V108', 'V111', 'V115', 'V117',\n",
              "       'V120', 'V121', 'V123', 'V124', 'V127', 'V129', 'V130', 'V136',\n",
              "       'V138', 'V139', 'V142', 'V147', 'V156', 'V160', 'V162', 'V165',\n",
              "       'V166', 'V169', 'V171', 'V173', 'V175', 'V176', 'V178', 'V180',\n",
              "       'V182', 'V185', 'V187', 'V188', 'V198', 'V203', 'V205', 'V207',\n",
              "       'V209', 'V210', 'V215', 'V218', 'V220', 'V221', 'V223', 'V224',\n",
              "       'V226', 'V228', 'V229', 'V234', 'V235', 'V238', 'V240', 'V250',\n",
              "       'V252', 'V253', 'V257', 'V258', 'V260', 'V261', 'V264', 'V266',\n",
              "       'V267', 'V271', 'V274', 'V277', 'V281', 'V283', 'V284', 'V285',\n",
              "       'V286', 'V289', 'V291', 'V294', 'V296', 'V297', 'V301', 'V303',\n",
              "       'V305', 'V307', 'V309', 'V310', 'V314', 'V320', 'id_01', 'id_02',\n",
              "       'id_03', 'id_04', 'id_05', 'id_06', 'id_09', 'id_10', 'id_11',\n",
              "       'id_12', 'id_13', 'id_15', 'id_16', 'id_17', 'id_18', 'id_19',\n",
              "       'id_20', 'id_28', 'id_29', 'id_31', 'id_35', 'id_36', 'id_37',\n",
              "       'id_38', 'DeviceType', 'DeviceInfo', 'device_name',\n",
              "       'device_version', 'OS_id_30', 'browser_id_31', 'had_id',\n",
              "       'C1_is_outlier', 'C10_is_outlier', 'C13_is_outlier',\n",
              "       'C14_is_outlier', 'C2_is_outlier', 'C4_is_outlier',\n",
              "       'C8_is_outlier', 'V187_is_outlier', 'V188_is_outlier',\n",
              "       'V210_is_outlier', 'V257_is_outlier', 'V258_is_outlier',\n",
              "       'V271_is_outlier', 'V274_is_outlier', 'V294_is_outlier',\n",
              "       'V309_is_outlier', 'TransactionDT_date', 'DT_D', 'DT_W', 'DT_M',\n",
              "       'isFraud', 'ProductCD_W_Day', 'ProductCD_C_Day', 'ProductCD_R_Day',\n",
              "       'ProductCD_H_Day', 'ProductCD_S_Day', 'cents', 'addr1_FE',\n",
              "       'card1_FE', 'card2_FE', 'card3_FE', 'P_emaildomain_FE',\n",
              "       'card1_addr1', 'card1_addr1_P_emaildomain', 'card1_addr1_FE',\n",
              "       'card1_addr1_P_emaildomain_FE', 'TransactionAmt_card1_mean',\n",
              "       'TransactionAmt_card1_std', 'TransactionAmt_card1_addr1_mean',\n",
              "       'TransactionAmt_card1_addr1_std',\n",
              "       'TransactionAmt_card1_addr1_P_emaildomain_mean',\n",
              "       'TransactionAmt_card1_addr1_P_emaildomain_std', 'D9_card1_mean',\n",
              "       'D9_card1_std', 'D9_card1_addr1_mean', 'D9_card1_addr1_std',\n",
              "       'D9_card1_addr1_P_emaildomain_mean',\n",
              "       'D9_card1_addr1_P_emaildomain_std', 'D11_card1_mean',\n",
              "       'D11_card1_std', 'D11_card1_addr1_mean', 'D11_card1_addr1_std',\n",
              "       'D11_card1_addr1_P_emaildomain_mean',\n",
              "       'D11_card1_addr1_P_emaildomain_std', 'day', 'uid', 'uid_FE',\n",
              "       'TransactionAmt_uid_mean', 'TransactionAmt_uid_std', 'D4_uid_mean',\n",
              "       'D4_uid_std', 'D9_uid_mean', 'D9_uid_std', 'D10_uid_mean',\n",
              "       'D10_uid_std', 'D15_uid_mean', 'D15_uid_std', 'C1_uid_mean',\n",
              "       'C2_uid_mean', 'C4_uid_mean', 'C5_uid_mean', 'C6_uid_mean',\n",
              "       'C7_uid_mean', 'C8_uid_mean', 'C9_uid_mean', 'C10_uid_mean',\n",
              "       'C11_uid_mean', 'C12_uid_mean', 'C13_uid_mean', 'C14_uid_mean',\n",
              "       'M1_uid_mean', 'M2_uid_mean', 'M3_uid_mean', 'M4_uid_mean',\n",
              "       'M5_uid_mean', 'M6_uid_mean', 'M7_uid_mean', 'M8_uid_mean',\n",
              "       'M9_uid_mean', 'uid_P_emaildomain_ct', 'uid_dist1_ct',\n",
              "       'uid_DT_M_ct', 'uid_id_02_ct', 'uid_cents_ct', 'C14_uid_std',\n",
              "       'uid_C13_ct', 'uid_V314_ct', 'uid_V127_ct', 'uid_V136_ct',\n",
              "       'uid_V309_ct', 'uid_V307_ct', 'uid_V320_ct', 'outsider15',\n",
              "       'open_card', 'first_tran', 'device_hash', 'uid_device_nunique',\n",
              "       'device_uid_nunique', 'decimal_digit', 'dow', 'hour',\n",
              "       'email_domain_comp', 'alertFeature', 'id_13_count_full',\n",
              "       'id_14_count_full', 'id_17_count_full', 'id_18_count_full',\n",
              "       'id_19_count_full', 'id_20_count_full', 'id_21_count_full',\n",
              "       'id_22_count_full', 'id_24_count_full', 'id_25_count_full',\n",
              "       'id_26_count_full', 'id_30_count_full', 'id_31_count_full',\n",
              "       'id_33_count_full', 'DeviceInfo_count_full', 'card6_count_full',\n",
              "       'P_emaildomain_count_full', 'R_emaildomain_count_full',\n",
              "       'card1_count_full', 'card2_count_full', 'card3_count_full',\n",
              "       'card5_count_full', 'addr1_count_full', 'addr2_count_full',\n",
              "       'hour_count_full', 'device_version_count_full',\n",
              "       'OS_id_30_count_full', 'browser_id_31_count_full', 'day_count',\n",
              "       'hour_count', 'ProductID', 'ProductID_count_full',\n",
              "       'DeviceInfo__P_emaildomain', 'card1__card5', 'card2__id_20',\n",
              "       'card5__P_emaildomain', 'addr1__card1', 'addr1__addr2',\n",
              "       'card1__card2', 'card2__addr1', 'card1__P_emaildomain',\n",
              "       'card2__P_emaildomain', 'addr1__P_emaildomain',\n",
              "       'DeviceInfo__id_31', 'DeviceInfo__id_20', 'DeviceType__id_31',\n",
              "       'DeviceType__id_20', 'DeviceType__P_emaildomain', 'card1__M4',\n",
              "       'card2__M4', 'addr1__M4', 'P_emaildomain__M4', 'uid__ProductID',\n",
              "       'uid__DeviceInfo', 'DeviceInfo__P_emaildomain_count_full',\n",
              "       'card1__card5_count_full', 'card2__id_20_count_full',\n",
              "       'card5__P_emaildomain_count_full', 'addr1__card1_count_full',\n",
              "       'addr1__addr2_count_full', 'card1__card2_count_full',\n",
              "       'card2__addr1_count_full', 'card1__P_emaildomain_count_full',\n",
              "       'card2__P_emaildomain_count_full',\n",
              "       'addr1__P_emaildomain_count_full', 'DeviceInfo__id_31_count_full',\n",
              "       'DeviceInfo__id_20_count_full', 'DeviceType__id_31_count_full',\n",
              "       'DeviceType__id_20_count_full',\n",
              "       'DeviceType__P_emaildomain_count_full', 'card1__M4_count_full',\n",
              "       'card2__M4_count_full', 'addr1__M4_count_full',\n",
              "       'P_emaildomain__M4_count_full', 'uid__ProductID_count_full',\n",
              "       'uid__DeviceInfo_count_full', 'V258_card1_mean', 'V258_card1_std',\n",
              "       'V258_card2_mean', 'V258_card2_std', 'V258_addr1_mean',\n",
              "       'V258_addr1_std', 'V258_card4_mean', 'V258_card4_std',\n",
              "       'V258_R_emaildomain_mean', 'V258_R_emaildomain_std',\n",
              "       'V258_P_emaildomain_mean', 'V258_P_emaildomain_std',\n",
              "       'V258_ProductID_mean', 'V258_ProductID_std', 'V258_uid_mean',\n",
              "       'V258_uid_std', 'C1_card1_mean', 'C1_card1_std', 'C1_card2_mean',\n",
              "       'C1_card2_std', 'C1_addr1_mean', 'C1_addr1_std', 'C1_card4_mean',\n",
              "       'C1_card4_std', 'C1_R_emaildomain_mean', 'C1_R_emaildomain_std',\n",
              "       'C1_P_emaildomain_mean', 'C1_P_emaildomain_std',\n",
              "       'C1_ProductID_mean', 'C1_ProductID_std', 'C1_uid_std',\n",
              "       'C14_card1_mean', 'C14_card1_std', 'C14_card2_mean',\n",
              "       'C14_card2_std', 'C14_addr1_mean', 'C14_addr1_std',\n",
              "       'C14_card4_mean', 'C14_card4_std', 'C14_R_emaildomain_mean',\n",
              "       'C14_R_emaildomain_std', 'C14_P_emaildomain_mean',\n",
              "       'C14_P_emaildomain_std', 'C14_ProductID_mean', 'C14_ProductID_std',\n",
              "       'C13_card1_mean', 'C13_card1_std', 'C13_card2_mean',\n",
              "       'C13_card2_std', 'C13_addr1_mean', 'C13_addr1_std',\n",
              "       'C13_card4_mean', 'C13_card4_std', 'C13_R_emaildomain_mean',\n",
              "       'C13_R_emaildomain_std', 'C13_P_emaildomain_mean',\n",
              "       'C13_P_emaildomain_std', 'C13_ProductID_mean', 'C13_ProductID_std',\n",
              "       'C13_uid_std', 'TransactionAmt_card2_mean',\n",
              "       'TransactionAmt_card2_std', 'TransactionAmt_addr1_mean',\n",
              "       'TransactionAmt_addr1_std', 'TransactionAmt_card4_mean',\n",
              "       'TransactionAmt_card4_std', 'TransactionAmt_R_emaildomain_mean',\n",
              "       'TransactionAmt_R_emaildomain_std',\n",
              "       'TransactionAmt_P_emaildomain_mean',\n",
              "       'TransactionAmt_P_emaildomain_std',\n",
              "       'TransactionAmt_ProductID_mean', 'TransactionAmt_ProductID_std',\n",
              "       'D15_card1_mean', 'D15_card1_std', 'D15_card2_mean',\n",
              "       'D15_card2_std', 'D15_addr1_mean', 'D15_addr1_std',\n",
              "       'D15_card4_mean', 'D15_card4_std', 'D15_R_emaildomain_mean',\n",
              "       'D15_R_emaildomain_std', 'D15_P_emaildomain_mean',\n",
              "       'D15_P_emaildomain_std', 'D15_ProductID_mean', 'D15_ProductID_std',\n",
              "       'D2_card1_mean', 'D2_card1_std', 'D2_card2_mean', 'D2_card2_std',\n",
              "       'D2_addr1_mean', 'D2_addr1_std', 'D2_card4_mean', 'D2_card4_std',\n",
              "       'D2_R_emaildomain_mean', 'D2_R_emaildomain_std',\n",
              "       'D2_P_emaildomain_mean', 'D2_P_emaildomain_std',\n",
              "       'D2_ProductID_mean', 'D2_ProductID_std', 'D2_uid_mean',\n",
              "       'D2_uid_std', 'id_02_card1_mean', 'id_02_card1_std',\n",
              "       'id_02_card2_mean', 'id_02_card2_std', 'id_02_addr1_mean',\n",
              "       'id_02_addr1_std', 'id_02_card4_mean', 'id_02_card4_std',\n",
              "       'id_02_R_emaildomain_mean', 'id_02_R_emaildomain_std',\n",
              "       'id_02_P_emaildomain_mean', 'id_02_P_emaildomain_std',\n",
              "       'id_02_ProductID_mean', 'id_02_ProductID_std', 'id_02_uid_mean',\n",
              "       'id_02_uid_std', 'dist1_card1_mean', 'dist1_card1_std',\n",
              "       'dist1_card2_mean', 'dist1_card2_std', 'dist1_addr1_mean',\n",
              "       'dist1_addr1_std', 'dist1_card4_mean', 'dist1_card4_std',\n",
              "       'dist1_R_emaildomain_mean', 'dist1_R_emaildomain_std',\n",
              "       'dist1_P_emaildomain_mean', 'dist1_P_emaildomain_std',\n",
              "       'dist1_ProductID_mean', 'dist1_ProductID_std', 'dist1_uid_mean',\n",
              "       'dist1_uid_std', 'V294_card1_mean', 'V294_card1_std',\n",
              "       'V294_card2_mean', 'V294_card2_std', 'V294_addr1_mean',\n",
              "       'V294_addr1_std', 'V294_card4_mean', 'V294_card4_std',\n",
              "       'V294_R_emaildomain_mean', 'V294_R_emaildomain_std',\n",
              "       'V294_P_emaildomain_mean', 'V294_P_emaildomain_std',\n",
              "       'V294_ProductID_mean', 'V294_ProductID_std', 'V294_uid_mean',\n",
              "       'V294_uid_std', 'C11_card1_mean', 'C11_card1_std',\n",
              "       'C11_card2_mean', 'C11_card2_std', 'C11_addr1_mean',\n",
              "       'C11_addr1_std', 'C11_card4_mean', 'C11_card4_std',\n",
              "       'C11_R_emaildomain_mean', 'C11_R_emaildomain_std',\n",
              "       'C11_P_emaildomain_mean', 'C11_P_emaildomain_std',\n",
              "       'C11_ProductID_mean', 'C11_ProductID_std', 'C11_uid_std'],\n",
              "      dtype='<U45')"
            ]
          },
          "metadata": {},
          "execution_count": 68
        }
      ],
      "source": [
        "print('NOW USING THE FOLLOWING',len(cols),'FEATURES.')\n",
        "np.array(cols)"
      ]
    },
    {
      "cell_type": "code",
      "execution_count": 69,
      "metadata": {
        "execution": {
          "iopub.execute_input": "2025-04-19T12:06:09.033294Z",
          "iopub.status.busy": "2025-04-19T12:06:09.033011Z",
          "iopub.status.idle": "2025-04-19T12:06:09.174055Z",
          "shell.execute_reply": "2025-04-19T12:06:09.173214Z",
          "shell.execute_reply.started": "2025-04-19T12:06:09.033273Z"
        },
        "id": "WkYkEsxMFqSN",
        "outputId": "b0224808-5d1f-4f01-d6ed-4ae397ffc93e",
        "trusted": true,
        "colab": {
          "base_uri": "https://localhost:8080/"
        }
      },
      "outputs": [
        {
          "output_type": "execute_result",
          "data": {
            "text/plain": [
              "30"
            ]
          },
          "metadata": {},
          "execution_count": 69
        }
      ],
      "source": [
        "del df\n",
        "del train_test\n",
        "del train_test_all\n",
        "gc.collect()"
      ]
    },
    {
      "cell_type": "code",
      "execution_count": 70,
      "metadata": {
        "execution": {
          "iopub.execute_input": "2025-04-19T12:06:09.175362Z",
          "iopub.status.busy": "2025-04-19T12:06:09.175069Z",
          "iopub.status.idle": "2025-04-19T12:06:09.186035Z",
          "shell.execute_reply": "2025-04-19T12:06:09.185275Z",
          "shell.execute_reply.started": "2025-04-19T12:06:09.175328Z"
        },
        "id": "8g2oyARnFxI1",
        "trusted": true
      },
      "outputs": [],
      "source": [
        "drop += ['DeviceInfo','device_version','DT_D','DT_W','DT_M','TransactionAmt_ProductID_mean']\n",
        "# train.drop(['DeviceInfo','device_version','DT_D','DT_W','DT_M','TransactionAmt_ProductID_mean'],axis=1,inplace=True)\n",
        "# X_test.drop(['DeviceInfo','device_version','DT_D','DT_W','DT_M','TransactionAmt_ProductID_mean'],axis=1,inplace=True)"
      ]
    },
    {
      "cell_type": "code",
      "execution_count": 71,
      "metadata": {
        "execution": {
          "iopub.execute_input": "2025-04-19T12:06:09.187113Z",
          "iopub.status.busy": "2025-04-19T12:06:09.186858Z",
          "iopub.status.idle": "2025-04-19T12:06:09.201559Z",
          "shell.execute_reply": "2025-04-19T12:06:09.200655Z",
          "shell.execute_reply.started": "2025-04-19T12:06:09.187091Z"
        },
        "trusted": true,
        "id": "kvekX1_5quD3"
      },
      "outputs": [],
      "source": [
        "# Remove non important features\n",
        "drop += ['C1_P_emaildomain_mean', 'id_17_count_full', 'id_02_R_emaildomain_std',\n",
        "        'C11_P_emaildomain_mean',\n",
        "        'TransactionAmt_R_emaildomain_std',\n",
        "        'V258_card4_mean','id_18_count_full','id_02_R_emaildomain_mean',\n",
        "        'C1_R_emaildomain_mean', 'C13_R_emaildomain_std',\n",
        "        'browser_id_31', 'D15_R_emaildomain_std',\n",
        "        'C14_R_emaildomain_std', 'V58', 'C1_R_emaildomain_std',\n",
        "        'C11_P_emaildomain_std',\n",
        "        'C1_card4_mean','ProductCD', 'TransactionAmt_card4_mean','V258_card4_std',\n",
        "        'id_26_count_full','C1_card4_std', 'id_25_count_full',\n",
        "        'dist1_card4_std', 'addr2_count_full','TransactionAmt_card4_std', 'C11_R_emaildomain_mean',\n",
        "        'D15_card4_std', 'DeviceType',\n",
        "        'dist1_card4_mean',\n",
        "         'id_21_count_full', 'C11_R_emaildomain_std',  'C14_card4_mean',\n",
        "        'C14_card4_std','id_02_card4_mean', 'id_02_card4_std', 'C13_card4_mean',\n",
        "        'id_24_count_full', 'D2_revised_card4_mean', 'had_id', 'D2_card4_std','TransactionAmt_ProductID_std',\n",
        "        'id_22_count_full', 'C13_card4_std','V294_card4_std', 'V294_card4_mean', 'dist1_R_emaildomain_mean',\n",
        "        'C11_card4_mean', 'C11_card4_std', 'dist1_R_emaildomain_std',  'D15_card4_mean']"
      ]
    },
    {
      "cell_type": "code",
      "execution_count": 72,
      "metadata": {
        "execution": {
          "iopub.execute_input": "2025-04-19T12:06:09.202804Z",
          "iopub.status.busy": "2025-04-19T12:06:09.202566Z",
          "iopub.status.idle": "2025-04-19T12:06:09.216830Z",
          "shell.execute_reply": "2025-04-19T12:06:09.216022Z",
          "shell.execute_reply.started": "2025-04-19T12:06:09.202783Z"
        },
        "id": "-7NEyHEOFznJ",
        "trusted": true
      },
      "outputs": [],
      "source": [
        "# # Remove non important features\n",
        "# drop += ['V256', 'V223', 'V19', 'V244', 'V324', 'V37', 'V200', 'card3', 'C1_P_emaildomain_mean', 'V131', 'V35', 'id_17_count_full',\n",
        "#         'id_17', 'V30', 'V163', 'V81', 'V332', 'V164', 'D7', 'id_02_R_emaildomain_std', 'V336', 'M9', 'V301', 'V251', 'M8',\n",
        "#         'V275', 'V5', 'V272', 'V331', 'V215', 'V291', 'V129', 'C11_P_emaildomain_mean', 'id_34', 'V160', 'V139', 'V124', 'V159',\n",
        "#         'V274', 'V59', 'V126', 'V52', 'V79', 'V271', 'V24', 'V137', 'V286', 'TransactionAmt_R_emaildomain_std', 'V335', 'V115',\n",
        "#         'V198', 'V234', 'V298', 'V43', 'V258_card4_mean', 'V264', 'OS_id_30_count_full', 'V267', 'V169', 'V217', 'C3', 'V23',\n",
        "#         'V287', 'id_18_count_full', 'V96', 'V208', 'card4', 'id_32', 'V232', 'V188', 'V4', 'V7', 'id_38', 'id_02_R_emaildomain_mean',\n",
        "#         'V293', 'V219', 'V259', 'V276', 'C1_R_emaildomain_mean', 'V279', 'V102', 'V253', 'C13_R_emaildomain_std', 'V245', 'V73',\n",
        "#         'browser_id_31', 'V74', 'V322', 'V209', 'V203', 'V273', 'V221', 'V40', 'V242', 'V289', 'D15_R_emaildomain_std',\n",
        "#         'C14_R_emaildomain_std', 'V150', 'V316', 'V239', 'V265', 'V278', 'V166', 'V172', 'V132', 'V93', 'V58', 'C1_R_emaildomain_std',\n",
        "#         'V29', 'V300', 'V134', 'V254', 'V145', 'V141', 'C11_P_emaildomain_std', 'V292', 'V210', 'V231', 'V280', 'V158', 'V123', 'V135',\n",
        "#         'V220', 'V39', 'V26', 'V238', 'id_11', 'V319', 'V125', 'id_37', 'V206', 'C1_card4_mean', 'V94', 'V304', 'V57', 'V270', 'V33',\n",
        "#         'V170', 'V202', 'V218', 'V108', 'V303', 'V213', 'V222', 'V64', 'V263', 'V326', 'V10', 'V147', 'V101', 'V142', 'V97', 'V214',\n",
        "#         'V105', 'V60', 'V171', 'V329', 'ProductCD', 'V216', 'V34', 'V25', 'V6', 'TransactionAmt_card4_mean', 'V212', 'V250', 'V3',\n",
        "#         'V63', 'V194', 'id_36', 'V178', 'V42', 'V85', 'V193', 'V290', 'id_23', 'V258_card4_std', 'V15', 'V288', 'id_15', 'V182', 'V2',\n",
        "#         'V192', 'V260', 'V235', 'id_26_count_full', 'V138', 'id_24', 'id_10', 'C1_card4_std', 'V11', 'id_08', 'id_25_count_full', 'id_07',\n",
        "#         'V167', 'V51', 'V229', 'V248', 'V197', 'V230', 'V144', 'V233', 'V157', 'dist1_card4_std', 'V284', 'V140', 'addr2_count_full', 'V154',\n",
        "#         'V22', 'V204', 'M1', 'V71', 'V211', 'V255', 'V72', 'TransactionAmt_card4_std', 'V1', 'V80', 'V184', 'V299', 'C11_R_emaildomain_mean',\n",
        "#         'V173', 'V177', 'id_04', 'D15_card4_std', 'V180', 'V228', 'V151', 'V186', 'OS_id_30', 'V109', 'DeviceType', 'V18', 'V17',\n",
        "#         'id_26', 'V247', 'V9', 'V191', 'V148', 'V65', 'V196', 'id_21', 'V297', 'V46', 'V338', 'addr2', 'V95', 'V92', 'dist1_card4_mean',\n",
        "#         'V334', 'V100', 'id_25', 'V179', 'V104', 'V116', 'V16', 'V183', 'id_21_count_full', 'V302', 'V199', 'V227', 'C11_R_emaildomain_std',\n",
        "#         'V176', 'V249', 'V237', 'V327', 'id_16', 'V155', 'V8', 'V252', 'V175', 'V339', 'V330', 'V181', 'V190', 'C14_card4_mean', 'V14', 'V337',\n",
        "#         'C14_card4_std', 'id_35', 'id_02_card4_mean', 'V110', 'id_12', 'V226', 'V168', 'V21', 'V153', 'V195', 'id_02_card4_std', 'V236', 'V174',\n",
        "#         'id_28', 'V84', 'V32', 'V106', 'V41', 'V111', 'V112', 'V114', 'V146', 'V328', 'V50', 'id_29', 'C13_card4_mean', 'V103', 'V98', 'V121',\n",
        "#         'id_24_count_full', 'D2_revised_card4_mean', 'had_id', 'V113', 'D2_card4_std', 'V240', 'TransactionAmt_ProductID_std', 'V185',\n",
        "#         'id_22_count_full', 'id_22', 'V31', 'C13_card4_std', 'V68', 'V88', 'V294_card4_std', 'V294_card4_mean', 'V122', 'dist1_R_emaildomain_mean',\n",
        "#         'V118', 'V269', 'V107', 'V305', 'V117', 'V119', 'V120', 'C11_card4_mean', 'C11_card4_std', 'dist1_R_emaildomain_std', 'V89', 'V241', 'id_27',\n",
        "#         'V325', 'V28', 'D15_card4_mean', 'V27']"
      ]
    },
    {
      "cell_type": "code",
      "execution_count": 73,
      "metadata": {
        "execution": {
          "iopub.execute_input": "2025-04-19T12:06:09.218109Z",
          "iopub.status.busy": "2025-04-19T12:06:09.217814Z",
          "iopub.status.idle": "2025-04-19T12:06:09.232105Z",
          "shell.execute_reply": "2025-04-19T12:06:09.231443Z",
          "shell.execute_reply.started": "2025-04-19T12:06:09.218080Z"
        },
        "trusted": true,
        "colab": {
          "base_uri": "https://localhost:8080/"
        },
        "id": "BMeNek2ZquD3",
        "outputId": "cf498956-04ee-474c-b446-be7a0637626d"
      },
      "outputs": [
        {
          "output_type": "stream",
          "name": "stdout",
          "text": [
            "68\n"
          ]
        }
      ],
      "source": [
        "print(len(drop))"
      ]
    },
    {
      "cell_type": "code",
      "execution_count": 74,
      "metadata": {
        "execution": {
          "iopub.execute_input": "2025-04-19T12:06:09.233142Z",
          "iopub.status.busy": "2025-04-19T12:06:09.232905Z",
          "iopub.status.idle": "2025-04-19T12:06:13.196209Z",
          "shell.execute_reply": "2025-04-19T12:06:13.195531Z",
          "shell.execute_reply.started": "2025-04-19T12:06:09.233122Z"
        },
        "id": "Ds4-9CASGVj6",
        "trusted": true
      },
      "outputs": [],
      "source": [
        "drop1 = drop[:200]\n",
        "drop2 = drop[200:]\n",
        "\n",
        "train.drop(drop1,axis=1,inplace=True, errors='ignore')\n",
        "X_test.drop(drop1,axis=1,inplace=True, errors='ignore')\n",
        "train.drop(drop2,axis=1,inplace=True, errors='ignore')\n",
        "X_test.drop(drop2,axis=1,inplace=True, errors='ignore')"
      ]
    },
    {
      "cell_type": "code",
      "execution_count": 75,
      "metadata": {
        "execution": {
          "iopub.execute_input": "2025-04-19T12:06:13.197300Z",
          "iopub.status.busy": "2025-04-19T12:06:13.197104Z",
          "iopub.status.idle": "2025-04-19T12:06:13.202292Z",
          "shell.execute_reply": "2025-04-19T12:06:13.201183Z",
          "shell.execute_reply.started": "2025-04-19T12:06:13.197283Z"
        },
        "trusted": true,
        "colab": {
          "base_uri": "https://localhost:8080/"
        },
        "id": "mVKEj_ToquD4",
        "outputId": "6e67f5df-e078-476a-8ba4-40e083589fa3"
      },
      "outputs": [
        {
          "output_type": "stream",
          "name": "stdout",
          "text": [
            "Index(['TransactionID', 'TransactionDT', 'TransactionAmt', 'card1', 'card2',\n",
            "       'card3', 'card4', 'card5', 'card6', 'addr1',\n",
            "       ...\n",
            "       'V294_uid_std', 'C11_card1_mean', 'C11_card1_std', 'C11_card2_mean',\n",
            "       'C11_card2_std', 'C11_addr1_mean', 'C11_addr1_std',\n",
            "       'C11_ProductID_mean', 'C11_ProductID_std', 'C11_uid_std'],\n",
            "      dtype='object', length=507)\n"
          ]
        }
      ],
      "source": [
        "print(train.columns)"
      ]
    },
    {
      "cell_type": "code",
      "execution_count": 76,
      "metadata": {
        "execution": {
          "iopub.execute_input": "2025-04-19T12:06:13.203551Z",
          "iopub.status.busy": "2025-04-19T12:06:13.203228Z",
          "iopub.status.idle": "2025-04-19T12:06:14.521345Z",
          "shell.execute_reply": "2025-04-19T12:06:14.520306Z",
          "shell.execute_reply.started": "2025-04-19T12:06:13.203518Z"
        },
        "trusted": true,
        "colab": {
          "base_uri": "https://localhost:8080/"
        },
        "id": "0kmRZdpcquD4",
        "outputId": "480b36a2-e737-4a0b-f59c-1f5c0cf7f875"
      },
      "outputs": [
        {
          "output_type": "stream",
          "name": "stdout",
          "text": [
            "Nombre d'instances frauduleuses : 20663; non frauduleuses: 569877\n"
          ]
        }
      ],
      "source": [
        "fraud_count = train[train['isFraud'] == 1].shape[0]\n",
        "Nofraud_count = train[train['isFraud'] == 0].shape[0]\n",
        "print(f\"Nombre d'instances frauduleuses : {fraud_count}; non frauduleuses: {Nofraud_count}\")"
      ]
    },
    {
      "cell_type": "code",
      "execution_count": 77,
      "metadata": {
        "execution": {
          "iopub.execute_input": "2025-04-19T12:06:14.522709Z",
          "iopub.status.busy": "2025-04-19T12:06:14.522479Z",
          "iopub.status.idle": "2025-04-19T12:06:14.691240Z",
          "shell.execute_reply": "2025-04-19T12:06:14.690460Z",
          "shell.execute_reply.started": "2025-04-19T12:06:14.522689Z"
        },
        "trusted": true,
        "colab": {
          "base_uri": "https://localhost:8080/",
          "height": 472
        },
        "id": "vRzXDxRxquD4",
        "outputId": "2b593486-810c-4144-e16f-8d06a89715e8"
      },
      "outputs": [
        {
          "output_type": "display_data",
          "data": {
            "text/plain": [
              "<Figure size 640x480 with 1 Axes>"
            ],
            "image/png": "[encoded data removed]"
          },
          "metadata": {}
        }
      ],
      "source": [
        "import seaborn as sns\n",
        "import matplotlib.pyplot as plt\n",
        "\n",
        "sns.countplot(x=train['isFraud'])\n",
        "plt.title(\"Répartition des classes\")\n",
        "plt.show()\n"
      ]
    },
    {
      "cell_type": "code",
      "execution_count": 78,
      "metadata": {
        "execution": {
          "iopub.execute_input": "2025-04-19T12:06:14.692498Z",
          "iopub.status.busy": "2025-04-19T12:06:14.692205Z",
          "iopub.status.idle": "2025-04-19T12:06:16.927421Z",
          "shell.execute_reply": "2025-04-19T12:06:16.926730Z",
          "shell.execute_reply.started": "2025-04-19T12:06:14.692473Z"
        },
        "id": "1opSNtZrGdI8",
        "trusted": true
      },
      "outputs": [],
      "source": [
        "X_train = train.drop(['TransactionID','isFraud','TransactionDT','TransactionDT_date','uid'],axis=1)\n",
        "X_test = X_test.drop(['TransactionID','TransactionDT','TransactionDT_date','uid'],axis=1)"
      ]
    },
    {
      "cell_type": "code",
      "execution_count": 79,
      "metadata": {
        "execution": {
          "iopub.execute_input": "2025-04-19T12:06:16.928501Z",
          "iopub.status.busy": "2025-04-19T12:06:16.928179Z",
          "iopub.status.idle": "2025-04-19T12:06:16.931977Z",
          "shell.execute_reply": "2025-04-19T12:06:16.931066Z",
          "shell.execute_reply.started": "2025-04-19T12:06:16.928472Z"
        },
        "id": "-y-Uvi70GfoA",
        "trusted": true
      },
      "outputs": [],
      "source": [
        "# del train,test"
      ]
    },
    {
      "cell_type": "code",
      "execution_count": 80,
      "metadata": {
        "execution": {
          "iopub.execute_input": "2025-04-19T12:06:16.932920Z",
          "iopub.status.busy": "2025-04-19T12:06:16.932664Z",
          "iopub.status.idle": "2025-04-19T12:06:16.946509Z",
          "shell.execute_reply": "2025-04-19T12:06:16.945631Z",
          "shell.execute_reply.started": "2025-04-19T12:06:16.932858Z"
        },
        "id": "62jPwG37Ghzi",
        "outputId": "af43ad0f-1a70-4097-f930-840c2663c72b",
        "trusted": true,
        "colab": {
          "base_uri": "https://localhost:8080/"
        }
      },
      "outputs": [
        {
          "output_type": "stream",
          "name": "stdout",
          "text": [
            "(590540, 502)\n",
            "(506691, 502)\n"
          ]
        }
      ],
      "source": [
        "print(X_train.shape)\n",
        "print(X_test.shape)"
      ]
    },
    {
      "cell_type": "code",
      "execution_count": 81,
      "metadata": {
        "execution": {
          "iopub.execute_input": "2025-04-19T12:06:16.947502Z",
          "iopub.status.busy": "2025-04-19T12:06:16.947273Z",
          "iopub.status.idle": "2025-04-19T12:06:16.960041Z",
          "shell.execute_reply": "2025-04-19T12:06:16.959203Z",
          "shell.execute_reply.started": "2025-04-19T12:06:16.947483Z"
        },
        "id": "CyKPvFBxGj9h",
        "trusted": true
      },
      "outputs": [],
      "source": [
        "cat = ['uid','id_12', 'id_13', 'id_14', 'id_15', 'id_16', 'id_17', 'id_18', 'id_19', 'id_20', 'id_21', 'id_22', 'id_23', 'id_24', 'id_25', 'id_26', 'id_27', 'id_28', 'id_29',\n",
        "       'id_30', 'id_31', 'id_32', 'id_33', 'id_34', 'id_35', 'id_36', 'id_37', 'id_38', 'DeviceType', 'ProductCD', 'card4', 'card6', 'M4','P_emaildomain',\n",
        "       'R_emaildomain', 'card1', 'card2', 'card3',  'card5', 'addr1', 'addr2', 'M1', 'M2', 'M3', 'M5', 'M6', 'M7', 'M8', 'M9','hour','dow','device_name', 'OS_id_30',  'browser_id_31','ProductID',\n",
        "       'DeviceInfo__P_emaildomain', 'card1__card5', 'card2__id_20','card5__P_emaildomain', 'addr1__card1','addr1__addr2','card1__card2','card2__addr1','card1__P_emaildomain',\n",
        "        'card2__P_emaildomain','addr1__P_emaildomain','DeviceInfo__id_31','DeviceInfo__id_20','DeviceType__id_31','DeviceType__id_20','DeviceType__P_emaildomain',\n",
        "        'card1__M4','card2__M4','addr1__M4','P_emaildomain__M4','uid__ProductID','uid__DeviceInfo']\n",
        ""
      ]
    },
    {
      "cell_type": "code",
      "execution_count": 82,
      "metadata": {
        "execution": {
          "iopub.execute_input": "2025-04-19T12:06:16.961068Z",
          "iopub.status.busy": "2025-04-19T12:06:16.960815Z",
          "iopub.status.idle": "2025-04-19T12:06:16.972642Z",
          "shell.execute_reply": "2025-04-19T12:06:16.971740Z",
          "shell.execute_reply.started": "2025-04-19T12:06:16.961037Z"
        },
        "trusted": true,
        "id": "PRclgX3GquD5"
      },
      "outputs": [],
      "source": [
        "cols += ['hour','dow','device_name', 'OS_id_30',  'browser_id_31','ProductID',\n",
        "       'DeviceInfo__P_emaildomain', 'card1__card5', 'card2__id_20','card5__P_emaildomain', 'addr1__card1','addr1__addr2','card1__card2','card2__addr1','card1__P_emaildomain',\n",
        "        'card2__P_emaildomain','addr1__P_emaildomain','DeviceInfo__id_31','DeviceInfo__id_20','DeviceType__id_31','DeviceType__id_20','DeviceType__P_emaildomain',\n",
        "        'card1__M4','card2__M4','addr1__M4','P_emaildomain__M4']"
      ]
    },
    {
      "cell_type": "code",
      "execution_count": 83,
      "metadata": {
        "execution": {
          "iopub.execute_input": "2025-04-19T12:06:16.973622Z",
          "iopub.status.busy": "2025-04-19T12:06:16.973425Z",
          "iopub.status.idle": "2025-04-19T12:06:16.987870Z",
          "shell.execute_reply": "2025-04-19T12:06:16.987095Z",
          "shell.execute_reply.started": "2025-04-19T12:06:16.973604Z"
        },
        "id": "B-ulGcgqG_Lk",
        "trusted": true
      },
      "outputs": [],
      "source": [
        "for i in drop:\n",
        "  if i in cat:\n",
        "    cat.remove(i)"
      ]
    },
    {
      "cell_type": "code",
      "execution_count": 84,
      "metadata": {
        "execution": {
          "iopub.execute_input": "2025-04-19T12:06:16.988981Z",
          "iopub.status.busy": "2025-04-19T12:06:16.988770Z",
          "iopub.status.idle": "2025-04-19T12:06:19.021831Z",
          "shell.execute_reply": "2025-04-19T12:06:19.021163Z",
          "shell.execute_reply.started": "2025-04-19T12:06:16.988960Z"
        },
        "id": "Mw4fSdijHKTB",
        "trusted": true
      },
      "outputs": [],
      "source": [
        "X_train.drop(['device_hash'],axis=1,inplace=True)\n",
        "X_test.drop(['device_hash'],axis=1,inplace=True)"
      ]
    },
    {
      "cell_type": "code",
      "execution_count": 85,
      "metadata": {
        "execution": {
          "iopub.execute_input": "2025-04-19T12:06:19.022881Z",
          "iopub.status.busy": "2025-04-19T12:06:19.022660Z",
          "iopub.status.idle": "2025-04-19T12:06:19.026608Z",
          "shell.execute_reply": "2025-04-19T12:06:19.025687Z",
          "shell.execute_reply.started": "2025-04-19T12:06:19.022863Z"
        },
        "trusted": true,
        "id": "a7xoiyJequD6"
      },
      "outputs": [],
      "source": [
        "for i in str_type:\n",
        "  if i not in cat:\n",
        "    cat+=[i]"
      ]
    },
    {
      "cell_type": "code",
      "execution_count": 86,
      "metadata": {
        "execution": {
          "iopub.execute_input": "2025-04-19T12:06:19.035185Z",
          "iopub.status.busy": "2025-04-19T12:06:19.034979Z",
          "iopub.status.idle": "2025-04-19T12:06:22.423811Z",
          "shell.execute_reply": "2025-04-19T12:06:22.422948Z",
          "shell.execute_reply.started": "2025-04-19T12:06:19.035168Z"
        },
        "trusted": true,
        "colab": {
          "base_uri": "https://localhost:8080/"
        },
        "id": "g-OhGh2cquD6",
        "outputId": "6f6d7f62-c013-4547-9971-4543a7885845"
      },
      "outputs": [
        {
          "output_type": "stream",
          "name": "stdout",
          "text": [
            "Ensemble d'entraînement : 472432 échantillons\n",
            "Ensemble de test : 118108 échantillons\n",
            "Répartition des classes dans le jeu d'entraînement :\n",
            "isFraud\n",
            "0    455902\n",
            "1     16530\n",
            "Name: count, dtype: int64\n",
            "Répartition des classes dans le jeu de test :\n",
            "isFraud\n",
            "0    113975\n",
            "1      4133\n",
            "Name: count, dtype: int64\n"
          ]
        }
      ],
      "source": [
        "from sklearn.model_selection import train_test_split\n",
        "\n",
        "# Vérifier que X_train et y_train ont le même nombre d'échantillons\n",
        "assert len(X_train) == len(y_train), \"Les ensembles X_train et y_train n'ont pas le même nombre d'échantillons.\"\n",
        "\n",
        "# Diviser les données en un ensemble d'entraînement et de test avec la même répartition des classes\n",
        "X_trainn, X_test5, y_trainn, y_test5 = train_test_split(X_train, y_train, test_size=0.2, random_state=42, stratify=y_train)\n",
        "\n",
        "# Afficher les tailles des ensembles de données\n",
        "print(f\"Ensemble d'entraînement : {X_trainn.shape[0]} échantillons\")\n",
        "print(f\"Ensemble de test : {X_test5.shape[0]} échantillons\")\n",
        "\n",
        "# Vérifier la répartition des classes dans chaque ensemble\n",
        "print(f\"Répartition des classes dans le jeu d'entraînement :\\n{y_trainn.value_counts()}\")\n",
        "print(f\"Répartition des classes dans le jeu de test :\\n{y_test5.value_counts()}\")\n"
      ]
    },
    {
      "cell_type": "code",
      "execution_count": 87,
      "metadata": {
        "execution": {
          "iopub.execute_input": "2025-04-19T12:06:22.426203Z",
          "iopub.status.busy": "2025-04-19T12:06:22.425950Z",
          "iopub.status.idle": "2025-04-19T12:06:23.986758Z",
          "shell.execute_reply": "2025-04-19T12:06:23.986033Z",
          "shell.execute_reply.started": "2025-04-19T12:06:22.426182Z"
        },
        "id": "4u4NDJGmHNMt",
        "trusted": true
      },
      "outputs": [],
      "source": [
        "X_trainn.to_pickle(f'{folder_path}processed/X_train2.pkl')\n",
        "X_test5.to_pickle(f'{folder_path}processed/X_test2.pkl')\n",
        "y_test5.to_pickle(f'{folder_path}processed/y_test2.pkl')\n",
        "y_trainn.to_frame().to_pickle(f'{folder_path}processed/y_train2.pkl')"
      ]
    },
    {
      "cell_type": "markdown",
      "metadata": {
        "id": "KT1FK0bMIi0x"
      },
      "source": [
        "# Model"
      ]
    },
    {
      "cell_type": "code",
      "execution_count": 88,
      "metadata": {
        "execution": {
          "iopub.execute_input": "2025-04-19T12:06:23.987962Z",
          "iopub.status.busy": "2025-04-19T12:06:23.987645Z",
          "iopub.status.idle": "2025-04-19T12:06:25.219186Z",
          "shell.execute_reply": "2025-04-19T12:06:25.218506Z",
          "shell.execute_reply.started": "2025-04-19T12:06:23.987925Z"
        },
        "id": "gKWzCtnWKWgV",
        "trusted": true
      },
      "outputs": [],
      "source": [
        "X_train = pd.read_pickle(f'{folder_path}processed/X_train2.pkl')\n",
        "X_val = pd.read_pickle(f'{folder_path}processed/X_test2.pkl')\n",
        "y_val =pd.read_pickle(f'{folder_path}processed/y_test2.pkl')\n",
        "y_train = pd.read_pickle(f'{folder_path}processed/y_train2.pkl')\n",
        "y_train = y_train.isFraud"
      ]
    },
    {
      "cell_type": "code",
      "execution_count": 89,
      "metadata": {
        "execution": {
          "iopub.execute_input": "2025-04-19T12:06:25.220334Z",
          "iopub.status.busy": "2025-04-19T12:06:25.220024Z",
          "iopub.status.idle": "2025-04-19T12:06:25.224341Z",
          "shell.execute_reply": "2025-04-19T12:06:25.223508Z",
          "shell.execute_reply.started": "2025-04-19T12:06:25.220310Z"
        },
        "id": "j2uqhZd-LTUx",
        "trusted": true
      },
      "outputs": [],
      "source": [
        "cat = set(cat) & set(X_train.columns)"
      ]
    },
    {
      "cell_type": "code",
      "execution_count": 90,
      "metadata": {
        "execution": {
          "iopub.execute_input": "2025-04-19T12:06:25.225451Z",
          "iopub.status.busy": "2025-04-19T12:06:25.225140Z",
          "iopub.status.idle": "2025-04-19T12:06:53.545372Z",
          "shell.execute_reply": "2025-04-19T12:06:53.544305Z",
          "shell.execute_reply.started": "2025-04-19T12:06:25.225427Z"
        },
        "id": "wWi4696iLuHy",
        "outputId": "1cd247c9-a936-4d1f-dd10-65bf82cb2f2c",
        "trusted": true,
        "colab": {
          "base_uri": "https://localhost:8080/"
        }
      },
      "outputs": [
        {
          "output_type": "stream",
          "name": "stdout",
          "text": [
            "----------------------------------------\n",
            "id_32\n",
            "train:0.8\n",
            "test:0.6666666666666666\n",
            "----------------------------------------\n",
            "id_31\n",
            "train:0.728\n",
            "test:0.6691176470588235\n",
            "----------------------------------------\n",
            "DeviceInfo__id_31\n",
            "train:0.1389284986759014\n",
            "test:0.1314318751204471\n",
            "----------------------------------------\n",
            "M3\n",
            "train:1.0\n",
            "test:1.0\n",
            "----------------------------------------\n",
            "DeviceType__id_31\n",
            "train:0.7346938775510204\n",
            "test:0.6708074534161491\n",
            "----------------------------------------\n",
            "id_38\n",
            "train:1.0\n",
            "test:1.0\n",
            "----------------------------------------\n",
            "id_36\n",
            "train:1.0\n",
            "test:1.0\n",
            "----------------------------------------\n",
            "id_33\n",
            "train:0.7552742616033755\n",
            "test:0.4578005115089514\n",
            "----------------------------------------\n",
            "OS_id_30\n",
            "train:1.0\n",
            "test:1.0\n",
            "----------------------------------------\n",
            "card2__P_emaildomain\n",
            "train:0.7750580945003873\n",
            "test:0.7955159802830338\n",
            "----------------------------------------\n",
            "id_37\n",
            "train:1.0\n",
            "test:1.0\n",
            "----------------------------------------\n",
            "id_14\n",
            "train:0.96\n",
            "test:0.8571428571428571\n",
            "----------------------------------------\n",
            "card6\n",
            "train:0.8\n",
            "test:1.0\n",
            "----------------------------------------\n",
            "card4\n",
            "train:1.0\n",
            "test:1.0\n",
            "----------------------------------------\n",
            "addr1__addr2\n",
            "train:0.5326633165829145\n",
            "test:0.5367088607594936\n",
            "----------------------------------------\n",
            "card1__card5\n",
            "train:0.7062778630417306\n",
            "test:0.6770826035171302\n",
            "----------------------------------------\n",
            "ProductID\n",
            "train:0.2695629278567667\n",
            "test:0.35301013723191504\n",
            "----------------------------------------\n",
            "id_20\n",
            "train:0.7317708333333334\n",
            "test:0.6430205949656751\n",
            "----------------------------------------\n",
            "card2__id_20\n",
            "train:0.6953632148377126\n",
            "test:0.6479907820826732\n",
            "----------------------------------------\n",
            "M5\n",
            "train:1.0\n",
            "test:1.0\n",
            "----------------------------------------\n",
            "id_12\n",
            "train:1.0\n",
            "test:1.0\n",
            "----------------------------------------\n",
            "DeviceType__id_20\n",
            "train:0.7326388888888888\n",
            "test:0.6355421686746988\n",
            "----------------------------------------\n",
            "id_15\n",
            "train:1.0\n",
            "test:1.0\n",
            "----------------------------------------\n",
            "id_28\n",
            "train:1.0\n",
            "test:1.0\n",
            "----------------------------------------\n",
            "card2\n",
            "train:0.9920159680638723\n",
            "test:0.9979919678714859\n",
            "----------------------------------------\n",
            "card1\n",
            "train:0.7342640979642774\n",
            "test:0.7108124433705829\n",
            "----------------------------------------\n",
            "id_30\n",
            "train:0.9868421052631579\n",
            "test:0.8620689655172413\n",
            "----------------------------------------\n",
            "addr1__M4\n",
            "train:0.6678383128295254\n",
            "test:0.6749555950266429\n",
            "----------------------------------------\n",
            "id_19\n",
            "train:0.8764478764478765\n",
            "test:0.9025844930417495\n",
            "----------------------------------------\n",
            "addr1\n",
            "train:0.5672131147540984\n",
            "test:0.590443686006826\n",
            "----------------------------------------\n",
            "id_16\n",
            "train:1.0\n",
            "test:1.0\n",
            "----------------------------------------\n",
            "M8\n",
            "train:1.0\n",
            "test:1.0\n",
            "----------------------------------------\n",
            "M9\n",
            "train:1.0\n",
            "test:1.0\n",
            "----------------------------------------\n",
            "card3\n",
            "train:0.8508771929824561\n",
            "test:0.8362068965517241\n",
            "----------------------------------------\n",
            "dow\n",
            "train:1.0\n",
            "test:1.0\n",
            "----------------------------------------\n",
            "card5\n",
            "train:0.7241379310344828\n",
            "test:0.8155339805825242\n",
            "----------------------------------------\n",
            "M2\n",
            "train:1.0\n",
            "test:1.0\n",
            "----------------------------------------\n",
            "card2__addr1\n",
            "train:0.739584765571291\n",
            "test:0.7376577070762479\n",
            "----------------------------------------\n",
            "id_17\n",
            "train:0.7843137254901961\n",
            "test:0.7692307692307693\n",
            "----------------------------------------\n",
            "DeviceType__P_emaildomain\n",
            "train:0.9943502824858758\n",
            "test:0.9887640449438202\n",
            "----------------------------------------\n",
            "id_13\n",
            "train:0.5\n",
            "test:0.9642857142857143\n",
            "----------------------------------------\n",
            "id_34\n",
            "train:0.6\n",
            "test:1.0\n",
            "----------------------------------------\n",
            "DeviceInfo__id_20\n",
            "train:0.3379000969932105\n",
            "test:0.24056970220112214\n",
            "----------------------------------------\n",
            "device_name\n",
            "train:0.8333333333333334\n",
            "test:0.8823529411764706\n",
            "----------------------------------------\n",
            "M4\n",
            "train:1.0\n",
            "test:1.0\n",
            "----------------------------------------\n",
            "addr2\n",
            "train:0.7571428571428571\n",
            "test:0.726027397260274\n",
            "----------------------------------------\n",
            "M6\n",
            "train:1.0\n",
            "test:1.0\n",
            "----------------------------------------\n",
            "card1__M4\n",
            "train:0.6598540145985401\n",
            "test:0.6542132163372383\n",
            "----------------------------------------\n",
            "card5__P_emaildomain\n",
            "train:0.7671339563862928\n",
            "test:0.8001624695369618\n",
            "----------------------------------------\n",
            "M7\n",
            "train:1.0\n",
            "test:1.0\n",
            "----------------------------------------\n",
            "id_27\n",
            "train:1.0\n",
            "test:1.0\n",
            "----------------------------------------\n",
            "id_23\n",
            "train:1.0\n",
            "test:1.0\n",
            "----------------------------------------\n",
            "id_35\n",
            "train:1.0\n",
            "test:1.0\n",
            "----------------------------------------\n",
            "P_emaildomain\n",
            "train:1.0\n",
            "test:0.9836065573770492\n",
            "----------------------------------------\n",
            "addr1__P_emaildomain\n",
            "train:0.7683698296836983\n",
            "test:0.7594997594997595\n",
            "----------------------------------------\n",
            "hour\n",
            "train:1.0\n",
            "test:1.0\n",
            "----------------------------------------\n",
            "R_emaildomain\n",
            "train:1.0\n",
            "test:1.0\n",
            "----------------------------------------\n",
            "DeviceInfo__P_emaildomain\n",
            "train:0.4213928273561301\n",
            "test:0.3473105344560921\n",
            "----------------------------------------\n",
            "M1\n",
            "train:1.0\n",
            "test:1.0\n",
            "----------------------------------------\n",
            "card2__M4\n",
            "train:0.9251583189407023\n",
            "test:0.9475235849056604\n",
            "----------------------------------------\n",
            "P_emaildomain__M4\n",
            "train:0.9530516431924883\n",
            "test:0.9620853080568721\n",
            "----------------------------------------\n",
            "id_29\n",
            "train:1.0\n",
            "test:1.0\n",
            "----------------------------------------\n",
            "uid__ProductID\n",
            "train:0.04760309242958955\n",
            "test:0.04667111845896184\n",
            "----------------------------------------\n",
            "card1__card2\n",
            "train:0.7058780523468343\n",
            "test:0.6783531230239584\n",
            "----------------------------------------\n",
            "uid__DeviceInfo\n",
            "train:0.11413783456122353\n",
            "test:0.10915836837716228\n",
            "----------------------------------------\n",
            "addr1__card1\n",
            "train:0.5788005578800558\n",
            "test:0.5625847266154541\n",
            "----------------------------------------\n",
            "card1__P_emaildomain\n",
            "train:0.5627829761545428\n",
            "test:0.5657142857142857\n"
          ]
        }
      ],
      "source": [
        "for column in cat:\n",
        "    train_set = set(X_train[column])\n",
        "    test_set = set(X_test[column])\n",
        "    tt = train_set.intersection(test_set)\n",
        "    print('----------------------------------------')\n",
        "    print(column)\n",
        "    print(f'train:{len(tt)/len(train_set)}')\n",
        "    print(f'test:{len(tt)/len(test_set)}')\n",
        "    X_train[column] = X_train[column].map(lambda x: -999 if x not in tt else x)\n",
        "    X_test[column] = X_test[column].map(lambda x: -999 if x not in tt else x)"
      ]
    },
    {
      "cell_type": "code",
      "execution_count": 91,
      "metadata": {
        "execution": {
          "iopub.execute_input": "2025-04-19T12:06:53.546629Z",
          "iopub.status.busy": "2025-04-19T12:06:53.546335Z",
          "iopub.status.idle": "2025-04-19T12:06:53.550442Z",
          "shell.execute_reply": "2025-04-19T12:06:53.549592Z",
          "shell.execute_reply.started": "2025-04-19T12:06:53.546606Z"
        },
        "trusted": true,
        "id": "wqi4AsJ7quD6"
      },
      "outputs": [],
      "source": [
        "# from sklearn.impute import SimpleImputer\n",
        "# # Before CV - Analyze and track missing values\n",
        "# missing_stats = pd.DataFrame({\n",
        "#     'column': X_train.columns,\n",
        "#     'missing_pct': X_train.isna().mean(),\n",
        "#     'was_imputed': X_train.isna().any()\n",
        "# })\n",
        "\n",
        "# # Show columns with missing values that will be imputed\n",
        "# print(\"Columns to be imputed:\")\n",
        "# print(missing_stats[missing_stats['was_imputed']].sort_values('missing_pct', ascending=False))\n",
        "\n",
        "# # Initialize and fit imputer on ALL training data first\n",
        "# global_imputer = SimpleImputer(strategy='median')\n",
        "# X_train = pd.DataFrame(global_imputer.fit_transform(X_train),\n",
        "#                               columns=X_train.columns)\n",
        "\n",
        "# # Apply same imputation to test data\n",
        "# X_test = pd.DataFrame(global_imputer.transform(X_test),\n",
        "#                              columns=X_test.columns)\n",
        "\n",
        "# # Verify no missing values remain\n",
        "# assert X_train.isna().sum().sum() == 0, \"Train still has missing values!\"\n",
        "# assert X_test.isna().sum().sum() == 0, \"Test still has missing values!\""
      ]
    },
    {
      "cell_type": "markdown",
      "metadata": {
        "id": "-L3KhvM0quD7"
      },
      "source": [
        "## Reducing Memory Usage"
      ]
    },
    {
      "cell_type": "code",
      "execution_count": 92,
      "metadata": {
        "execution": {
          "iopub.execute_input": "2025-04-19T12:06:53.551408Z",
          "iopub.status.busy": "2025-04-19T12:06:53.551181Z",
          "iopub.status.idle": "2025-04-19T12:06:53.560744Z",
          "shell.execute_reply": "2025-04-19T12:06:53.560034Z",
          "shell.execute_reply.started": "2025-04-19T12:06:53.551383Z"
        },
        "trusted": true,
        "id": "Zyr4FUbVquD7"
      },
      "outputs": [],
      "source": [
        "## Memory Reducer\n",
        "# :df pandas dataframe to reduce size\n",
        "# type: pd.DataFrame()\n",
        "# :verbose\n",
        "# type: bool\n",
        "def reduce_mem_usage(df, verbose=True):\n",
        "    numerics = ['int16', 'int32', 'int64', 'float16', 'float32', 'float64']\n",
        "    start_mem = df.memory_usage().sum() / 1024**2\n",
        "    for col in df.columns:\n",
        "        col_type = df[col].dtypes\n",
        "        if col_type in numerics:\n",
        "            c_min = df[col].min()\n",
        "            c_max = df[col].max()\n",
        "            if str(col_type)[:3] == 'int':\n",
        "                if c_min > np.iinfo(np.int8).min and c_max < np.iinfo(np.int8).max:\n",
        "                    df[col] = df[col].astype(np.int8)\n",
        "                elif c_min > np.iinfo(np.int16).min and c_max < np.iinfo(np.int16).max:\n",
        "                    df[col] = df[col].astype(np.int16)\n",
        "                elif c_min > np.iinfo(np.int32).min and c_max < np.iinfo(np.int32).max:\n",
        "                    df[col] = df[col].astype(np.int32)\n",
        "                elif c_min > np.iinfo(np.int64).min and c_max < np.iinfo(np.int64).max:\n",
        "                    df[col] = df[col].astype(np.int64)\n",
        "            else:\n",
        "                if c_min > np.finfo(np.float16).min and c_max < np.finfo(np.float16).max:\n",
        "                    df[col] = df[col].astype(np.float16)\n",
        "                elif c_min > np.finfo(np.float32).min and c_max < np.finfo(np.float32).max:\n",
        "                    df[col] = df[col].astype(np.float32)\n",
        "                else:\n",
        "                    df[col] = df[col].astype(np.float64)\n",
        "    end_mem = df.memory_usage().sum() / 1024**2\n",
        "    if verbose: print('Mem. usage decreased to {:5.2f} Mb ({:.1f}% reduction)'.format(end_mem, 100 * (start_mem - end_mem) / start_mem))\n",
        "    return df\n"
      ]
    },
    {
      "cell_type": "code",
      "execution_count": 93,
      "metadata": {
        "execution": {
          "iopub.execute_input": "2025-04-19T12:06:53.561786Z",
          "iopub.status.busy": "2025-04-19T12:06:53.561496Z",
          "iopub.status.idle": "2025-04-19T12:06:55.766999Z",
          "shell.execute_reply": "2025-04-19T12:06:55.766176Z",
          "shell.execute_reply.started": "2025-04-19T12:06:53.561758Z"
        },
        "trusted": true,
        "colab": {
          "base_uri": "https://localhost:8080/"
        },
        "id": "oDAyQVBWquD7",
        "outputId": "45dfbe47-9b51-474d-d4fd-eb7374d2937b"
      },
      "outputs": [
        {
          "output_type": "stream",
          "name": "stdout",
          "text": [
            "Mem. usage decreased to 493.35 Mb (70.0% reduction)\n",
            "CPU times: user 1.99 s, sys: 38.9 ms, total: 2.03 s\n",
            "Wall time: 2.04 s\n"
          ]
        }
      ],
      "source": [
        "%%time\n",
        "X_train = reduce_mem_usage(X_train)"
      ]
    },
    {
      "cell_type": "markdown",
      "metadata": {
        "id": "IhT1qhLLpRJR"
      },
      "source": [
        "## Extreme Gradient Boosting (XGBoost)"
      ]
    },
    {
      "cell_type": "code",
      "execution_count": 94,
      "metadata": {
        "execution": {
          "iopub.execute_input": "2025-04-19T12:49:30.126630Z",
          "iopub.status.busy": "2025-04-19T12:49:30.126240Z",
          "iopub.status.idle": "2025-04-19T12:49:30.135639Z",
          "shell.execute_reply": "2025-04-19T12:49:30.134860Z",
          "shell.execute_reply.started": "2025-04-19T12:49:30.126604Z"
        },
        "trusted": true,
        "id": "pQXgaPWIquD7"
      },
      "outputs": [],
      "source": [
        "fraud_ratio = len(y_train[y_train == 0]) / len(y_train[y_train == 1])"
      ]
    },
    {
      "cell_type": "markdown",
      "metadata": {
        "id": "IMKjFM21quD8"
      },
      "source": [
        "### XGBoost model training"
      ]
    },
    {
      "cell_type": "code",
      "execution_count": null,
      "metadata": {
        "execution": {
          "iopub.execute_input": "2025-04-19T12:49:47.220319Z",
          "iopub.status.busy": "2025-04-19T12:49:47.219989Z",
          "iopub.status.idle": "2025-04-19T12:51:23.266469Z",
          "shell.execute_reply": "2025-04-19T12:51:23.265603Z",
          "shell.execute_reply.started": "2025-04-19T12:49:47.220292Z"
        },
        "trusted": true,
        "colab": {
          "base_uri": "https://localhost:8080/"
        },
        "id": "s7-U8lORquD8",
        "outputId": "421e498f-d8a9-4ddb-9ff4-fe4f4e4dba3d"
      },
      "outputs": [
        {
          "output_type": "stream",
          "name": "stdout",
          "text": [
            "\n",
            "Training XGBoost Model...\n",
            "\n"
          ]
        }
      ],
      "source": [
        "xgb_model = xgb.XGBClassifier(\n",
        "    n_estimators=5000,\n",
        "    max_depth=10,\n",
        "    learning_rate=0.12526307664736916,\n",
        "    random_state=0,\n",
        "    subsample=0.79155511238352,\n",
        "    colsample_bytree=0.6067786481189409,\n",
        "    min_child_weight=3,\n",
        "    reg_alpha=1,\n",
        "    reg_lambda=0.6,\n",
        "    n_jobs=-1,\n",
        "    tree_method='hist',\n",
        "    eval_metric='auc',\n",
        "    scale_pos_weight=fraud_ratio *1.2,\n",
        "    early_stopping_rounds=300,\n",
        "    enable_categorical=True,\n",
        "    missing=-999\n",
        ")\n",
        "\n",
        "print(\"\\nTraining XGBoost Model...\\n\")\n",
        "xgb_model.fit(X_train, y_train, eval_set=[(X_val, y_val)], verbose=100)"
      ]
    },
    {
      "cell_type": "code",
      "execution_count": null,
      "metadata": {
        "id": "qv3mrkXLquD8"
      },
      "outputs": [],
      "source": [
        "import joblib\n",
        "\n",
        "joblib.dump(xgb_model, '/content/Financial-Fraud-Detection-main/models/xgb_model.pkl')\n",
        "xgb_model.save_model('/content/Financial-Fraud-Detection-main/models/xgb_model.json')"
      ]
    },
    {
      "cell_type": "markdown",
      "metadata": {
        "id": "DU6XUjSpquD8"
      },
      "source": [
        "### Predictions"
      ]
    },
    {
      "cell_type": "code",
      "execution_count": null,
      "metadata": {
        "execution": {
          "iopub.execute_input": "2025-04-19T12:51:23.267917Z",
          "iopub.status.busy": "2025-04-19T12:51:23.267597Z",
          "iopub.status.idle": "2025-04-19T12:51:39.875728Z",
          "shell.execute_reply": "2025-04-19T12:51:39.874860Z",
          "shell.execute_reply.started": "2025-04-19T12:51:23.267893Z"
        },
        "trusted": true,
        "id": "AEgobMnyquD8"
      },
      "outputs": [],
      "source": [
        "xgb_val_preds = xgb_model.predict_proba(X_val)[:, 1]\n",
        "xgb_test_preds = xgb_model.predict_proba(X_test)[:, 1]\n",
        "\n",
        "print(\"XGBOOST\")\n",
        "xgb_probs = xgb_model.predict_proba(X_val)[:, 1]\n",
        "xgb_preds = xgb_model.predict(X_val)\n",
        "\n",
        "xgb_auc = roc_auc_score(y_val, xgb_probs)\n",
        "xgb_f1 = f1_score(y_val, xgb_preds)\n",
        "xgb_recall = recall_score(y_val, xgb_preds)\n",
        "xgb_precision = precision_score(y_val, xgb_preds)\n",
        "xgb_conf_matrix = confusion_matrix(y_val, xgb_preds)\n",
        "\n",
        "print(f\"AUC = {xgb_auc:.4f}, F1 = {xgb_f1:.4f}, Recall = {xgb_recall:.4f}, Precision = {xgb_precision:.4f}\")\n",
        "print(\"Confusion Matrix:\")\n",
        "print(xgb_conf_matrix)"
      ]
    },
    {
      "cell_type": "markdown",
      "metadata": {
        "id": "Cl6elctyquD8"
      },
      "source": [
        "## Catboost"
      ]
    },
    {
      "cell_type": "markdown",
      "metadata": {
        "id": "W_CVFWddquD9"
      },
      "source": [
        "### CatBoost Model Training"
      ]
    },
    {
      "cell_type": "code",
      "execution_count": null,
      "metadata": {
        "execution": {
          "iopub.execute_input": "2025-04-19T12:51:39.878038Z",
          "iopub.status.busy": "2025-04-19T12:51:39.877793Z",
          "iopub.status.idle": "2025-04-19T13:02:17.715264Z",
          "shell.execute_reply": "2025-04-19T13:02:17.714339Z",
          "shell.execute_reply.started": "2025-04-19T12:51:39.878017Z"
        },
        "trusted": true,
        "id": "VN5-KBxZquD9"
      },
      "outputs": [],
      "source": [
        "catboost_model = cb.CatBoostClassifier(\n",
        "    iterations=10000,\n",
        "    depth=11,\n",
        "    learning_rate=0.124,\n",
        "    random_seed=0,\n",
        "    l2_leaf_reg=1,  # Regularization\n",
        "    bagging_temperature=0.6,  # Similar to reg_lambda\n",
        "    auto_class_weights=\"Balanced\",  # Handles imbalance automatically\n",
        "    eval_metric=\"AUC\",\n",
        "    early_stopping_rounds=300,\n",
        "    # task_type=\"GPU\",  # Using GPU if available\n",
        "    nan_mode=\"Min\",\n",
        "    verbose=50\n",
        ")\n",
        "\n",
        "print(\"\\nTraining CatBoost Model...\\n\")\n",
        "catboost_model.fit(X_train, y_train, eval_set=(X_val, y_val), verbose=100)"
      ]
    },
    {
      "cell_type": "code",
      "execution_count": null,
      "metadata": {
        "id": "pgzZU0kNquD9"
      },
      "outputs": [],
      "source": [
        "joblib.dump(catboost_model, '/content/Financial-Fraud-Detection-main/models/cat_model.pkl')\n",
        "catboost_model.save_model('/content/Financial-Fraud-Detection-main/models/cat_model.cbm')  # Binary format"
      ]
    },
    {
      "cell_type": "markdown",
      "metadata": {
        "id": "0xl4xwk3quD9"
      },
      "source": [
        "### Predictions"
      ]
    },
    {
      "cell_type": "code",
      "execution_count": null,
      "metadata": {
        "execution": {
          "iopub.execute_input": "2025-04-19T13:02:17.717336Z",
          "iopub.status.busy": "2025-04-19T13:02:17.717090Z",
          "iopub.status.idle": "2025-04-19T13:02:31.027185Z",
          "shell.execute_reply": "2025-04-19T13:02:31.026444Z",
          "shell.execute_reply.started": "2025-04-19T13:02:17.717316Z"
        },
        "trusted": true,
        "id": "g3ujcMcTquD9"
      },
      "outputs": [],
      "source": [
        "cat_val_preds = catboost_model.predict_proba(X_val)[:, 1]\n",
        "cat_test_preds = catboost_model.predict_proba(X_test)[:, 1]\n",
        "\n",
        "print(\"CATBOOST\")\n",
        "cat_probs = catboost_model.predict_proba(X_val)[:, 1]\n",
        "cat_preds = catboost_model.predict(X_val)\n",
        "\n",
        "cat_auc = roc_auc_score(y_val, cat_probs)\n",
        "cat_f1 = f1_score(y_val, cat_preds)\n",
        "cat_recall = recall_score(y_val, cat_preds)\n",
        "cat_precision = precision_score(y_val, cat_preds)\n",
        "cat_conf_matrix = confusion_matrix(y_val, cat_preds)\n",
        "\n",
        "print(f\"AUC = {cat_auc:.4f}, F1 = {cat_f1:.4f}, Recall = {cat_recall:.4f}, Precision = {cat_precision:.4f}\")\n",
        "print(\"Confusion Matrix:\")\n",
        "print(cat_conf_matrix)"
      ]
    },
    {
      "cell_type": "markdown",
      "metadata": {
        "id": "3wYaTCOuquD9"
      },
      "source": [
        "## Stacked Model"
      ]
    },
    {
      "cell_type": "code",
      "execution_count": null,
      "metadata": {
        "execution": {
          "iopub.execute_input": "2025-04-19T13:02:31.028504Z",
          "iopub.status.busy": "2025-04-19T13:02:31.028167Z",
          "iopub.status.idle": "2025-04-19T13:02:31.034290Z",
          "shell.execute_reply": "2025-04-19T13:02:31.033442Z",
          "shell.execute_reply.started": "2025-04-19T13:02:31.028476Z"
        },
        "trusted": true,
        "id": "O6w5fZPvquD-"
      },
      "outputs": [],
      "source": [
        "stacked_val = np.column_stack((xgb_val_preds, cat_val_preds))\n",
        "stacked_test = np.column_stack((xgb_test_preds, cat_test_preds))"
      ]
    },
    {
      "cell_type": "code",
      "execution_count": null,
      "metadata": {
        "execution": {
          "iopub.execute_input": "2025-04-19T13:02:31.035431Z",
          "iopub.status.busy": "2025-04-19T13:02:31.035130Z",
          "iopub.status.idle": "2025-04-19T13:02:46.397265Z",
          "shell.execute_reply": "2025-04-19T13:02:46.396442Z",
          "shell.execute_reply.started": "2025-04-19T13:02:31.035401Z"
        },
        "trusted": true,
        "id": "somoMHZTquD-"
      },
      "outputs": [],
      "source": [
        "meta_model = lgb.LGBMClassifier(\n",
        "    n_estimators=5000,\n",
        "    max_depth=14,\n",
        "    learning_rate=0.01,\n",
        "    random_state=42,\n",
        "    n_jobs=-1,\n",
        "    metric='auc',\n",
        "    min_child_samples=50,\n",
        "    objective='binary',\n",
        ")\n",
        "\n",
        "print(\"\\nTraining Meta-Model (Stacking)...\\n\")\n",
        "meta_model.fit(stacked_val, y_val)"
      ]
    },
    {
      "cell_type": "code",
      "execution_count": null,
      "metadata": {
        "id": "CvuYMYN_quD-"
      },
      "outputs": [],
      "source": [
        "joblib.dump(meta_model, 'models/meta_model.pkl')"
      ]
    },
    {
      "cell_type": "code",
      "execution_count": null,
      "metadata": {
        "execution": {
          "iopub.execute_input": "2025-04-19T13:02:46.398476Z",
          "iopub.status.busy": "2025-04-19T13:02:46.398129Z",
          "iopub.status.idle": "2025-04-19T13:03:03.436898Z",
          "shell.execute_reply": "2025-04-19T13:03:03.436056Z",
          "shell.execute_reply.started": "2025-04-19T13:02:46.398443Z"
        },
        "trusted": true,
        "id": "GcfIl3aYquD-"
      },
      "outputs": [],
      "source": [
        "print(\"\\nEvaluating Meta-Model...\\n\")\n",
        "y_pred_final_proba = meta_model.predict_proba(stacked_val)[:, 1]  # Evaluation on validation set\n",
        "threshold = 0.25\n",
        "y_pred_final_labels = (y_pred_final_proba >= threshold).astype(int)\n",
        "\n",
        "test_auc = roc_auc_score(y_val, y_pred_final_proba)\n",
        "test_f1 = f1_score(y_val, y_pred_final_labels)\n",
        "test_recall = recall_score(y_val, y_pred_final_labels)\n",
        "test_precision = precision_score(y_val, y_pred_final_labels)\n",
        "test_conf_matrix = confusion_matrix(y_val, y_pred_final_labels)\n",
        "\n",
        "print(\"Final Validation Metrics:\")\n",
        "print(f\"AUC = {test_auc:.4f}, F1 = {test_f1:.4f}, Recall = {test_recall:.4f}, Precision = {test_precision:.4f}\")\n",
        "print(\"Confusion Matrix:\")\n",
        "print(test_conf_matrix)"
      ]
    },
    {
      "cell_type": "markdown",
      "metadata": {
        "id": "9DZ_GslHquD-"
      },
      "source": [
        "## Final submission"
      ]
    },
    {
      "cell_type": "code",
      "execution_count": null,
      "metadata": {
        "execution": {
          "iopub.execute_input": "2025-04-19T13:03:03.438837Z",
          "iopub.status.busy": "2025-04-19T13:03:03.438606Z",
          "iopub.status.idle": "2025-04-19T13:04:16.772336Z",
          "shell.execute_reply": "2025-04-19T13:04:16.771391Z",
          "shell.execute_reply.started": "2025-04-19T13:03:03.438819Z"
        },
        "trusted": true,
        "id": "OmRFk2uLquD-"
      },
      "outputs": [],
      "source": [
        "print(\"\\nSubmission...\\n\")\n",
        "\n",
        "# Predict probabilities for the test set\n",
        "y_pred = meta_model.predict_proba(stacked_test)[:, 1]\n",
        "\n",
        "# Optional: Apply threshold if needed\n",
        "# threshold = 0.6\n",
        "# y_pred_final_labels = (y_pred >= threshold).astype(int)\n",
        "\n",
        "# Load sample submission and write predictions\n",
        "result = pd.read_csv(f'{folder_path}sample_submission.csv')\n",
        "result['isFraud'] = y_pred\n",
        "result.to_csv('/kaggle/working/submission.csv', index=False)\n",
        "\n",
        "# Optional: Save stacked test predictions for further use or ensembling\n",
        "# df = pd.DataFrame(stacked_test, columns=[\"xgb_pred\", \"cat_pred\"])\n",
        "# df.to_csv('/kaggle/working/stacked_test_preds.csv', index=False)"
      ]
    },
    {
      "cell_type": "markdown",
      "metadata": {
        "id": "qwu8WPBqquD_"
      },
      "source": [
        "## Feature importance"
      ]
    },
    {
      "cell_type": "code",
      "execution_count": null,
      "metadata": {
        "execution": {
          "iopub.status.busy": "2025-04-19T13:04:17.455707Z",
          "iopub.status.idle": "2025-04-19T13:04:17.455958Z",
          "shell.execute_reply": "2025-04-19T13:04:17.455855Z"
        },
        "trusted": true,
        "id": "Molw9UOsquD_"
      },
      "outputs": [],
      "source": [
        "def plot_feature_importance(importances, cols, title):\n",
        "    feature_imp = pd.DataFrame(sorted(zip(importances, cols)), columns=['Value', 'Feature'])\n",
        "    plt.figure(figsize=(12, 16))\n",
        "    sns.barplot(x=\"Value\", y=\"Feature\", data=feature_imp.sort_values(by=\"Value\", ascending=False).iloc[:50])\n",
        "    plt.title(title)\n",
        "    plt.tight_layout()\n",
        "    plt.show()"
      ]
    },
    {
      "cell_type": "code",
      "execution_count": null,
      "metadata": {
        "execution": {
          "iopub.status.busy": "2025-04-19T13:04:17.456870Z",
          "iopub.status.idle": "2025-04-19T13:04:17.457253Z",
          "shell.execute_reply": "2025-04-19T13:04:17.457090Z"
        },
        "trusted": true,
        "id": "x1XfVkVjquD_"
      },
      "outputs": [],
      "source": [
        "plot_feature_importance(xgb_model.feature_importances_, cols, \"XGBoost Importance\")\n",
        "plot_feature_importance(cat_model.get_feature_importance(), cols, \"CatBoost Importance\")\n",
        "plot_feature_importance(meta_model.feature_importances_, cols, \"Stacked Model Importance\")"
      ]
    },
    {
      "cell_type": "markdown",
      "metadata": {
        "id": "JEJ7NLcCquD_"
      },
      "source": [
        "### Hyperparameter Tuning"
      ]
    },
    {
      "cell_type": "code",
      "execution_count": null,
      "metadata": {
        "execution": {
          "iopub.status.busy": "2025-04-19T12:34:15.946398Z",
          "iopub.status.idle": "2025-04-19T12:34:15.946781Z",
          "shell.execute_reply": "2025-04-19T12:34:15.946613Z"
        },
        "trusted": true,
        "id": "-d9Ga0W_quD_"
      },
      "outputs": [],
      "source": [
        "# from imblearn.under_sampling import RandomUnderSampler\n",
        "# from imblearn.over_sampling import SMOTE\n",
        "# from imblearn.pipeline import Pipeline\n",
        "# import numpy as np\n",
        "# import pandas as pd\n",
        "# import xgboost as xgb\n",
        "# from sklearn.metrics import roc_auc_score, f1_score, recall_score, precision_score, confusion_matrix\n",
        "# from sklearn.model_selection import RandomizedSearchCV, StratifiedKFold, train_test_split\n",
        "# from sklearn.impute import SimpleImputer\n",
        "# import gc\n",
        "# from scipy.stats import uniform, randint\n",
        "\n",
        "# # Diviser les données en un ensemble d'entraînement et de test avec la même répartition des classes\n",
        "# X_train, X_val, y_train, y_val = train_test_split(X_train, y_train, test_size=0.2, random_state=42, stratify=y_train)\n",
        "\n",
        "# def preprocess_categorical_features(df):\n",
        "#     for col in df.select_dtypes(include=['object']).columns:\n",
        "#         df[col] = df[col].astype('category')\n",
        "#     return df\n",
        "\n",
        "# # Preprocess categorical features\n",
        "# X_train = preprocess_categorical_features(X_train)\n",
        "# X_val = preprocess_categorical_features(X_val)\n",
        "\n",
        "# # Define the pipeline with resampling and XGBoost\n",
        "# pipeline = Pipeline([\n",
        "#     ('imputer', SimpleImputer(strategy='median')),  # Handle missing values\n",
        "#     ('rus', RandomUnderSampler(sampling_strategy=0.5, random_state=42)),  # RandomUnderSampler\n",
        "#     ('smote', SMOTE(sampling_strategy=1.0, random_state=42)),  # SMOTE\n",
        "#     ('clf', xgb.XGBClassifier(\n",
        "#         tree_method='gpu_hist',\n",
        "#         early_stopping_rounds=300,\n",
        "#         enable_categorical=True,\n",
        "#         random_state=42\n",
        "#     ))\n",
        "# ])\n",
        "\n",
        "# # Define hyperparameter search space\n",
        "# param_dist = {\n",
        "#     'clf__n_estimators': randint(1000, 5000),  # Number of trees\n",
        "#     'clf__max_depth': randint(5, 10),  # Max depth of trees\n",
        "#     'clf__learning_rate': uniform(0.01, 0.1),  # Learning rate\n",
        "#     'clf__subsample': uniform(0.8, 0.2),  # Subsample ratio\n",
        "#     'clf__colsample_bytree': uniform(0.7, 0.3),  # Feature subsampling\n",
        "#     'clf__min_child_weight': randint(1, 10),  # Minimum sum of instance weight\n",
        "#     'clf__reg_alpha': uniform(0, 2),  # L1 regularization\n",
        "#     'clf__reg_lambda': uniform(0, 2),  # L2 regularization\n",
        "#     # 'clf__scale_pos_weight': uniform(1.0, 2.0)  # Scale for imbalanced classes\n",
        "# }\n",
        "\n",
        "# # Use RandomizedSearchCV with StratifiedKFold\n",
        "# random_search = RandomizedSearchCV(\n",
        "#     estimator=pipeline,\n",
        "#     param_distributions=param_dist,\n",
        "#     n_iter=20,  # Number of parameter settings to sample\n",
        "#     scoring='roc_auc',  # Metric for evaluation\n",
        "#     cv=StratifiedKFold(n_splits=5, shuffle=True, random_state=42),  # 5-fold CV\n",
        "#     verbose=2,\n",
        "#     n_jobs=-1,\n",
        "#     random_state=42\n",
        "# )\n",
        "\n",
        "# # Fit on the training set (includes resampling, tuning, and CV)\n",
        "# # Pass eval_set to the XGBoost step using fit_params\n",
        "# fit_params = {\n",
        "#     'clf__eval_set': [(X_val, y_val)],  # Pass eval_set to the XGBoost step\n",
        "#     'clf__verbose': 50  # Set verbosity for XGBoost\n",
        "# }\n",
        "# random_search.fit(X_train, y_train, **fit_params)\n",
        "\n",
        "\n",
        "# # Best hyperparameters (based on CV validation folds)\n",
        "# best_params = random_search.best_params_\n",
        "# print(f\"Best hyperparameters: {best_params}\")\n",
        "\n",
        "# # Train the final model on the full training set with best hyperparameters\n",
        "# final_model = random_search.best_estimator_\n",
        "# final_model.fit(X_train, y_train)\n",
        "\n",
        "# # Evaluate on the test set (ONCE)\n",
        "# test_preds = final_model.predict_proba(X_test_final)[:, 1]\n",
        "# test_labels = final_model.predict(X_test_final)\n",
        "\n",
        "# # Calculate metrics\n",
        "# test_auc = roc_auc_score(y_test_final, test_preds)\n",
        "# test_f1 = f1_score(y_test_final, test_labels)\n",
        "# test_recall = recall_score(y_test_final, test_labels)\n",
        "# test_precision = precision_score(y_test_final, test_labels)\n",
        "# test_conf_matrix = confusion_matrix(y_test_final, test_labels)\n",
        "\n",
        "# print(f\"Test Metrics: AUC = {test_auc:.4f}, F1 = {test_f1:.4f}, Recall = {test_recall:.4f}, Precision = {test_precision:.4f}\")\n",
        "# print(\"Test Confusion Matrix:\")\n",
        "# print(test_conf_matrix)"
      ]
    },
    {
      "cell_type": "markdown",
      "metadata": {
        "id": "uc-AEACPquEA"
      },
      "source": [
        "### Stratified KFolds"
      ]
    },
    {
      "cell_type": "code",
      "execution_count": null,
      "metadata": {
        "trusted": true,
        "id": "V6agwteSquEA"
      },
      "outputs": [],
      "source": []
    },
    {
      "cell_type": "markdown",
      "metadata": {
        "id": "wppbFVwmquEA"
      },
      "source": [
        "### Model Training"
      ]
    },
    {
      "cell_type": "code",
      "execution_count": null,
      "metadata": {
        "execution": {
          "iopub.status.busy": "2025-04-19T12:34:15.947770Z",
          "iopub.status.idle": "2025-04-19T12:34:15.948174Z",
          "shell.execute_reply": "2025-04-19T12:34:15.948002Z"
        },
        "trusted": true,
        "id": "b2kwNz3bquEA"
      },
      "outputs": [],
      "source": [
        "# from imblearn.under_sampling import RandomUnderSampler\n",
        "# from imblearn.over_sampling import SMOTE\n",
        "# import numpy as np\n",
        "# import pandas as pd\n",
        "# import xgboost as xgb\n",
        "# from sklearn.metrics import roc_auc_score, f1_score, recall_score, precision_score, confusion_matrix\n",
        "# from sklearn.model_selection import RandomizedSearchCV, StratifiedKFold, train_test_split\n",
        "# from sklearn.impute import SimpleImputer\n",
        "# from scipy.stats import uniform, randint\n",
        "# from sklearn.metrics import precision_recall_curve\n",
        "\n",
        "# # Define the XGBoost classifier\n",
        "# clf = xgb.XGBClassifier(\n",
        "#     tree_method='gpu_hist',\n",
        "#     early_stopping_rounds=300,\n",
        "#     enable_categorical=True,\n",
        "#     random_state=42,\n",
        "#     missing= -999\n",
        "# )\n",
        "\n",
        "# # Define hyperparameter search space\n",
        "# param_dist = {\n",
        "#     'n_estimators': randint(4000, 9000),  # Number of trees\n",
        "#     'max_depth': randint(5, 12),  # Max depth of trees\n",
        "#     'learning_rate': uniform(0.01, 0.1),  # Learning rate\n",
        "#     'subsample': uniform(0.8, 0.2),  # Subsample ratio\n",
        "#     'colsample_bytree': uniform(0.8, 0.3),  # Feature subsampling\n",
        "#     'min_child_weight': randint(1, 10),  # Minimum sum of instance weight\n",
        "#     'reg_alpha': uniform(0, 2),  # L1 regularization\n",
        "#     'reg_lambda': uniform(0, 2),  # L2 regularization\n",
        "#     'scale_pos_weight': uniform(1.0, 2.0)  # Scale for imbalanced classes\n",
        "# }\n",
        "\n",
        "# # Use RandomizedSearchCV with StratifiedKFold\n",
        "# random_search = RandomizedSearchCV(\n",
        "#     estimator=clf,\n",
        "#     param_distributions=param_dist,\n",
        "#     n_iter=20,  # Number of parameter settings to sample\n",
        "#     scoring='roc_auc',  # Metric for evaluation\n",
        "#     cv=StratifiedKFold(n_splits=5, shuffle=True, random_state=42),  # 5-fold CV\n",
        "#     verbose=2,\n",
        "#     n_jobs=-1,\n",
        "#     random_state=42\n",
        "# )\n",
        "\n",
        "# # Fit on the training set (includes resampling, tuning, and CV)\n",
        "# # Pass eval_set to the XGBoost step using fit_params\n",
        "# fit_params = {\n",
        "#     'eval_set': [(X_val, y_val)],  # Pass eval_set to the XGBoost step\n",
        "#     'verbose': 50  # Set verbosity for XGBoost\n",
        "# }\n",
        "# random_search.fit(X_train, y_train, **fit_params)\n",
        "\n",
        "# # Best hyperparameters (based on CV validation folds)\n",
        "# best_params = random_search.best_params_\n",
        "# print(f\"Best hyperparameters: {best_params}\")\n",
        "\n",
        "# # Train the final model on the full training set with best hyperparameters\n",
        "# model = random_search.best_estimator_\n",
        "# model.fit(X_train, y_train, eval_set=[(X_val, y_val)], **fit_params)\n",
        "\n",
        "# # Predict probabilities on the validation set\n",
        "# val_pred_probs = model.predict_proba(X_val)[:, 1]\n",
        "\n",
        "# # # Find the best threshold using the validation set\n",
        "# # precision, recall, thresholds = precision_recall_curve(y_val, val_pred_probs)\n",
        "# # f1_scores = 2 * (precision * recall) / (precision + recall + 1e-10)  # Avoid division by zero\n",
        "# # best_threshold = thresholds[np.argmax(f1_scores)]\n",
        "# # print(f\"Best threshold: {best_threshold:.4f}\")\n",
        "\n",
        "# # # Apply the best threshold to the validation set\n",
        "# # val_pred_labels = (val_pred_probs >= best_threshold).astype(int)\n",
        "\n",
        "# # Calculate metrics on the validation set\n",
        "# val_auc = roc_auc_score(y_val, val_pred_probs)\n",
        "# val_f1 = f1_score(y_val, val_pred_labels)\n",
        "# val_recall = recall_score(y_val, val_pred_labels)\n",
        "# val_precision = precision_score(y_val, val_pred_labels)\n",
        "# val_conf_matrix = confusion_matrix(y_val, val_pred_labels)\n",
        "\n",
        "# print(f\"Validation Metrics: AUC = {val_auc:.4f}, F1 = {val_f1:.4f}, Recall = {val_recall:.4f}, Precision = {val_precision:.4f}\")\n",
        "# print(\"Validation Confusion Matrix:\")\n",
        "# print(val_conf_matrix)"
      ]
    },
    {
      "cell_type": "code",
      "execution_count": null,
      "metadata": {
        "execution": {
          "iopub.status.busy": "2025-04-19T12:34:15.948942Z",
          "iopub.status.idle": "2025-04-19T12:34:15.949337Z",
          "shell.execute_reply": "2025-04-19T12:34:15.949155Z"
        },
        "trusted": true,
        "id": "YlCGBKS9quEA"
      },
      "outputs": [],
      "source": [
        "# # Final model training on full dataset (after SMOTE & Undersampling)\n",
        "# X_test_final = preprocess_categorical_features(X_test_final)\n",
        "# y_pred_final_proba = final_model.predict_proba(X_test_final)[:, 1]\n",
        "# y_pred_final_labels = (y_pred_final_proba >= best_threshold).astype(int)\n",
        "\n",
        "# test_auc = roc_auc_score(y_test_final, y_pred_final_proba)\n",
        "# test_f1 = f1_score(y_test_final, y_pred_final_labels)\n",
        "# test_recall = recall_score(y_test_final, y_pred_final_labels)\n",
        "# test_precision = precision_score(y_test_final, y_pred_final_labels)\n",
        "# test_conf_matrix = confusion_matrix(y_test_final, y_pred_final_labels)\n",
        "\n",
        "# print(\"Final Test Metrics:\")\n",
        "# print(f\"AUC = {test_auc:.4f}, F1 = {test_f1:.4f}, Recall = {test_recall:.4f}, Precision = {test_precision:.4f}\")\n",
        "# print(\"Confusion Matrix:\")\n",
        "# print(test_conf_matrix)"
      ]
    },
    {
      "cell_type": "code",
      "execution_count": null,
      "metadata": {
        "execution": {
          "iopub.status.busy": "2025-04-19T12:34:15.950268Z",
          "iopub.status.idle": "2025-04-19T12:34:15.950565Z",
          "shell.execute_reply": "2025-04-19T12:34:15.950451Z"
        },
        "trusted": true,
        "id": "-Lj2WrUAquEB"
      },
      "outputs": [],
      "source": [
        "# from imblearn.under_sampling import RandomUnderSampler\n",
        "# from imblearn.over_sampling import SMOTE\n",
        "# import numpy as np\n",
        "# import pandas as pd\n",
        "# import xgboost as xgb\n",
        "# from sklearn.metrics import roc_auc_score, f1_score, recall_score, precision_score, confusion_matrix\n",
        "# from sklearn.model_selection import RandomizedSearchCV, StratifiedKFold, train_test_split\n",
        "# from sklearn.impute import SimpleImputer\n",
        "# from scipy.stats import uniform, randint\n",
        "\n",
        "# # # Split the data into training and validation sets\n",
        "# # X_train, X_val, y_train, y_val = train_test_split(\n",
        "# #     X_train, y_train, test_size=0.2, random_state=42, stratify=y_train\n",
        "# # )\n",
        "\n",
        "# # Handle missing values\n",
        "# imputer = SimpleImputer(strategy='median')\n",
        "# X_train = pd.DataFrame(imputer.fit_transform(X_train), columns=X_train.columns)\n",
        "# X_val = pd.DataFrame(imputer.transform(X_val), columns=X_val.columns)\n",
        "\n",
        "# # Apply Random UnderSampling\n",
        "# rus = RandomUnderSampler(sampling_strategy=0.5, random_state=42)\n",
        "# X_resampled, y_resampled = rus.fit_resample(X_train, y_train)\n",
        "\n",
        "# # Apply SMOTE\n",
        "# smote = SMOTE(sampling_strategy=1.0, random_state=42)\n",
        "# X_train_balanced, y_train_balanced = smote.fit_resample(X_resampled, y_resampled)\n",
        "\n",
        "# # Define the XGBoost classifier\n",
        "# clf = xgb.XGBClassifier(\n",
        "#     tree_method='gpu_hist',\n",
        "#     early_stopping_rounds=300,\n",
        "#     enable_categorical=True,\n",
        "#     random_state=42\n",
        "# )\n",
        "\n",
        "# # Define hyperparameter search space\n",
        "# param_dist = {\n",
        "#     'n_estimators': randint(5000, 10000),  # Number of trees\n",
        "#     'max_depth': randint(5, 12),  # Max depth of trees\n",
        "#     'learning_rate': uniform(0.01, 0.1),  # Learning rate\n",
        "#     'subsample': uniform(0.8, 0.2),  # Subsample ratio\n",
        "#     'colsample_bytree': uniform(0.7, 0.3),  # Feature subsampling\n",
        "#     'min_child_weight': randint(1, 10),  # Minimum sum of instance weight\n",
        "#     'reg_alpha': uniform(0, 2),  # L1 regularization\n",
        "#     'reg_lambda': uniform(0, 2),  # L2 regularization\n",
        "#     # 'scale_pos_weight': uniform(1.0, 2.0)  # Scale for imbalanced classes\n",
        "# }\n",
        "\n",
        "# # Use RandomizedSearchCV with StratifiedKFold\n",
        "# random_search = RandomizedSearchCV(\n",
        "#     estimator=clf,\n",
        "#     param_distributions=param_dist,\n",
        "#     n_iter=20,  # Number of parameter settings to sample\n",
        "#     scoring='roc_auc',  # Metric for evaluation\n",
        "#     cv=StratifiedKFold(n_splits=5, shuffle=True, random_state=42),  # 5-fold CV\n",
        "#     verbose=2,\n",
        "#     n_jobs=-1,\n",
        "#     random_state=42\n",
        "# )\n",
        "\n",
        "# # Fit on the training set (includes resampling, tuning, and CV)\n",
        "# # Pass eval_set to the XGBoost step using fit_params\n",
        "# fit_params = {\n",
        "#     'eval_set': [(X_val, y_val)],  # Pass eval_set to the XGBoost step\n",
        "#     'verbose': 50  # Set verbosity for XGBoost\n",
        "# }\n",
        "# random_search.fit(X_train_balanced, y_train_balanced, **fit_params)\n",
        "\n",
        "# # Best hyperparameters (based on CV validation folds)\n",
        "# best_params = random_search.best_params_\n",
        "# print(f\"Best hyperparameters: {best_params}\")\n",
        "\n",
        "# # Train the final model on the full training set with best hyperparameters\n",
        "# final_model = random_search.best_estimator_\n",
        "# final_model.fit(X_train_balanced, y_train_balanced, **fit_params)\n",
        "\n",
        "# # Predict probabilities on the validation set\n",
        "# val_pred_probs = final_model.predict_proba(X_val)[:, 1]\n",
        "\n",
        "# # Find the best threshold using the validation set\n",
        "# precision, recall, thresholds = precision_recall_curve(y_val, val_pred_probs)\n",
        "# f1_scores = 2 * (precision * recall) / (precision + recall + 1e-10)  # Avoid division by zero\n",
        "# best_threshold = thresholds[np.argmax(f1_scores)]\n",
        "# print(f\"Best threshold: {best_threshold:.4f}\")\n",
        "\n",
        "# # Apply the best threshold to the validation set\n",
        "# val_pred_labels = (val_pred_probs >= best_threshold).astype(int)\n",
        "\n",
        "# # Calculate metrics on the validation set\n",
        "# val_auc = roc_auc_score(y_val, val_pred_probs)\n",
        "# val_f1 = f1_score(y_val, val_pred_labels)\n",
        "# val_recall = recall_score(y_val, val_pred_labels)\n",
        "# val_precision = precision_score(y_val, val_pred_labels)\n",
        "# val_conf_matrix = confusion_matrix(y_val, val_pred_labels)\n",
        "\n",
        "# print(f\"Validation Metrics: AUC = {val_auc:.4f}, F1 = {val_f1:.4f}, Recall = {val_recall:.4f}, Precision = {val_precision:.4f}\")\n",
        "# print(\"Validation Confusion Matrix:\")\n",
        "# print(val_conf_matrix)"
      ]
    },
    {
      "cell_type": "code",
      "execution_count": null,
      "metadata": {
        "execution": {
          "iopub.status.busy": "2025-04-19T12:34:15.951457Z",
          "iopub.status.idle": "2025-04-19T12:34:15.951815Z",
          "shell.execute_reply": "2025-04-19T12:34:15.951651Z"
        },
        "trusted": true,
        "id": "EZDOnOp1quEB"
      },
      "outputs": [],
      "source": [
        "# import optuna\n",
        "# import xgboost as xgb\n",
        "# from sklearn.model_selection import train_test_split\n",
        "# from sklearn.metrics import roc_auc_score\n",
        "# from sklearn.metrics import f1_score, precision_recall_curve\n",
        "# from sklearn.impute import SimpleImputer\n",
        "# from imblearn.under_sampling import RandomUnderSampler\n",
        "# from imblearn.over_sampling import SMOTE\n",
        "\n",
        "# # Split data into training and validation sets\n",
        "# X_train_tune, X_valid_tune, y_train_tune, y_valid_tune = train_test_split(X_train, y_train, test_size=0.2, random_state=42)\n",
        "\n",
        "# # Handle missing values\n",
        "# imputer = SimpleImputer(strategy='median')\n",
        "# X_train_tune = pd.DataFrame(imputer.fit_transform(X_train_tune), columns=X_train_tune.columns)\n",
        "# X_valid_tune = pd.DataFrame(imputer.transform(X_valid_tune), columns=X_valid_tune.columns)\n",
        "\n",
        "# # Apply Random UnderSampling\n",
        "# rus = RandomUnderSampler(sampling_strategy=0.5, random_state=42)\n",
        "# X_resampled_tune, y_resampled_tune = rus.fit_resample(X_train_tune, y_train_tune)\n",
        "\n",
        "# # Apply SMOTE\n",
        "# smote = SMOTE(sampling_strategy=1.0, random_state=42)\n",
        "# X_train_balanced_tune, y_train_balanced_tune = smote.fit_resample(X_resampled_tune, y_resampled_tune)\n",
        "\n",
        "# fraud_ratio = len(y_train_balanced_tune[y_train_balanced_tune == 0]) / len(y_train_balanced_tune[y_train_balanced_tune == 1])\n",
        "\n",
        "\n",
        "# def objective(trial):\n",
        "#     params = {\n",
        "#         'max_depth': trial.suggest_int('max_depth', 5, 10),\n",
        "#         'learning_rate': trial.suggest_loguniform('learning_rate', 0.01, 0.3),\n",
        "#         'n_estimators': trial.suggest_int('n_estimators', 10000, 200000),\n",
        "#         'subsample': trial.suggest_uniform('subsample', 0.5, 1.0),\n",
        "#         'colsample_bytree': trial.suggest_uniform('colsample_bytree', 0.5, 1.0),\n",
        "#         'scale_pos_weight': fraud_ratio,\n",
        "#         'objective': 'binary:logistic',\n",
        "#         'eval_metric': 'logloss',\n",
        "#         'tree_method': 'gpu_hist',  # Use GPU for faster training\n",
        "#         'use_label_encoder': False\n",
        "#     }\n",
        "\n",
        "#     model = xgb.XGBClassifier(**params)\n",
        "#     model.fit(X_train_balanced_tune, y_train_balanced_tune, eval_set=[(X_valid_tune, y_valid_tune)], early_stopping_rounds=50, verbose=False)\n",
        "\n",
        "#     # Get predicted probabilities\n",
        "#     y_pred_proba = model.predict_proba(X_valid_tune)[:, 1]\n",
        "\n",
        "#     # Find the best decision threshold using precision-recall curve\n",
        "#     precisions, recalls, thresholds = precision_recall_curve(y_valid_tune, y_pred_proba)\n",
        "#     f1_scores = (2 * precisions * recalls) / (precisions + recalls)\n",
        "#     best_threshold = thresholds[np.argmax(f1_scores)]  # Get the threshold with max F1\n",
        "\n",
        "#     # Convert probabilities to class predictions using the best threshold\n",
        "#     y_pred_adjusted = (y_pred_proba >= best_threshold).astype(int)\n",
        "\n",
        "#     # Compute F1-score\n",
        "#     f1 = f1_score(y_valid_tune, y_pred_adjusted)\n",
        "\n",
        "#     return f1  # Optimize for F1-score\n",
        "\n",
        "# # Run Optuna optimization\n",
        "# study = optuna.create_study(direction='maximize')\n",
        "# study.optimize(objective, n_trials=500)\n",
        "\n",
        "# # Best parameters\n",
        "# best_params = study.best_params\n",
        "# print(\"Best parameters:\", best_params)"
      ]
    },
    {
      "cell_type": "markdown",
      "metadata": {
        "id": "RYWuAQsLquEB"
      },
      "source": [
        "## Test"
      ]
    },
    {
      "cell_type": "code",
      "execution_count": null,
      "metadata": {
        "execution": {
          "iopub.status.busy": "2025-04-19T12:34:15.952473Z",
          "iopub.status.idle": "2025-04-19T12:34:15.952723Z",
          "shell.execute_reply": "2025-04-19T12:34:15.952616Z"
        },
        "trusted": true,
        "id": "tS0wKUDTquEB"
      },
      "outputs": [],
      "source": [
        "# # Final model training on full dataset (after SMOTE & Undersampling)\n",
        "# X_test_final = preprocess_categorical_features(X_test_final)\n",
        "# y_pred_final_proba = final_model.predict_proba(X_test_final)[:, 1]\n",
        "# y_pred_final_labels = (y_pred_final_proba >= best_threshold).astype(int)\n",
        "\n",
        "# test_auc = roc_auc_score(y_test_final, y_pred_final_proba)\n",
        "# test_f1 = f1_score(y_test_final, y_pred_final_labels)\n",
        "# test_recall = recall_score(y_test_final, y_pred_final_labels)\n",
        "# test_precision = precision_score(y_test_final, y_pred_final_labels)\n",
        "# test_conf_matrix = confusion_matrix(y_test_final, y_pred_final_labels)\n",
        "\n",
        "# print(\"Final Test Metrics:\")\n",
        "# print(f\"AUC = {test_auc:.4f}, F1 = {test_f1:.4f}, Recall = {test_recall:.4f}, Precision = {test_precision:.4f}\")\n",
        "# print(\"Confusion Matrix:\")\n",
        "# print(test_conf_matrix)"
      ]
    },
    {
      "cell_type": "code",
      "execution_count": null,
      "metadata": {
        "execution": {
          "iopub.status.busy": "2025-04-19T12:34:15.953375Z",
          "iopub.status.idle": "2025-04-19T12:34:15.953682Z",
          "shell.execute_reply": "2025-04-19T12:34:15.953573Z"
        },
        "trusted": true,
        "id": "Z7PGGnD3quEC"
      },
      "outputs": [],
      "source": [
        "from sklearn.metrics import average_precision_score\n",
        "\n",
        "# Inside your CV loop\n",
        "ap = average_precision_score(y_val, y_pred_final_proba)\n",
        "print(ap)"
      ]
    },
    {
      "cell_type": "markdown",
      "metadata": {
        "id": "2w3z0USjWzBM"
      },
      "source": [
        "#### XGBoost Submission"
      ]
    },
    {
      "cell_type": "code",
      "execution_count": null,
      "metadata": {
        "execution": {
          "iopub.status.busy": "2025-04-19T12:34:15.954204Z",
          "iopub.status.idle": "2025-04-19T12:34:15.954556Z",
          "shell.execute_reply": "2025-04-19T12:34:15.954422Z"
        },
        "trusted": true,
        "id": "PThqSW51quEC"
      },
      "outputs": [],
      "source": [
        "# result = pd.read_csv(f'{folder_path}sample_submission.csv')\n",
        "\n",
        "# X_test = preprocess_categorical_features(X_test)\n",
        "# y_pred_test_proba = final_model.predict_proba(X_test)[:, 1]\n",
        "# threshold = 0.82\n",
        "# y_pred_test = (y_pred_test_proba >= threshold).astype(int)\n",
        "\n",
        "# result['isFraud'] = y_pred_test\n",
        "# result.to_csv('/kaggle/working/submission.csv', index=False)\n",
        "\n",
        "# df = pd.DataFrame()\n",
        "# df['train'] = stack_train\n",
        "# df.to_csv('/kaggle/working/training_output_xgb_train.csv',index=False)"
      ]
    },
    {
      "cell_type": "code",
      "execution_count": null,
      "metadata": {
        "execution": {
          "iopub.status.busy": "2025-04-19T12:34:15.955169Z",
          "iopub.status.idle": "2025-04-19T12:34:15.955489Z",
          "shell.execute_reply": "2025-04-19T12:34:15.955307Z"
        },
        "trusted": true,
        "id": "Z3n8UsNmquEC"
      },
      "outputs": [],
      "source": [
        "print(X_test.columns)  # Show all available columns\n"
      ]
    },
    {
      "cell_type": "code",
      "execution_count": null,
      "metadata": {
        "execution": {
          "iopub.status.busy": "2025-04-19T12:34:15.956069Z",
          "iopub.status.idle": "2025-04-19T12:34:15.956577Z",
          "shell.execute_reply": "2025-04-19T12:34:15.956458Z"
        },
        "trusted": true,
        "id": "veeoongAquEC"
      },
      "outputs": [],
      "source": [
        "import pandas as pd\n",
        "import matplotlib.pyplot as plt\n",
        "\n",
        "# Créer le DataFrame pour l'analyse\n",
        "val_results = pd.DataFrame({\n",
        "    'client_uid': X_test_final['uid'],  # Vérifie que 'uid1' existe bien\n",
        "    'Transaction_Index': range(len(X_test_final)),  # On crée un index de transaction\n",
        "    'Real_Fraud': y_test_final,\n",
        "    'Predicted_Fraud': y_pred_final_labels\n",
        "})\n",
        "\n",
        "# Sélectionner 10 clients aléatoires ayant plusieurs transactions\n",
        "sample_clients = val_results['client_uid'].value_counts().index[:10]  # Prend les 10 clients avec le plus de transactions\n",
        "\n",
        "# Tracer les transactions pour chaque client\n",
        "for client in sample_clients:\n",
        "    client_data = val_results[val_results['client_uid'] == client]\n",
        "\n",
        "    plt.figure(figsize=(10, 4))\n",
        "\n",
        "    # Vraies étiquettes de fraude\n",
        "    plt.plot(client_data['Transaction_Index'], client_data['Real_Fraud'], 'bo-', label='Real Fraud', alpha=0.6)\n",
        "\n",
        "    # Prédictions du modèle\n",
        "    plt.plot(client_data['Transaction_Index'], client_data['Predicted_Fraud'], 'ro--', label='Predicted Fraud', alpha=0.6)\n",
        "\n",
        "    plt.title(f'Client {client} - Transactions Fraud vs. Predictions')\n",
        "    plt.xlabel('Transaction Index')\n",
        "    plt.ylabel('Fraud Label (0=No Fraud, 1=Fraud)')\n",
        "    plt.legend()\n",
        "    plt.show()\n"
      ]
    },
    {
      "cell_type": "code",
      "execution_count": null,
      "metadata": {
        "execution": {
          "iopub.status.busy": "2025-04-19T12:34:15.957215Z",
          "iopub.status.idle": "2025-04-19T12:34:15.957558Z",
          "shell.execute_reply": "2025-04-19T12:34:15.957381Z"
        },
        "trusted": true,
        "id": "gMEu78UIquED"
      },
      "outputs": [],
      "source": [
        "import pandas as pd\n",
        "import matplotlib.pyplot as plt\n",
        "\n",
        "# Créer un DataFrame contenant les transactions des clients\n",
        "val_results = pd.DataFrame({\n",
        "    'client_uid': X_test_final['uid'],  # Vérifie que 'uid1' existe bien\n",
        "    'Real_Fraud': y_test_final  # Vraie étiquette de fraude\n",
        "})\n",
        "\n",
        "# Grouper par client et compter le nombre de fraudes par client\n",
        "client_fraud_stats = val_results.groupby('client_uid')['Real_Fraud'].agg(['sum', 'count'])\n",
        "\n",
        "# Définir les catégories de clients\n",
        "client_fraud_stats['Category'] = 'Mixed'\n",
        "client_fraud_stats.loc[client_fraud_stats['sum'] == 0, 'Category'] = 'Non-Fraud'\n",
        "client_fraud_stats.loc[client_fraud_stats['sum'] == client_fraud_stats['count'], 'Category'] = 'Fraud'\n",
        "\n",
        "# Compter le nombre de clients dans chaque catégorie\n",
        "category_counts = client_fraud_stats['Category'].value_counts()\n",
        "\n",
        "# 🎨 Pie Chart\n",
        "plt.figure(figsize=(7, 7))\n",
        "plt.pie(category_counts, labels=category_counts.index, autopct='%1.1f%%', colors=['blue', 'red', 'orange'])\n",
        "plt.title('Répartition des Clients (Fraude vs Non-Fraude vs Mixtes)')\n",
        "plt.show()\n"
      ]
    },
    {
      "cell_type": "markdown",
      "metadata": {
        "id": "njc8iy8wquED"
      },
      "source": [
        "### Detection errors for clients 100% fraud"
      ]
    },
    {
      "cell_type": "code",
      "execution_count": null,
      "metadata": {
        "execution": {
          "iopub.status.busy": "2025-04-19T12:34:15.958192Z",
          "iopub.status.idle": "2025-04-19T12:34:15.958440Z",
          "shell.execute_reply": "2025-04-19T12:34:15.958327Z"
        },
        "trusted": true,
        "id": "15S7p3NlquED"
      },
      "outputs": [],
      "source": [
        "import pandas as pd\n",
        "import matplotlib.pyplot as plt\n",
        "\n",
        "# Créer un DataFrame contenant les transactions des clients\n",
        "val_results = pd.DataFrame({\n",
        "    'client_uid': X_test_final['uid1'],  # Vérifie que 'uid1' existe bien\n",
        "    'Transaction_Index': range(len(X_test_final)),  # Index de transaction\n",
        "    'Real_Fraud': y_test_final,  # Vraie étiquette de fraude\n",
        "    'Predicted_Fraud': y_pred_final_labels  # Prédiction du modèle\n",
        "})\n",
        "\n",
        "# Grouper par client et identifier ceux qui sont entièrement frauduleux\n",
        "client_fraud_stats = val_results.groupby('client_uid')['Real_Fraud'].agg(['sum', 'count'])\n",
        "fully_fraudulent_clients = client_fraud_stats[client_fraud_stats['sum'] == client_fraud_stats['count']].index\n",
        "\n",
        "# Filtrer uniquement les transactions des clients entièrement frauduleux\n",
        "fraudulent_client_data = val_results[val_results['client_uid'].isin(fully_fraudulent_clients)]\n",
        "\n",
        "# Filtrer les transactions mal prédites\n",
        "misclassified_data = fraudulent_client_data[fraudulent_client_data['Real_Fraud'] != fraudulent_client_data['Predicted_Fraud']]\n",
        "\n",
        "# Sélectionner 5 clients frauduleux ayant des erreurs de prédiction\n",
        "sample_clients = misclassified_data['client_uid'].unique()[:20]  # Prend les 5 premiers clients frauduleux mal prédits\n",
        "\n",
        "# Tracer les transactions mal prédites pour chaque client\n",
        "for client in sample_clients:\n",
        "    client_data = fraudulent_client_data[fraudulent_client_data['client_uid'] == client]\n",
        "\n",
        "    plt.figure(figsize=(10, 4))\n",
        "\n",
        "    # Vraies étiquettes de fraude (toujours 1 ici)\n",
        "    plt.plot(client_data['Transaction_Index'], client_data['Real_Fraud'], 'bo-', label='Real Fraud', alpha=0.6)\n",
        "\n",
        "    # Prédictions erronées (affichées en rouge)\n",
        "    plt.plot(client_data['Transaction_Index'], client_data['Predicted_Fraud'], 'ro--', label='Predicted Fraud', alpha=0.6)\n",
        "\n",
        "    plt.title(f'Client {client} - Mispredicted Transactions')\n",
        "    plt.xlabel('Transaction Index')\n",
        "    plt.ylabel('Fraud Label (0=No Fraud, 1=Fraud)')\n",
        "    plt.legend()\n",
        "    plt.show()\n"
      ]
    },
    {
      "cell_type": "markdown",
      "metadata": {
        "id": "tAQpwY6MquED"
      },
      "source": [
        "### Detection errors for mixed clients"
      ]
    },
    {
      "cell_type": "code",
      "execution_count": null,
      "metadata": {
        "execution": {
          "iopub.status.busy": "2025-04-19T12:34:15.959192Z",
          "iopub.status.idle": "2025-04-19T12:34:15.959497Z",
          "shell.execute_reply": "2025-04-19T12:34:15.959353Z"
        },
        "trusted": true,
        "id": "vbMeaLdiquED"
      },
      "outputs": [],
      "source": [
        "import pandas as pd\n",
        "import matplotlib.pyplot as plt\n",
        "\n",
        "# Créer un DataFrame contenant les transactions des clients\n",
        "val_results = pd.DataFrame({\n",
        "    'client_uid': X_test_final['uid1'],  # Vérifie que 'uid1' existe bien\n",
        "    'Transaction_Index': range(len(X_test_final)),  # Index de transaction\n",
        "    'Real_Fraud': y_test_final,  # Vraie étiquette de fraude\n",
        "    'Predicted_Fraud': y_pred_final_labels  # Prédiction du modèle\n",
        "})\n",
        "\n",
        "# Grouper par client et identifier les clients mixtes\n",
        "client_fraud_stats = val_results.groupby('client_uid')['Real_Fraud'].agg(['sum', 'count'])\n",
        "mixed_clients = client_fraud_stats[(client_fraud_stats['sum'] > 0) & (client_fraud_stats['sum'] < client_fraud_stats['count'])].index\n",
        "\n",
        "# Filtrer uniquement les transactions des clients mixtes\n",
        "mixed_client_data = val_results[val_results['client_uid'].isin(mixed_clients)]\n",
        "\n",
        "# Filtrer les transactions mal prédites\n",
        "misclassified_data = mixed_client_data[mixed_client_data['Real_Fraud'] != mixed_client_data['Predicted_Fraud']]\n",
        "\n",
        "# Sélectionner 5 clients mixtes ayant des erreurs de prédiction\n",
        "sample_clients = misclassified_data['client_uid'].unique()[:10]  # Prend 5 clients mixtes avec erreurs\n",
        "\n",
        "# Tracer les transactions mal prédites pour chaque client mixte\n",
        "for client in sample_clients:\n",
        "    client_data = mixed_client_data[mixed_client_data['client_uid'] == client]\n",
        "\n",
        "    plt.figure(figsize=(10, 4))\n",
        "\n",
        "    # Vraies étiquettes de fraude (0 ou 1)\n",
        "    plt.plot(client_data['Transaction_Index'], client_data['Real_Fraud'], 'bo-', label='Real Fraud', alpha=0.6)\n",
        "\n",
        "    # Prédictions erronées (affichées en rouge)\n",
        "    plt.plot(client_data['Transaction_Index'], client_data['Predicted_Fraud'], 'ro--', label='Predicted Fraud', alpha=0.6)\n",
        "\n",
        "    plt.title(f'Client {client} - Mixed Transactions (Real vs. Predicted)')\n",
        "    plt.xlabel('Transaction Index')\n",
        "    plt.ylabel('Fraud Label (0=No Fraud, 1=Fraud)')\n",
        "    plt.legend()\n",
        "    plt.show()\n"
      ]
    },
    {
      "cell_type": "markdown",
      "metadata": {
        "id": "KCRGrXsjquED"
      },
      "source": [
        "### Detection errors for clients 100% non-fraud"
      ]
    },
    {
      "cell_type": "code",
      "execution_count": null,
      "metadata": {
        "execution": {
          "iopub.status.busy": "2025-04-19T12:34:15.960189Z",
          "iopub.status.idle": "2025-04-19T12:34:15.960481Z",
          "shell.execute_reply": "2025-04-19T12:34:15.960335Z"
        },
        "trusted": true,
        "id": "KgLynLuLquEE"
      },
      "outputs": [],
      "source": [
        "import pandas as pd\n",
        "import matplotlib.pyplot as plt\n",
        "\n",
        "# Créer un DataFrame contenant les transactions des clients\n",
        "val_results = pd.DataFrame({\n",
        "    'client_uid': X_test_final['uid1'],  # Vérifie que 'uid1' existe bien\n",
        "    'Transaction_Index': range(len(X_test_final)),  # Index de transaction\n",
        "    'Real_Fraud': y_test_final,  # Vraie étiquette de fraude\n",
        "    'Predicted_Fraud': y_pred_final_labels  # Prédiction du modèle\n",
        "})\n",
        "\n",
        "# Grouper par client et identifier les clients 100% non frauduleux\n",
        "client_fraud_stats = val_results.groupby('client_uid')['Real_Fraud'].agg(['sum', 'count'])\n",
        "non_fraud_clients = client_fraud_stats[client_fraud_stats['sum'] == 0].index  # Clients avec sum = 0 (aucune fraude)\n",
        "\n",
        "# Filtrer uniquement les transactions des clients 100% non frauduleux\n",
        "non_fraud_client_data = val_results[val_results['client_uid'].isin(non_fraud_clients)]\n",
        "\n",
        "# Filtrer les transactions mal prédites (mises comme frauduleuses par erreur)\n",
        "misclassified_data = non_fraud_client_data[non_fraud_client_data['Predicted_Fraud'] != non_fraud_client_data['Real_Fraud']]\n",
        "\n",
        "# Sélectionner 5 clients non frauduleux ayant des erreurs de prédiction\n",
        "sample_clients = misclassified_data['client_uid'].unique()[:10]  # Prend 5 clients avec erreurs\n",
        "\n",
        "# Tracer les transactions mal prédites pour chaque client 100% non frauduleux\n",
        "for client in sample_clients:\n",
        "    client_data = non_fraud_client_data[non_fraud_client_data['client_uid'] == client]\n",
        "\n",
        "    plt.figure(figsize=(10, 4))\n",
        "\n",
        "    # Vraies étiquettes de fraude (toujours 0 ici)\n",
        "    plt.plot(client_data['Transaction_Index'], client_data['Real_Fraud'], 'bo-', label='Real Fraud (should be 0)', alpha=0.6)\n",
        "\n",
        "    # Prédictions erronées (affichées en rouge)\n",
        "    plt.plot(client_data['Transaction_Index'], client_data['Predicted_Fraud'], 'ro--', label='Predicted Fraud', alpha=0.6)\n",
        "\n",
        "    plt.title(f'Client {client} - Mispredicted Non-Fraudulent Transactions')\n",
        "    plt.xlabel('Transaction Index')\n",
        "    plt.ylabel('Fraud Label (0=No Fraud, 1=Fraud)')\n",
        "    plt.legend()\n",
        "    plt.show()\n"
      ]
    },
    {
      "cell_type": "code",
      "execution_count": null,
      "metadata": {
        "trusted": true,
        "id": "_MtJcvigquEE"
      },
      "outputs": [],
      "source": []
    },
    {
      "cell_type": "code",
      "execution_count": null,
      "metadata": {
        "trusted": true,
        "id": "QlTXG5GHquEE"
      },
      "outputs": [],
      "source": []
    },
    {
      "cell_type": "code",
      "execution_count": null,
      "metadata": {
        "trusted": true,
        "id": "FGNKCve0quEE"
      },
      "outputs": [],
      "source": []
    },
    {
      "cell_type": "code",
      "execution_count": null,
      "metadata": {
        "trusted": true,
        "id": "oy1LfAWxquEE"
      },
      "outputs": [],
      "source": []
    },
    {
      "cell_type": "code",
      "execution_count": null,
      "metadata": {
        "trusted": true,
        "id": "vs9nPrUrquEE"
      },
      "outputs": [],
      "source": []
    },
    {
      "cell_type": "code",
      "execution_count": null,
      "metadata": {
        "trusted": true,
        "id": "5LScOpcQquEE"
      },
      "outputs": [],
      "source": []
    },
    {
      "cell_type": "code",
      "execution_count": null,
      "metadata": {
        "trusted": true,
        "id": "kljcgYENquEE"
      },
      "outputs": [],
      "source": []
    },
    {
      "cell_type": "code",
      "execution_count": null,
      "metadata": {
        "trusted": true,
        "id": "-lM4ku6JquEE"
      },
      "outputs": [],
      "source": []
    },
    {
      "cell_type": "code",
      "execution_count": null,
      "metadata": {
        "trusted": true,
        "id": "IpP214spquEF"
      },
      "outputs": [],
      "source": []
    },
    {
      "cell_type": "code",
      "execution_count": null,
      "metadata": {
        "trusted": true,
        "id": "gee4ahA_quEF"
      },
      "outputs": [],
      "source": []
    },
    {
      "cell_type": "code",
      "execution_count": null,
      "metadata": {
        "trusted": true,
        "id": "139-5J6HquEF"
      },
      "outputs": [],
      "source": []
    },
    {
      "cell_type": "code",
      "execution_count": null,
      "metadata": {
        "trusted": true,
        "id": "96Fu8CiIquEF"
      },
      "outputs": [],
      "source": []
    },
    {
      "cell_type": "code",
      "execution_count": null,
      "metadata": {
        "trusted": true,
        "id": "g3WE7ha5quEF"
      },
      "outputs": [],
      "source": []
    },
    {
      "cell_type": "code",
      "execution_count": null,
      "metadata": {
        "trusted": true,
        "id": "RjIUtkrlquEF"
      },
      "outputs": [],
      "source": []
    },
    {
      "cell_type": "code",
      "execution_count": null,
      "metadata": {
        "trusted": true,
        "id": "65nzRDYbquEF"
      },
      "outputs": [],
      "source": []
    },
    {
      "cell_type": "code",
      "execution_count": null,
      "metadata": {
        "trusted": true,
        "id": "hTqykiiYquEF"
      },
      "outputs": [],
      "source": []
    },
    {
      "cell_type": "code",
      "execution_count": null,
      "metadata": {
        "trusted": true,
        "id": "8b47k3G6quEG"
      },
      "outputs": [],
      "source": []
    },
    {
      "cell_type": "code",
      "execution_count": null,
      "metadata": {
        "trusted": true,
        "id": "q5CoP7dOquEG"
      },
      "outputs": [],
      "source": []
    },
    {
      "cell_type": "code",
      "execution_count": null,
      "metadata": {
        "trusted": true,
        "id": "hhPCp1R4quEG"
      },
      "outputs": [],
      "source": []
    },
    {
      "cell_type": "code",
      "execution_count": null,
      "metadata": {
        "trusted": true,
        "id": "1SJDGFSjquEG"
      },
      "outputs": [],
      "source": []
    },
    {
      "cell_type": "code",
      "execution_count": null,
      "metadata": {
        "trusted": true,
        "id": "frbrBMfEquEG"
      },
      "outputs": [],
      "source": []
    },
    {
      "cell_type": "code",
      "execution_count": null,
      "metadata": {
        "trusted": true,
        "id": "hYoa7GazquEG"
      },
      "outputs": [],
      "source": []
    },
    {
      "cell_type": "code",
      "execution_count": null,
      "metadata": {
        "trusted": true,
        "id": "LFpqsXCCquEG"
      },
      "outputs": [],
      "source": []
    },
    {
      "cell_type": "code",
      "execution_count": null,
      "metadata": {
        "trusted": true,
        "id": "c9GqNKFJquEG"
      },
      "outputs": [],
      "source": []
    },
    {
      "cell_type": "code",
      "execution_count": null,
      "metadata": {
        "trusted": true,
        "id": "hr5QLOukquEG"
      },
      "outputs": [],
      "source": []
    },
    {
      "cell_type": "code",
      "execution_count": null,
      "metadata": {
        "trusted": true,
        "id": "CXF7_pNzquEH"
      },
      "outputs": [],
      "source": []
    },
    {
      "cell_type": "code",
      "execution_count": null,
      "metadata": {
        "trusted": true,
        "id": "5DGEUbvSquEH"
      },
      "outputs": [],
      "source": []
    },
    {
      "cell_type": "code",
      "execution_count": null,
      "metadata": {
        "trusted": true,
        "id": "6_cdFXU8quEH"
      },
      "outputs": [],
      "source": []
    },
    {
      "cell_type": "code",
      "execution_count": null,
      "metadata": {
        "trusted": true,
        "id": "I2s_rWnoquEH"
      },
      "outputs": [],
      "source": []
    },
    {
      "cell_type": "code",
      "execution_count": null,
      "metadata": {
        "trusted": true,
        "id": "hmLrLtjxquEH"
      },
      "outputs": [],
      "source": []
    },
    {
      "cell_type": "code",
      "execution_count": null,
      "metadata": {
        "trusted": true,
        "id": "asJK-N3YquEH"
      },
      "outputs": [],
      "source": []
    },
    {
      "cell_type": "code",
      "execution_count": null,
      "metadata": {
        "trusted": true,
        "id": "WZSP8D6vquEH"
      },
      "outputs": [],
      "source": []
    },
    {
      "cell_type": "code",
      "execution_count": null,
      "metadata": {
        "trusted": true,
        "id": "N2lcdV-YquEI"
      },
      "outputs": [],
      "source": []
    },
    {
      "cell_type": "code",
      "execution_count": null,
      "metadata": {
        "trusted": true,
        "id": "-ULcghRbquEI"
      },
      "outputs": [],
      "source": []
    },
    {
      "cell_type": "code",
      "execution_count": null,
      "metadata": {
        "trusted": true,
        "id": "29upHhENquEI"
      },
      "outputs": [],
      "source": []
    },
    {
      "cell_type": "code",
      "execution_count": null,
      "metadata": {
        "trusted": true,
        "id": "KkqPbJQDquEI"
      },
      "outputs": [],
      "source": []
    },
    {
      "cell_type": "code",
      "execution_count": null,
      "metadata": {
        "trusted": true,
        "id": "J_REvZBiquEI"
      },
      "outputs": [],
      "source": []
    },
    {
      "cell_type": "code",
      "execution_count": null,
      "metadata": {
        "trusted": true,
        "id": "riLM9-JbquEI"
      },
      "outputs": [],
      "source": []
    },
    {
      "cell_type": "code",
      "execution_count": null,
      "metadata": {
        "trusted": true,
        "id": "cfQp2iWEquEI"
      },
      "outputs": [],
      "source": []
    },
    {
      "cell_type": "code",
      "execution_count": null,
      "metadata": {
        "trusted": true,
        "id": "qXSiL77CquEI"
      },
      "outputs": [],
      "source": []
    },
    {
      "cell_type": "code",
      "execution_count": null,
      "metadata": {
        "trusted": true,
        "id": "FfCB4BfxquEI"
      },
      "outputs": [],
      "source": []
    },
    {
      "cell_type": "code",
      "execution_count": null,
      "metadata": {
        "trusted": true,
        "id": "KZbPKFqqquEI"
      },
      "outputs": [],
      "source": []
    },
    {
      "cell_type": "code",
      "execution_count": null,
      "metadata": {
        "trusted": true,
        "id": "qP5yJnBdquEI"
      },
      "outputs": [],
      "source": []
    },
    {
      "cell_type": "code",
      "execution_count": null,
      "metadata": {
        "trusted": true,
        "id": "C_0fwxeSquEI"
      },
      "outputs": [],
      "source": []
    },
    {
      "cell_type": "code",
      "execution_count": null,
      "metadata": {
        "trusted": true,
        "id": "dOBDahMRquEJ"
      },
      "outputs": [],
      "source": []
    },
    {
      "cell_type": "code",
      "execution_count": null,
      "metadata": {
        "trusted": true,
        "id": "FlV1gT40quEJ"
      },
      "outputs": [],
      "source": []
    },
    {
      "cell_type": "code",
      "execution_count": null,
      "metadata": {
        "trusted": true,
        "id": "NILsiVO_quEJ"
      },
      "outputs": [],
      "source": []
    },
    {
      "cell_type": "code",
      "execution_count": null,
      "metadata": {
        "trusted": true,
        "id": "mmN-IhE7quEJ"
      },
      "outputs": [],
      "source": []
    },
    {
      "cell_type": "code",
      "execution_count": null,
      "metadata": {
        "trusted": true,
        "id": "8WzKc6bpquEK"
      },
      "outputs": [],
      "source": []
    },
    {
      "cell_type": "code",
      "execution_count": null,
      "metadata": {
        "trusted": true,
        "id": "Sh_1J8ILquEK"
      },
      "outputs": [],
      "source": []
    },
    {
      "cell_type": "code",
      "execution_count": null,
      "metadata": {
        "trusted": true,
        "id": "p5CYA8J3quEK"
      },
      "outputs": [],
      "source": []
    },
    {
      "cell_type": "code",
      "execution_count": null,
      "metadata": {
        "trusted": true,
        "id": "EHukbOcyquEK"
      },
      "outputs": [],
      "source": []
    },
    {
      "cell_type": "code",
      "execution_count": null,
      "metadata": {
        "trusted": true,
        "id": "zEy9xW1aquEK"
      },
      "outputs": [],
      "source": []
    },
    {
      "cell_type": "code",
      "execution_count": null,
      "metadata": {
        "trusted": true,
        "id": "qaumgzTwquEK"
      },
      "outputs": [],
      "source": []
    },
    {
      "cell_type": "code",
      "execution_count": null,
      "metadata": {
        "trusted": true,
        "id": "Aj6A1DC8quEK"
      },
      "outputs": [],
      "source": []
    },
    {
      "cell_type": "code",
      "execution_count": null,
      "metadata": {
        "trusted": true,
        "id": "vScbHwr5quEK"
      },
      "outputs": [],
      "source": []
    },
    {
      "cell_type": "code",
      "execution_count": null,
      "metadata": {
        "trusted": true,
        "id": "l4BFL11NquEK"
      },
      "outputs": [],
      "source": []
    },
    {
      "cell_type": "code",
      "execution_count": null,
      "metadata": {
        "trusted": true,
        "id": "_eYeB3FequEK"
      },
      "outputs": [],
      "source": []
    },
    {
      "cell_type": "code",
      "execution_count": null,
      "metadata": {
        "trusted": true,
        "id": "wHmxrgFPquEK"
      },
      "outputs": [],
      "source": []
    },
    {
      "cell_type": "code",
      "execution_count": null,
      "metadata": {
        "trusted": true,
        "id": "h8LOWkSGquEK"
      },
      "outputs": [],
      "source": []
    },
    {
      "cell_type": "code",
      "execution_count": null,
      "metadata": {
        "trusted": true,
        "id": "nzouhsvnquEK"
      },
      "outputs": [],
      "source": []
    },
    {
      "cell_type": "code",
      "execution_count": null,
      "metadata": {
        "trusted": true,
        "id": "ZnBNTnqdquEK"
      },
      "outputs": [],
      "source": []
    },
    {
      "cell_type": "code",
      "execution_count": null,
      "metadata": {
        "trusted": true,
        "id": "Xp7EcV-JquEL"
      },
      "outputs": [],
      "source": []
    },
    {
      "cell_type": "code",
      "execution_count": null,
      "metadata": {
        "trusted": true,
        "id": "iDrxdSKVquEL"
      },
      "outputs": [],
      "source": []
    },
    {
      "cell_type": "code",
      "execution_count": null,
      "metadata": {
        "trusted": true,
        "id": "lFHVmcngquEL"
      },
      "outputs": [],
      "source": []
    },
    {
      "cell_type": "code",
      "execution_count": null,
      "metadata": {
        "trusted": true,
        "id": "34F9knA3quEL"
      },
      "outputs": [],
      "source": []
    },
    {
      "cell_type": "code",
      "execution_count": null,
      "metadata": {
        "trusted": true,
        "id": "h05pqOeJquEL"
      },
      "outputs": [],
      "source": []
    },
    {
      "cell_type": "code",
      "execution_count": null,
      "metadata": {
        "trusted": true,
        "id": "Xl8RlF3iquEL"
      },
      "outputs": [],
      "source": []
    },
    {
      "cell_type": "code",
      "execution_count": null,
      "metadata": {
        "trusted": true,
        "id": "l7oigO_SquEL"
      },
      "outputs": [],
      "source": []
    },
    {
      "cell_type": "code",
      "execution_count": null,
      "metadata": {
        "trusted": true,
        "id": "WvN9LyJUquEL"
      },
      "outputs": [],
      "source": []
    },
    {
      "cell_type": "code",
      "execution_count": null,
      "metadata": {
        "trusted": true,
        "id": "-ZSOaXrGquEL"
      },
      "outputs": [],
      "source": []
    },
    {
      "cell_type": "code",
      "execution_count": null,
      "metadata": {
        "trusted": true,
        "id": "WDhPbvPQquEM"
      },
      "outputs": [],
      "source": []
    },
    {
      "cell_type": "code",
      "execution_count": null,
      "metadata": {
        "trusted": true,
        "id": "td3lAm36quEM"
      },
      "outputs": [],
      "source": []
    },
    {
      "cell_type": "code",
      "execution_count": null,
      "metadata": {
        "trusted": true,
        "id": "U-chkg7rquEM"
      },
      "outputs": [],
      "source": []
    },
    {
      "cell_type": "code",
      "execution_count": null,
      "metadata": {
        "trusted": true,
        "id": "n0HVFUScquEM"
      },
      "outputs": [],
      "source": []
    },
    {
      "cell_type": "code",
      "execution_count": null,
      "metadata": {
        "trusted": true,
        "id": "nDBCozNhquEM"
      },
      "outputs": [],
      "source": []
    },
    {
      "cell_type": "code",
      "execution_count": null,
      "metadata": {
        "trusted": true,
        "id": "CypkoRFnquEM"
      },
      "outputs": [],
      "source": []
    },
    {
      "cell_type": "code",
      "execution_count": null,
      "metadata": {
        "trusted": true,
        "id": "vFQGn8V8quEM"
      },
      "outputs": [],
      "source": []
    },
    {
      "cell_type": "code",
      "execution_count": null,
      "metadata": {
        "trusted": true,
        "id": "tSQwLbg1quEN"
      },
      "outputs": [],
      "source": []
    },
    {
      "cell_type": "code",
      "execution_count": null,
      "metadata": {
        "trusted": true,
        "id": "62vDaxpyquEN"
      },
      "outputs": [],
      "source": []
    },
    {
      "cell_type": "code",
      "execution_count": null,
      "metadata": {
        "trusted": true,
        "id": "7kZXoPigquEN"
      },
      "outputs": [],
      "source": []
    },
    {
      "cell_type": "code",
      "execution_count": null,
      "metadata": {
        "trusted": true,
        "id": "AK4feQfyquEN"
      },
      "outputs": [],
      "source": []
    },
    {
      "cell_type": "code",
      "execution_count": null,
      "metadata": {
        "trusted": true,
        "id": "FN2XmUxHquEN"
      },
      "outputs": [],
      "source": []
    },
    {
      "cell_type": "code",
      "execution_count": null,
      "metadata": {
        "trusted": true,
        "id": "A3jA6vTYquEN"
      },
      "outputs": [],
      "source": []
    },
    {
      "cell_type": "code",
      "execution_count": null,
      "metadata": {
        "trusted": true,
        "id": "mmWgOiMIquEN"
      },
      "outputs": [],
      "source": []
    },
    {
      "cell_type": "code",
      "execution_count": null,
      "metadata": {
        "trusted": true,
        "id": "NjeHGa_vquEN"
      },
      "outputs": [],
      "source": []
    },
    {
      "cell_type": "code",
      "execution_count": null,
      "metadata": {
        "trusted": true,
        "id": "5GfXmFYTquEN"
      },
      "outputs": [],
      "source": []
    },
    {
      "cell_type": "code",
      "execution_count": null,
      "metadata": {
        "trusted": true,
        "id": "IKbSMUp-quEO"
      },
      "outputs": [],
      "source": []
    },
    {
      "cell_type": "code",
      "execution_count": null,
      "metadata": {
        "trusted": true,
        "id": "7FaIHJI3quEO"
      },
      "outputs": [],
      "source": []
    },
    {
      "cell_type": "code",
      "execution_count": null,
      "metadata": {
        "trusted": true,
        "id": "H0uE6G34quEO"
      },
      "outputs": [],
      "source": []
    },
    {
      "cell_type": "code",
      "execution_count": null,
      "metadata": {
        "trusted": true,
        "id": "A6cW3N_oquEO"
      },
      "outputs": [],
      "source": []
    },
    {
      "cell_type": "code",
      "execution_count": null,
      "metadata": {
        "trusted": true,
        "id": "j9mRAc3_quEO"
      },
      "outputs": [],
      "source": []
    },
    {
      "cell_type": "code",
      "execution_count": null,
      "metadata": {
        "trusted": true,
        "id": "TzzwA32tquEO"
      },
      "outputs": [],
      "source": []
    },
    {
      "cell_type": "code",
      "execution_count": null,
      "metadata": {
        "trusted": true,
        "id": "RhiqXOnvquEO"
      },
      "outputs": [],
      "source": []
    },
    {
      "cell_type": "code",
      "execution_count": null,
      "metadata": {
        "trusted": true,
        "id": "ieRC6HErquEO"
      },
      "outputs": [],
      "source": []
    },
    {
      "cell_type": "code",
      "execution_count": null,
      "metadata": {
        "trusted": true,
        "id": "Q_x3H35BquEO"
      },
      "outputs": [],
      "source": []
    },
    {
      "cell_type": "code",
      "execution_count": null,
      "metadata": {
        "trusted": true,
        "id": "D8twIuZgquEO"
      },
      "outputs": [],
      "source": []
    },
    {
      "cell_type": "code",
      "execution_count": null,
      "metadata": {
        "trusted": true,
        "id": "SojcDm2tquEO"
      },
      "outputs": [],
      "source": []
    },
    {
      "cell_type": "code",
      "execution_count": null,
      "metadata": {
        "trusted": true,
        "id": "UwC6vuizquEP"
      },
      "outputs": [],
      "source": []
    },
    {
      "cell_type": "code",
      "execution_count": null,
      "metadata": {
        "trusted": true,
        "id": "g8aKafaBquEP"
      },
      "outputs": [],
      "source": []
    },
    {
      "cell_type": "code",
      "execution_count": null,
      "metadata": {
        "trusted": true,
        "id": "OLk-7-dzquEP"
      },
      "outputs": [],
      "source": []
    },
    {
      "cell_type": "code",
      "execution_count": null,
      "metadata": {
        "trusted": true,
        "id": "xEWpqdw0quEP"
      },
      "outputs": [],
      "source": []
    },
    {
      "cell_type": "code",
      "execution_count": null,
      "metadata": {
        "trusted": true,
        "id": "kRD5qgtcquEP"
      },
      "outputs": [],
      "source": []
    },
    {
      "cell_type": "code",
      "execution_count": null,
      "metadata": {
        "trusted": true,
        "id": "GuCRE7EZquEP"
      },
      "outputs": [],
      "source": []
    },
    {
      "cell_type": "code",
      "execution_count": null,
      "metadata": {
        "trusted": true,
        "id": "SRkzP-o6quEP"
      },
      "outputs": [],
      "source": []
    },
    {
      "cell_type": "code",
      "execution_count": null,
      "metadata": {
        "trusted": true,
        "id": "7jJB6EOGquEP"
      },
      "outputs": [],
      "source": []
    },
    {
      "cell_type": "code",
      "execution_count": null,
      "metadata": {
        "trusted": true,
        "id": "r7cKt-fIquEP"
      },
      "outputs": [],
      "source": []
    },
    {
      "cell_type": "code",
      "execution_count": null,
      "metadata": {
        "trusted": true,
        "id": "RLHIoAKOquEQ"
      },
      "outputs": [],
      "source": []
    },
    {
      "cell_type": "code",
      "execution_count": null,
      "metadata": {
        "trusted": true,
        "id": "6oT2xq1UquEQ"
      },
      "outputs": [],
      "source": []
    },
    {
      "cell_type": "code",
      "execution_count": null,
      "metadata": {
        "trusted": true,
        "id": "UzaRMZSnquEQ"
      },
      "outputs": [],
      "source": []
    },
    {
      "cell_type": "code",
      "execution_count": null,
      "metadata": {
        "trusted": true,
        "id": "v5iZtZ28quEQ"
      },
      "outputs": [],
      "source": []
    },
    {
      "cell_type": "code",
      "execution_count": null,
      "metadata": {
        "trusted": true,
        "id": "FLEFxFTHquEQ"
      },
      "outputs": [],
      "source": []
    },
    {
      "cell_type": "code",
      "execution_count": null,
      "metadata": {
        "trusted": true,
        "id": "snLiuAnpquEQ"
      },
      "outputs": [],
      "source": []
    },
    {
      "cell_type": "code",
      "execution_count": null,
      "metadata": {
        "trusted": true,
        "id": "fgSpfp9kquEQ"
      },
      "outputs": [],
      "source": []
    },
    {
      "cell_type": "code",
      "execution_count": null,
      "metadata": {
        "trusted": true,
        "id": "4JkTzH_pquEQ"
      },
      "outputs": [],
      "source": []
    },
    {
      "cell_type": "code",
      "execution_count": null,
      "metadata": {
        "trusted": true,
        "id": "mgCAR2FWquEQ"
      },
      "outputs": [],
      "source": []
    },
    {
      "cell_type": "code",
      "execution_count": null,
      "metadata": {
        "trusted": true,
        "id": "5IoB0EaOquEQ"
      },
      "outputs": [],
      "source": []
    },
    {
      "cell_type": "code",
      "execution_count": null,
      "metadata": {
        "trusted": true,
        "id": "QRmUzZ57quER"
      },
      "outputs": [],
      "source": []
    },
    {
      "cell_type": "code",
      "execution_count": null,
      "metadata": {
        "trusted": true,
        "id": "VPQPi2hzquER"
      },
      "outputs": [],
      "source": []
    },
    {
      "cell_type": "code",
      "execution_count": null,
      "metadata": {
        "trusted": true,
        "id": "OpewYKyGquER"
      },
      "outputs": [],
      "source": []
    },
    {
      "cell_type": "code",
      "execution_count": null,
      "metadata": {
        "trusted": true,
        "id": "WTa6CXm3quER"
      },
      "outputs": [],
      "source": []
    },
    {
      "cell_type": "code",
      "execution_count": null,
      "metadata": {
        "trusted": true,
        "id": "qUz-0qw9quER"
      },
      "outputs": [],
      "source": []
    },
    {
      "cell_type": "code",
      "execution_count": null,
      "metadata": {
        "trusted": true,
        "id": "Up_sCKdyquER"
      },
      "outputs": [],
      "source": []
    },
    {
      "cell_type": "code",
      "execution_count": null,
      "metadata": {
        "trusted": true,
        "id": "UKefeAkgquER"
      },
      "outputs": [],
      "source": []
    },
    {
      "cell_type": "code",
      "execution_count": null,
      "metadata": {
        "trusted": true,
        "id": "BljQ7F0RquER"
      },
      "outputs": [],
      "source": []
    },
    {
      "cell_type": "code",
      "execution_count": null,
      "metadata": {
        "trusted": true,
        "id": "Nt5qBH2RquES"
      },
      "outputs": [],
      "source": []
    },
    {
      "cell_type": "code",
      "execution_count": null,
      "metadata": {
        "trusted": true,
        "id": "Td9aFhVtquES"
      },
      "outputs": [],
      "source": []
    },
    {
      "cell_type": "code",
      "execution_count": null,
      "metadata": {
        "trusted": true,
        "id": "R0JyH3KqquES"
      },
      "outputs": [],
      "source": []
    },
    {
      "cell_type": "code",
      "execution_count": null,
      "metadata": {
        "trusted": true,
        "id": "sOKg0AOSquES"
      },
      "outputs": [],
      "source": []
    },
    {
      "cell_type": "code",
      "execution_count": null,
      "metadata": {
        "trusted": true,
        "id": "Wc6ipW5rquES"
      },
      "outputs": [],
      "source": []
    },
    {
      "cell_type": "code",
      "execution_count": null,
      "metadata": {
        "trusted": true,
        "id": "nZCX1Z6rquES"
      },
      "outputs": [],
      "source": []
    },
    {
      "cell_type": "code",
      "execution_count": null,
      "metadata": {
        "trusted": true,
        "id": "EVflSCWcquES"
      },
      "outputs": [],
      "source": []
    },
    {
      "cell_type": "code",
      "execution_count": null,
      "metadata": {
        "trusted": true,
        "id": "KvX-IQ16quES"
      },
      "outputs": [],
      "source": []
    },
    {
      "cell_type": "code",
      "execution_count": null,
      "metadata": {
        "trusted": true,
        "id": "NGxmM7zNquES"
      },
      "outputs": [],
      "source": []
    },
    {
      "cell_type": "code",
      "execution_count": null,
      "metadata": {
        "trusted": true,
        "id": "Zut11gWaquES"
      },
      "outputs": [],
      "source": []
    },
    {
      "cell_type": "code",
      "execution_count": null,
      "metadata": {
        "trusted": true,
        "id": "Mhm-lVXUquES"
      },
      "outputs": [],
      "source": []
    },
    {
      "cell_type": "code",
      "execution_count": null,
      "metadata": {
        "trusted": true,
        "id": "5BTQf3SBquET"
      },
      "outputs": [],
      "source": []
    }
  ],
  "metadata": {
    "accelerator": "GPU",
    "colab": {
      "machine_shape": "hm",
      "provenance": []
    },
    "kaggle": {
      "accelerator": "nvidiaTeslaT4",
      "dataSources": [
        {
          "databundleVersionId": 568274,
          "sourceId": 14242,
          "sourceType": "competition"
        }
      ],
      "dockerImageVersionId": 30887,
      "isGpuEnabled": true,
      "isInternetEnabled": true,
      "language": "python",
      "sourceType": "notebook"
    },
    "kernelspec": {
      "display_name": ".venv",
      "language": "python",
      "name": "python3"
    },
    "language_info": {
      "codemirror_mode": {
        "name": "ipython",
        "version": 3
      },
      "file_extension": ".py",
      "mimetype": "text/x-python",
      "name": "python",
      "nbconvert_exporter": "python",
      "pygments_lexer": "ipython3",
      "version": "3.8.0"
    }
  },
  "nbformat": 4,
  "nbformat_minor": 0
}